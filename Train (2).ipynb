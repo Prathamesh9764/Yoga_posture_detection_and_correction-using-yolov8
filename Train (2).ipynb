{
  "nbformat": 4,
  "nbformat_minor": 0,
  "metadata": {
    "colab": {
      "provenance": []
    },
    "kernelspec": {
      "name": "python3",
      "display_name": "Python 3"
    },
    "language_info": {
      "name": "python"
    },
    "accelerator": "GPU",
    "gpuClass": "standard"
  },
  "cells": [
    {
      "cell_type": "code",
      "execution_count": 1,
      "metadata": {
        "id": "CMPpVTDr8y_P",
        "colab": {
          "base_uri": "https://localhost:8080/"
        },
        "outputId": "7dfa1693-b6c5-43f7-f4e7-7e380619cf97"
      },
      "outputs": [
        {
          "output_type": "stream",
          "name": "stdout",
          "text": [
            "Drive already mounted at /content/gdrive; to attempt to forcibly remount, call drive.mount(\"/content/gdrive\", force_remount=True).\n"
          ]
        }
      ],
      "source": [
        "from google.colab import drive\n",
        "\n",
        "drive.mount('/content/gdrive')"
      ]
    },
    {
      "cell_type": "code",
      "source": [
        "!pip install ultralytics"
      ],
      "metadata": {
        "id": "3UdWqYtu9KB_",
        "colab": {
          "base_uri": "https://localhost:8080/"
        },
        "outputId": "047a4378-e956-41b6-a5e5-290b7f3ab5c6"
      },
      "execution_count": 2,
      "outputs": [
        {
          "output_type": "stream",
          "name": "stdout",
          "text": [
            "Requirement already satisfied: ultralytics in /usr/local/lib/python3.10/dist-packages (8.1.34)\n",
            "Requirement already satisfied: matplotlib>=3.3.0 in /usr/local/lib/python3.10/dist-packages (from ultralytics) (3.7.1)\n",
            "Requirement already satisfied: opencv-python>=4.6.0 in /usr/local/lib/python3.10/dist-packages (from ultralytics) (4.8.0.76)\n",
            "Requirement already satisfied: pillow>=7.1.2 in /usr/local/lib/python3.10/dist-packages (from ultralytics) (9.4.0)\n",
            "Requirement already satisfied: pyyaml>=5.3.1 in /usr/local/lib/python3.10/dist-packages (from ultralytics) (6.0.1)\n",
            "Requirement already satisfied: requests>=2.23.0 in /usr/local/lib/python3.10/dist-packages (from ultralytics) (2.31.0)\n",
            "Requirement already satisfied: scipy>=1.4.1 in /usr/local/lib/python3.10/dist-packages (from ultralytics) (1.11.4)\n",
            "Requirement already satisfied: torch>=1.8.0 in /usr/local/lib/python3.10/dist-packages (from ultralytics) (2.2.1+cu121)\n",
            "Requirement already satisfied: torchvision>=0.9.0 in /usr/local/lib/python3.10/dist-packages (from ultralytics) (0.17.1+cu121)\n",
            "Requirement already satisfied: tqdm>=4.64.0 in /usr/local/lib/python3.10/dist-packages (from ultralytics) (4.66.2)\n",
            "Requirement already satisfied: psutil in /usr/local/lib/python3.10/dist-packages (from ultralytics) (5.9.5)\n",
            "Requirement already satisfied: py-cpuinfo in /usr/local/lib/python3.10/dist-packages (from ultralytics) (9.0.0)\n",
            "Requirement already satisfied: thop>=0.1.1 in /usr/local/lib/python3.10/dist-packages (from ultralytics) (0.1.1.post2209072238)\n",
            "Requirement already satisfied: pandas>=1.1.4 in /usr/local/lib/python3.10/dist-packages (from ultralytics) (1.5.3)\n",
            "Requirement already satisfied: seaborn>=0.11.0 in /usr/local/lib/python3.10/dist-packages (from ultralytics) (0.13.1)\n",
            "Requirement already satisfied: contourpy>=1.0.1 in /usr/local/lib/python3.10/dist-packages (from matplotlib>=3.3.0->ultralytics) (1.2.0)\n",
            "Requirement already satisfied: cycler>=0.10 in /usr/local/lib/python3.10/dist-packages (from matplotlib>=3.3.0->ultralytics) (0.12.1)\n",
            "Requirement already satisfied: fonttools>=4.22.0 in /usr/local/lib/python3.10/dist-packages (from matplotlib>=3.3.0->ultralytics) (4.50.0)\n",
            "Requirement already satisfied: kiwisolver>=1.0.1 in /usr/local/lib/python3.10/dist-packages (from matplotlib>=3.3.0->ultralytics) (1.4.5)\n",
            "Requirement already satisfied: numpy>=1.20 in /usr/local/lib/python3.10/dist-packages (from matplotlib>=3.3.0->ultralytics) (1.25.2)\n",
            "Requirement already satisfied: packaging>=20.0 in /usr/local/lib/python3.10/dist-packages (from matplotlib>=3.3.0->ultralytics) (24.0)\n",
            "Requirement already satisfied: pyparsing>=2.3.1 in /usr/local/lib/python3.10/dist-packages (from matplotlib>=3.3.0->ultralytics) (3.1.2)\n",
            "Requirement already satisfied: python-dateutil>=2.7 in /usr/local/lib/python3.10/dist-packages (from matplotlib>=3.3.0->ultralytics) (2.8.2)\n",
            "Requirement already satisfied: pytz>=2020.1 in /usr/local/lib/python3.10/dist-packages (from pandas>=1.1.4->ultralytics) (2023.4)\n",
            "Requirement already satisfied: charset-normalizer<4,>=2 in /usr/local/lib/python3.10/dist-packages (from requests>=2.23.0->ultralytics) (3.3.2)\n",
            "Requirement already satisfied: idna<4,>=2.5 in /usr/local/lib/python3.10/dist-packages (from requests>=2.23.0->ultralytics) (3.6)\n",
            "Requirement already satisfied: urllib3<3,>=1.21.1 in /usr/local/lib/python3.10/dist-packages (from requests>=2.23.0->ultralytics) (2.0.7)\n",
            "Requirement already satisfied: certifi>=2017.4.17 in /usr/local/lib/python3.10/dist-packages (from requests>=2.23.0->ultralytics) (2024.2.2)\n",
            "Requirement already satisfied: filelock in /usr/local/lib/python3.10/dist-packages (from torch>=1.8.0->ultralytics) (3.13.1)\n",
            "Requirement already satisfied: typing-extensions>=4.8.0 in /usr/local/lib/python3.10/dist-packages (from torch>=1.8.0->ultralytics) (4.10.0)\n",
            "Requirement already satisfied: sympy in /usr/local/lib/python3.10/dist-packages (from torch>=1.8.0->ultralytics) (1.12)\n",
            "Requirement already satisfied: networkx in /usr/local/lib/python3.10/dist-packages (from torch>=1.8.0->ultralytics) (3.2.1)\n",
            "Requirement already satisfied: jinja2 in /usr/local/lib/python3.10/dist-packages (from torch>=1.8.0->ultralytics) (3.1.3)\n",
            "Requirement already satisfied: fsspec in /usr/local/lib/python3.10/dist-packages (from torch>=1.8.0->ultralytics) (2023.6.0)\n",
            "Requirement already satisfied: nvidia-cuda-nvrtc-cu12==12.1.105 in /usr/local/lib/python3.10/dist-packages (from torch>=1.8.0->ultralytics) (12.1.105)\n",
            "Requirement already satisfied: nvidia-cuda-runtime-cu12==12.1.105 in /usr/local/lib/python3.10/dist-packages (from torch>=1.8.0->ultralytics) (12.1.105)\n",
            "Requirement already satisfied: nvidia-cuda-cupti-cu12==12.1.105 in /usr/local/lib/python3.10/dist-packages (from torch>=1.8.0->ultralytics) (12.1.105)\n",
            "Requirement already satisfied: nvidia-cudnn-cu12==8.9.2.26 in /usr/local/lib/python3.10/dist-packages (from torch>=1.8.0->ultralytics) (8.9.2.26)\n",
            "Requirement already satisfied: nvidia-cublas-cu12==12.1.3.1 in /usr/local/lib/python3.10/dist-packages (from torch>=1.8.0->ultralytics) (12.1.3.1)\n",
            "Requirement already satisfied: nvidia-cufft-cu12==11.0.2.54 in /usr/local/lib/python3.10/dist-packages (from torch>=1.8.0->ultralytics) (11.0.2.54)\n",
            "Requirement already satisfied: nvidia-curand-cu12==10.3.2.106 in /usr/local/lib/python3.10/dist-packages (from torch>=1.8.0->ultralytics) (10.3.2.106)\n",
            "Requirement already satisfied: nvidia-cusolver-cu12==11.4.5.107 in /usr/local/lib/python3.10/dist-packages (from torch>=1.8.0->ultralytics) (11.4.5.107)\n",
            "Requirement already satisfied: nvidia-cusparse-cu12==12.1.0.106 in /usr/local/lib/python3.10/dist-packages (from torch>=1.8.0->ultralytics) (12.1.0.106)\n",
            "Requirement already satisfied: nvidia-nccl-cu12==2.19.3 in /usr/local/lib/python3.10/dist-packages (from torch>=1.8.0->ultralytics) (2.19.3)\n",
            "Requirement already satisfied: nvidia-nvtx-cu12==12.1.105 in /usr/local/lib/python3.10/dist-packages (from torch>=1.8.0->ultralytics) (12.1.105)\n",
            "Requirement already satisfied: triton==2.2.0 in /usr/local/lib/python3.10/dist-packages (from torch>=1.8.0->ultralytics) (2.2.0)\n",
            "Requirement already satisfied: nvidia-nvjitlink-cu12 in /usr/local/lib/python3.10/dist-packages (from nvidia-cusolver-cu12==11.4.5.107->torch>=1.8.0->ultralytics) (12.4.99)\n",
            "Requirement already satisfied: six>=1.5 in /usr/local/lib/python3.10/dist-packages (from python-dateutil>=2.7->matplotlib>=3.3.0->ultralytics) (1.16.0)\n",
            "Requirement already satisfied: MarkupSafe>=2.0 in /usr/local/lib/python3.10/dist-packages (from jinja2->torch>=1.8.0->ultralytics) (2.1.5)\n",
            "Requirement already satisfied: mpmath>=0.19 in /usr/local/lib/python3.10/dist-packages (from sympy->torch>=1.8.0->ultralytics) (1.3.0)\n"
          ]
        }
      ]
    },
    {
      "cell_type": "code",
      "source": [
        "!ls '/content/gdrive/My Drive/'"
      ],
      "metadata": {
        "id": "ukytGBl4mDiD",
        "colab": {
          "base_uri": "https://localhost:8080/"
        },
        "outputId": "82d64b41-e5a6-4083-9db2-9132735c803b"
      },
      "execution_count": 3,
      "outputs": [
        {
          "output_type": "stream",
          "name": "stdout",
          "text": [
            "'Colab Notebooks'   project_final_year\n"
          ]
        }
      ]
    },
    {
      "cell_type": "code",
      "source": [
        "import os\n",
        "\n",
        "from ultralytics import YOLO\n",
        "\n",
        "\n",
        "model = YOLO('yolov8n-pose.pt')  # load a pretrained model (recommended for training)\n",
        "\n",
        "model.train(data='/content/gdrive/MyDrive/project_final_year/config.yml', epochs=50, imgsz=640)\n"
      ],
      "metadata": {
        "id": "zy7BcAyj9LvW",
        "colab": {
          "base_uri": "https://localhost:8080/"
        },
        "outputId": "254c5933-97c7-4a2a-ca56-bfcaaab14f95"
      },
      "execution_count": 8,
      "outputs": [
        {
          "output_type": "stream",
          "name": "stdout",
          "text": [
            "Ultralytics YOLOv8.1.34 🚀 Python-3.10.12 torch-2.2.1+cu121 CUDA:0 (Tesla T4, 15102MiB)\n",
            "\u001b[34m\u001b[1mengine/trainer: \u001b[0mtask=pose, mode=train, model=yolov8n-pose.pt, data=/content/gdrive/MyDrive/project_final_year/config.yml, epochs=50, time=None, patience=100, batch=16, imgsz=640, save=True, save_period=-1, cache=False, device=None, workers=8, project=None, name=train4, exist_ok=False, pretrained=True, optimizer=auto, verbose=True, seed=0, deterministic=True, single_cls=False, rect=False, cos_lr=False, close_mosaic=10, resume=False, amp=True, fraction=1.0, profile=False, freeze=None, multi_scale=False, overlap_mask=True, mask_ratio=4, dropout=0.0, val=True, split=val, save_json=False, save_hybrid=False, conf=None, iou=0.7, max_det=300, half=False, dnn=False, plots=True, source=None, vid_stride=1, stream_buffer=False, visualize=False, augment=False, agnostic_nms=False, classes=None, retina_masks=False, embed=None, show=False, save_frames=False, save_txt=False, save_conf=False, save_crop=False, show_labels=True, show_conf=True, show_boxes=True, line_width=None, format=torchscript, keras=False, optimize=False, int8=False, dynamic=False, simplify=False, opset=None, workspace=4, nms=False, lr0=0.01, lrf=0.01, momentum=0.937, weight_decay=0.0005, warmup_epochs=3.0, warmup_momentum=0.8, warmup_bias_lr=0.1, box=7.5, cls=0.5, dfl=1.5, pose=12.0, kobj=1.0, label_smoothing=0.0, nbs=64, hsv_h=0.015, hsv_s=0.7, hsv_v=0.4, degrees=0.0, translate=0.1, scale=0.5, shear=0.0, perspective=0.0, flipud=0.0, fliplr=0.5, bgr=0.0, mosaic=1.0, mixup=0.0, copy_paste=0.0, auto_augment=randaugment, erasing=0.4, crop_fraction=1.0, cfg=None, tracker=botsort.yaml, save_dir=runs/pose/train4\n",
            "Overriding model.yaml nc=1 with nc=5\n",
            "\n",
            "                   from  n    params  module                                       arguments                     \n",
            "  0                  -1  1       464  ultralytics.nn.modules.conv.Conv             [3, 16, 3, 2]                 \n",
            "  1                  -1  1      4672  ultralytics.nn.modules.conv.Conv             [16, 32, 3, 2]                \n",
            "  2                  -1  1      7360  ultralytics.nn.modules.block.C2f             [32, 32, 1, True]             \n",
            "  3                  -1  1     18560  ultralytics.nn.modules.conv.Conv             [32, 64, 3, 2]                \n",
            "  4                  -1  2     49664  ultralytics.nn.modules.block.C2f             [64, 64, 2, True]             \n",
            "  5                  -1  1     73984  ultralytics.nn.modules.conv.Conv             [64, 128, 3, 2]               \n",
            "  6                  -1  2    197632  ultralytics.nn.modules.block.C2f             [128, 128, 2, True]           \n",
            "  7                  -1  1    295424  ultralytics.nn.modules.conv.Conv             [128, 256, 3, 2]              \n",
            "  8                  -1  1    460288  ultralytics.nn.modules.block.C2f             [256, 256, 1, True]           \n",
            "  9                  -1  1    164608  ultralytics.nn.modules.block.SPPF            [256, 256, 5]                 \n",
            " 10                  -1  1         0  torch.nn.modules.upsampling.Upsample         [None, 2, 'nearest']          \n",
            " 11             [-1, 6]  1         0  ultralytics.nn.modules.conv.Concat           [1]                           \n",
            " 12                  -1  1    148224  ultralytics.nn.modules.block.C2f             [384, 128, 1]                 \n",
            " 13                  -1  1         0  torch.nn.modules.upsampling.Upsample         [None, 2, 'nearest']          \n",
            " 14             [-1, 4]  1         0  ultralytics.nn.modules.conv.Concat           [1]                           \n",
            " 15                  -1  1     37248  ultralytics.nn.modules.block.C2f             [192, 64, 1]                  \n",
            " 16                  -1  1     36992  ultralytics.nn.modules.conv.Conv             [64, 64, 3, 2]                \n",
            " 17            [-1, 12]  1         0  ultralytics.nn.modules.conv.Concat           [1]                           \n",
            " 18                  -1  1    123648  ultralytics.nn.modules.block.C2f             [192, 128, 1]                 \n",
            " 19                  -1  1    147712  ultralytics.nn.modules.conv.Conv             [128, 128, 3, 2]              \n",
            " 20             [-1, 9]  1         0  ultralytics.nn.modules.conv.Concat           [1]                           \n",
            " 21                  -1  1    493056  ultralytics.nn.modules.block.C2f             [384, 256, 1]                 \n",
            " 22        [15, 18, 21]  1   1036714  ultralytics.nn.modules.head.Pose             [5, [17, 3], [64, 128, 256]]  \n",
            "YOLOv8n-pose summary: 250 layers, 3296250 parameters, 3296234 gradients, 9.3 GFLOPs\n",
            "\n",
            "Transferred 391/397 items from pretrained weights\n",
            "\u001b[34m\u001b[1mTensorBoard: \u001b[0mStart with 'tensorboard --logdir runs/pose/train4', view at http://localhost:6006/\n",
            "Freezing layer 'model.22.dfl.conv.weight'\n",
            "\u001b[34m\u001b[1mAMP: \u001b[0mrunning Automatic Mixed Precision (AMP) checks with YOLOv8n...\n",
            "\u001b[34m\u001b[1mAMP: \u001b[0mchecks passed ✅\n"
          ]
        },
        {
          "output_type": "stream",
          "name": "stderr",
          "text": [
            "\u001b[34m\u001b[1mtrain: \u001b[0mScanning /content/gdrive/MyDrive/project_final_year/labels/train/Anjaneyasana.cache... 467 images, 10 backgrounds, 338 corrupt: 100%|██████████| 477/477 [00:00<?, ?it/s]"
          ]
        },
        {
          "output_type": "stream",
          "name": "stdout",
          "text": [
            "\u001b[34m\u001b[1mtrain: \u001b[0mWARNING ⚠️ /content/gdrive/MyDrive/project_final_year/images/train/Anjaneyasana/1000_F_308855418_7WOZLyg2zXeuNeK39SWEww6CWbRfzb6x.jpg: ignoring corrupt image/label: non-normalized or out of bounds coordinates [      1.186        1.19]\n",
            "\u001b[34m\u001b[1mtrain: \u001b[0mWARNING ⚠️ /content/gdrive/MyDrive/project_final_year/images/train/Anjaneyasana/8C852667-549A-4033-848B-00E61F225B26.jpeg: ignoring corrupt image/label: non-normalized or out of bounds coordinates [     1.8206      2.0933       1.958      2.1562       1.882      2.1095      1.8888      2.2803      1.8667      2.5106      1.4672      2.4657      2.1172      2.1093      1.7538      2.0604      2.2554      1.9573      2.1358      1.8865      1.7041      3.3735      1.2794      3.3156      1.0696      3.3421\n",
            "      1.8715      4.1085      1.0242      4.2185      2.2252      3.8409      1.9564      2.3112]\n",
            "\u001b[34m\u001b[1mtrain: \u001b[0mWARNING ⚠️ /content/gdrive/MyDrive/project_final_year/images/train/Anjaneyasana/AdobeStock_120490515_Preview.jpeg: ignoring corrupt image/label: non-normalized or out of bounds coordinates [     1.1222       1.142]\n",
            "\u001b[34m\u001b[1mtrain: \u001b[0mWARNING ⚠️ /content/gdrive/MyDrive/project_final_year/images/train/Anjaneyasana/AdobeStock_137297040_Preview.jpeg: ignoring corrupt image/label: non-normalized or out of bounds coordinates [     1.1621]\n",
            "\u001b[34m\u001b[1mtrain: \u001b[0mWARNING ⚠️ /content/gdrive/MyDrive/project_final_year/images/train/Anjaneyasana/AdobeStock_195022044_Preview.jpeg: ignoring corrupt image/label: non-normalized or out of bounds coordinates [      1.151]\n",
            "\u001b[34m\u001b[1mtrain: \u001b[0mWARNING ⚠️ /content/gdrive/MyDrive/project_final_year/images/train/Anjaneyasana/AdobeStock_260015327_Preview.jpeg: ignoring corrupt image/label: non-normalized or out of bounds coordinates [     1.0215      1.2435]\n",
            "\u001b[34m\u001b[1mtrain: \u001b[0mWARNING ⚠️ /content/gdrive/MyDrive/project_final_year/images/train/Anjaneyasana/AdobeStock_495531871_Preview.jpeg: ignoring corrupt image/label: non-normalized or out of bounds coordinates [     1.0179      1.0595      1.0557      1.0533      1.0211      1.0545      1.2134      1.3747      1.0337]\n",
            "\u001b[34m\u001b[1mtrain: \u001b[0mWARNING ⚠️ /content/gdrive/MyDrive/project_final_year/images/train/Anjaneyasana/AdobeStock_77875929_Preview.jpeg: ignoring corrupt image/label: non-normalized or out of bounds coordinates [      1.063      1.0676      1.0808      1.2305      1.0819      1.0083]\n",
            "\u001b[34m\u001b[1mtrain: \u001b[0mWARNING ⚠️ /content/gdrive/MyDrive/project_final_year/images/train/Anjaneyasana/DSC_9006.jpg: ignoring corrupt image/label: non-normalized or out of bounds coordinates [      3.329      1.5953      3.4029      1.5645      3.3981       1.518      3.4848      1.6344      3.4368      1.9783      3.3505      1.9321      3.2278      2.4016      3.2064       2.327      2.9905      2.4865      3.0101      2.4507      3.3927      2.5613       3.219      2.5593      3.9086      3.1734\n",
            "      2.8017      2.5206      4.5078      3.1672      2.7837       3.085      3.5026      1.6808]\n",
            "\u001b[34m\u001b[1mtrain: \u001b[0mWARNING ⚠️ /content/gdrive/MyDrive/project_final_year/images/train/Anjaneyasana/f237ad42a1f616c8d0ff07fd8dc65bf7.jpg: ignoring corrupt image/label: non-normalized or out of bounds coordinates [     1.0229      1.1226      1.1472      1.2012      1.1791      1.1672      1.4725      1.4144      1.2175      1.4852]\n",
            "\u001b[34m\u001b[1mtrain: \u001b[0mWARNING ⚠️ /content/gdrive/MyDrive/project_final_year/images/train/Anjaneyasana/i33.jpg: ignoring corrupt image/label: non-normalized or out of bounds coordinates [     1.1659]\n",
            "\u001b[34m\u001b[1mtrain: \u001b[0mWARNING ⚠️ /content/gdrive/MyDrive/project_final_year/images/train/Anjaneyasana/i40.jpg: ignoring corrupt image/label: non-normalized or out of bounds coordinates [     1.3353       1.463      1.4119      1.4875      1.4116      1.4321      1.4005      1.6087      1.2911      1.7344       1.249       1.699      1.2651       1.368       1.233      1.3498      1.3692      1.0814      1.3257      1.0645      1.3258       2.469      1.2721      2.3577       1.792      2.8418\n",
            "      2.1948      2.3575      2.8343      2.6689      1.4201       1.618]\n",
            "\u001b[34m\u001b[1mtrain: \u001b[0mWARNING ⚠️ /content/gdrive/MyDrive/project_final_year/images/train/Anjaneyasana/i41.jpg: ignoring corrupt image/label: non-normalized or out of bounds coordinates [      1.114      1.1085      1.3494        1.02      1.2463      1.3562      1.3024]\n",
            "\u001b[34m\u001b[1mtrain: \u001b[0mWARNING ⚠️ /content/gdrive/MyDrive/project_final_year/images/train/Anjaneyasana/i55.jpg: ignoring corrupt image/label: non-normalized or out of bounds coordinates [     1.2976      1.3487      1.3445      1.3782       1.349      1.2531      1.4427      1.3918      1.5578      1.5308       1.266      1.1051       1.096      1.0857      1.4938       1.399      1.0191      1.8015      1.4046      1.2955      1.3763]\n",
            "\u001b[34m\u001b[1mtrain: \u001b[0mWARNING ⚠️ /content/gdrive/MyDrive/project_final_year/images/train/Anjaneyasana/i56.png: ignoring corrupt image/label: non-normalized or out of bounds coordinates [     1.0301       1.005       1.235      1.0168      1.2393      1.1929]\n",
            "\u001b[34m\u001b[1mtrain: \u001b[0mWARNING ⚠️ /content/gdrive/MyDrive/project_final_year/images/train/Anjaneyasana/i58.jpg: ignoring corrupt image/label: non-normalized or out of bounds coordinates [      1.085      1.1926      1.0788      1.1482      1.0596]\n",
            "\u001b[34m\u001b[1mtrain: \u001b[0mWARNING ⚠️ /content/gdrive/MyDrive/project_final_year/images/train/Anjaneyasana/i59.jpg: ignoring corrupt image/label: non-normalized or out of bounds coordinates [     1.0223      1.0034       1.286      1.1314      1.2995      1.2068]\n",
            "\u001b[34m\u001b[1mtrain: \u001b[0mWARNING ⚠️ /content/gdrive/MyDrive/project_final_year/images/train/Anjaneyasana/i63.jpg: ignoring corrupt image/label: non-normalized or out of bounds coordinates [     1.0218      1.0864      1.0291      1.1037      1.4828      1.1854      1.4635      1.9965      1.6905      1.4101      2.0001      1.6765      1.8945]\n",
            "\u001b[34m\u001b[1mtrain: \u001b[0mWARNING ⚠️ /content/gdrive/MyDrive/project_final_year/images/train/Anjaneyasana/img2.JPG: ignoring corrupt image/label: non-normalized or out of bounds coordinates [     2.7728      2.6373       2.605      2.6677      1.0212      3.2096      1.0771      2.7207      1.3101       2.677      2.1435      1.9682      1.8225      4.0777      2.5036      3.2976      2.6555      4.8214      2.3505      2.5465      3.7679       4.824      3.4879      1.4236      3.7619      2.7128]\n",
            "\u001b[34m\u001b[1mtrain: \u001b[0mWARNING ⚠️ /content/gdrive/MyDrive/project_final_year/images/train/katichakrasana/Screenshot 2024-03-16 104012.png: ignoring corrupt image/label: non-normalized or out of bounds coordinates [     1.1056      1.1204]\n",
            "\u001b[34m\u001b[1mtrain: \u001b[0mWARNING ⚠️ /content/gdrive/MyDrive/project_final_year/images/train/katichakrasana/Screenshot 2024-03-16 104037.png: ignoring corrupt image/label: non-normalized or out of bounds coordinates [     1.0769      1.0749]\n",
            "\u001b[34m\u001b[1mtrain: \u001b[0mWARNING ⚠️ /content/gdrive/MyDrive/project_final_year/images/train/katichakrasana/Screenshot 2024-03-16 104047.png: ignoring corrupt image/label: non-normalized or out of bounds coordinates [     1.1181      1.1161]\n",
            "\u001b[34m\u001b[1mtrain: \u001b[0mWARNING ⚠️ /content/gdrive/MyDrive/project_final_year/images/train/katichakrasana/Screenshot 2024-03-16 104057.png: ignoring corrupt image/label: non-normalized or out of bounds coordinates [     1.1337      1.1315]\n",
            "\u001b[34m\u001b[1mtrain: \u001b[0mWARNING ⚠️ /content/gdrive/MyDrive/project_final_year/images/train/katichakrasana/Screenshot 2024-03-16 104105.png: ignoring corrupt image/label: non-normalized or out of bounds coordinates [     1.1134      1.1112]\n",
            "\u001b[34m\u001b[1mtrain: \u001b[0mWARNING ⚠️ /content/gdrive/MyDrive/project_final_year/images/train/katichakrasana/Screenshot 2024-03-16 104115.png: ignoring corrupt image/label: non-normalized or out of bounds coordinates [     1.1207      1.1186]\n",
            "\u001b[34m\u001b[1mtrain: \u001b[0mWARNING ⚠️ /content/gdrive/MyDrive/project_final_year/images/train/katichakrasana/Screenshot 2024-03-16 104144.png: ignoring corrupt image/label: non-normalized or out of bounds coordinates [     1.1065      1.1044]\n",
            "\u001b[34m\u001b[1mtrain: \u001b[0mWARNING ⚠️ /content/gdrive/MyDrive/project_final_year/images/train/katichakrasana/Screenshot 2024-03-16 104158.png: ignoring corrupt image/label: non-normalized or out of bounds coordinates [     1.1265      1.1243]\n",
            "\u001b[34m\u001b[1mtrain: \u001b[0mWARNING ⚠️ /content/gdrive/MyDrive/project_final_year/images/train/katichakrasana/Screenshot 2024-03-16 104207.png: ignoring corrupt image/label: non-normalized or out of bounds coordinates [     1.0996      1.0975]\n",
            "\u001b[34m\u001b[1mtrain: \u001b[0mWARNING ⚠️ /content/gdrive/MyDrive/project_final_year/images/train/katichakrasana/Screenshot 2024-03-16 104216.png: ignoring corrupt image/label: non-normalized or out of bounds coordinates [     1.0986      1.0965]\n",
            "\u001b[34m\u001b[1mtrain: \u001b[0mWARNING ⚠️ /content/gdrive/MyDrive/project_final_year/images/train/katichakrasana/Screenshot 2024-03-16 104226.png: ignoring corrupt image/label: non-normalized or out of bounds coordinates [     1.1131      1.1109]\n",
            "\u001b[34m\u001b[1mtrain: \u001b[0mWARNING ⚠️ /content/gdrive/MyDrive/project_final_year/images/train/katichakrasana/Screenshot 2024-03-16 104308.png: ignoring corrupt image/label: non-normalized or out of bounds coordinates [     1.0182      1.0357      1.1988      1.1965]\n",
            "\u001b[34m\u001b[1mtrain: \u001b[0mWARNING ⚠️ /content/gdrive/MyDrive/project_final_year/images/train/katichakrasana/Screenshot 2024-03-16 104322.png: ignoring corrupt image/label: non-normalized or out of bounds coordinates [     1.0041      1.2975      1.3057]\n",
            "\u001b[34m\u001b[1mtrain: \u001b[0mWARNING ⚠️ /content/gdrive/MyDrive/project_final_year/images/train/katichakrasana/Screenshot 2024-03-16 104341.png: ignoring corrupt image/label: non-normalized or out of bounds coordinates [     1.0391      1.0271       1.287       1.272]\n",
            "\u001b[34m\u001b[1mtrain: \u001b[0mWARNING ⚠️ /content/gdrive/MyDrive/project_final_year/images/train/katichakrasana/Screenshot 2024-03-16 104355.png: ignoring corrupt image/label: non-normalized or out of bounds coordinates [     1.2002       1.198]\n",
            "\u001b[34m\u001b[1mtrain: \u001b[0mWARNING ⚠️ /content/gdrive/MyDrive/project_final_year/images/train/katichakrasana/Screenshot 2024-03-16 105010.png: ignoring corrupt image/label: non-normalized or out of bounds coordinates [       1.21      1.1834      1.1641      1.1839      1.2297      1.1999      1.2663      1.3006      1.4113      1.3773      1.3849       1.852      1.8598      1.4619      2.3543      2.3504]\n",
            "\u001b[34m\u001b[1mtrain: \u001b[0mWARNING ⚠️ /content/gdrive/MyDrive/project_final_year/images/train/katichakrasana/Screenshot 2024-03-16 105028.png: ignoring corrupt image/label: non-normalized or out of bounds coordinates [     1.0487      1.1108      1.0857      1.2977      1.1435      1.4047      1.0443       1.365      1.2946      1.2902      1.3821      1.8983      1.9362      1.4484      2.4661      2.4619]\n",
            "\u001b[34m\u001b[1mtrain: \u001b[0mWARNING ⚠️ /content/gdrive/MyDrive/project_final_year/images/train/katichakrasana/Screenshot 2024-03-16 105049.png: ignoring corrupt image/label: non-normalized or out of bounds coordinates [     1.1867      1.3385      1.3383      1.9261      1.9661       2.526      2.5215]\n",
            "\u001b[34m\u001b[1mtrain: \u001b[0mWARNING ⚠️ /content/gdrive/MyDrive/project_final_year/images/train/katichakrasana/Screenshot 2024-03-16 110327.png: ignoring corrupt image/label: non-normalized or out of bounds coordinates [     1.0278      1.2854      1.2834]\n",
            "\u001b[34m\u001b[1mtrain: \u001b[0mWARNING ⚠️ /content/gdrive/MyDrive/project_final_year/images/train/katichakrasana/Screenshot 2024-03-16 110336.png: ignoring corrupt image/label: non-normalized or out of bounds coordinates [     1.1848      1.1398      1.5326      1.4759]\n",
            "\u001b[34m\u001b[1mtrain: \u001b[0mWARNING ⚠️ /content/gdrive/MyDrive/project_final_year/images/train/katichakrasana/Screenshot 2024-03-16 110401.png: ignoring corrupt image/label: non-normalized or out of bounds coordinates [     1.1933      1.0742      1.5888      1.4658]\n",
            "\u001b[34m\u001b[1mtrain: \u001b[0mWARNING ⚠️ /content/gdrive/MyDrive/project_final_year/images/train/katichakrasana/Screenshot 2024-03-16 110409.png: ignoring corrupt image/label: non-normalized or out of bounds coordinates [     1.0991      1.1143      1.4277      1.3725]\n",
            "\u001b[34m\u001b[1mtrain: \u001b[0mWARNING ⚠️ /content/gdrive/MyDrive/project_final_year/images/train/katichakrasana/Screenshot 2024-03-16 110418.png: ignoring corrupt image/label: non-normalized or out of bounds coordinates [     1.1627      1.1815      1.4497      1.4443]\n",
            "\u001b[34m\u001b[1mtrain: \u001b[0mWARNING ⚠️ /content/gdrive/MyDrive/project_final_year/images/train/katichakrasana/Screenshot 2024-03-16 110426.png: ignoring corrupt image/label: non-normalized or out of bounds coordinates [      1.041      1.0603      1.3207      1.3218]\n",
            "\u001b[34m\u001b[1mtrain: \u001b[0mWARNING ⚠️ /content/gdrive/MyDrive/project_final_year/images/train/katichakrasana/Screenshot 2024-03-16 110433.png: ignoring corrupt image/label: non-normalized or out of bounds coordinates [     1.0722      1.0822      1.3347      1.3391]\n",
            "\u001b[34m\u001b[1mtrain: \u001b[0mWARNING ⚠️ /content/gdrive/MyDrive/project_final_year/images/train/katichakrasana/Screenshot 2024-03-16 110441.png: ignoring corrupt image/label: non-normalized or out of bounds coordinates [     1.2406      1.1789]\n",
            "\u001b[34m\u001b[1mtrain: \u001b[0mWARNING ⚠️ /content/gdrive/MyDrive/project_final_year/images/train/katichakrasana/Screenshot 2024-03-16 110616.png: ignoring corrupt image/label: non-normalized or out of bounds coordinates [     1.0845      1.0721]\n",
            "\u001b[34m\u001b[1mtrain: \u001b[0mWARNING ⚠️ /content/gdrive/MyDrive/project_final_year/images/train/katichakrasana/Screenshot 2024-03-16 110623.png: ignoring corrupt image/label: non-normalized or out of bounds coordinates [     1.0841       1.101]\n",
            "\u001b[34m\u001b[1mtrain: \u001b[0mWARNING ⚠️ /content/gdrive/MyDrive/project_final_year/images/train/katichakrasana/Screenshot 2024-03-16 110630.png: ignoring corrupt image/label: non-normalized or out of bounds coordinates [     1.0985      1.0877]\n",
            "\u001b[34m\u001b[1mtrain: \u001b[0mWARNING ⚠️ /content/gdrive/MyDrive/project_final_year/images/train/katichakrasana/Screenshot 2024-03-16 110640.png: ignoring corrupt image/label: non-normalized or out of bounds coordinates [     1.0942        1.08]\n",
            "\u001b[34m\u001b[1mtrain: \u001b[0mWARNING ⚠️ /content/gdrive/MyDrive/project_final_year/images/train/katichakrasana/Screenshot 2024-03-16 110648.png: ignoring corrupt image/label: non-normalized or out of bounds coordinates [      1.081      1.0746]\n",
            "\u001b[34m\u001b[1mtrain: \u001b[0mWARNING ⚠️ /content/gdrive/MyDrive/project_final_year/images/train/katichakrasana/Screenshot 2024-03-16 110705.png: ignoring corrupt image/label: non-normalized or out of bounds coordinates [     1.0825      1.0993]\n",
            "\u001b[34m\u001b[1mtrain: \u001b[0mWARNING ⚠️ /content/gdrive/MyDrive/project_final_year/images/train/katichakrasana/Screenshot 2024-03-16 110711.png: ignoring corrupt image/label: non-normalized or out of bounds coordinates [     1.1137      1.1296]\n",
            "\u001b[34m\u001b[1mtrain: \u001b[0mWARNING ⚠️ /content/gdrive/MyDrive/project_final_year/images/train/katichakrasana/Screenshot 2024-03-16 110733.png: ignoring corrupt image/label: non-normalized or out of bounds coordinates [     1.0913      1.1096]\n",
            "\u001b[34m\u001b[1mtrain: \u001b[0mWARNING ⚠️ /content/gdrive/MyDrive/project_final_year/images/train/katichakrasana/Screenshot 2024-03-16 110742.png: ignoring corrupt image/label: non-normalized or out of bounds coordinates [     1.0877      1.0908]\n",
            "\u001b[34m\u001b[1mtrain: \u001b[0mWARNING ⚠️ /content/gdrive/MyDrive/project_final_year/images/train/katichakrasana/Screenshot 2024-03-16 110800.png: ignoring corrupt image/label: non-normalized or out of bounds coordinates [     1.0884      1.0803]\n",
            "\u001b[34m\u001b[1mtrain: \u001b[0mWARNING ⚠️ /content/gdrive/MyDrive/project_final_year/images/train/katichakrasana/Screenshot 2024-03-16 110807.png: ignoring corrupt image/label: non-normalized or out of bounds coordinates [     1.0575      1.0482]\n",
            "\u001b[34m\u001b[1mtrain: \u001b[0mWARNING ⚠️ /content/gdrive/MyDrive/project_final_year/images/train/katichakrasana/Screenshot 2024-03-16 111011.png: ignoring corrupt image/label: non-normalized or out of bounds coordinates [     1.0204      1.0057]\n",
            "\u001b[34m\u001b[1mtrain: \u001b[0mWARNING ⚠️ /content/gdrive/MyDrive/project_final_year/images/train/katichakrasana/Screenshot 2024-03-16 111023.png: ignoring corrupt image/label: non-normalized or out of bounds coordinates [     1.0006      1.0086]\n",
            "\u001b[34m\u001b[1mtrain: \u001b[0mWARNING ⚠️ /content/gdrive/MyDrive/project_final_year/images/train/katichakrasana/Screenshot 2024-03-16 111600.png: ignoring corrupt image/label: non-normalized or out of bounds coordinates [     1.0072      1.2126       1.209]\n",
            "\u001b[34m\u001b[1mtrain: \u001b[0mWARNING ⚠️ /content/gdrive/MyDrive/project_final_year/images/train/katichakrasana/Screenshot 2024-03-16 111607.png: ignoring corrupt image/label: non-normalized or out of bounds coordinates [      1.181      1.1773]\n",
            "\u001b[34m\u001b[1mtrain: \u001b[0mWARNING ⚠️ /content/gdrive/MyDrive/project_final_year/images/train/katichakrasana/Screenshot 2024-03-16 111614.png: ignoring corrupt image/label: non-normalized or out of bounds coordinates [      1.004      1.0137      1.2095       1.248]\n",
            "\u001b[34m\u001b[1mtrain: \u001b[0mWARNING ⚠️ /content/gdrive/MyDrive/project_final_year/images/train/katichakrasana/Screenshot 2024-03-16 111623.png: ignoring corrupt image/label: non-normalized or out of bounds coordinates [     1.1309      1.1159]\n",
            "\u001b[34m\u001b[1mtrain: \u001b[0mWARNING ⚠️ /content/gdrive/MyDrive/project_final_year/images/train/katichakrasana/Screenshot 2024-03-16 111643.png: ignoring corrupt image/label: non-normalized or out of bounds coordinates [     1.1694      1.1858]\n",
            "\u001b[34m\u001b[1mtrain: \u001b[0mWARNING ⚠️ /content/gdrive/MyDrive/project_final_year/images/train/katichakrasana/Screenshot 2024-03-16 111650.png: ignoring corrupt image/label: non-normalized or out of bounds coordinates [     1.1425      1.1362]\n",
            "\u001b[34m\u001b[1mtrain: \u001b[0mWARNING ⚠️ /content/gdrive/MyDrive/project_final_year/images/train/katichakrasana/Screenshot 2024-03-16 111657.png: ignoring corrupt image/label: non-normalized or out of bounds coordinates [     1.1771      1.1708]\n",
            "\u001b[34m\u001b[1mtrain: \u001b[0mWARNING ⚠️ /content/gdrive/MyDrive/project_final_year/images/train/katichakrasana/Screenshot 2024-03-16 111803.png: ignoring corrupt image/label: non-normalized or out of bounds coordinates [     1.0863      1.0699      1.3591       1.356]\n",
            "\u001b[34m\u001b[1mtrain: \u001b[0mWARNING ⚠️ /content/gdrive/MyDrive/project_final_year/images/train/katichakrasana/Screenshot 2024-03-16 111813.png: ignoring corrupt image/label: non-normalized or out of bounds coordinates [     1.1095      1.1053      1.3926      1.3837]\n",
            "\u001b[34m\u001b[1mtrain: \u001b[0mWARNING ⚠️ /content/gdrive/MyDrive/project_final_year/images/train/katichakrasana/Screenshot 2024-03-16 111820.png: ignoring corrupt image/label: non-normalized or out of bounds coordinates [     1.1073      1.1108      1.3724      1.3506]\n",
            "\u001b[34m\u001b[1mtrain: \u001b[0mWARNING ⚠️ /content/gdrive/MyDrive/project_final_year/images/train/katichakrasana/Screenshot 2024-03-16 111843.png: ignoring corrupt image/label: non-normalized or out of bounds coordinates [      1.108      1.2892      1.3037      1.6724      1.7181]\n",
            "\u001b[34m\u001b[1mtrain: \u001b[0mWARNING ⚠️ /content/gdrive/MyDrive/project_final_year/images/train/katichakrasana/Screenshot 2024-03-16 111950.png: ignoring corrupt image/label: non-normalized or out of bounds coordinates [     1.0456      1.0497      1.3329      1.3395]\n",
            "\u001b[34m\u001b[1mtrain: \u001b[0mWARNING ⚠️ /content/gdrive/MyDrive/project_final_year/images/train/katichakrasana/Screenshot 2024-03-16 112010.png: ignoring corrupt image/label: non-normalized or out of bounds coordinates [     1.0013      1.0151      1.3039      1.3215]\n",
            "\u001b[34m\u001b[1mtrain: \u001b[0mWARNING ⚠️ /content/gdrive/MyDrive/project_final_year/images/train/katichakrasana/Screenshot 2024-03-16 112017.png: ignoring corrupt image/label: non-normalized or out of bounds coordinates [     1.0246      1.3134      1.3311]\n",
            "\u001b[34m\u001b[1mtrain: \u001b[0mWARNING ⚠️ /content/gdrive/MyDrive/project_final_year/images/train/katichakrasana/Screenshot 2024-03-16 112024.png: ignoring corrupt image/label: non-normalized or out of bounds coordinates [     1.0084      1.2972      1.3149]\n",
            "\u001b[34m\u001b[1mtrain: \u001b[0mWARNING ⚠️ /content/gdrive/MyDrive/project_final_year/images/train/katichakrasana/Screenshot 2024-03-16 112033.png: ignoring corrupt image/label: non-normalized or out of bounds coordinates [     1.0398      1.0652      1.3548       1.349]\n",
            "\u001b[34m\u001b[1mtrain: \u001b[0mWARNING ⚠️ /content/gdrive/MyDrive/project_final_year/images/train/katichakrasana/Screenshot 2024-03-16 112040.png: ignoring corrupt image/label: non-normalized or out of bounds coordinates [     1.0386      1.0225      1.3073      1.3136]\n",
            "\u001b[34m\u001b[1mtrain: \u001b[0mWARNING ⚠️ /content/gdrive/MyDrive/project_final_year/images/train/katichakrasana/katichakrasana-standing-spinal-twist-pose.jpg: ignoring corrupt image/label: non-normalized or out of bounds coordinates [     1.0571      1.0517]\n",
            "\u001b[34m\u001b[1mtrain: \u001b[0mWARNING ⚠️ /content/gdrive/MyDrive/project_final_year/images/train/padmasana/AdobeStock_113767202_Preview.jpeg: ignoring corrupt image/label: non-normalized or out of bounds coordinates [     1.0752      1.0494]\n",
            "\u001b[34m\u001b[1mtrain: \u001b[0mWARNING ⚠️ /content/gdrive/MyDrive/project_final_year/images/train/padmasana/AdobeStock_166162627_Preview.jpeg: ignoring corrupt image/label: non-normalized or out of bounds coordinates [     1.0621      1.0431]\n",
            "\u001b[34m\u001b[1mtrain: \u001b[0mWARNING ⚠️ /content/gdrive/MyDrive/project_final_year/images/train/padmasana/AdobeStock_176022799_Preview.jpeg: ignoring corrupt image/label: negative label values [  -0.038844      -0.084   -0.070031   -0.029859   -0.030344]\n",
            "\u001b[34m\u001b[1mtrain: \u001b[0mWARNING ⚠️ /content/gdrive/MyDrive/project_final_year/images/train/padmasana/AdobeStock_179169181_Preview.jpeg: ignoring corrupt image/label: non-normalized or out of bounds coordinates [     1.0558]\n",
            "\u001b[34m\u001b[1mtrain: \u001b[0mWARNING ⚠️ /content/gdrive/MyDrive/project_final_year/images/train/padmasana/AdobeStock_232443323_Preview.jpeg: ignoring corrupt image/label: non-normalized or out of bounds coordinates [     1.0937      1.1377]\n",
            "\u001b[34m\u001b[1mtrain: \u001b[0mWARNING ⚠️ /content/gdrive/MyDrive/project_final_year/images/train/padmasana/AdobeStock_284005739_Preview.jpeg: ignoring corrupt image/label: non-normalized or out of bounds coordinates [      1.073      1.1032      1.0472      1.1445      1.0008      1.2122      1.2581      1.3566      1.1653      1.3767      1.0377      1.1428]\n",
            "\u001b[34m\u001b[1mtrain: \u001b[0mWARNING ⚠️ /content/gdrive/MyDrive/project_final_year/images/train/padmasana/AdobeStock_284005799_Preview.jpeg: ignoring corrupt image/label: non-normalized or out of bounds coordinates [     1.0657      1.0842      1.1814      1.1674]\n",
            "\u001b[34m\u001b[1mtrain: \u001b[0mWARNING ⚠️ /content/gdrive/MyDrive/project_final_year/images/train/padmasana/AdobeStock_351367747_Preview.jpeg: ignoring corrupt image/label: non-normalized or out of bounds coordinates [     1.0062      1.0392      1.0983      1.1628      1.2046      1.2037      1.1195      1.2387]\n",
            "\u001b[34m\u001b[1mtrain: \u001b[0mWARNING ⚠️ /content/gdrive/MyDrive/project_final_year/images/train/padmasana/AdobeStock_373592266_Preview.jpeg: ignoring corrupt image/label: non-normalized or out of bounds coordinates [       1.02      1.0905]\n",
            "\u001b[34m\u001b[1mtrain: \u001b[0mWARNING ⚠️ /content/gdrive/MyDrive/project_final_year/images/train/padmasana/AdobeStock_373592285_Preview.jpeg: ignoring corrupt image/label: non-normalized or out of bounds coordinates [     1.0405      1.0753]\n",
            "\u001b[34m\u001b[1mtrain: \u001b[0mWARNING ⚠️ /content/gdrive/MyDrive/project_final_year/images/train/padmasana/AdobeStock_377797986_Preview.jpeg: ignoring corrupt image/label: non-normalized or out of bounds coordinates [     1.0025      1.1593      1.1006]\n",
            "\u001b[34m\u001b[1mtrain: \u001b[0mWARNING ⚠️ /content/gdrive/MyDrive/project_final_year/images/train/padmasana/AdobeStock_427112519_Preview.jpeg: ignoring corrupt image/label: non-normalized or out of bounds coordinates [     1.0003]\n",
            "\u001b[34m\u001b[1mtrain: \u001b[0mWARNING ⚠️ /content/gdrive/MyDrive/project_final_year/images/train/padmasana/AdobeStock_439437874_Preview.jpeg: ignoring corrupt image/label: non-normalized or out of bounds coordinates [     1.1022      1.1658]\n",
            "\u001b[34m\u001b[1mtrain: \u001b[0mWARNING ⚠️ /content/gdrive/MyDrive/project_final_year/images/train/padmasana/AdobeStock_462376162_Preview.jpeg: ignoring corrupt image/label: non-normalized or out of bounds coordinates [     1.0762      1.0829]\n",
            "\u001b[34m\u001b[1mtrain: \u001b[0mWARNING ⚠️ /content/gdrive/MyDrive/project_final_year/images/train/padmasana/AdobeStock_510940321_Preview.jpeg: ignoring corrupt image/label: non-normalized or out of bounds coordinates [     1.0141      1.0266]\n",
            "\u001b[34m\u001b[1mtrain: \u001b[0mWARNING ⚠️ /content/gdrive/MyDrive/project_final_year/images/train/padmasana/AdobeStock_511841436_Preview.jpeg: ignoring corrupt image/label: non-normalized or out of bounds coordinates [     1.0679      1.1152]\n",
            "\u001b[34m\u001b[1mtrain: \u001b[0mWARNING ⚠️ /content/gdrive/MyDrive/project_final_year/images/train/padmasana/AdobeStock_524818334_Preview.jpeg: ignoring corrupt image/label: non-normalized or out of bounds coordinates [     1.0701      1.0186      1.0497      1.0344]\n",
            "\u001b[34m\u001b[1mtrain: \u001b[0mWARNING ⚠️ /content/gdrive/MyDrive/project_final_year/images/train/padmasana/AdobeStock_601685384_Preview.jpeg: ignoring corrupt image/label: non-normalized or out of bounds coordinates [     1.0027      1.1217]\n",
            "\u001b[34m\u001b[1mtrain: \u001b[0mWARNING ⚠️ /content/gdrive/MyDrive/project_final_year/images/train/padmasana/AdobeStock_604219116_Preview.jpeg: ignoring corrupt image/label: non-normalized or out of bounds coordinates [     1.0372      1.1167       1.183]\n",
            "\u001b[34m\u001b[1mtrain: \u001b[0mWARNING ⚠️ /content/gdrive/MyDrive/project_final_year/images/train/padmasana/AdobeStock_629730514_Preview.jpeg: ignoring corrupt image/label: non-normalized or out of bounds coordinates [     1.0364      1.1442      1.1799      1.0511      1.0287      1.1624      1.1269]\n",
            "\u001b[34m\u001b[1mtrain: \u001b[0mWARNING ⚠️ /content/gdrive/MyDrive/project_final_year/images/train/padmasana/AdobeStock_629914119_Preview.jpeg: ignoring corrupt image/label: non-normalized or out of bounds coordinates [     1.0676      1.0922]\n",
            "\u001b[34m\u001b[1mtrain: \u001b[0mWARNING ⚠️ /content/gdrive/MyDrive/project_final_year/images/train/padmasana/AdobeStock_634072477_Preview.jpeg: ignoring corrupt image/label: non-normalized or out of bounds coordinates [     1.0829      1.1612      1.1141      1.2053      1.0944]\n",
            "\u001b[34m\u001b[1mtrain: \u001b[0mWARNING ⚠️ /content/gdrive/MyDrive/project_final_year/images/train/padmasana/AdobeStock_636622155_Preview.jpeg: ignoring corrupt image/label: non-normalized or out of bounds coordinates [     1.0015      1.0319      1.1252]\n",
            "\u001b[34m\u001b[1mtrain: \u001b[0mWARNING ⚠️ /content/gdrive/MyDrive/project_final_year/images/train/padmasana/AdobeStock_642020518_Preview.jpeg: ignoring corrupt image/label: non-normalized or out of bounds coordinates [     1.0375]\n",
            "\u001b[34m\u001b[1mtrain: \u001b[0mWARNING ⚠️ /content/gdrive/MyDrive/project_final_year/images/train/padmasana/AdobeStock_642020541_Preview.jpeg: ignoring corrupt image/label: non-normalized or out of bounds coordinates [     1.1232]\n",
            "\u001b[34m\u001b[1mtrain: \u001b[0mWARNING ⚠️ /content/gdrive/MyDrive/project_final_year/images/train/padmasana/AdobeStock_642020604_Preview.jpeg: ignoring corrupt image/label: non-normalized or out of bounds coordinates [     1.0256      1.0289]\n",
            "\u001b[34m\u001b[1mtrain: \u001b[0mWARNING ⚠️ /content/gdrive/MyDrive/project_final_year/images/train/padmasana/AdobeStock_642020642_Preview.jpeg: ignoring corrupt image/label: non-normalized or out of bounds coordinates [     1.0851]\n",
            "\u001b[34m\u001b[1mtrain: \u001b[0mWARNING ⚠️ /content/gdrive/MyDrive/project_final_year/images/train/padmasana/AdobeStock_642020770_Preview.jpeg: ignoring corrupt image/label: non-normalized or out of bounds coordinates [      1.008      1.1198      1.2199      1.0336      1.0194]\n",
            "\u001b[34m\u001b[1mtrain: \u001b[0mWARNING ⚠️ /content/gdrive/MyDrive/project_final_year/images/train/padmasana/AdobeStock_642021601_Preview.jpeg: ignoring corrupt image/label: non-normalized or out of bounds coordinates [     1.0978]\n",
            "\u001b[34m\u001b[1mtrain: \u001b[0mWARNING ⚠️ /content/gdrive/MyDrive/project_final_year/images/train/padmasana/AdobeStock_642763513_Preview.jpeg: ignoring corrupt image/label: non-normalized or out of bounds coordinates [     1.0007]\n",
            "\u001b[34m\u001b[1mtrain: \u001b[0mWARNING ⚠️ /content/gdrive/MyDrive/project_final_year/images/train/padmasana/AdobeStock_643841087_Preview.jpeg: ignoring corrupt image/label: non-normalized or out of bounds coordinates [     1.0279      1.0726      1.1515]\n",
            "\u001b[34m\u001b[1mtrain: \u001b[0mWARNING ⚠️ /content/gdrive/MyDrive/project_final_year/images/train/padmasana/AdobeStock_643842153_Preview.jpeg: ignoring corrupt image/label: non-normalized or out of bounds coordinates [     1.1056]\n",
            "\u001b[34m\u001b[1mtrain: \u001b[0mWARNING ⚠️ /content/gdrive/MyDrive/project_final_year/images/train/padmasana/AdobeStock_650378080_Preview.jpeg: ignoring corrupt image/label: non-normalized or out of bounds coordinates [     1.0239      1.1337      1.0094]\n",
            "\u001b[34m\u001b[1mtrain: \u001b[0mWARNING ⚠️ /content/gdrive/MyDrive/project_final_year/images/train/padmasana/AdobeStock_650378119_Preview.jpeg: ignoring corrupt image/label: non-normalized or out of bounds coordinates [     1.0209      1.1662]\n",
            "\u001b[34m\u001b[1mtrain: \u001b[0mWARNING ⚠️ /content/gdrive/MyDrive/project_final_year/images/train/padmasana/AdobeStock_650378174_Preview.jpeg: ignoring corrupt image/label: non-normalized or out of bounds coordinates [      1.045      1.2137      1.1147      1.0997]\n",
            "\u001b[34m\u001b[1mtrain: \u001b[0mWARNING ⚠️ /content/gdrive/MyDrive/project_final_year/images/train/padmasana/AdobeStock_661704603_Preview.jpeg: ignoring corrupt image/label: non-normalized or out of bounds coordinates [     1.0535]\n",
            "\u001b[34m\u001b[1mtrain: \u001b[0mWARNING ⚠️ /content/gdrive/MyDrive/project_final_year/images/train/padmasana/AdobeStock_664383642_Preview.jpeg: ignoring corrupt image/label: non-normalized or out of bounds coordinates [      1.119      1.0909]\n",
            "\u001b[34m\u001b[1mtrain: \u001b[0mWARNING ⚠️ /content/gdrive/MyDrive/project_final_year/images/train/padmasana/AdobeStock_664539181_Preview.jpeg: ignoring corrupt image/label: non-normalized or out of bounds coordinates [     1.0353      1.2755       1.312      1.0455      1.0319]\n",
            "\u001b[34m\u001b[1mtrain: \u001b[0mWARNING ⚠️ /content/gdrive/MyDrive/project_final_year/images/train/padmasana/AdobeStock_697654895_Preview.jpeg: ignoring corrupt image/label: non-normalized or out of bounds coordinates [     1.0654      1.1279]\n",
            "\u001b[34m\u001b[1mtrain: \u001b[0mWARNING ⚠️ /content/gdrive/MyDrive/project_final_year/images/train/padmasana/AdobeStock_699048794_Preview.jpeg: ignoring corrupt image/label: non-normalized or out of bounds coordinates [     1.0331]\n",
            "\u001b[34m\u001b[1mtrain: \u001b[0mWARNING ⚠️ /content/gdrive/MyDrive/project_final_year/images/train/padmasana/AdobeStock_702212991_Preview.jpeg: ignoring corrupt image/label: non-normalized or out of bounds coordinates [     1.0051]\n",
            "\u001b[34m\u001b[1mtrain: \u001b[0mWARNING ⚠️ /content/gdrive/MyDrive/project_final_year/images/train/padmasana/AdobeStock_709853206_Preview.jpeg: ignoring corrupt image/label: non-normalized or out of bounds coordinates [     1.0348      1.0891]\n",
            "\u001b[34m\u001b[1mtrain: \u001b[0mWARNING ⚠️ /content/gdrive/MyDrive/project_final_year/images/train/padmasana/AdobeStock_710681094_Preview.jpeg: ignoring corrupt image/label: non-normalized or out of bounds coordinates [     1.0167      1.0861      1.1094]\n",
            "\u001b[34m\u001b[1mtrain: \u001b[0mWARNING ⚠️ /content/gdrive/MyDrive/project_final_year/images/train/padmasana/AdobeStock_711047709_Preview.jpeg: ignoring corrupt image/label: non-normalized or out of bounds coordinates [      1.027      1.0876]\n",
            "\u001b[34m\u001b[1mtrain: \u001b[0mWARNING ⚠️ /content/gdrive/MyDrive/project_final_year/images/train/padmasana/AdobeStock_713252610_Preview.jpeg: ignoring corrupt image/label: non-normalized or out of bounds coordinates [      1.045      1.1088]\n",
            "\u001b[34m\u001b[1mtrain: \u001b[0mWARNING ⚠️ /content/gdrive/MyDrive/project_final_year/images/train/padmasana/AdobeStock_713253470_Preview.jpeg: ignoring corrupt image/label: non-normalized or out of bounds coordinates [     1.0369      1.1488      1.2073]\n",
            "\u001b[34m\u001b[1mtrain: \u001b[0mWARNING ⚠️ /content/gdrive/MyDrive/project_final_year/images/train/padmasana/AdobeStock_713316771_Preview.jpeg: ignoring corrupt image/label: non-normalized or out of bounds coordinates [     1.0105      1.0901      1.1008]\n",
            "\u001b[34m\u001b[1mtrain: \u001b[0mWARNING ⚠️ /content/gdrive/MyDrive/project_final_year/images/train/padmasana/AdobeStock_722592978_Preview.jpeg: ignoring corrupt image/label: non-normalized or out of bounds coordinates [     1.0887      1.1166]\n",
            "\u001b[34m\u001b[1mtrain: \u001b[0mWARNING ⚠️ /content/gdrive/MyDrive/project_final_year/images/train/padmasana/AdobeStock_724020774_Preview.jpeg: ignoring corrupt image/label: non-normalized or out of bounds coordinates [      1.011      1.0065]\n",
            "\u001b[34m\u001b[1mtrain: \u001b[0mWARNING ⚠️ /content/gdrive/MyDrive/project_final_year/images/train/padmasana/AdobeStock_727479396_Preview.jpeg: ignoring corrupt image/label: non-normalized or out of bounds coordinates [     1.0659      1.0267      1.0265      1.2175      1.0107      1.1188      1.1065]\n",
            "\u001b[34m\u001b[1mtrain: \u001b[0mWARNING ⚠️ /content/gdrive/MyDrive/project_final_year/images/train/padmasana/AdobeStock_727479989_Preview.jpeg: ignoring corrupt image/label: non-normalized or out of bounds coordinates [     1.0346       1.145      1.0775        1.08]\n",
            "\u001b[34m\u001b[1mtrain: \u001b[0mWARNING ⚠️ /content/gdrive/MyDrive/project_final_year/images/train/padmasana/AdobeStock_727480962_Preview.jpeg: ignoring corrupt image/label: non-normalized or out of bounds coordinates [      1.098      1.1842      1.1105      1.1001]\n",
            "\u001b[34m\u001b[1mtrain: \u001b[0mWARNING ⚠️ /content/gdrive/MyDrive/project_final_year/images/train/padmasana/AdobeStock_727482546_Preview.jpeg: ignoring corrupt image/label: non-normalized or out of bounds coordinates [      1.049      1.0604      1.0094      1.0258]\n",
            "\u001b[34m\u001b[1mtrain: \u001b[0mWARNING ⚠️ /content/gdrive/MyDrive/project_final_year/images/train/padmasana/AdobeStock_728182509_Preview.jpeg: ignoring corrupt image/label: non-normalized or out of bounds coordinates [     1.1127      1.1561      1.1304      1.2623      1.1236      1.2644      1.2011      1.1944      1.1237       1.223      1.1274      1.0768      1.0707]\n",
            "\u001b[34m\u001b[1mtrain: \u001b[0mWARNING ⚠️ /content/gdrive/MyDrive/project_final_year/images/train/padmasana/AdobeStock_728798242_Preview.jpeg: ignoring corrupt image/label: non-normalized or out of bounds coordinates [      1.025]\n",
            "\u001b[34m\u001b[1mtrain: \u001b[0mWARNING ⚠️ /content/gdrive/MyDrive/project_final_year/images/train/padmasana/AdobeStock_728799859_Preview.jpeg: ignoring corrupt image/label: non-normalized or out of bounds coordinates [     1.0254]\n",
            "\u001b[34m\u001b[1mtrain: \u001b[0mWARNING ⚠️ /content/gdrive/MyDrive/project_final_year/images/train/padmasana/AdobeStock_728800066_Preview.jpeg: ignoring corrupt image/label: non-normalized or out of bounds coordinates [     1.0763]\n",
            "\u001b[34m\u001b[1mtrain: \u001b[0mWARNING ⚠️ /content/gdrive/MyDrive/project_final_year/images/train/padmasana/AdobeStock_728848753_Preview.jpeg: ignoring corrupt image/label: non-normalized or out of bounds coordinates [      1.022      1.0567]\n",
            "\u001b[34m\u001b[1mtrain: \u001b[0mWARNING ⚠️ /content/gdrive/MyDrive/project_final_year/images/train/padmasana/AdobeStock_729365179_Preview.jpeg: ignoring corrupt image/label: non-normalized or out of bounds coordinates [     1.1201]\n",
            "\u001b[34m\u001b[1mtrain: \u001b[0mWARNING ⚠️ /content/gdrive/MyDrive/project_final_year/images/train/padmasana/AdobeStock_729891833_Preview.jpeg: ignoring corrupt image/label: non-normalized or out of bounds coordinates [      1.052      1.1848      1.2059]\n",
            "\u001b[34m\u001b[1mtrain: \u001b[0mWARNING ⚠️ /content/gdrive/MyDrive/project_final_year/images/train/padmasana/AdobeStock_730082231_Preview.jpeg: ignoring corrupt image/label: non-normalized or out of bounds coordinates [     1.0032      1.0806]\n",
            "\u001b[34m\u001b[1mtrain: \u001b[0mWARNING ⚠️ /content/gdrive/MyDrive/project_final_year/images/train/padmasana/AdobeStock_730410869_Preview.jpeg: ignoring corrupt image/label: non-normalized or out of bounds coordinates [     1.0294      1.0654]\n",
            "\u001b[34m\u001b[1mtrain: \u001b[0mWARNING ⚠️ /content/gdrive/MyDrive/project_final_year/images/train/padmasana/AdobeStock_731546660_Preview.jpeg: ignoring corrupt image/label: non-normalized or out of bounds coordinates [     1.0271]\n",
            "\u001b[34m\u001b[1mtrain: \u001b[0mWARNING ⚠️ /content/gdrive/MyDrive/project_final_year/images/train/padmasana/AdobeStock_732578925_Preview.jpeg: ignoring corrupt image/label: non-normalized or out of bounds coordinates [     1.0035      1.0903      1.0143      1.2318      1.0026]\n",
            "\u001b[34m\u001b[1mtrain: \u001b[0mWARNING ⚠️ /content/gdrive/MyDrive/project_final_year/images/train/padmasana/AdobeStock_732658453_Preview.jpeg: ignoring corrupt image/label: non-normalized or out of bounds coordinates [     1.0807]\n",
            "\u001b[34m\u001b[1mtrain: \u001b[0mWARNING ⚠️ /content/gdrive/MyDrive/project_final_year/images/train/padmasana/AdobeStock_732658470_Preview.jpeg: ignoring corrupt image/label: non-normalized or out of bounds coordinates [     1.0373       1.062]\n",
            "\u001b[34m\u001b[1mtrain: \u001b[0mWARNING ⚠️ /content/gdrive/MyDrive/project_final_year/images/train/padmasana/AdobeStock_732658512_Preview.jpeg: ignoring corrupt image/label: non-normalized or out of bounds coordinates [     1.0438      1.1182]\n",
            "\u001b[34m\u001b[1mtrain: \u001b[0mWARNING ⚠️ /content/gdrive/MyDrive/project_final_year/images/train/padmasana/AdobeStock_736701737_Preview.jpeg: ignoring corrupt image/label: non-normalized or out of bounds coordinates [     1.0365      1.1295      1.1717      1.0041      1.0753      1.0196      1.0899      1.1034]\n",
            "\u001b[34m\u001b[1mtrain: \u001b[0mWARNING ⚠️ /content/gdrive/MyDrive/project_final_year/images/train/padmasana/AdobeStock_741510803_Preview.jpeg: ignoring corrupt image/label: non-normalized or out of bounds coordinates [     1.0038      1.1069]\n",
            "\u001b[34m\u001b[1mtrain: \u001b[0mWARNING ⚠️ /content/gdrive/MyDrive/project_final_year/images/train/padmasana/AdobeStock_741511574_Preview.jpeg: ignoring corrupt image/label: non-normalized or out of bounds coordinates [     1.0743]\n",
            "\u001b[34m\u001b[1mtrain: \u001b[0mWARNING ⚠️ /content/gdrive/MyDrive/project_final_year/images/train/padmasana/AdobeStock_82165517_Preview.jpeg: ignoring corrupt image/label: non-normalized or out of bounds coordinates [     1.0732      1.0674]\n",
            "\u001b[34m\u001b[1mtrain: \u001b[0mWARNING ⚠️ /content/gdrive/MyDrive/project_final_year/images/train/trikonasana/download (1).jpg: ignoring corrupt image/label: Label class 3 exceeds dataset class count 2. Possible class labels are 0-1\n",
            "\u001b[34m\u001b[1mtrain: \u001b[0mWARNING ⚠️ /content/gdrive/MyDrive/project_final_year/images/train/trikonasana/download (1).png: ignoring corrupt image/label: Label class 3 exceeds dataset class count 2. Possible class labels are 0-1\n",
            "\u001b[34m\u001b[1mtrain: \u001b[0mWARNING ⚠️ /content/gdrive/MyDrive/project_final_year/images/train/trikonasana/download (2).jpg: ignoring corrupt image/label: Label class 3 exceeds dataset class count 2. Possible class labels are 0-1\n",
            "\u001b[34m\u001b[1mtrain: \u001b[0mWARNING ⚠️ /content/gdrive/MyDrive/project_final_year/images/train/trikonasana/download (3).jpg: ignoring corrupt image/label: Label class 3 exceeds dataset class count 2. Possible class labels are 0-1\n",
            "\u001b[34m\u001b[1mtrain: \u001b[0mWARNING ⚠️ /content/gdrive/MyDrive/project_final_year/images/train/trikonasana/download (4).jpg: ignoring corrupt image/label: Label class 3 exceeds dataset class count 2. Possible class labels are 0-1\n",
            "\u001b[34m\u001b[1mtrain: \u001b[0mWARNING ⚠️ /content/gdrive/MyDrive/project_final_year/images/train/trikonasana/download (5).jpg: ignoring corrupt image/label: Label class 3 exceeds dataset class count 2. Possible class labels are 0-1\n",
            "\u001b[34m\u001b[1mtrain: \u001b[0mWARNING ⚠️ /content/gdrive/MyDrive/project_final_year/images/train/trikonasana/download (6).jpg: ignoring corrupt image/label: Label class 3 exceeds dataset class count 2. Possible class labels are 0-1\n",
            "\u001b[34m\u001b[1mtrain: \u001b[0mWARNING ⚠️ /content/gdrive/MyDrive/project_final_year/images/train/trikonasana/download.jpg: ignoring corrupt image/label: Label class 3 exceeds dataset class count 2. Possible class labels are 0-1\n",
            "\u001b[34m\u001b[1mtrain: \u001b[0mWARNING ⚠️ /content/gdrive/MyDrive/project_final_year/images/train/trikonasana/download.png: ignoring corrupt image/label: Label class 3 exceeds dataset class count 2. Possible class labels are 0-1\n",
            "\u001b[34m\u001b[1mtrain: \u001b[0mWARNING ⚠️ /content/gdrive/MyDrive/project_final_year/images/train/trikonasana/images (1).jpg: ignoring corrupt image/label: Label class 3 exceeds dataset class count 2. Possible class labels are 0-1\n",
            "\u001b[34m\u001b[1mtrain: \u001b[0mWARNING ⚠️ /content/gdrive/MyDrive/project_final_year/images/train/trikonasana/images (1).png: ignoring corrupt image/label: Label class 3 exceeds dataset class count 2. Possible class labels are 0-1\n",
            "\u001b[34m\u001b[1mtrain: \u001b[0mWARNING ⚠️ /content/gdrive/MyDrive/project_final_year/images/train/trikonasana/images (10).jpg: ignoring corrupt image/label: Label class 3 exceeds dataset class count 2. Possible class labels are 0-1\n",
            "\u001b[34m\u001b[1mtrain: \u001b[0mWARNING ⚠️ /content/gdrive/MyDrive/project_final_year/images/train/trikonasana/images (11).jpg: ignoring corrupt image/label: Label class 3 exceeds dataset class count 2. Possible class labels are 0-1\n",
            "\u001b[34m\u001b[1mtrain: \u001b[0mWARNING ⚠️ /content/gdrive/MyDrive/project_final_year/images/train/trikonasana/images (12).jpg: ignoring corrupt image/label: Label class 3 exceeds dataset class count 2. Possible class labels are 0-1\n",
            "\u001b[34m\u001b[1mtrain: \u001b[0mWARNING ⚠️ /content/gdrive/MyDrive/project_final_year/images/train/trikonasana/images (13).jpg: ignoring corrupt image/label: Label class 3 exceeds dataset class count 2. Possible class labels are 0-1\n",
            "\u001b[34m\u001b[1mtrain: \u001b[0mWARNING ⚠️ /content/gdrive/MyDrive/project_final_year/images/train/trikonasana/images (14).jpg: ignoring corrupt image/label: Label class 3 exceeds dataset class count 2. Possible class labels are 0-1\n",
            "\u001b[34m\u001b[1mtrain: \u001b[0mWARNING ⚠️ /content/gdrive/MyDrive/project_final_year/images/train/trikonasana/images (15).jpg: ignoring corrupt image/label: Label class 3 exceeds dataset class count 2. Possible class labels are 0-1\n",
            "\u001b[34m\u001b[1mtrain: \u001b[0mWARNING ⚠️ /content/gdrive/MyDrive/project_final_year/images/train/trikonasana/images (16).jpg: ignoring corrupt image/label: Label class 3 exceeds dataset class count 2. Possible class labels are 0-1\n",
            "\u001b[34m\u001b[1mtrain: \u001b[0mWARNING ⚠️ /content/gdrive/MyDrive/project_final_year/images/train/trikonasana/images (17).jpg: ignoring corrupt image/label: Label class 3 exceeds dataset class count 2. Possible class labels are 0-1\n",
            "\u001b[34m\u001b[1mtrain: \u001b[0mWARNING ⚠️ /content/gdrive/MyDrive/project_final_year/images/train/trikonasana/images (18).jpg: ignoring corrupt image/label: Label class 3 exceeds dataset class count 2. Possible class labels are 0-1\n",
            "\u001b[34m\u001b[1mtrain: \u001b[0mWARNING ⚠️ /content/gdrive/MyDrive/project_final_year/images/train/trikonasana/images (19).jpg: ignoring corrupt image/label: Label class 3 exceeds dataset class count 2. Possible class labels are 0-1\n",
            "\u001b[34m\u001b[1mtrain: \u001b[0mWARNING ⚠️ /content/gdrive/MyDrive/project_final_year/images/train/trikonasana/images (2).jpg: ignoring corrupt image/label: Label class 3 exceeds dataset class count 2. Possible class labels are 0-1\n",
            "\u001b[34m\u001b[1mtrain: \u001b[0mWARNING ⚠️ /content/gdrive/MyDrive/project_final_year/images/train/trikonasana/images (2).png: ignoring corrupt image/label: Label class 3 exceeds dataset class count 2. Possible class labels are 0-1\n",
            "\u001b[34m\u001b[1mtrain: \u001b[0mWARNING ⚠️ /content/gdrive/MyDrive/project_final_year/images/train/trikonasana/images (20).jpg: ignoring corrupt image/label: negative label values [  -0.011125   -0.057875]\n",
            "\u001b[34m\u001b[1mtrain: \u001b[0mWARNING ⚠️ /content/gdrive/MyDrive/project_final_year/images/train/trikonasana/images (21).jpg: ignoring corrupt image/label: Label class 3 exceeds dataset class count 2. Possible class labels are 0-1\n",
            "\u001b[34m\u001b[1mtrain: \u001b[0mWARNING ⚠️ /content/gdrive/MyDrive/project_final_year/images/train/trikonasana/images (22).jpg: ignoring corrupt image/label: Label class 3 exceeds dataset class count 2. Possible class labels are 0-1\n",
            "\u001b[34m\u001b[1mtrain: \u001b[0mWARNING ⚠️ /content/gdrive/MyDrive/project_final_year/images/train/trikonasana/images (23).jpg: ignoring corrupt image/label: Label class 3 exceeds dataset class count 2. Possible class labels are 0-1\n",
            "\u001b[34m\u001b[1mtrain: \u001b[0mWARNING ⚠️ /content/gdrive/MyDrive/project_final_year/images/train/trikonasana/images (24).jpg: ignoring corrupt image/label: Label class 3 exceeds dataset class count 2. Possible class labels are 0-1\n",
            "\u001b[34m\u001b[1mtrain: \u001b[0mWARNING ⚠️ /content/gdrive/MyDrive/project_final_year/images/train/trikonasana/images (25).jpg: ignoring corrupt image/label: Label class 3 exceeds dataset class count 2. Possible class labels are 0-1\n",
            "\u001b[34m\u001b[1mtrain: \u001b[0mWARNING ⚠️ /content/gdrive/MyDrive/project_final_year/images/train/trikonasana/images (26).jpg: ignoring corrupt image/label: Label class 3 exceeds dataset class count 2. Possible class labels are 0-1\n",
            "\u001b[34m\u001b[1mtrain: \u001b[0mWARNING ⚠️ /content/gdrive/MyDrive/project_final_year/images/train/trikonasana/images (27).jpg: ignoring corrupt image/label: Label class 3 exceeds dataset class count 2. Possible class labels are 0-1\n",
            "\u001b[34m\u001b[1mtrain: \u001b[0mWARNING ⚠️ /content/gdrive/MyDrive/project_final_year/images/train/trikonasana/images (28).jpg: ignoring corrupt image/label: Label class 3 exceeds dataset class count 2. Possible class labels are 0-1\n",
            "\u001b[34m\u001b[1mtrain: \u001b[0mWARNING ⚠️ /content/gdrive/MyDrive/project_final_year/images/train/trikonasana/images (29).jpg: ignoring corrupt image/label: Label class 3 exceeds dataset class count 2. Possible class labels are 0-1\n",
            "\u001b[34m\u001b[1mtrain: \u001b[0mWARNING ⚠️ /content/gdrive/MyDrive/project_final_year/images/train/trikonasana/images (3).jpg: ignoring corrupt image/label: Label class 3 exceeds dataset class count 2. Possible class labels are 0-1\n",
            "\u001b[34m\u001b[1mtrain: \u001b[0mWARNING ⚠️ /content/gdrive/MyDrive/project_final_year/images/train/trikonasana/images (30).jpg: ignoring corrupt image/label: Label class 3 exceeds dataset class count 2. Possible class labels are 0-1\n",
            "\u001b[34m\u001b[1mtrain: \u001b[0mWARNING ⚠️ /content/gdrive/MyDrive/project_final_year/images/train/trikonasana/images (31).jpg: ignoring corrupt image/label: Label class 3 exceeds dataset class count 2. Possible class labels are 0-1\n",
            "\u001b[34m\u001b[1mtrain: \u001b[0mWARNING ⚠️ /content/gdrive/MyDrive/project_final_year/images/train/trikonasana/images (32).jpg: ignoring corrupt image/label: Label class 3 exceeds dataset class count 2. Possible class labels are 0-1\n",
            "\u001b[34m\u001b[1mtrain: \u001b[0mWARNING ⚠️ /content/gdrive/MyDrive/project_final_year/images/train/trikonasana/images (33).jpg: ignoring corrupt image/label: Label class 3 exceeds dataset class count 2. Possible class labels are 0-1\n",
            "\u001b[34m\u001b[1mtrain: \u001b[0mWARNING ⚠️ /content/gdrive/MyDrive/project_final_year/images/train/trikonasana/images (34).jpg: ignoring corrupt image/label: Label class 3 exceeds dataset class count 2. Possible class labels are 0-1\n",
            "\u001b[34m\u001b[1mtrain: \u001b[0mWARNING ⚠️ /content/gdrive/MyDrive/project_final_year/images/train/trikonasana/images (35).jpg: ignoring corrupt image/label: Label class 3 exceeds dataset class count 2. Possible class labels are 0-1\n",
            "\u001b[34m\u001b[1mtrain: \u001b[0mWARNING ⚠️ /content/gdrive/MyDrive/project_final_year/images/train/trikonasana/images (36).jpg: ignoring corrupt image/label: Label class 3 exceeds dataset class count 2. Possible class labels are 0-1\n",
            "\u001b[34m\u001b[1mtrain: \u001b[0mWARNING ⚠️ /content/gdrive/MyDrive/project_final_year/images/train/trikonasana/images (37).jpg: ignoring corrupt image/label: Label class 3 exceeds dataset class count 2. Possible class labels are 0-1\n",
            "\u001b[34m\u001b[1mtrain: \u001b[0mWARNING ⚠️ /content/gdrive/MyDrive/project_final_year/images/train/trikonasana/images (38).jpg: ignoring corrupt image/label: Label class 3 exceeds dataset class count 2. Possible class labels are 0-1\n",
            "\u001b[34m\u001b[1mtrain: \u001b[0mWARNING ⚠️ /content/gdrive/MyDrive/project_final_year/images/train/trikonasana/images (39).jpg: ignoring corrupt image/label: Label class 3 exceeds dataset class count 2. Possible class labels are 0-1\n",
            "\u001b[34m\u001b[1mtrain: \u001b[0mWARNING ⚠️ /content/gdrive/MyDrive/project_final_year/images/train/trikonasana/images (4).jpg: ignoring corrupt image/label: Label class 3 exceeds dataset class count 2. Possible class labels are 0-1\n",
            "\u001b[34m\u001b[1mtrain: \u001b[0mWARNING ⚠️ /content/gdrive/MyDrive/project_final_year/images/train/trikonasana/images (40).jpg: ignoring corrupt image/label: Label class 3 exceeds dataset class count 2. Possible class labels are 0-1\n",
            "\u001b[34m\u001b[1mtrain: \u001b[0mWARNING ⚠️ /content/gdrive/MyDrive/project_final_year/images/train/trikonasana/images (41).jpg: ignoring corrupt image/label: Label class 3 exceeds dataset class count 2. Possible class labels are 0-1\n",
            "\u001b[34m\u001b[1mtrain: \u001b[0mWARNING ⚠️ /content/gdrive/MyDrive/project_final_year/images/train/trikonasana/images (42).jpg: ignoring corrupt image/label: Label class 3 exceeds dataset class count 2. Possible class labels are 0-1\n",
            "\u001b[34m\u001b[1mtrain: \u001b[0mWARNING ⚠️ /content/gdrive/MyDrive/project_final_year/images/train/trikonasana/images (43).jpg: ignoring corrupt image/label: Label class 3 exceeds dataset class count 2. Possible class labels are 0-1\n",
            "\u001b[34m\u001b[1mtrain: \u001b[0mWARNING ⚠️ /content/gdrive/MyDrive/project_final_year/images/train/trikonasana/images (44).jpg: ignoring corrupt image/label: Label class 3 exceeds dataset class count 2. Possible class labels are 0-1\n",
            "\u001b[34m\u001b[1mtrain: \u001b[0mWARNING ⚠️ /content/gdrive/MyDrive/project_final_year/images/train/trikonasana/images (45).jpg: ignoring corrupt image/label: Label class 3 exceeds dataset class count 2. Possible class labels are 0-1\n",
            "\u001b[34m\u001b[1mtrain: \u001b[0mWARNING ⚠️ /content/gdrive/MyDrive/project_final_year/images/train/trikonasana/images (46).jpg: ignoring corrupt image/label: Label class 3 exceeds dataset class count 2. Possible class labels are 0-1\n",
            "\u001b[34m\u001b[1mtrain: \u001b[0mWARNING ⚠️ /content/gdrive/MyDrive/project_final_year/images/train/trikonasana/images (47).jpg: ignoring corrupt image/label: Label class 3 exceeds dataset class count 2. Possible class labels are 0-1\n",
            "\u001b[34m\u001b[1mtrain: \u001b[0mWARNING ⚠️ /content/gdrive/MyDrive/project_final_year/images/train/trikonasana/images (48).jpg: ignoring corrupt image/label: Label class 3 exceeds dataset class count 2. Possible class labels are 0-1\n",
            "\u001b[34m\u001b[1mtrain: \u001b[0mWARNING ⚠️ /content/gdrive/MyDrive/project_final_year/images/train/trikonasana/images (49).jpg: ignoring corrupt image/label: Label class 3 exceeds dataset class count 2. Possible class labels are 0-1\n",
            "\u001b[34m\u001b[1mtrain: \u001b[0mWARNING ⚠️ /content/gdrive/MyDrive/project_final_year/images/train/trikonasana/images (5).jpg: ignoring corrupt image/label: Label class 3 exceeds dataset class count 2. Possible class labels are 0-1\n",
            "\u001b[34m\u001b[1mtrain: \u001b[0mWARNING ⚠️ /content/gdrive/MyDrive/project_final_year/images/train/trikonasana/images (50).jpg: ignoring corrupt image/label: Label class 3 exceeds dataset class count 2. Possible class labels are 0-1\n",
            "\u001b[34m\u001b[1mtrain: \u001b[0mWARNING ⚠️ /content/gdrive/MyDrive/project_final_year/images/train/trikonasana/images (51).jpg: ignoring corrupt image/label: Label class 3 exceeds dataset class count 2. Possible class labels are 0-1\n",
            "\u001b[34m\u001b[1mtrain: \u001b[0mWARNING ⚠️ /content/gdrive/MyDrive/project_final_year/images/train/trikonasana/images (52).jpg: ignoring corrupt image/label: Label class 3 exceeds dataset class count 2. Possible class labels are 0-1\n",
            "\u001b[34m\u001b[1mtrain: \u001b[0mWARNING ⚠️ /content/gdrive/MyDrive/project_final_year/images/train/trikonasana/images (53).jpg: ignoring corrupt image/label: Label class 3 exceeds dataset class count 2. Possible class labels are 0-1\n",
            "\u001b[34m\u001b[1mtrain: \u001b[0mWARNING ⚠️ /content/gdrive/MyDrive/project_final_year/images/train/trikonasana/images (54).jpg: ignoring corrupt image/label: Label class 3 exceeds dataset class count 2. Possible class labels are 0-1\n",
            "\u001b[34m\u001b[1mtrain: \u001b[0mWARNING ⚠️ /content/gdrive/MyDrive/project_final_year/images/train/trikonasana/images (55).jpg: ignoring corrupt image/label: Label class 3 exceeds dataset class count 2. Possible class labels are 0-1\n",
            "\u001b[34m\u001b[1mtrain: \u001b[0mWARNING ⚠️ /content/gdrive/MyDrive/project_final_year/images/train/trikonasana/images (56).jpg: ignoring corrupt image/label: Label class 3 exceeds dataset class count 2. Possible class labels are 0-1\n",
            "\u001b[34m\u001b[1mtrain: \u001b[0mWARNING ⚠️ /content/gdrive/MyDrive/project_final_year/images/train/trikonasana/images (57).jpg: ignoring corrupt image/label: Label class 3 exceeds dataset class count 2. Possible class labels are 0-1\n",
            "\u001b[34m\u001b[1mtrain: \u001b[0mWARNING ⚠️ /content/gdrive/MyDrive/project_final_year/images/train/trikonasana/images (58).jpg: ignoring corrupt image/label: Label class 3 exceeds dataset class count 2. Possible class labels are 0-1\n",
            "\u001b[34m\u001b[1mtrain: \u001b[0mWARNING ⚠️ /content/gdrive/MyDrive/project_final_year/images/train/trikonasana/images (59).jpg: ignoring corrupt image/label: Label class 3 exceeds dataset class count 2. Possible class labels are 0-1\n",
            "\u001b[34m\u001b[1mtrain: \u001b[0mWARNING ⚠️ /content/gdrive/MyDrive/project_final_year/images/train/trikonasana/images (6).jpg: ignoring corrupt image/label: Label class 3 exceeds dataset class count 2. Possible class labels are 0-1\n",
            "\u001b[34m\u001b[1mtrain: \u001b[0mWARNING ⚠️ /content/gdrive/MyDrive/project_final_year/images/train/trikonasana/images (60).jpg: ignoring corrupt image/label: negative label values [  -0.000781]\n",
            "\u001b[34m\u001b[1mtrain: \u001b[0mWARNING ⚠️ /content/gdrive/MyDrive/project_final_year/images/train/trikonasana/images (61).jpg: ignoring corrupt image/label: Label class 3 exceeds dataset class count 2. Possible class labels are 0-1\n",
            "\u001b[34m\u001b[1mtrain: \u001b[0mWARNING ⚠️ /content/gdrive/MyDrive/project_final_year/images/train/trikonasana/images (62).jpg: ignoring corrupt image/label: Label class 3 exceeds dataset class count 2. Possible class labels are 0-1\n",
            "\u001b[34m\u001b[1mtrain: \u001b[0mWARNING ⚠️ /content/gdrive/MyDrive/project_final_year/images/train/trikonasana/images (63).jpg: ignoring corrupt image/label: Label class 3 exceeds dataset class count 2. Possible class labels are 0-1\n",
            "\u001b[34m\u001b[1mtrain: \u001b[0mWARNING ⚠️ /content/gdrive/MyDrive/project_final_year/images/train/trikonasana/images (64).jpg: ignoring corrupt image/label: Label class 3 exceeds dataset class count 2. Possible class labels are 0-1\n",
            "\u001b[34m\u001b[1mtrain: \u001b[0mWARNING ⚠️ /content/gdrive/MyDrive/project_final_year/images/train/trikonasana/images (65).jpg: ignoring corrupt image/label: Label class 3 exceeds dataset class count 2. Possible class labels are 0-1\n",
            "\u001b[34m\u001b[1mtrain: \u001b[0mWARNING ⚠️ /content/gdrive/MyDrive/project_final_year/images/train/trikonasana/images (66).jpg: ignoring corrupt image/label: Label class 3 exceeds dataset class count 2. Possible class labels are 0-1\n",
            "\u001b[34m\u001b[1mtrain: \u001b[0mWARNING ⚠️ /content/gdrive/MyDrive/project_final_year/images/train/trikonasana/images (67).jpg: ignoring corrupt image/label: Label class 3 exceeds dataset class count 2. Possible class labels are 0-1\n",
            "\u001b[34m\u001b[1mtrain: \u001b[0mWARNING ⚠️ /content/gdrive/MyDrive/project_final_year/images/train/trikonasana/images (68).jpg: ignoring corrupt image/label: Label class 3 exceeds dataset class count 2. Possible class labels are 0-1\n",
            "\u001b[34m\u001b[1mtrain: \u001b[0mWARNING ⚠️ /content/gdrive/MyDrive/project_final_year/images/train/trikonasana/images (69).jpg: ignoring corrupt image/label: Label class 3 exceeds dataset class count 2. Possible class labels are 0-1\n",
            "\u001b[34m\u001b[1mtrain: \u001b[0mWARNING ⚠️ /content/gdrive/MyDrive/project_final_year/images/train/trikonasana/images (7).jpg: ignoring corrupt image/label: Label class 3 exceeds dataset class count 2. Possible class labels are 0-1\n",
            "\u001b[34m\u001b[1mtrain: \u001b[0mWARNING ⚠️ /content/gdrive/MyDrive/project_final_year/images/train/trikonasana/images (70).jpg: ignoring corrupt image/label: Label class 3 exceeds dataset class count 2. Possible class labels are 0-1\n",
            "\u001b[34m\u001b[1mtrain: \u001b[0mWARNING ⚠️ /content/gdrive/MyDrive/project_final_year/images/train/trikonasana/images (71).jpg: ignoring corrupt image/label: Label class 3 exceeds dataset class count 2. Possible class labels are 0-1\n",
            "\u001b[34m\u001b[1mtrain: \u001b[0mWARNING ⚠️ /content/gdrive/MyDrive/project_final_year/images/train/trikonasana/images (72).jpg: ignoring corrupt image/label: Label class 3 exceeds dataset class count 2. Possible class labels are 0-1\n",
            "\u001b[34m\u001b[1mtrain: \u001b[0mWARNING ⚠️ /content/gdrive/MyDrive/project_final_year/images/train/trikonasana/images (73).jpg: ignoring corrupt image/label: Label class 3 exceeds dataset class count 2. Possible class labels are 0-1\n",
            "\u001b[34m\u001b[1mtrain: \u001b[0mWARNING ⚠️ /content/gdrive/MyDrive/project_final_year/images/train/trikonasana/images (74).jpg: ignoring corrupt image/label: Label class 3 exceeds dataset class count 2. Possible class labels are 0-1\n",
            "\u001b[34m\u001b[1mtrain: \u001b[0mWARNING ⚠️ /content/gdrive/MyDrive/project_final_year/images/train/trikonasana/images (75).jpg: ignoring corrupt image/label: Label class 3 exceeds dataset class count 2. Possible class labels are 0-1\n",
            "\u001b[34m\u001b[1mtrain: \u001b[0mWARNING ⚠️ /content/gdrive/MyDrive/project_final_year/images/train/trikonasana/images (76).jpg: ignoring corrupt image/label: Label class 3 exceeds dataset class count 2. Possible class labels are 0-1\n",
            "\u001b[34m\u001b[1mtrain: \u001b[0mWARNING ⚠️ /content/gdrive/MyDrive/project_final_year/images/train/trikonasana/images (77).jpg: ignoring corrupt image/label: negative label values [   -0.00675]\n",
            "\u001b[34m\u001b[1mtrain: \u001b[0mWARNING ⚠️ /content/gdrive/MyDrive/project_final_year/images/train/trikonasana/images (78).jpg: ignoring corrupt image/label: Label class 3 exceeds dataset class count 2. Possible class labels are 0-1\n",
            "\u001b[34m\u001b[1mtrain: \u001b[0mWARNING ⚠️ /content/gdrive/MyDrive/project_final_year/images/train/trikonasana/images (79).jpg: ignoring corrupt image/label: Label class 3 exceeds dataset class count 2. Possible class labels are 0-1\n",
            "\u001b[34m\u001b[1mtrain: \u001b[0mWARNING ⚠️ /content/gdrive/MyDrive/project_final_year/images/train/trikonasana/images (8).jpg: ignoring corrupt image/label: Label class 3 exceeds dataset class count 2. Possible class labels are 0-1\n",
            "\u001b[34m\u001b[1mtrain: \u001b[0mWARNING ⚠️ /content/gdrive/MyDrive/project_final_year/images/train/trikonasana/images (80).jpg: ignoring corrupt image/label: Label class 3 exceeds dataset class count 2. Possible class labels are 0-1\n",
            "\u001b[34m\u001b[1mtrain: \u001b[0mWARNING ⚠️ /content/gdrive/MyDrive/project_final_year/images/train/trikonasana/images (81).jpg: ignoring corrupt image/label: Label class 3 exceeds dataset class count 2. Possible class labels are 0-1\n",
            "\u001b[34m\u001b[1mtrain: \u001b[0mWARNING ⚠️ /content/gdrive/MyDrive/project_final_year/images/train/trikonasana/images (82).jpg: ignoring corrupt image/label: Label class 3 exceeds dataset class count 2. Possible class labels are 0-1\n",
            "\u001b[34m\u001b[1mtrain: \u001b[0mWARNING ⚠️ /content/gdrive/MyDrive/project_final_year/images/train/trikonasana/images (83).jpg: ignoring corrupt image/label: Label class 3 exceeds dataset class count 2. Possible class labels are 0-1\n",
            "\u001b[34m\u001b[1mtrain: \u001b[0mWARNING ⚠️ /content/gdrive/MyDrive/project_final_year/images/train/trikonasana/images (84).jpg: ignoring corrupt image/label: Label class 3 exceeds dataset class count 2. Possible class labels are 0-1\n",
            "\u001b[34m\u001b[1mtrain: \u001b[0mWARNING ⚠️ /content/gdrive/MyDrive/project_final_year/images/train/trikonasana/images (85).jpg: ignoring corrupt image/label: Label class 3 exceeds dataset class count 2. Possible class labels are 0-1\n",
            "\u001b[34m\u001b[1mtrain: \u001b[0mWARNING ⚠️ /content/gdrive/MyDrive/project_final_year/images/train/trikonasana/images (86).jpg: ignoring corrupt image/label: Label class 3 exceeds dataset class count 2. Possible class labels are 0-1\n",
            "\u001b[34m\u001b[1mtrain: \u001b[0mWARNING ⚠️ /content/gdrive/MyDrive/project_final_year/images/train/trikonasana/images (87).jpg: ignoring corrupt image/label: Label class 3 exceeds dataset class count 2. Possible class labels are 0-1\n",
            "\u001b[34m\u001b[1mtrain: \u001b[0mWARNING ⚠️ /content/gdrive/MyDrive/project_final_year/images/train/trikonasana/images (88).jpg: ignoring corrupt image/label: Label class 3 exceeds dataset class count 2. Possible class labels are 0-1\n",
            "\u001b[34m\u001b[1mtrain: \u001b[0mWARNING ⚠️ /content/gdrive/MyDrive/project_final_year/images/train/trikonasana/images (89).jpg: ignoring corrupt image/label: Label class 3 exceeds dataset class count 2. Possible class labels are 0-1\n",
            "\u001b[34m\u001b[1mtrain: \u001b[0mWARNING ⚠️ /content/gdrive/MyDrive/project_final_year/images/train/trikonasana/images (9).jpg: ignoring corrupt image/label: Label class 3 exceeds dataset class count 2. Possible class labels are 0-1\n",
            "\u001b[34m\u001b[1mtrain: \u001b[0mWARNING ⚠️ /content/gdrive/MyDrive/project_final_year/images/train/trikonasana/images (90).jpg: ignoring corrupt image/label: Label class 3 exceeds dataset class count 2. Possible class labels are 0-1\n",
            "\u001b[34m\u001b[1mtrain: \u001b[0mWARNING ⚠️ /content/gdrive/MyDrive/project_final_year/images/train/trikonasana/images (91).jpg: ignoring corrupt image/label: Label class 3 exceeds dataset class count 2. Possible class labels are 0-1\n",
            "\u001b[34m\u001b[1mtrain: \u001b[0mWARNING ⚠️ /content/gdrive/MyDrive/project_final_year/images/train/trikonasana/images (92).jpg: ignoring corrupt image/label: Label class 3 exceeds dataset class count 2. Possible class labels are 0-1\n",
            "\u001b[34m\u001b[1mtrain: \u001b[0mWARNING ⚠️ /content/gdrive/MyDrive/project_final_year/images/train/trikonasana/images (93).jpg: ignoring corrupt image/label: Label class 3 exceeds dataset class count 2. Possible class labels are 0-1\n",
            "\u001b[34m\u001b[1mtrain: \u001b[0mWARNING ⚠️ /content/gdrive/MyDrive/project_final_year/images/train/trikonasana/images - 2024-03-12T161744.649.jpg: ignoring corrupt image/label: Label class 3 exceeds dataset class count 2. Possible class labels are 0-1\n",
            "\u001b[34m\u001b[1mtrain: \u001b[0mWARNING ⚠️ /content/gdrive/MyDrive/project_final_year/images/train/trikonasana/images - 2024-03-12T161755.578.jpg: ignoring corrupt image/label: Label class 3 exceeds dataset class count 2. Possible class labels are 0-1\n",
            "\u001b[34m\u001b[1mtrain: \u001b[0mWARNING ⚠️ /content/gdrive/MyDrive/project_final_year/images/train/trikonasana/images - 2024-03-12T161803.218.jpg: ignoring corrupt image/label: Label class 3 exceeds dataset class count 2. Possible class labels are 0-1\n",
            "\u001b[34m\u001b[1mtrain: \u001b[0mWARNING ⚠️ /content/gdrive/MyDrive/project_final_year/images/train/trikonasana/images - 2024-03-12T161815.681.jpg: ignoring corrupt image/label: Label class 3 exceeds dataset class count 2. Possible class labels are 0-1\n",
            "\u001b[34m\u001b[1mtrain: \u001b[0mWARNING ⚠️ /content/gdrive/MyDrive/project_final_year/images/train/trikonasana/images - 2024-03-12T161820.886.jpg: ignoring corrupt image/label: Label class 3 exceeds dataset class count 2. Possible class labels are 0-1\n",
            "\u001b[34m\u001b[1mtrain: \u001b[0mWARNING ⚠️ /content/gdrive/MyDrive/project_final_year/images/train/trikonasana/images - 2024-03-12T161837.003.jpg: ignoring corrupt image/label: Label class 3 exceeds dataset class count 2. Possible class labels are 0-1\n",
            "\u001b[34m\u001b[1mtrain: \u001b[0mWARNING ⚠️ /content/gdrive/MyDrive/project_final_year/images/train/vrkasana/1000_F_175560892_Q9aInkm2OkcRwK3GqZ6pl6gRelKKFkrW.jpg: ignoring corrupt image/label: non-normalized or out of bounds coordinates [     1.2342      1.0471      1.4428       1.004]\n",
            "\u001b[34m\u001b[1mtrain: \u001b[0mWARNING ⚠️ /content/gdrive/MyDrive/project_final_year/images/train/vrkasana/1000_F_437008321_X6Z5PZG8Ba5HdHKA432OKxnvUV7ADr9a.jpg: ignoring corrupt image/label: non-normalized or out of bounds coordinates [     1.0946      1.2929      1.0074]\n",
            "\u001b[34m\u001b[1mtrain: \u001b[0mWARNING ⚠️ /content/gdrive/MyDrive/project_final_year/images/train/vrkasana/413-4137718_vrksasana-vrksasana-or-tree-pose.png: ignoring corrupt image/label: Label class 4 exceeds dataset class count 2. Possible class labels are 0-1\n",
            "\u001b[34m\u001b[1mtrain: \u001b[0mWARNING ⚠️ /content/gdrive/MyDrive/project_final_year/images/train/vrkasana/42409248.jpg: ignoring corrupt image/label: Label class 4 exceeds dataset class count 2. Possible class labels are 0-1\n",
            "\u001b[34m\u001b[1mtrain: \u001b[0mWARNING ⚠️ /content/gdrive/MyDrive/project_final_year/images/train/vrkasana/4e84a232ae67fff5531f6e0d31b82246.jpg: ignoring corrupt image/label: Label class 4 exceeds dataset class count 2. Possible class labels are 0-1\n",
            "\u001b[34m\u001b[1mtrain: \u001b[0mWARNING ⚠️ /content/gdrive/MyDrive/project_final_year/images/train/vrkasana/6-vrksasana (1).jpg: ignoring corrupt image/label: Label class 4 exceeds dataset class count 2. Possible class labels are 0-1\n",
            "\u001b[34m\u001b[1mtrain: \u001b[0mWARNING ⚠️ /content/gdrive/MyDrive/project_final_year/images/train/vrkasana/651a8020a4192c0ce412767e_tree-pose-in-yoga.jpg: ignoring corrupt image/label: non-normalized or out of bounds coordinates [     1.0949]\n",
            "\u001b[34m\u001b[1mtrain: \u001b[0mWARNING ⚠️ /content/gdrive/MyDrive/project_final_year/images/train/vrkasana/86484443.jpg: ignoring corrupt image/label: non-normalized or out of bounds coordinates [     1.1701      1.2143      1.1164      1.2803      1.0428      1.3884      1.6624      1.1835      1.1565      1.2349      1.0827      1.0022      1.3544       1.551      1.4936      1.2023      2.1834      1.7802      1.0777      2.8714       1.017      2.0008]\n",
            "\u001b[34m\u001b[1mtrain: \u001b[0mWARNING ⚠️ /content/gdrive/MyDrive/project_final_year/images/train/vrkasana/depositphotos_287693338-stock-photo-vrksasana-yoga-pose (1).jpg: ignoring corrupt image/label: non-normalized or out of bounds coordinates [     1.2802      1.2824      1.1582      1.5541      1.8312       1.541      2.2895]\n",
            "\u001b[34m\u001b[1mtrain: \u001b[0mWARNING ⚠️ /content/gdrive/MyDrive/project_final_year/images/train/vrkasana/depositphotos_287958652-stock-photo-attractive-woman-is-practicing-yoga.jpg: ignoring corrupt image/label: non-normalized or out of bounds coordinates [     1.2429      1.2638      1.2106      1.3018      1.1795       1.347      1.1575      1.4178      1.0611      1.2705      1.2155      1.3329      1.1478      1.2917      1.1648      1.0332      1.2264       1.437      1.1934      1.0298]\n",
            "\u001b[34m\u001b[1mtrain: \u001b[0mWARNING ⚠️ /content/gdrive/MyDrive/project_final_year/images/train/vrkasana/depositphotos_637802862-stock-photo-woman-vrksasana-asana-purple-wall.jpg: ignoring corrupt image/label: non-normalized or out of bounds coordinates [     1.3935      1.3691      1.8158      1.6627      2.1599      1.5896]\n",
            "\u001b[34m\u001b[1mtrain: \u001b[0mWARNING ⚠️ /content/gdrive/MyDrive/project_final_year/images/train/vrkasana/fit-attractive-young-woman-practicing-yoga-exercise-called-tree-pose-sanskrit-name-vrksasana-this-pose-strengthen-thighs-calves-ankles-and-back-2RWK93G.jpg: ignoring corrupt image/label: non-normalized or out of bounds coordinates [     1.1115      1.1107      1.4698      1.3658      1.8327      1.3477]\n",
            "\u001b[34m\u001b[1mtrain: \u001b[0mWARNING ⚠️ /content/gdrive/MyDrive/project_final_year/images/train/vrkasana/flexible-female-in-sportswear-balancing-on-leg-in-vrksasana-with-raised-arms-while-doing-yoga-in-mountains-in-summer-ADSF21887.jpg: ignoring corrupt image/label: non-normalized or out of bounds coordinates [     1.0634       1.092      1.0349       1.122      1.0144      1.2019       1.253      1.1715      1.0014      1.1571      1.1107      1.2629      1.0575      1.0474      1.5261      1.0096      1.1365]\n",
            "\u001b[34m\u001b[1mtrain: \u001b[0mWARNING ⚠️ /content/gdrive/MyDrive/project_final_year/images/train/vrkasana/images (1).jpeg: ignoring corrupt image/label: Label class 4 exceeds dataset class count 2. Possible class labels are 0-1\n",
            "\u001b[34m\u001b[1mtrain: \u001b[0mWARNING ⚠️ /content/gdrive/MyDrive/project_final_year/images/train/vrkasana/images.jpeg: ignoring corrupt image/label: Label class 4 exceeds dataset class count 2. Possible class labels are 0-1\n",
            "\u001b[34m\u001b[1mtrain: \u001b[0mWARNING ⚠️ /content/gdrive/MyDrive/project_final_year/images/train/vrkasana/istockphoto-104821808-2048x2048.jpg: ignoring corrupt image/label: non-normalized or out of bounds coordinates [     1.2128      1.2603       1.179      1.3132      1.1145      1.3579      1.0686      1.0678       1.064       1.499      1.2461      1.1532      1.3335       1.663      1.0006      1.5989      1.2623      2.0787      1.9097        1.16      2.4683      1.1288      1.8617]\n",
            "\u001b[34m\u001b[1mtrain: \u001b[0mWARNING ⚠️ /content/gdrive/MyDrive/project_final_year/images/train/vrkasana/istockphoto-1095832790-2048x2048.jpg: ignoring corrupt image/label: non-normalized or out of bounds coordinates [     1.0708      1.0208      1.1165      1.0145      1.1751      1.0008      1.0083      1.2672       1.113      1.1259       1.244      1.1272      1.3127      1.7615      1.8467      1.6113      2.0546      1.0346       2.409      1.1947      2.2148      1.1401      2.7988]\n",
            "\u001b[34m\u001b[1mtrain: \u001b[0mWARNING ⚠️ /content/gdrive/MyDrive/project_final_year/images/train/vrkasana/istockphoto-1134840949-2048x2048.jpg: ignoring corrupt image/label: non-normalized or out of bounds coordinates [      1.584      1.6186      1.5603      1.6667      1.5251      1.7688      1.4536      1.8107      1.4174      1.6255      1.5568      1.7319       1.111      1.4753      1.0978      1.6598      1.5117       1.199      1.3147      1.5735      1.9261      1.5765      1.3085]\n",
            "\u001b[34m\u001b[1mtrain: \u001b[0mWARNING ⚠️ /content/gdrive/MyDrive/project_final_year/images/train/vrkasana/istockphoto-1141511880-2048x2048.jpg: ignoring corrupt image/label: non-normalized or out of bounds coordinates [     1.0825        1.08      1.0893      1.1016      1.1217      1.7627      1.7743      1.4922      1.9558      2.3323       1.052       1.971      2.7987]\n",
            "\u001b[34m\u001b[1mtrain: \u001b[0mWARNING ⚠️ /content/gdrive/MyDrive/project_final_year/images/train/vrkasana/istockphoto-1142811674-2048x2048.jpg: ignoring corrupt image/label: non-normalized or out of bounds coordinates [     1.0589      1.1128      1.0151      1.1881      1.2561      1.3849      1.3295      1.2896      1.1142       1.085      1.0281      1.0668      1.2345      1.5697      1.5559      1.1596       2.074      1.9125      1.0579      2.6761      1.9182]\n",
            "\u001b[34m\u001b[1mtrain: \u001b[0mWARNING ⚠️ /content/gdrive/MyDrive/project_final_year/images/train/vrkasana/istockphoto-1167055109-2048x2048.jpg: ignoring corrupt image/label: non-normalized or out of bounds coordinates [      1.608        1.65      1.5806      1.6592      1.5109      1.6906      1.0497      1.4177      1.0435      1.7219      1.4669      1.6129       1.536      1.6786      1.5639      1.4608      1.5731      2.0033      1.7432      1.5049      2.0592      1.6435       1.891       1.524      2.3375]\n",
            "\u001b[34m\u001b[1mtrain: \u001b[0mWARNING ⚠️ /content/gdrive/MyDrive/project_final_year/images/train/vrkasana/istockphoto-1181472900-2048x2048.jpg: ignoring corrupt image/label: non-normalized or out of bounds coordinates [     1.6241       1.649      1.5884      1.6868      1.5574       1.741      1.5237      1.7668      1.4977      1.6532      1.5835      1.7373      1.1888      1.5342      1.1894      1.9722         1.4      1.6178      1.5561      1.6985      1.3582      1.6736      1.8709]\n",
            "\u001b[34m\u001b[1mtrain: \u001b[0mWARNING ⚠️ /content/gdrive/MyDrive/project_final_year/images/train/vrkasana/istockphoto-1198245565-2048x2048.jpg: ignoring corrupt image/label: non-normalized or out of bounds coordinates [     1.0134      1.0066      1.1999      1.2079       1.242      1.4488      1.5998      1.4154      1.9351]\n",
            "\u001b[34m\u001b[1mtrain: \u001b[0mWARNING ⚠️ /content/gdrive/MyDrive/project_final_year/images/train/vrkasana/istockphoto-1209051588-2048x2048.jpg: ignoring corrupt image/label: non-normalized or out of bounds coordinates [     1.8197      1.8651      1.7854      1.9408      1.7623      2.0199      1.7397      2.1869      1.5687       1.923      1.8026      2.0743      1.7577      2.4102      1.2314      1.8496      1.4877      2.0104       1.396      1.9606      1.9109]\n",
            "\u001b[34m\u001b[1mtrain: \u001b[0mWARNING ⚠️ /content/gdrive/MyDrive/project_final_year/images/train/vrkasana/istockphoto-1251651668-2048x2048.jpg: ignoring corrupt image/label: non-normalized or out of bounds coordinates [     1.5875      1.6133       1.561      1.6353      1.5387      1.7015       1.502       1.726      1.4549      1.6017      1.5564      1.6626      1.2343      1.5085      1.2279      1.6163      1.5664      1.2862      1.4205      1.5655      1.8095      1.5561      1.4538]\n",
            "\u001b[34m\u001b[1mtrain: \u001b[0mWARNING ⚠️ /content/gdrive/MyDrive/project_final_year/images/train/vrkasana/istockphoto-1263524322-2048x2048.jpg: ignoring corrupt image/label: non-normalized or out of bounds coordinates [     1.6406      1.6847      1.6108      1.7195      1.5742      1.8171      1.5468      1.8065      1.5164      1.6935      1.6177      1.8165      1.1382      1.5736      1.1522      2.0997      1.2897      1.6276      1.5748      1.7481      1.3438      1.7494      1.9682]\n",
            "\u001b[34m\u001b[1mtrain: \u001b[0mWARNING ⚠️ /content/gdrive/MyDrive/project_final_year/images/train/vrkasana/istockphoto-1265049334-2048x2048.jpg: ignoring corrupt image/label: non-normalized or out of bounds coordinates [     1.0124      1.0445      1.1104      1.1253       1.119      1.1785      1.1135      1.5976      1.6063      1.4532       1.799      2.0755      1.0461      1.9422       2.512]\n",
            "\u001b[34m\u001b[1mtrain: \u001b[0mWARNING ⚠️ /content/gdrive/MyDrive/project_final_year/images/train/vrkasana/istockphoto-1266260845-2048x2048.jpg: ignoring corrupt image/label: non-normalized or out of bounds coordinates [     1.1976      1.2281      1.1626       1.264      1.1151      1.3236       1.057      1.3438      1.0783      1.1942      1.1386      1.3773      1.3612       1.134      1.3632      1.7174      1.5888      1.1903      1.7674      1.3126        1.58      1.2196      2.1645]\n",
            "\u001b[34m\u001b[1mtrain: \u001b[0mWARNING ⚠️ /content/gdrive/MyDrive/project_final_year/images/train/vrkasana/istockphoto-1273549952-2048x2048.jpg: ignoring corrupt image/label: non-normalized or out of bounds coordinates [     1.4746      1.5031      1.4445      1.5348      1.4076      1.5939      1.3656      1.7213      1.2095      1.4965      1.4445      1.5912       1.385      1.9048       1.459      1.1609      1.5587      1.5419      1.5371]\n",
            "\u001b[34m\u001b[1mtrain: \u001b[0mWARNING ⚠️ /content/gdrive/MyDrive/project_final_year/images/train/vrkasana/istockphoto-1289401523-2048x2048.jpg: ignoring corrupt image/label: non-normalized or out of bounds coordinates [     1.1887      1.1437      1.2276      1.0962      1.1556      1.1019      1.2901      1.1515      1.1073      1.1469      1.3767      1.2703      1.0385      1.2601      1.3973      1.0308      1.2614      1.1777       1.337      1.8285       1.792      1.2068       2.365      2.0535      1.0897      2.8098\n",
            "      1.0926      2.1568]\n",
            "\u001b[34m\u001b[1mtrain: \u001b[0mWARNING ⚠️ /content/gdrive/MyDrive/project_final_year/images/train/vrkasana/istockphoto-1315855140-2048x2048.jpg: ignoring corrupt image/label: non-normalized or out of bounds coordinates [     1.0977      1.2798      1.1339      1.2361      1.0555      1.2356      1.1913      1.2698      1.0012      1.2714      1.2682      1.4337      1.4344      1.3188      1.1133      1.1102      1.1592       1.068      1.2193      2.0445      2.0408      1.1141      2.4799      2.2893      1.0886      2.9879\n",
            "      2.3742]\n",
            "\u001b[34m\u001b[1mtrain: \u001b[0mWARNING ⚠️ /content/gdrive/MyDrive/project_final_year/images/train/vrkasana/istockphoto-1331783697-2048x2048.jpg: ignoring corrupt image/label: non-normalized or out of bounds coordinates [     1.0332      1.0718      1.1287      1.2059      1.0185      1.1158      1.1212      1.1264      1.3556      1.3099      1.4936      1.0668      1.3215      1.0386      1.7961]\n",
            "\u001b[34m\u001b[1mtrain: \u001b[0mWARNING ⚠️ /content/gdrive/MyDrive/project_final_year/images/train/vrkasana/istockphoto-1336186188-2048x2048.jpg: ignoring corrupt image/label: non-normalized or out of bounds coordinates [     2.2592      2.2815      2.2252      2.3265      2.1818      2.4117      2.1424      2.5231      2.0372      2.2896      2.2384      2.3894      1.0184      2.1147      2.2991      1.4032      1.8206      1.1706      2.2338       1.731      2.1037      1.3367]\n",
            "\u001b[34m\u001b[1mtrain: \u001b[0mWARNING ⚠️ /content/gdrive/MyDrive/project_final_year/images/train/vrkasana/istockphoto-1347681091-2048x2048.jpg: ignoring corrupt image/label: non-normalized or out of bounds coordinates [     1.5947      1.6352      1.5562      1.6463      1.5134      1.7149      1.4672       1.875       1.329      1.6472      1.5572      1.7037      1.1401      1.4764      1.1387       1.957      1.3257      1.5354      1.5438      1.6354      1.4319      1.6031      1.8837]\n",
            "\u001b[34m\u001b[1mtrain: \u001b[0mWARNING ⚠️ /content/gdrive/MyDrive/project_final_year/images/train/vrkasana/istockphoto-1354242065-2048x2048.jpg: ignoring corrupt image/label: non-normalized or out of bounds coordinates [     1.5678      1.6016      1.5197      1.6404      1.4751      1.6995      1.4397      1.7499       1.383      1.5895      1.5324      1.6717      1.2217      1.4454      1.2079      1.6063      1.6347      1.0883      1.3412      1.5242      1.9286      1.3496      1.4973]\n",
            "\u001b[34m\u001b[1mtrain: \u001b[0mWARNING ⚠️ /content/gdrive/MyDrive/project_final_year/images/train/vrkasana/istockphoto-1363889543-2048x2048.jpg: ignoring corrupt image/label: non-normalized or out of bounds coordinates [     2.0847      2.1115      2.0522      2.1434      2.0067      2.2023      1.9611      2.1775      1.9904      2.1097      2.0526      2.1979      1.2111       1.967      1.2033      2.1357       1.549      1.7723      1.5012       2.055       1.834      2.0492      1.4331]\n",
            "\u001b[34m\u001b[1mtrain: \u001b[0mWARNING ⚠️ /content/gdrive/MyDrive/project_final_year/images/train/vrkasana/istockphoto-1375879438-612x612.jpg: ignoring corrupt image/label: Label class 4 exceeds dataset class count 2. Possible class labels are 0-1\n",
            "\u001b[34m\u001b[1mtrain: \u001b[0mWARNING ⚠️ /content/gdrive/MyDrive/project_final_year/images/train/vrkasana/istockphoto-1390657112-2048x2048.jpg: ignoring corrupt image/label: non-normalized or out of bounds coordinates [      1.567      1.6036       1.533       1.635      1.5036      1.6835      1.4535      1.7363      1.3822      1.5872      1.5284      1.7079      1.0885       1.476      1.1028      1.9592       1.274      1.5363      1.4946      1.6431      1.2914      1.6062      1.8067]\n",
            "\u001b[34m\u001b[1mtrain: \u001b[0mWARNING ⚠️ /content/gdrive/MyDrive/project_final_year/images/train/vrkasana/istockphoto-1399152070-2048x2048.jpg: ignoring corrupt image/label: non-normalized or out of bounds coordinates [     1.0252       1.269      1.2616      1.0969      1.4019      1.5081      1.3842      1.7355]\n",
            "\u001b[34m\u001b[1mtrain: \u001b[0mWARNING ⚠️ /content/gdrive/MyDrive/project_final_year/images/train/vrkasana/istockphoto-1425233512-2048x2048.jpg: ignoring corrupt image/label: non-normalized or out of bounds coordinates [     1.6182      1.6328       1.578      1.6493      1.5219      1.7144      1.4857      1.8338      1.4297      1.6716      1.6162      1.6969      1.4304      1.5973      1.3635      1.2063       1.165      1.5373      1.6181      1.4859      1.1822]\n",
            "\u001b[34m\u001b[1mtrain: \u001b[0mWARNING ⚠️ /content/gdrive/MyDrive/project_final_year/images/train/vrkasana/istockphoto-1459179297-2048x2048.jpg: ignoring corrupt image/label: non-normalized or out of bounds coordinates [     1.3936       1.373      1.8913      1.6172      2.3757      1.8092]\n",
            "\u001b[34m\u001b[1mtrain: \u001b[0mWARNING ⚠️ /content/gdrive/MyDrive/project_final_year/images/train/vrkasana/istockphoto-1474501518-2048x2048.jpg: ignoring corrupt image/label: non-normalized or out of bounds coordinates [     1.1203      1.1504      1.0927      1.1725      1.0712      1.2225      1.0101      1.2236      1.0514      1.1542       1.117      1.1828      1.0227      1.0275      1.1452       1.307      1.2311      1.1015        1.59      1.0657      1.1664]\n",
            "\u001b[34m\u001b[1mtrain: \u001b[0mWARNING ⚠️ /content/gdrive/MyDrive/project_final_year/images/train/vrkasana/istockphoto-1475047711-2048x2048.jpg: ignoring corrupt image/label: non-normalized or out of bounds coordinates [     1.1865      1.1834      1.5816      1.4078      1.8941      1.3848]\n",
            "\u001b[34m\u001b[1mtrain: \u001b[0mWARNING ⚠️ /content/gdrive/MyDrive/project_final_year/images/train/vrkasana/istockphoto-1491035121-2048x2048.jpg: ignoring corrupt image/label: non-normalized or out of bounds coordinates [     1.1205      1.0214      1.1585      1.0865      1.2022      1.0258      1.0385      1.0233      1.2787         1.2      1.0025      1.1992      1.3851      1.4963      1.4855        1.15      1.3503      1.0892      1.3593      1.2139      1.6712      1.6536      1.1471      2.0986       1.894      1.0746\n",
            "      2.4726       1.884]\n",
            "\u001b[34m\u001b[1mtrain: \u001b[0mWARNING ⚠️ /content/gdrive/MyDrive/project_final_year/images/train/vrkasana/istockphoto-1495398563-2048x2048.jpg: ignoring corrupt image/label: non-normalized or out of bounds coordinates [     1.6011      1.6231      1.5823      1.6767      1.5579      1.7268      1.5455      1.7178       1.515      1.6543      1.6089      1.6739      1.2944      1.5113      1.2913      1.6318      1.5963      1.2842      1.4838      1.6075      1.8701      1.5363      1.4858]\n",
            "\u001b[34m\u001b[1mtrain: \u001b[0mWARNING ⚠️ /content/gdrive/MyDrive/project_final_year/images/train/vrkasana/istockphoto-1635826915-2048x2048.jpg: ignoring corrupt image/label: non-normalized or out of bounds coordinates [     1.6707      1.7058      1.6446       1.792      1.6233      1.9144      1.6045       1.912      1.5071      1.7614      1.6747      1.8724      1.5448      1.5535      1.5208      1.7701      2.0302      1.2211      1.7213      1.7477      2.4131      1.5635      2.0019]\n",
            "\u001b[34m\u001b[1mtrain: \u001b[0mWARNING ⚠️ /content/gdrive/MyDrive/project_final_year/images/train/vrkasana/istockphoto-171250343-1024x1024.jpg: ignoring corrupt image/label: non-normalized or out of bounds coordinates [     1.1312      1.2042      1.1109      1.4939]\n",
            "\u001b[34m\u001b[1mtrain: \u001b[0mWARNING ⚠️ /content/gdrive/MyDrive/project_final_year/images/train/vrkasana/istockphoto-1796137034-2048x2048.jpg: ignoring corrupt image/label: non-normalized or out of bounds coordinates [     1.9625       1.993      1.9358      2.0548      1.9136       2.131      1.8831      2.1012      1.8784      2.0314      1.9757      2.1325      1.1797      1.8683      1.1715      2.0512       1.541      1.6116      1.4373      2.0053      1.8896      1.9428      1.3953]\n",
            "\u001b[34m\u001b[1mtrain: \u001b[0mWARNING ⚠️ /content/gdrive/MyDrive/project_final_year/images/train/vrkasana/istockphoto-475009174-2048x2048.jpg: ignoring corrupt image/label: non-normalized or out of bounds coordinates [      1.004      1.0587      1.1137      1.1979      1.2105      1.0712      1.1988      1.6157      1.6299      1.6177       1.909      1.0043      2.1887      1.1725      2.2159      1.1006      2.7822]\n",
            "\u001b[34m\u001b[1mtrain: \u001b[0mWARNING ⚠️ /content/gdrive/MyDrive/project_final_year/images/train/vrkasana/istockphoto-494726586-2048x2048.jpg: ignoring corrupt image/label: non-normalized or out of bounds coordinates [     1.1323      1.1972       1.085      1.2738       1.399      1.6443      1.0013      1.0366      1.1949      1.0025      1.0529      1.0105      1.3641      1.5026      1.4501      1.1905      2.2305      1.8209       1.073      2.8331      1.0049      2.1146]\n",
            "\u001b[34m\u001b[1mtrain: \u001b[0mWARNING ⚠️ /content/gdrive/MyDrive/project_final_year/images/train/vrkasana/istockphoto-496657168-2048x2048.jpg: ignoring corrupt image/label: non-normalized or out of bounds coordinates [     1.1269      1.1592       1.089      1.1976      1.0461      1.2925      1.0312      1.0498        1.33       1.162      1.0956      1.2473      1.5487      1.5414      1.1921      2.0114      1.8577       1.124      2.4001      1.0766      1.8016]\n",
            "\u001b[34m\u001b[1mtrain: \u001b[0mWARNING ⚠️ /content/gdrive/MyDrive/project_final_year/images/train/vrkasana/istockphoto-502532012-2048x2048.jpg: ignoring corrupt image/label: non-normalized or out of bounds coordinates [     1.2249      1.2602      1.1957      1.3024        1.16      1.3751      1.1137      1.4512      1.0233      1.2434      1.1872      1.3727      1.1675      1.1216      1.1854      1.6376      1.3965      1.2128      1.6276       1.277      1.3808       1.302      1.9813]\n",
            "\u001b[34m\u001b[1mtrain: \u001b[0mWARNING ⚠️ /content/gdrive/MyDrive/project_final_year/images/train/vrkasana/istockphoto-514317502-2048x2048.jpg: ignoring corrupt image/label: non-normalized or out of bounds coordinates [     1.6727       1.707      1.6442      1.7364      1.5975       1.807      1.5558      1.8654      1.4899      1.7085      1.6541       1.772      1.0844        1.56      1.0599      1.7068      1.4765       1.313      1.2347      1.6727      1.7286      1.6142      1.2794]\n",
            "\u001b[34m\u001b[1mtrain: \u001b[0mWARNING ⚠️ /content/gdrive/MyDrive/project_final_year/images/train/vrkasana/istockphoto-514843592-2048x2048.jpg: ignoring corrupt image/label: non-normalized or out of bounds coordinates [     1.5748       1.602      1.5477      1.6213      1.5169       1.669      1.0092      1.4734      1.0152      1.6766      1.4376      1.5822      1.5399      1.6905      1.3357      1.4866      1.3358      1.8323      1.4753      1.5627      1.6772       1.632      1.5369      1.5993      1.9152]\n",
            "\u001b[34m\u001b[1mtrain: \u001b[0mWARNING ⚠️ /content/gdrive/MyDrive/project_final_year/images/train/vrkasana/istockphoto-534050204-2048x2048.jpg: ignoring corrupt image/label: non-normalized or out of bounds coordinates [     1.1112      1.1219      1.0699      1.1326      1.1525      1.2091      1.0352      1.0015      1.1733      1.3628      1.3256      1.0808      1.7836      1.6082      1.0126      2.0791      1.0446      1.5415]\n",
            "\u001b[34m\u001b[1mtrain: \u001b[0mWARNING ⚠️ /content/gdrive/MyDrive/project_final_year/images/train/vrkasana/istockphoto-539294249-2048x2048.jpg: ignoring corrupt image/label: non-normalized or out of bounds coordinates [     2.2775      2.3064      2.2428      2.3497      2.1978      2.4411      2.1339       2.555      2.0141      2.3011      2.2406      2.4429      1.0863      2.1328      1.0621       2.321      1.5165      1.8157      1.1752      2.2418      1.8609      2.2258      1.2806]\n",
            "\u001b[34m\u001b[1mtrain: \u001b[0mWARNING ⚠️ /content/gdrive/MyDrive/project_final_year/images/train/vrkasana/istockphoto-545774946-2048x2048.jpg: ignoring corrupt image/label: non-normalized or out of bounds coordinates [     1.5864      1.6259      1.5559      1.6759      1.5025      1.7272      1.4312      1.8958      1.2842      1.6429      1.5543       1.786      1.0601      1.4371      1.0837      2.0429      1.2897      1.5029      1.5147      1.6316      1.2245      1.5727      1.8608]\n",
            "\u001b[34m\u001b[1mtrain: \u001b[0mWARNING ⚠️ /content/gdrive/MyDrive/project_final_year/images/train/vrkasana/istockphoto-546786862-2048x2048.jpg: ignoring corrupt image/label: non-normalized or out of bounds coordinates [      1.571      1.5955      1.5403      1.6285      1.5185       1.672      1.5155      1.7429      1.4244      1.5968      1.5587      1.6701        1.25      1.5076      1.2615      1.8392      1.3954      1.5807      1.5957      1.6475      1.4905      1.6162      1.8129]\n",
            "\u001b[34m\u001b[1mtrain: \u001b[0mWARNING ⚠️ /content/gdrive/MyDrive/project_final_year/images/train/vrkasana/istockphoto-608584986-2048x2048.jpg: ignoring corrupt image/label: non-normalized or out of bounds coordinates [     1.0948      1.1218      1.0711      1.1571        1.05      1.2199       1.198      1.0328      1.1397      1.0935      1.1898      1.0524      1.0399      1.1256      1.3906      1.2357      1.0793      1.7141      1.0275      1.2308]\n",
            "\u001b[34m\u001b[1mtrain: \u001b[0mWARNING ⚠️ /content/gdrive/MyDrive/project_final_year/images/train/vrkasana/istockphoto-683158620-2048x2048.jpg: ignoring corrupt image/label: non-normalized or out of bounds coordinates [     2.0549      2.0893      2.0221      2.1166      1.9963      2.1825      1.9231       2.225      1.8986      2.1068      2.0501      2.1417      1.1609      1.9269      1.1666      2.3714       1.364      1.9972      1.6103       2.088      1.5093      2.0346       1.915]\n",
            "\u001b[34m\u001b[1mtrain: \u001b[0mWARNING ⚠️ /content/gdrive/MyDrive/project_final_year/images/train/vrkasana/istockphoto-840155330-2048x2048.jpg: ignoring corrupt image/label: non-normalized or out of bounds coordinates [     1.8681      1.9079      1.8301      1.9499      1.7933      2.0022      1.7177      1.9811      1.7639      1.9193      1.8189      1.9615      1.2478      1.7042      1.2199      1.8451      1.6647      1.4124      1.4459      1.7954       2.015      1.7545      1.3966]\n",
            "\u001b[34m\u001b[1mtrain: \u001b[0mWARNING ⚠️ /content/gdrive/MyDrive/project_final_year/images/train/vrkasana/istockphoto-846052102-2048x2048.jpg: ignoring corrupt image/label: non-normalized or out of bounds coordinates [     1.2012      1.2585      1.1784      1.3228       1.143      1.4722      1.1859      1.0849      1.1725      1.5163      1.0373      1.3706      1.1963       1.409      1.7877      1.0606      1.7691      1.3115      2.4411      2.1434      1.2133      2.8911      1.1566      2.0866]\n",
            "\u001b[34m\u001b[1mtrain: \u001b[0mWARNING ⚠️ /content/gdrive/MyDrive/project_final_year/images/train/vrkasana/istockphoto-893419918-2048x2048.jpg: ignoring corrupt image/label: non-normalized or out of bounds coordinates [     2.3708      2.4063      2.3262      2.4323      2.2649       2.506       2.187       2.676      2.0584      2.4264      2.3224      2.4753      1.1127      2.1775      1.0981      2.3256      1.5011      1.8141      1.3226      2.2408       1.868      2.2143      1.2938]\n",
            "\u001b[34m\u001b[1mtrain: \u001b[0mWARNING ⚠️ /content/gdrive/MyDrive/project_final_year/images/train/vrkasana/istockphoto-910096050-2048x2048.jpg: ignoring corrupt image/label: non-normalized or out of bounds coordinates [     1.4292      1.4667      1.3893      1.4984      1.3528      1.5574      1.3259      1.5349      1.3102      1.5022      1.3522      1.5548      1.1679      1.3292      1.1796      1.7272       1.348      1.3883      1.5643      1.4945      1.4485      1.4323       1.879]\n",
            "\u001b[34m\u001b[1mtrain: \u001b[0mWARNING ⚠️ /content/gdrive/MyDrive/project_final_year/images/train/vrkasana/istockphoto-912492944-2048x2048.jpg: ignoring corrupt image/label: non-normalized or out of bounds coordinates [     1.6035      1.6331      1.5646      1.6687      1.5095      1.7327      1.4178      1.9033      1.2973       1.656      1.5477      1.7628      1.0642      1.4682      1.0854      2.0915      1.2074      1.5721      1.5587      1.6686      1.3023      1.6602      1.9627]\n",
            "\u001b[34m\u001b[1mtrain: \u001b[0mWARNING ⚠️ /content/gdrive/MyDrive/project_final_year/images/train/vrkasana/istockphoto-924524864-2048x2048.jpg: ignoring corrupt image/label: non-normalized or out of bounds coordinates [     1.6575      1.7064      1.6176      1.7407      1.5692      1.7765      1.5586      1.8576      1.4807      1.6876      1.6274      1.7699      1.1381      1.5656      1.1324      1.6998      1.5271        1.37      1.3557      1.6261      1.8854      1.6059      1.4157]\n",
            "\u001b[34m\u001b[1mtrain: \u001b[0mWARNING ⚠️ /content/gdrive/MyDrive/project_final_year/images/train/vrkasana/istockphoto-954565178-2048x2048.jpg: ignoring corrupt image/label: non-normalized or out of bounds coordinates [     1.6219      1.6637      1.5833      1.6931      1.5411      1.7529      1.4679      1.7501       1.493      1.6648      1.6077        1.71      1.1453      1.4201      1.1281      1.6059      1.5732      1.2359      1.3539      1.5331      1.8899      1.5229      1.3842]\n",
            "\u001b[34m\u001b[1mtrain: \u001b[0mWARNING ⚠️ /content/gdrive/MyDrive/project_final_year/images/train/vrkasana/istockphoto-990738600-1024x1024.jpg: ignoring corrupt image/label: non-normalized or out of bounds coordinates [     1.3011      1.1436      1.5754      1.1405]\n",
            "\u001b[34m\u001b[1mtrain: \u001b[0mWARNING ⚠️ /content/gdrive/MyDrive/project_final_year/images/train/vrkasana/man-practicing-yoga-indoors-in-a-retreat-space-doing-tree-pose-vrksasana-KX8YWB.jpg: ignoring corrupt image/label: non-normalized or out of bounds coordinates [     1.4019      1.2208      1.8262      1.1427]\n",
            "\u001b[34m\u001b[1mtrain: \u001b[0mWARNING ⚠️ /content/gdrive/MyDrive/project_final_year/images/train/vrkasana/pexels-anete-lusina-4793276 (1).jpg: ignoring corrupt image/label: non-normalized or out of bounds coordinates [     3.0443      4.1068       3.136      4.0345      2.9448      4.0488      3.2284       4.148       2.797      4.1783      3.4153      4.5162      2.6475      4.5057      3.4075      3.7529      2.6423      3.7823      3.0895      3.1588      2.9184      3.1507      3.3042      5.8414       2.632      5.8402\n",
            "      3.1651      7.1152      1.9727      6.6689      3.0083       8.224      2.8344      6.5779]\n",
            "\u001b[34m\u001b[1mtrain: \u001b[0mWARNING ⚠️ /content/gdrive/MyDrive/project_final_year/images/train/vrkasana/pexels-anete-lusina-4793276.jpg: ignoring corrupt image/label: non-normalized or out of bounds coordinates [      3.045       4.118      3.1358      4.0454      2.9426      4.0542      3.2275      4.1481      2.8038      4.1995      3.4066      4.5675      2.6096       4.582      3.3797      3.7154      2.6157      3.8382      3.0913      3.1979      2.9338      3.1937      3.3436       5.973      2.6321      5.9243\n",
            "      3.1677      7.0454      1.9016      6.6585       3.053      8.0531      2.7766      6.5729]\n",
            "\u001b[34m\u001b[1mtrain: \u001b[0mWARNING ⚠️ /content/gdrive/MyDrive/project_final_year/images/train/vrkasana/pexels-cliff-booth-4056610.jpg: ignoring corrupt image/label: non-normalized or out of bounds coordinates [     2.6109       1.948      2.7356      1.8052      2.4532      1.8169      2.9907      1.8884      2.3552      1.9235      3.5443      2.5273      2.2143      2.5499      3.8306       3.826      1.5873      3.8072      2.7981      3.6266      2.4265      3.6074      3.2008      4.8171      2.0294      4.7482\n",
            "      2.9156      6.4959      5.6382      2.6883       8.023      2.4433      6.0353]\n",
            "\u001b[34m\u001b[1mtrain: \u001b[0mWARNING ⚠️ /content/gdrive/MyDrive/project_final_year/images/train/vrkasana/pexels-daniel-torobekov-5694131.jpg: ignoring corrupt image/label: non-normalized or out of bounds coordinates [     3.7244      5.1604      3.8239      5.0717      3.6108      5.0796      3.9241       5.167      3.5165      5.1784      4.1393      5.3757      3.3739      5.4517      4.2704      4.8448      3.3517      4.8762      4.3085      4.3568      3.3054      4.3658      4.0043      6.5118       3.413       6.566\n",
            "      4.7409      7.3026      3.5858      7.7794      3.8758      7.4252      3.7279      8.5955]\n",
            "\u001b[34m\u001b[1mtrain: \u001b[0mWARNING ⚠️ /content/gdrive/MyDrive/project_final_year/images/train/vrkasana/pexels-ivan-samkov-6648797.jpg: ignoring corrupt image/label: non-normalized or out of bounds coordinates [      3.545      2.5845      3.7693      2.3778      3.3897      2.3901        4.08      2.5483      3.1713      2.5853      4.3542       3.423      2.8418       3.431      5.2973      5.3944      1.9117      5.1727      3.7959      4.9256      3.3677      4.9655      4.4956      6.6337      2.9031       6.621\n",
            "      5.9993      7.8537      3.3487       8.882       3.707      7.6685      3.5203      9.7493]\n",
            "\u001b[34m\u001b[1mtrain: \u001b[0mWARNING ⚠️ /content/gdrive/MyDrive/project_final_year/images/train/vrkasana/pexels-ivan-samkov-6648805.jpg: ignoring corrupt image/label: non-normalized or out of bounds coordinates [     2.1216      1.9224       2.265      1.8015      1.9804      1.7914      2.3865      1.9168       1.792      1.9229       2.498      2.5197      1.3758      2.5308      3.2942      3.6174       3.498       2.267       3.242      1.9741      3.2522      2.6425      4.6687      1.4959      4.7705       3.724\n",
            "      5.7163      1.6931      6.4193      2.1576      5.4037      2.1045      8.1423]\n",
            "\u001b[34m\u001b[1mtrain: \u001b[0mWARNING ⚠️ /content/gdrive/MyDrive/project_final_year/images/train/vrkasana/pexels-kamaji-ogino-5093596.jpg: ignoring corrupt image/label: non-normalized or out of bounds coordinates [     5.3044      1.7465      5.4146      1.6437       5.233      1.6279      5.5449      1.7401      5.1122      1.7744      5.7031      2.0496      4.9509      2.1205      5.7698      1.3331      4.9362      1.3075      5.4207      5.1481      5.9068      3.6228      5.1284      3.6757      6.6861      4.0912\n",
            "       5.341       4.993      5.6665       4.442       5.507      5.9118]\n",
            "\u001b[34m\u001b[1mtrain: \u001b[0mWARNING ⚠️ /content/gdrive/MyDrive/project_final_year/images/train/vrkasana/pexels-karolina-grabowska-4498150.jpg: ignoring corrupt image/label: non-normalized or out of bounds coordinates [     3.5434      3.3155      3.7169      3.1877      3.4233      3.1999      3.9118      3.3217       3.244      3.3764      4.1823      3.8132      3.0491      3.8211      4.0427      2.6177      2.9741      2.6998      3.5771      1.7478       3.272      1.7718      4.0458      5.8923      3.1708      5.8307\n",
            "      3.8764      7.5917      1.8016      6.9759       3.503      9.2563      3.4241      6.7997]\n",
            "\u001b[34m\u001b[1mtrain: \u001b[0mWARNING ⚠️ /content/gdrive/MyDrive/project_final_year/images/train/vrkasana/pexels-marta-wave-6454126.jpg: ignoring corrupt image/label: non-normalized or out of bounds coordinates [     3.1508      2.6288      3.3547      2.3657      2.9307      2.4119      3.6395      2.3651      2.6329      2.4873      3.8436      3.3612      2.2179      3.3567      5.1045       4.893      1.4548      5.0756      3.5164      4.7021      2.9679      4.8001      3.9913      6.4838      2.1858      6.5196\n",
            "      3.6082      8.6587      1.7995      9.0021      3.4329      10.154      4.0242         8.2]\n",
            "\u001b[34m\u001b[1mtrain: \u001b[0mWARNING ⚠️ /content/gdrive/MyDrive/project_final_year/images/train/vrkasana/pexels-marta-wave-6454192.jpg: ignoring corrupt image/label: non-normalized or out of bounds coordinates [     3.5068      4.1432      3.6872      3.9367      3.3053      3.9226      3.9028      4.0032       3.106      4.0179      4.2102      4.6867      2.7808      4.7124       4.091       3.323      2.8638      3.1003      3.8355      1.9558       3.289      1.8474      4.2254      7.4448      2.7621      7.4454\n",
            "      3.6749      9.2668      1.2853      9.1199      3.2729      10.929      3.1286      8.5242]\n",
            "\u001b[34m\u001b[1mtrain: \u001b[0mWARNING ⚠️ /content/gdrive/MyDrive/project_final_year/images/train/vrkasana/pexels-marta-wave-6454197.jpg: ignoring corrupt image/label: non-normalized or out of bounds coordinates [     3.3317      3.3897      3.4326      3.2664      3.2059       3.268      3.5666      3.3569       3.015      3.4161      3.8673      3.9426       2.887      3.9508      3.6995      2.9269      2.8365      2.9583       3.514       2.062      3.0751      2.0859      3.8399      5.5865      2.9043      5.6194\n",
            "      3.4378      7.3528      1.9328       6.723      3.0954      8.6172      3.2646      6.4884]\n",
            "\u001b[34m\u001b[1mtrain: \u001b[0mWARNING ⚠️ /content/gdrive/MyDrive/project_final_year/images/train/vrkasana/pexels-monstera-production-6311330.jpg: ignoring corrupt image/label: non-normalized or out of bounds coordinates [     3.1471      2.1465      3.2785      2.0328      2.9835      2.0509      3.5231      2.2076       2.857      2.1299      3.7088      2.6793      2.6502      2.6442      4.1037      1.7809      2.3193      1.7565      3.3217      1.0913      3.0645      1.0875      3.5341      4.2801      2.5878      4.2375\n",
            "      3.0839       5.849       1.209       4.809      2.8144      7.4546      2.3812      5.6532]\n",
            "\u001b[34m\u001b[1malbumentations: \u001b[0mBlur(p=0.01, blur_limit=(3, 7)), MedianBlur(p=0.01, blur_limit=(3, 7)), ToGray(p=0.01), CLAHE(p=0.01, clip_limit=(1, 4.0), tile_grid_size=(8, 8))\n"
          ]
        },
        {
          "output_type": "stream",
          "name": "stderr",
          "text": [
            "\n",
            "\u001b[34m\u001b[1mval: \u001b[0mScanning /content/gdrive/MyDrive/project_final_year/labels/valid/Anjaneyasana.cache... 23 images, 15 backgrounds, 21 corrupt: 100%|██████████| 38/38 [00:00<?, ?it/s]"
          ]
        },
        {
          "output_type": "stream",
          "name": "stdout",
          "text": [
            "\u001b[34m\u001b[1mval: \u001b[0mWARNING ⚠️ /content/gdrive/MyDrive/project_final_year/images/valid/katichakrasana/Screenshot 2024-03-16 112047.png: ignoring corrupt image/label: non-normalized or out of bounds coordinates [     1.0178      1.0281      1.3617      1.3727]\n",
            "\u001b[34m\u001b[1mval: \u001b[0mWARNING ⚠️ /content/gdrive/MyDrive/project_final_year/images/valid/katichakrasana/Screenshot 2024-03-16 112056.png: ignoring corrupt image/label: non-normalized or out of bounds coordinates [     1.0227      1.0386      1.3665      1.3776]\n",
            "\u001b[34m\u001b[1mval: \u001b[0mWARNING ⚠️ /content/gdrive/MyDrive/project_final_year/images/valid/katichakrasana/Screenshot 2024-03-16 112108.png: ignoring corrupt image/label: non-normalized or out of bounds coordinates [     1.0126      1.0285      1.3564      1.3675]\n",
            "\u001b[34m\u001b[1mval: \u001b[0mWARNING ⚠️ /content/gdrive/MyDrive/project_final_year/images/valid/katichakrasana/Screenshot 2024-03-16 112115.png: ignoring corrupt image/label: non-normalized or out of bounds coordinates [     1.0178      1.0338      1.3617      1.3728]\n",
            "\u001b[34m\u001b[1mval: \u001b[0mWARNING ⚠️ /content/gdrive/MyDrive/project_final_year/images/valid/padmasana/AdobeStock_748568319_Preview.jpeg: ignoring corrupt image/label: non-normalized or out of bounds coordinates [     1.0332]\n",
            "\u001b[34m\u001b[1mval: \u001b[0mWARNING ⚠️ /content/gdrive/MyDrive/project_final_year/images/valid/padmasana/AdobeStock_753775715_Preview.jpeg: ignoring corrupt image/label: non-normalized or out of bounds coordinates [     1.0841       1.097      1.0213]\n",
            "\u001b[34m\u001b[1mval: \u001b[0mWARNING ⚠️ /content/gdrive/MyDrive/project_final_year/images/valid/padmasana/AdobeStock_754784563_Preview.jpeg: ignoring corrupt image/label: non-normalized or out of bounds coordinates [     1.0158      1.0521      1.0961      1.1774      1.0162      1.1237      1.1937]\n",
            "\u001b[34m\u001b[1mval: \u001b[0mWARNING ⚠️ /content/gdrive/MyDrive/project_final_year/images/valid/padmasana/AdobeStock_755893165_Preview.jpeg: ignoring corrupt image/label: non-normalized or out of bounds coordinates [     1.0027]\n",
            "\u001b[34m\u001b[1mval: \u001b[0mWARNING ⚠️ /content/gdrive/MyDrive/project_final_year/images/valid/padmasana/AdobeStock_756442025_Preview.jpeg: ignoring corrupt image/label: non-normalized or out of bounds coordinates [     1.0886      1.0312]\n",
            "\u001b[34m\u001b[1mval: \u001b[0mWARNING ⚠️ /content/gdrive/MyDrive/project_final_year/images/valid/padmasana/pexels-anete-lusina-4793357.jpg: ignoring corrupt image/label: non-normalized or out of bounds coordinates [     3.8916      4.6746      4.1234      4.4725      3.7651      4.4353      4.1845       4.698      3.2907      4.6425      4.1456      5.6675      2.6166      5.6068      4.5241      7.1753      2.0888      7.0732      3.3346      7.1788      2.7042      6.9985      4.3148      7.6048       3.056      7.5193\n",
            "      3.3745      8.7218      1.2917      7.5321      2.3973      7.7596      2.8239        8.05]\n",
            "\u001b[34m\u001b[1mval: \u001b[0mWARNING ⚠️ /content/gdrive/MyDrive/project_final_year/images/valid/padmasana/pexels-marcus-aurelius-6787202.jpg: ignoring corrupt image/label: non-normalized or out of bounds coordinates [     4.7738      2.8657       4.936      2.7318      4.6348      2.6767      5.2493      2.8682      4.4493      2.8674      5.4808      3.5965      4.1363      3.7549      5.7125      4.5887      3.6491      4.4996      6.0138      4.9236      2.6499      4.9472      5.6676      5.5003       4.264      5.2886\n",
            "      5.5953      4.9805      3.4528      4.9326      4.2953      5.9605      4.7176      6.0227]\n",
            "\u001b[34m\u001b[1mval: \u001b[0mWARNING ⚠️ /content/gdrive/MyDrive/project_final_year/images/valid/padmasana/pexels-monstera-production-5302865.jpg: ignoring corrupt image/label: non-normalized or out of bounds coordinates [     3.3477      5.3071        3.44      5.0928      3.2195      5.1126      3.5222      5.2146      2.8438      5.2139      3.5904      5.9262      2.2934      6.0767      4.1819      6.7261      2.4028      7.3919      5.3833      7.3467      3.0209      7.9748      3.5531      7.6892       2.898      7.9196\n",
            "      4.8276      7.4094      3.0455      8.2646      3.6009      8.4714      4.3363       8.272]\n",
            "\u001b[34m\u001b[1mval: \u001b[0mWARNING ⚠️ /content/gdrive/MyDrive/project_final_year/images/valid/trikonasana/images (100).jpg: ignoring corrupt image/label: Label class 3 exceeds dataset class count 2. Possible class labels are 0-1\n",
            "\u001b[34m\u001b[1mval: \u001b[0mWARNING ⚠️ /content/gdrive/MyDrive/project_final_year/images/valid/trikonasana/images (94).jpg: ignoring corrupt image/label: Label class 3 exceeds dataset class count 2. Possible class labels are 0-1\n",
            "\u001b[34m\u001b[1mval: \u001b[0mWARNING ⚠️ /content/gdrive/MyDrive/project_final_year/images/valid/trikonasana/images (95).jpg: ignoring corrupt image/label: Label class 3 exceeds dataset class count 2. Possible class labels are 0-1\n",
            "\u001b[34m\u001b[1mval: \u001b[0mWARNING ⚠️ /content/gdrive/MyDrive/project_final_year/images/valid/trikonasana/images (96).jpg: ignoring corrupt image/label: Label class 3 exceeds dataset class count 2. Possible class labels are 0-1\n",
            "\u001b[34m\u001b[1mval: \u001b[0mWARNING ⚠️ /content/gdrive/MyDrive/project_final_year/images/valid/trikonasana/images (97).jpg: ignoring corrupt image/label: Label class 3 exceeds dataset class count 2. Possible class labels are 0-1\n",
            "\u001b[34m\u001b[1mval: \u001b[0mWARNING ⚠️ /content/gdrive/MyDrive/project_final_year/images/valid/trikonasana/images (98).jpg: ignoring corrupt image/label: Label class 3 exceeds dataset class count 2. Possible class labels are 0-1\n",
            "\u001b[34m\u001b[1mval: \u001b[0mWARNING ⚠️ /content/gdrive/MyDrive/project_final_year/images/valid/trikonasana/images (99).jpg: ignoring corrupt image/label: Label class 3 exceeds dataset class count 2. Possible class labels are 0-1\n",
            "\u001b[34m\u001b[1mval: \u001b[0mWARNING ⚠️ /content/gdrive/MyDrive/project_final_year/images/valid/trikonasana/images.jpg: ignoring corrupt image/label: Label class 3 exceeds dataset class count 2. Possible class labels are 0-1\n",
            "\u001b[34m\u001b[1mval: \u001b[0mWARNING ⚠️ /content/gdrive/MyDrive/project_final_year/images/valid/trikonasana/images.png: ignoring corrupt image/label: Label class 3 exceeds dataset class count 2. Possible class labels are 0-1\n"
          ]
        },
        {
          "output_type": "stream",
          "name": "stderr",
          "text": [
            "\n"
          ]
        },
        {
          "output_type": "stream",
          "name": "stdout",
          "text": [
            "Plotting labels to runs/pose/train4/labels.jpg... \n",
            "\u001b[34m\u001b[1moptimizer:\u001b[0m 'optimizer=auto' found, ignoring 'lr0=0.01' and 'momentum=0.937' and determining best 'optimizer', 'lr0' and 'momentum' automatically... \n",
            "\u001b[34m\u001b[1moptimizer:\u001b[0m AdamW(lr=0.001111, momentum=0.9) with parameter groups 63 weight(decay=0.0), 73 weight(decay=0.0005), 72 bias(decay=0.0)\n",
            "\u001b[34m\u001b[1mTensorBoard: \u001b[0mmodel graph visualization added ✅\n",
            "Image sizes 640 train, 640 val\n",
            "Using 2 dataloader workers\n",
            "Logging results to \u001b[1mruns/pose/train4\u001b[0m\n",
            "Starting training for 50 epochs...\n",
            "\n",
            "      Epoch    GPU_mem   box_loss  pose_loss  kobj_loss   cls_loss   dfl_loss  Instances       Size\n"
          ]
        },
        {
          "output_type": "stream",
          "name": "stderr",
          "text": [
            "       1/50      2.65G      2.817       10.4        0.9      5.129      2.772         27        640: 100%|██████████| 9/9 [00:07<00:00,  1.25it/s]\n",
            "                 Class     Images  Instances      Box(P          R      mAP50  mAP50-95)     Pose(P          R      mAP50  mAP50-95): 100%|██████████| 1/1 [00:00<00:00,  2.65it/s]"
          ]
        },
        {
          "output_type": "stream",
          "name": "stdout",
          "text": [
            "                   all         17          2    0.00152          1     0.0948     0.0221          0          0          0          0\n"
          ]
        },
        {
          "output_type": "stream",
          "name": "stderr",
          "text": [
            "\n"
          ]
        },
        {
          "output_type": "stream",
          "name": "stdout",
          "text": [
            "\n",
            "      Epoch    GPU_mem   box_loss  pose_loss  kobj_loss   cls_loss   dfl_loss  Instances       Size\n"
          ]
        },
        {
          "output_type": "stream",
          "name": "stderr",
          "text": [
            "       2/50      2.43G      2.461      9.909      0.679      4.695      2.404         12        640: 100%|██████████| 9/9 [00:03<00:00,  2.94it/s]\n",
            "                 Class     Images  Instances      Box(P          R      mAP50  mAP50-95)     Pose(P          R      mAP50  mAP50-95): 100%|██████████| 1/1 [00:00<00:00,  3.93it/s]"
          ]
        },
        {
          "output_type": "stream",
          "name": "stdout",
          "text": [
            "                   all         17          2    0.00192          1      0.164     0.0744          0          0          0          0\n"
          ]
        },
        {
          "output_type": "stream",
          "name": "stderr",
          "text": [
            "\n"
          ]
        },
        {
          "output_type": "stream",
          "name": "stdout",
          "text": [
            "\n",
            "      Epoch    GPU_mem   box_loss  pose_loss  kobj_loss   cls_loss   dfl_loss  Instances       Size\n"
          ]
        },
        {
          "output_type": "stream",
          "name": "stderr",
          "text": [
            "       3/50      2.45G      2.295      9.659     0.6387       4.06      2.207         25        640: 100%|██████████| 9/9 [00:03<00:00,  2.87it/s]\n",
            "                 Class     Images  Instances      Box(P          R      mAP50  mAP50-95)     Pose(P          R      mAP50  mAP50-95): 100%|██████████| 1/1 [00:00<00:00,  3.34it/s]"
          ]
        },
        {
          "output_type": "stream",
          "name": "stdout",
          "text": [
            "                   all         17          2      0.189        0.5      0.152     0.0289          0          0          0          0\n"
          ]
        },
        {
          "output_type": "stream",
          "name": "stderr",
          "text": [
            "\n"
          ]
        },
        {
          "output_type": "stream",
          "name": "stdout",
          "text": [
            "\n",
            "      Epoch    GPU_mem   box_loss  pose_loss  kobj_loss   cls_loss   dfl_loss  Instances       Size\n"
          ]
        },
        {
          "output_type": "stream",
          "name": "stderr",
          "text": [
            "       4/50      2.45G      2.157      9.274     0.5473      3.959      2.082         17        640: 100%|██████████| 9/9 [00:03<00:00,  2.29it/s]\n",
            "                 Class     Images  Instances      Box(P          R      mAP50  mAP50-95)     Pose(P          R      mAP50  mAP50-95): 100%|██████████| 1/1 [00:00<00:00,  5.04it/s]"
          ]
        },
        {
          "output_type": "stream",
          "name": "stdout",
          "text": [
            "                   all         17          2      0.101        0.5       0.13     0.0301          0          0          0          0\n"
          ]
        },
        {
          "output_type": "stream",
          "name": "stderr",
          "text": [
            "\n"
          ]
        },
        {
          "output_type": "stream",
          "name": "stdout",
          "text": [
            "\n",
            "      Epoch    GPU_mem   box_loss  pose_loss  kobj_loss   cls_loss   dfl_loss  Instances       Size\n"
          ]
        },
        {
          "output_type": "stream",
          "name": "stderr",
          "text": [
            "       5/50      2.45G      2.139      9.059     0.5299      3.557      2.049         22        640: 100%|██████████| 9/9 [00:03<00:00,  2.81it/s]\n",
            "                 Class     Images  Instances      Box(P          R      mAP50  mAP50-95)     Pose(P          R      mAP50  mAP50-95): 100%|██████████| 1/1 [00:00<00:00,  3.29it/s]"
          ]
        },
        {
          "output_type": "stream",
          "name": "stdout",
          "text": [
            "                   all         17          2      0.208          1      0.276      0.138          0          0          0          0\n"
          ]
        },
        {
          "output_type": "stream",
          "name": "stderr",
          "text": [
            "\n"
          ]
        },
        {
          "output_type": "stream",
          "name": "stdout",
          "text": [
            "\n",
            "      Epoch    GPU_mem   box_loss  pose_loss  kobj_loss   cls_loss   dfl_loss  Instances       Size\n"
          ]
        },
        {
          "output_type": "stream",
          "name": "stderr",
          "text": [
            "       6/50      2.45G      2.112      8.842     0.4779      3.543      2.005         27        640: 100%|██████████| 9/9 [00:03<00:00,  3.00it/s]\n",
            "                 Class     Images  Instances      Box(P          R      mAP50  mAP50-95)     Pose(P          R      mAP50  mAP50-95): 100%|██████████| 1/1 [00:00<00:00,  2.08it/s]"
          ]
        },
        {
          "output_type": "stream",
          "name": "stdout",
          "text": [
            "                   all         17          2     0.0454        0.5     0.0381    0.00947          0          0          0          0\n"
          ]
        },
        {
          "output_type": "stream",
          "name": "stderr",
          "text": [
            "\n"
          ]
        },
        {
          "output_type": "stream",
          "name": "stdout",
          "text": [
            "\n",
            "      Epoch    GPU_mem   box_loss  pose_loss  kobj_loss   cls_loss   dfl_loss  Instances       Size\n"
          ]
        },
        {
          "output_type": "stream",
          "name": "stderr",
          "text": [
            "       7/50      2.45G      2.175      8.957     0.4844      3.575      2.048         23        640: 100%|██████████| 9/9 [00:03<00:00,  2.42it/s]\n",
            "                 Class     Images  Instances      Box(P          R      mAP50  mAP50-95)     Pose(P          R      mAP50  mAP50-95): 100%|██████████| 1/1 [00:00<00:00,  3.51it/s]"
          ]
        },
        {
          "output_type": "stream",
          "name": "stdout",
          "text": [
            "                   all         17          2      0.147        0.5      0.105     0.0219          0          0          0          0\n"
          ]
        },
        {
          "output_type": "stream",
          "name": "stderr",
          "text": [
            "\n"
          ]
        },
        {
          "output_type": "stream",
          "name": "stdout",
          "text": [
            "\n",
            "      Epoch    GPU_mem   box_loss  pose_loss  kobj_loss   cls_loss   dfl_loss  Instances       Size\n"
          ]
        },
        {
          "output_type": "stream",
          "name": "stderr",
          "text": [
            "       8/50      2.45G      2.016      8.861     0.4544      3.436      1.926         17        640: 100%|██████████| 9/9 [00:03<00:00,  2.71it/s]\n",
            "                 Class     Images  Instances      Box(P          R      mAP50  mAP50-95)     Pose(P          R      mAP50  mAP50-95): 100%|██████████| 1/1 [00:00<00:00,  2.59it/s]"
          ]
        },
        {
          "output_type": "stream",
          "name": "stdout",
          "text": [
            "                   all         17          2      0.427        0.5      0.291      0.123          0          0          0          0\n"
          ]
        },
        {
          "output_type": "stream",
          "name": "stderr",
          "text": [
            "\n"
          ]
        },
        {
          "output_type": "stream",
          "name": "stdout",
          "text": [
            "\n",
            "      Epoch    GPU_mem   box_loss  pose_loss  kobj_loss   cls_loss   dfl_loss  Instances       Size\n"
          ]
        },
        {
          "output_type": "stream",
          "name": "stderr",
          "text": [
            "       9/50      2.42G      2.056      8.651     0.4342      3.198      1.885         22        640: 100%|██████████| 9/9 [00:02<00:00,  3.40it/s]\n",
            "                 Class     Images  Instances      Box(P          R      mAP50  mAP50-95)     Pose(P          R      mAP50  mAP50-95): 100%|██████████| 1/1 [00:00<00:00,  3.61it/s]"
          ]
        },
        {
          "output_type": "stream",
          "name": "stdout",
          "text": [
            "                   all         17          2     0.0546        0.5     0.0666     0.0216          0          0          0          0\n"
          ]
        },
        {
          "output_type": "stream",
          "name": "stderr",
          "text": [
            "\n"
          ]
        },
        {
          "output_type": "stream",
          "name": "stdout",
          "text": [
            "\n",
            "      Epoch    GPU_mem   box_loss  pose_loss  kobj_loss   cls_loss   dfl_loss  Instances       Size\n"
          ]
        },
        {
          "output_type": "stream",
          "name": "stderr",
          "text": [
            "      10/50      2.41G      2.062      8.783     0.4699      3.199      1.945         16        640: 100%|██████████| 9/9 [00:03<00:00,  2.43it/s]\n",
            "                 Class     Images  Instances      Box(P          R      mAP50  mAP50-95)     Pose(P          R      mAP50  mAP50-95): 100%|██████████| 1/1 [00:00<00:00,  2.71it/s]"
          ]
        },
        {
          "output_type": "stream",
          "name": "stdout",
          "text": [
            "                   all         17          2     0.0532        0.5     0.0601     0.0172          0          0          0          0\n"
          ]
        },
        {
          "output_type": "stream",
          "name": "stderr",
          "text": [
            "\n"
          ]
        },
        {
          "output_type": "stream",
          "name": "stdout",
          "text": [
            "\n",
            "      Epoch    GPU_mem   box_loss  pose_loss  kobj_loss   cls_loss   dfl_loss  Instances       Size\n"
          ]
        },
        {
          "output_type": "stream",
          "name": "stderr",
          "text": [
            "      11/50      2.41G      2.029      8.699     0.3947      2.985      1.929         26        640: 100%|██████████| 9/9 [00:02<00:00,  3.30it/s]\n",
            "                 Class     Images  Instances      Box(P          R      mAP50  mAP50-95)     Pose(P          R      mAP50  mAP50-95): 100%|██████████| 1/1 [00:00<00:00,  4.23it/s]"
          ]
        },
        {
          "output_type": "stream",
          "name": "stdout",
          "text": [
            "                   all         17          2     0.0879        0.5      0.105     0.0402          0          0          0          0\n"
          ]
        },
        {
          "output_type": "stream",
          "name": "stderr",
          "text": [
            "\n"
          ]
        },
        {
          "output_type": "stream",
          "name": "stdout",
          "text": [
            "\n",
            "      Epoch    GPU_mem   box_loss  pose_loss  kobj_loss   cls_loss   dfl_loss  Instances       Size\n"
          ]
        },
        {
          "output_type": "stream",
          "name": "stderr",
          "text": [
            "      12/50      2.41G       2.01      8.387     0.4068      2.989      1.868         25        640: 100%|██████████| 9/9 [00:02<00:00,  3.02it/s]\n",
            "                 Class     Images  Instances      Box(P          R      mAP50  mAP50-95)     Pose(P          R      mAP50  mAP50-95): 100%|██████████| 1/1 [00:00<00:00,  4.01it/s]"
          ]
        },
        {
          "output_type": "stream",
          "name": "stdout",
          "text": [
            "                   all         17          2      0.396          1      0.497      0.246          0          0          0          0\n"
          ]
        },
        {
          "output_type": "stream",
          "name": "stderr",
          "text": [
            "\n"
          ]
        },
        {
          "output_type": "stream",
          "name": "stdout",
          "text": [
            "\n",
            "      Epoch    GPU_mem   box_loss  pose_loss  kobj_loss   cls_loss   dfl_loss  Instances       Size\n"
          ]
        },
        {
          "output_type": "stream",
          "name": "stderr",
          "text": [
            "      13/50      2.41G      2.055      8.603     0.4143      3.036      1.916         23        640: 100%|██████████| 9/9 [00:03<00:00,  2.63it/s]\n",
            "                 Class     Images  Instances      Box(P          R      mAP50  mAP50-95)     Pose(P          R      mAP50  mAP50-95): 100%|██████████| 1/1 [00:00<00:00,  3.10it/s]"
          ]
        },
        {
          "output_type": "stream",
          "name": "stdout",
          "text": [
            "                   all         17          2      0.336          1      0.398      0.195      0.135        0.5     0.0829     0.0249\n"
          ]
        },
        {
          "output_type": "stream",
          "name": "stderr",
          "text": [
            "\n"
          ]
        },
        {
          "output_type": "stream",
          "name": "stdout",
          "text": [
            "\n",
            "      Epoch    GPU_mem   box_loss  pose_loss  kobj_loss   cls_loss   dfl_loss  Instances       Size\n"
          ]
        },
        {
          "output_type": "stream",
          "name": "stderr",
          "text": [
            "      14/50      2.41G       1.97      8.431     0.3935       2.85      1.818         21        640: 100%|██████████| 9/9 [00:02<00:00,  3.34it/s]\n",
            "                 Class     Images  Instances      Box(P          R      mAP50  mAP50-95)     Pose(P          R      mAP50  mAP50-95): 100%|██████████| 1/1 [00:00<00:00,  4.56it/s]"
          ]
        },
        {
          "output_type": "stream",
          "name": "stdout",
          "text": [
            "                   all         17          2      0.428          1      0.745      0.303          0          0          0          0\n"
          ]
        },
        {
          "output_type": "stream",
          "name": "stderr",
          "text": [
            "\n"
          ]
        },
        {
          "output_type": "stream",
          "name": "stdout",
          "text": [
            "\n",
            "      Epoch    GPU_mem   box_loss  pose_loss  kobj_loss   cls_loss   dfl_loss  Instances       Size\n"
          ]
        },
        {
          "output_type": "stream",
          "name": "stderr",
          "text": [
            "      15/50      2.41G      1.911      8.448      0.405      2.807       1.79         21        640: 100%|██████████| 9/9 [00:02<00:00,  3.80it/s]\n",
            "                 Class     Images  Instances      Box(P          R      mAP50  mAP50-95)     Pose(P          R      mAP50  mAP50-95): 100%|██████████| 1/1 [00:00<00:00,  4.41it/s]"
          ]
        },
        {
          "output_type": "stream",
          "name": "stdout",
          "text": [
            "                   all         17          2       0.43        0.5      0.414      0.199          0          0          0          0\n"
          ]
        },
        {
          "output_type": "stream",
          "name": "stderr",
          "text": [
            "\n"
          ]
        },
        {
          "output_type": "stream",
          "name": "stdout",
          "text": [
            "\n",
            "      Epoch    GPU_mem   box_loss  pose_loss  kobj_loss   cls_loss   dfl_loss  Instances       Size\n"
          ]
        },
        {
          "output_type": "stream",
          "name": "stderr",
          "text": [
            "      16/50      2.41G      1.967      8.435     0.4109      2.763      1.856         26        640: 100%|██████████| 9/9 [00:03<00:00,  2.43it/s]\n",
            "                 Class     Images  Instances      Box(P          R      mAP50  mAP50-95)     Pose(P          R      mAP50  mAP50-95): 100%|██████████| 1/1 [00:00<00:00,  1.99it/s]"
          ]
        },
        {
          "output_type": "stream",
          "name": "stdout",
          "text": [
            "                   all         17          2      0.473        0.5      0.595      0.116          0          0          0          0\n"
          ]
        },
        {
          "output_type": "stream",
          "name": "stderr",
          "text": [
            "\n"
          ]
        },
        {
          "output_type": "stream",
          "name": "stdout",
          "text": [
            "\n",
            "      Epoch    GPU_mem   box_loss  pose_loss  kobj_loss   cls_loss   dfl_loss  Instances       Size\n"
          ]
        },
        {
          "output_type": "stream",
          "name": "stderr",
          "text": [
            "      17/50      2.41G      1.979      8.436     0.4074       2.73      1.861         27        640: 100%|██████████| 9/9 [00:03<00:00,  2.78it/s]\n",
            "                 Class     Images  Instances      Box(P          R      mAP50  mAP50-95)     Pose(P          R      mAP50  mAP50-95): 100%|██████████| 1/1 [00:00<00:00,  5.08it/s]\n"
          ]
        },
        {
          "output_type": "stream",
          "name": "stdout",
          "text": [
            "                   all         17          2      0.324        0.5      0.448      0.118          0          0          0          0\n",
            "\n",
            "      Epoch    GPU_mem   box_loss  pose_loss  kobj_loss   cls_loss   dfl_loss  Instances       Size\n"
          ]
        },
        {
          "output_type": "stream",
          "name": "stderr",
          "text": [
            "      18/50      2.41G      1.913      8.349     0.3551      2.593      1.802         20        640: 100%|██████████| 9/9 [00:02<00:00,  3.74it/s]\n",
            "                 Class     Images  Instances      Box(P          R      mAP50  mAP50-95)     Pose(P          R      mAP50  mAP50-95): 100%|██████████| 1/1 [00:00<00:00,  3.67it/s]"
          ]
        },
        {
          "output_type": "stream",
          "name": "stdout",
          "text": [
            "                   all         17          2       0.19          1      0.332      0.129          0          0          0          0\n"
          ]
        },
        {
          "output_type": "stream",
          "name": "stderr",
          "text": [
            "\n"
          ]
        },
        {
          "output_type": "stream",
          "name": "stdout",
          "text": [
            "\n",
            "      Epoch    GPU_mem   box_loss  pose_loss  kobj_loss   cls_loss   dfl_loss  Instances       Size\n"
          ]
        },
        {
          "output_type": "stream",
          "name": "stderr",
          "text": [
            "      19/50      2.41G      1.908      8.433     0.3607      2.622      1.782         17        640: 100%|██████████| 9/9 [00:04<00:00,  2.12it/s]\n",
            "                 Class     Images  Instances      Box(P          R      mAP50  mAP50-95)     Pose(P          R      mAP50  mAP50-95): 100%|██████████| 1/1 [00:00<00:00,  1.62it/s]"
          ]
        },
        {
          "output_type": "stream",
          "name": "stdout",
          "text": [
            "                   all         17          2      0.131          1      0.166     0.0318          0          0          0          0\n"
          ]
        },
        {
          "output_type": "stream",
          "name": "stderr",
          "text": [
            "\n"
          ]
        },
        {
          "output_type": "stream",
          "name": "stdout",
          "text": [
            "\n",
            "      Epoch    GPU_mem   box_loss  pose_loss  kobj_loss   cls_loss   dfl_loss  Instances       Size\n"
          ]
        },
        {
          "output_type": "stream",
          "name": "stderr",
          "text": [
            "      20/50      2.41G      1.942      8.663     0.4089      2.751      1.851         23        640: 100%|██████████| 9/9 [00:03<00:00,  2.89it/s]\n",
            "                 Class     Images  Instances      Box(P          R      mAP50  mAP50-95)     Pose(P          R      mAP50  mAP50-95): 100%|██████████| 1/1 [00:00<00:00,  3.93it/s]"
          ]
        },
        {
          "output_type": "stream",
          "name": "stdout",
          "text": [
            "                   all         17          2      0.291          1      0.497      0.107          0          0          0          0\n"
          ]
        },
        {
          "output_type": "stream",
          "name": "stderr",
          "text": [
            "\n"
          ]
        },
        {
          "output_type": "stream",
          "name": "stdout",
          "text": [
            "\n",
            "      Epoch    GPU_mem   box_loss  pose_loss  kobj_loss   cls_loss   dfl_loss  Instances       Size\n"
          ]
        },
        {
          "output_type": "stream",
          "name": "stderr",
          "text": [
            "      21/50      2.41G      1.872      8.215     0.3561      2.638       1.81         22        640: 100%|██████████| 9/9 [00:03<00:00,  2.77it/s]\n",
            "                 Class     Images  Instances      Box(P          R      mAP50  mAP50-95)     Pose(P          R      mAP50  mAP50-95): 100%|██████████| 1/1 [00:00<00:00,  4.07it/s]"
          ]
        },
        {
          "output_type": "stream",
          "name": "stdout",
          "text": [
            "                   all         17          2       0.44          1      0.663      0.158          0          0          0          0\n"
          ]
        },
        {
          "output_type": "stream",
          "name": "stderr",
          "text": [
            "\n"
          ]
        },
        {
          "output_type": "stream",
          "name": "stdout",
          "text": [
            "\n",
            "      Epoch    GPU_mem   box_loss  pose_loss  kobj_loss   cls_loss   dfl_loss  Instances       Size\n"
          ]
        },
        {
          "output_type": "stream",
          "name": "stderr",
          "text": [
            "      22/50      2.41G      1.883      8.044     0.3617      2.597      1.749         19        640: 100%|██████████| 9/9 [00:03<00:00,  2.42it/s]\n",
            "                 Class     Images  Instances      Box(P          R      mAP50  mAP50-95)     Pose(P          R      mAP50  mAP50-95): 100%|██████████| 1/1 [00:00<00:00,  2.60it/s]"
          ]
        },
        {
          "output_type": "stream",
          "name": "stdout",
          "text": [
            "                   all         17          2      0.471          1      0.995        0.3          0          0          0          0\n"
          ]
        },
        {
          "output_type": "stream",
          "name": "stderr",
          "text": [
            "\n"
          ]
        },
        {
          "output_type": "stream",
          "name": "stdout",
          "text": [
            "\n",
            "      Epoch    GPU_mem   box_loss  pose_loss  kobj_loss   cls_loss   dfl_loss  Instances       Size\n"
          ]
        },
        {
          "output_type": "stream",
          "name": "stderr",
          "text": [
            "      23/50      2.41G      1.813       7.94     0.3543      2.569      1.742         23        640: 100%|██████████| 9/9 [00:02<00:00,  3.97it/s]\n",
            "                 Class     Images  Instances      Box(P          R      mAP50  mAP50-95)     Pose(P          R      mAP50  mAP50-95): 100%|██████████| 1/1 [00:00<00:00,  3.48it/s]"
          ]
        },
        {
          "output_type": "stream",
          "name": "stdout",
          "text": [
            "                   all         17          2      0.541          1      0.995      0.348          0          0          0          0\n"
          ]
        },
        {
          "output_type": "stream",
          "name": "stderr",
          "text": [
            "\n"
          ]
        },
        {
          "output_type": "stream",
          "name": "stdout",
          "text": [
            "\n",
            "      Epoch    GPU_mem   box_loss  pose_loss  kobj_loss   cls_loss   dfl_loss  Instances       Size\n"
          ]
        },
        {
          "output_type": "stream",
          "name": "stderr",
          "text": [
            "      24/50      2.41G      1.889      8.001     0.3828      2.615      1.796         15        640: 100%|██████████| 9/9 [00:02<00:00,  3.68it/s]\n",
            "                 Class     Images  Instances      Box(P          R      mAP50  mAP50-95)     Pose(P          R      mAP50  mAP50-95): 100%|██████████| 1/1 [00:00<00:00,  3.66it/s]"
          ]
        },
        {
          "output_type": "stream",
          "name": "stdout",
          "text": [
            "                   all         17          2     0.0535        0.5      0.522      0.157          0          0          0          0\n"
          ]
        },
        {
          "output_type": "stream",
          "name": "stderr",
          "text": [
            "\n"
          ]
        },
        {
          "output_type": "stream",
          "name": "stdout",
          "text": [
            "\n",
            "      Epoch    GPU_mem   box_loss  pose_loss  kobj_loss   cls_loss   dfl_loss  Instances       Size\n"
          ]
        },
        {
          "output_type": "stream",
          "name": "stderr",
          "text": [
            "      25/50      2.41G      1.868      8.067     0.3646      2.506      1.762         19        640: 100%|██████████| 9/9 [00:03<00:00,  2.60it/s]\n",
            "                 Class     Images  Instances      Box(P          R      mAP50  mAP50-95)     Pose(P          R      mAP50  mAP50-95): 100%|██████████| 1/1 [00:00<00:00,  2.15it/s]"
          ]
        },
        {
          "output_type": "stream",
          "name": "stdout",
          "text": [
            "                   all         17          2     0.0662        0.5      0.149     0.0601          0          0          0          0\n"
          ]
        },
        {
          "output_type": "stream",
          "name": "stderr",
          "text": [
            "\n"
          ]
        },
        {
          "output_type": "stream",
          "name": "stdout",
          "text": [
            "\n",
            "      Epoch    GPU_mem   box_loss  pose_loss  kobj_loss   cls_loss   dfl_loss  Instances       Size\n"
          ]
        },
        {
          "output_type": "stream",
          "name": "stderr",
          "text": [
            "      26/50      2.41G      1.851      8.042     0.3433      2.517      1.761         18        640: 100%|██████████| 9/9 [00:02<00:00,  3.12it/s]\n",
            "                 Class     Images  Instances      Box(P          R      mAP50  mAP50-95)     Pose(P          R      mAP50  mAP50-95): 100%|██████████| 1/1 [00:00<00:00,  3.76it/s]"
          ]
        },
        {
          "output_type": "stream",
          "name": "stdout",
          "text": [
            "                   all         17          2     0.0698        0.5     0.0922     0.0433          0          0          0          0\n"
          ]
        },
        {
          "output_type": "stream",
          "name": "stderr",
          "text": [
            "\n"
          ]
        },
        {
          "output_type": "stream",
          "name": "stdout",
          "text": [
            "\n",
            "      Epoch    GPU_mem   box_loss  pose_loss  kobj_loss   cls_loss   dfl_loss  Instances       Size\n"
          ]
        },
        {
          "output_type": "stream",
          "name": "stderr",
          "text": [
            "      27/50      2.41G      1.726      7.891     0.3755      2.355        1.7         25        640: 100%|██████████| 9/9 [00:02<00:00,  3.31it/s]\n",
            "                 Class     Images  Instances      Box(P          R      mAP50  mAP50-95)     Pose(P          R      mAP50  mAP50-95): 100%|██████████| 1/1 [00:00<00:00,  3.11it/s]"
          ]
        },
        {
          "output_type": "stream",
          "name": "stdout",
          "text": [
            "                   all         17          2      0.142        0.5      0.235     0.0943      0.242        0.5      0.124     0.0124\n"
          ]
        },
        {
          "output_type": "stream",
          "name": "stderr",
          "text": [
            "\n"
          ]
        },
        {
          "output_type": "stream",
          "name": "stdout",
          "text": [
            "\n",
            "      Epoch    GPU_mem   box_loss  pose_loss  kobj_loss   cls_loss   dfl_loss  Instances       Size\n"
          ]
        },
        {
          "output_type": "stream",
          "name": "stderr",
          "text": [
            "      28/50      2.41G      1.758      7.981     0.3512      2.493      1.742         28        640: 100%|██████████| 9/9 [00:02<00:00,  3.09it/s]\n",
            "                 Class     Images  Instances      Box(P          R      mAP50  mAP50-95)     Pose(P          R      mAP50  mAP50-95): 100%|██████████| 1/1 [00:00<00:00,  2.24it/s]"
          ]
        },
        {
          "output_type": "stream",
          "name": "stdout",
          "text": [
            "                   all         17          2      0.442        0.5      0.414       0.15          0          0          0          0\n"
          ]
        },
        {
          "output_type": "stream",
          "name": "stderr",
          "text": [
            "\n"
          ]
        },
        {
          "output_type": "stream",
          "name": "stdout",
          "text": [
            "\n",
            "      Epoch    GPU_mem   box_loss  pose_loss  kobj_loss   cls_loss   dfl_loss  Instances       Size\n"
          ]
        },
        {
          "output_type": "stream",
          "name": "stderr",
          "text": [
            "      29/50      2.41G      1.812      7.898     0.3604       2.44      1.708         28        640: 100%|██████████| 9/9 [00:03<00:00,  2.73it/s]\n",
            "                 Class     Images  Instances      Box(P          R      mAP50  mAP50-95)     Pose(P          R      mAP50  mAP50-95): 100%|██████████| 1/1 [00:00<00:00,  3.89it/s]"
          ]
        },
        {
          "output_type": "stream",
          "name": "stdout",
          "text": [
            "                   all         17          2      0.397        0.5      0.414     0.0859          0          0          0          0\n"
          ]
        },
        {
          "output_type": "stream",
          "name": "stderr",
          "text": [
            "\n"
          ]
        },
        {
          "output_type": "stream",
          "name": "stdout",
          "text": [
            "\n",
            "      Epoch    GPU_mem   box_loss  pose_loss  kobj_loss   cls_loss   dfl_loss  Instances       Size\n"
          ]
        },
        {
          "output_type": "stream",
          "name": "stderr",
          "text": [
            "      30/50      2.41G      1.696      7.595     0.3517      2.303      1.683         31        640: 100%|██████████| 9/9 [00:02<00:00,  3.14it/s]\n",
            "                 Class     Images  Instances      Box(P          R      mAP50  mAP50-95)     Pose(P          R      mAP50  mAP50-95): 100%|██████████| 1/1 [00:00<00:00,  4.38it/s]"
          ]
        },
        {
          "output_type": "stream",
          "name": "stdout",
          "text": [
            "                   all         17          2      0.231          1       0.29     0.0663      0.115        0.5     0.0622    0.00622\n"
          ]
        },
        {
          "output_type": "stream",
          "name": "stderr",
          "text": [
            "\n"
          ]
        },
        {
          "output_type": "stream",
          "name": "stdout",
          "text": [
            "\n",
            "      Epoch    GPU_mem   box_loss  pose_loss  kobj_loss   cls_loss   dfl_loss  Instances       Size\n"
          ]
        },
        {
          "output_type": "stream",
          "name": "stderr",
          "text": [
            "      31/50      2.41G      1.752      7.469     0.3695      2.397      1.726         17        640: 100%|██████████| 9/9 [00:02<00:00,  3.25it/s]\n",
            "                 Class     Images  Instances      Box(P          R      mAP50  mAP50-95)     Pose(P          R      mAP50  mAP50-95): 100%|██████████| 1/1 [00:00<00:00,  4.06it/s]"
          ]
        },
        {
          "output_type": "stream",
          "name": "stdout",
          "text": [
            "                   all         17          2      0.302          1      0.497      0.162      0.137        0.5      0.124     0.0124\n"
          ]
        },
        {
          "output_type": "stream",
          "name": "stderr",
          "text": [
            "\n"
          ]
        },
        {
          "output_type": "stream",
          "name": "stdout",
          "text": [
            "\n",
            "      Epoch    GPU_mem   box_loss  pose_loss  kobj_loss   cls_loss   dfl_loss  Instances       Size\n"
          ]
        },
        {
          "output_type": "stream",
          "name": "stderr",
          "text": [
            "      32/50      2.41G      1.613      7.639     0.3285      2.145      1.581         25        640: 100%|██████████| 9/9 [00:04<00:00,  2.20it/s]\n",
            "                 Class     Images  Instances      Box(P          R      mAP50  mAP50-95)     Pose(P          R      mAP50  mAP50-95): 100%|██████████| 1/1 [00:00<00:00,  3.81it/s]"
          ]
        },
        {
          "output_type": "stream",
          "name": "stdout",
          "text": [
            "                   all         17          2      0.482      0.947      0.497      0.233          0          0          0          0\n"
          ]
        },
        {
          "output_type": "stream",
          "name": "stderr",
          "text": [
            "\n"
          ]
        },
        {
          "output_type": "stream",
          "name": "stdout",
          "text": [
            "\n",
            "      Epoch    GPU_mem   box_loss  pose_loss  kobj_loss   cls_loss   dfl_loss  Instances       Size\n"
          ]
        },
        {
          "output_type": "stream",
          "name": "stderr",
          "text": [
            "      33/50      2.41G       1.74      7.638     0.3428      2.188      1.658         25        640: 100%|██████████| 9/9 [00:02<00:00,  3.37it/s]\n",
            "                 Class     Images  Instances      Box(P          R      mAP50  mAP50-95)     Pose(P          R      mAP50  mAP50-95): 100%|██████████| 1/1 [00:00<00:00,  3.80it/s]"
          ]
        },
        {
          "output_type": "stream",
          "name": "stdout",
          "text": [
            "                   all         17          2       0.32          1      0.398      0.157          0          0          0          0\n"
          ]
        },
        {
          "output_type": "stream",
          "name": "stderr",
          "text": [
            "\n"
          ]
        },
        {
          "output_type": "stream",
          "name": "stdout",
          "text": [
            "\n",
            "      Epoch    GPU_mem   box_loss  pose_loss  kobj_loss   cls_loss   dfl_loss  Instances       Size\n"
          ]
        },
        {
          "output_type": "stream",
          "name": "stderr",
          "text": [
            "      34/50      2.41G      1.663      7.597     0.3284      2.146      1.609         13        640: 100%|██████████| 9/9 [00:02<00:00,  3.26it/s]\n",
            "                 Class     Images  Instances      Box(P          R      mAP50  mAP50-95)     Pose(P          R      mAP50  mAP50-95): 100%|██████████| 1/1 [00:00<00:00,  3.89it/s]"
          ]
        },
        {
          "output_type": "stream",
          "name": "stdout",
          "text": [
            "                   all         17          2      0.452        0.5      0.498      0.397          0          0          0          0\n"
          ]
        },
        {
          "output_type": "stream",
          "name": "stderr",
          "text": [
            "\n"
          ]
        },
        {
          "output_type": "stream",
          "name": "stdout",
          "text": [
            "\n",
            "      Epoch    GPU_mem   box_loss  pose_loss  kobj_loss   cls_loss   dfl_loss  Instances       Size\n"
          ]
        },
        {
          "output_type": "stream",
          "name": "stderr",
          "text": [
            "      35/50      2.41G      1.708      7.528     0.3383      2.204      1.663         18        640: 100%|██████████| 9/9 [00:03<00:00,  2.49it/s]\n",
            "                 Class     Images  Instances      Box(P          R      mAP50  mAP50-95)     Pose(P          R      mAP50  mAP50-95): 100%|██████████| 1/1 [00:00<00:00,  2.43it/s]"
          ]
        },
        {
          "output_type": "stream",
          "name": "stdout",
          "text": [
            "                   all         17          2      0.845        0.5      0.496      0.446          0          0          0          0\n"
          ]
        },
        {
          "output_type": "stream",
          "name": "stderr",
          "text": [
            "\n"
          ]
        },
        {
          "output_type": "stream",
          "name": "stdout",
          "text": [
            "\n",
            "      Epoch    GPU_mem   box_loss  pose_loss  kobj_loss   cls_loss   dfl_loss  Instances       Size\n"
          ]
        },
        {
          "output_type": "stream",
          "name": "stderr",
          "text": [
            "      36/50      2.41G      1.765      7.484     0.3274      2.206      1.721         10        640: 100%|██████████| 9/9 [00:02<00:00,  3.61it/s]\n",
            "                 Class     Images  Instances      Box(P          R      mAP50  mAP50-95)     Pose(P          R      mAP50  mAP50-95): 100%|██████████| 1/1 [00:00<00:00,  5.92it/s]\n"
          ]
        },
        {
          "output_type": "stream",
          "name": "stdout",
          "text": [
            "                   all         17          2       0.79        0.5      0.514       0.35          0          0          0          0\n",
            "\n",
            "      Epoch    GPU_mem   box_loss  pose_loss  kobj_loss   cls_loss   dfl_loss  Instances       Size\n"
          ]
        },
        {
          "output_type": "stream",
          "name": "stderr",
          "text": [
            "      37/50      2.41G      1.612      7.329     0.3397      2.178      1.595         21        640: 100%|██████████| 9/9 [00:02<00:00,  3.24it/s]\n",
            "                 Class     Images  Instances      Box(P          R      mAP50  mAP50-95)     Pose(P          R      mAP50  mAP50-95): 100%|██████████| 1/1 [00:00<00:00,  4.60it/s]"
          ]
        },
        {
          "output_type": "stream",
          "name": "stdout",
          "text": [
            "                   all         17          2      0.828        0.5      0.535       0.33          0          0          0          0\n"
          ]
        },
        {
          "output_type": "stream",
          "name": "stderr",
          "text": [
            "\n"
          ]
        },
        {
          "output_type": "stream",
          "name": "stdout",
          "text": [
            "\n",
            "      Epoch    GPU_mem   box_loss  pose_loss  kobj_loss   cls_loss   dfl_loss  Instances       Size\n"
          ]
        },
        {
          "output_type": "stream",
          "name": "stderr",
          "text": [
            "      38/50      2.41G      1.604      7.149     0.3145      2.141      1.576         22        640: 100%|██████████| 9/9 [00:03<00:00,  2.66it/s]\n",
            "                 Class     Images  Instances      Box(P          R      mAP50  mAP50-95)     Pose(P          R      mAP50  mAP50-95): 100%|██████████| 1/1 [00:00<00:00,  2.16it/s]"
          ]
        },
        {
          "output_type": "stream",
          "name": "stdout",
          "text": [
            "                   all         17          2      0.792        0.5      0.606      0.309          0          0          0          0\n"
          ]
        },
        {
          "output_type": "stream",
          "name": "stderr",
          "text": [
            "\n"
          ]
        },
        {
          "output_type": "stream",
          "name": "stdout",
          "text": [
            "\n",
            "      Epoch    GPU_mem   box_loss  pose_loss  kobj_loss   cls_loss   dfl_loss  Instances       Size\n"
          ]
        },
        {
          "output_type": "stream",
          "name": "stderr",
          "text": [
            "      39/50      2.41G      1.657      7.551     0.3458      2.132      1.631         20        640: 100%|██████████| 9/9 [00:02<00:00,  3.19it/s]\n",
            "                 Class     Images  Instances      Box(P          R      mAP50  mAP50-95)     Pose(P          R      mAP50  mAP50-95): 100%|██████████| 1/1 [00:00<00:00,  3.83it/s]"
          ]
        },
        {
          "output_type": "stream",
          "name": "stdout",
          "text": [
            "                   all         17          2          1      0.789      0.995      0.364          0          0          0          0\n"
          ]
        },
        {
          "output_type": "stream",
          "name": "stderr",
          "text": [
            "\n"
          ]
        },
        {
          "output_type": "stream",
          "name": "stdout",
          "text": [
            "\n",
            "      Epoch    GPU_mem   box_loss  pose_loss  kobj_loss   cls_loss   dfl_loss  Instances       Size\n"
          ]
        },
        {
          "output_type": "stream",
          "name": "stderr",
          "text": [
            "      40/50      2.41G      1.576      7.302      0.333      2.087      1.592         21        640: 100%|██████████| 9/9 [00:02<00:00,  3.26it/s]\n",
            "                 Class     Images  Instances      Box(P          R      mAP50  mAP50-95)     Pose(P          R      mAP50  mAP50-95): 100%|██████████| 1/1 [00:00<00:00,  4.44it/s]"
          ]
        },
        {
          "output_type": "stream",
          "name": "stdout",
          "text": [
            "                   all         17          2      0.725        0.5      0.662      0.339      0.134        0.5     0.0994     0.0199\n"
          ]
        },
        {
          "output_type": "stream",
          "name": "stderr",
          "text": [
            "\n"
          ]
        },
        {
          "output_type": "stream",
          "name": "stdout",
          "text": [
            "Closing dataloader mosaic\n",
            "\u001b[34m\u001b[1malbumentations: \u001b[0mBlur(p=0.01, blur_limit=(3, 7)), MedianBlur(p=0.01, blur_limit=(3, 7)), ToGray(p=0.01), CLAHE(p=0.01, clip_limit=(1, 4.0), tile_grid_size=(8, 8))\n",
            "\n",
            "      Epoch    GPU_mem   box_loss  pose_loss  kobj_loss   cls_loss   dfl_loss  Instances       Size\n"
          ]
        },
        {
          "output_type": "stream",
          "name": "stderr",
          "text": [
            "      41/50      2.68G      1.543      6.389     0.1664      2.242      1.605         10        640: 100%|██████████| 9/9 [00:07<00:00,  1.22it/s]\n",
            "                 Class     Images  Instances      Box(P          R      mAP50  mAP50-95)     Pose(P          R      mAP50  mAP50-95): 100%|██████████| 1/1 [00:00<00:00,  4.97it/s]"
          ]
        },
        {
          "output_type": "stream",
          "name": "stdout",
          "text": [
            "                   all         17          2      0.693        0.5      0.695      0.387    0.00134        0.5     0.0498    0.00498\n"
          ]
        },
        {
          "output_type": "stream",
          "name": "stderr",
          "text": [
            "\n"
          ]
        },
        {
          "output_type": "stream",
          "name": "stdout",
          "text": [
            "\n",
            "      Epoch    GPU_mem   box_loss  pose_loss  kobj_loss   cls_loss   dfl_loss  Instances       Size\n"
          ]
        },
        {
          "output_type": "stream",
          "name": "stderr",
          "text": [
            "      42/50      2.41G      1.555      6.389     0.1724      2.188      1.647          9        640: 100%|██████████| 9/9 [00:03<00:00,  2.78it/s]\n",
            "                 Class     Images  Instances      Box(P          R      mAP50  mAP50-95)     Pose(P          R      mAP50  mAP50-95): 100%|██████████| 1/1 [00:00<00:00,  4.12it/s]"
          ]
        },
        {
          "output_type": "stream",
          "name": "stdout",
          "text": [
            "                   all         17          2       0.53      0.591      0.828      0.392    0.00113        0.5     0.0622     0.0124\n"
          ]
        },
        {
          "output_type": "stream",
          "name": "stderr",
          "text": [
            "\n"
          ]
        },
        {
          "output_type": "stream",
          "name": "stdout",
          "text": [
            "\n",
            "      Epoch    GPU_mem   box_loss  pose_loss  kobj_loss   cls_loss   dfl_loss  Instances       Size\n"
          ]
        },
        {
          "output_type": "stream",
          "name": "stderr",
          "text": [
            "      43/50      2.41G       1.56      6.334     0.1602      2.148       1.65         13        640: 100%|██████████| 9/9 [00:02<00:00,  3.06it/s]\n",
            "                 Class     Images  Instances      Box(P          R      mAP50  mAP50-95)     Pose(P          R      mAP50  mAP50-95): 100%|██████████| 1/1 [00:00<00:00,  4.53it/s]"
          ]
        },
        {
          "output_type": "stream",
          "name": "stdout",
          "text": [
            "                   all         17          2      0.675        0.5      0.745      0.372      0.451        0.5      0.248     0.0303\n"
          ]
        },
        {
          "output_type": "stream",
          "name": "stderr",
          "text": [
            "\n"
          ]
        },
        {
          "output_type": "stream",
          "name": "stdout",
          "text": [
            "\n",
            "      Epoch    GPU_mem   box_loss  pose_loss  kobj_loss   cls_loss   dfl_loss  Instances       Size\n"
          ]
        },
        {
          "output_type": "stream",
          "name": "stderr",
          "text": [
            "      44/50      2.41G       1.51      6.415     0.1891      2.109        1.6          8        640: 100%|██████████| 9/9 [00:03<00:00,  2.98it/s]\n",
            "                 Class     Images  Instances      Box(P          R      mAP50  mAP50-95)     Pose(P          R      mAP50  mAP50-95): 100%|██████████| 1/1 [00:00<00:00,  3.85it/s]"
          ]
        },
        {
          "output_type": "stream",
          "name": "stdout",
          "text": [
            "                   all         17          2      0.738        0.5      0.662      0.397      0.453        0.5      0.248     0.0248\n"
          ]
        },
        {
          "output_type": "stream",
          "name": "stderr",
          "text": [
            "\n"
          ]
        },
        {
          "output_type": "stream",
          "name": "stdout",
          "text": [
            "\n",
            "      Epoch    GPU_mem   box_loss  pose_loss  kobj_loss   cls_loss   dfl_loss  Instances       Size\n"
          ]
        },
        {
          "output_type": "stream",
          "name": "stderr",
          "text": [
            "      45/50      2.41G      1.415      6.109     0.1304      2.034      1.551         11        640: 100%|██████████| 9/9 [00:02<00:00,  3.78it/s]\n",
            "                 Class     Images  Instances      Box(P          R      mAP50  mAP50-95)     Pose(P          R      mAP50  mAP50-95): 100%|██████████| 1/1 [00:00<00:00,  5.49it/s]\n"
          ]
        },
        {
          "output_type": "stream",
          "name": "stdout",
          "text": [
            "                   all         17          2      0.821        0.5      0.662      0.429      0.449        0.5      0.248     0.0495\n",
            "\n",
            "      Epoch    GPU_mem   box_loss  pose_loss  kobj_loss   cls_loss   dfl_loss  Instances       Size\n"
          ]
        },
        {
          "output_type": "stream",
          "name": "stderr",
          "text": [
            "      46/50      2.41G      1.422      6.021     0.1568       1.93      1.566         10        640: 100%|██████████| 9/9 [00:02<00:00,  4.21it/s]\n",
            "                 Class     Images  Instances      Box(P          R      mAP50  mAP50-95)     Pose(P          R      mAP50  mAP50-95): 100%|██████████| 1/1 [00:00<00:00,  4.81it/s]"
          ]
        },
        {
          "output_type": "stream",
          "name": "stdout",
          "text": [
            "                   all         17          2      0.902        0.5      0.662       0.38        0.5        0.5      0.248     0.0743\n"
          ]
        },
        {
          "output_type": "stream",
          "name": "stderr",
          "text": [
            "\n"
          ]
        },
        {
          "output_type": "stream",
          "name": "stdout",
          "text": [
            "\n",
            "      Epoch    GPU_mem   box_loss  pose_loss  kobj_loss   cls_loss   dfl_loss  Instances       Size\n"
          ]
        },
        {
          "output_type": "stream",
          "name": "stderr",
          "text": [
            "      47/50      2.41G      1.436      6.022     0.1457      1.938      1.506         12        640: 100%|██████████| 9/9 [00:03<00:00,  2.30it/s]\n",
            "                 Class     Images  Instances      Box(P          R      mAP50  mAP50-95)     Pose(P          R      mAP50  mAP50-95): 100%|██████████| 1/1 [00:00<00:00,  4.03it/s]"
          ]
        },
        {
          "output_type": "stream",
          "name": "stdout",
          "text": [
            "                   all         17          2      0.917        0.5      0.638      0.425      0.498        0.5      0.248     0.0743\n"
          ]
        },
        {
          "output_type": "stream",
          "name": "stderr",
          "text": [
            "\n"
          ]
        },
        {
          "output_type": "stream",
          "name": "stdout",
          "text": [
            "\n",
            "      Epoch    GPU_mem   box_loss  pose_loss  kobj_loss   cls_loss   dfl_loss  Instances       Size\n"
          ]
        },
        {
          "output_type": "stream",
          "name": "stderr",
          "text": [
            "      48/50      2.41G      1.383      5.803     0.1414      1.948      1.521         10        640: 100%|██████████| 9/9 [00:02<00:00,  3.44it/s]\n",
            "                 Class     Images  Instances      Box(P          R      mAP50  mAP50-95)     Pose(P          R      mAP50  mAP50-95): 100%|██████████| 1/1 [00:00<00:00,  4.01it/s]"
          ]
        },
        {
          "output_type": "stream",
          "name": "stdout",
          "text": [
            "                   all         17          2      0.913        0.5      0.638      0.364      0.472        0.5      0.248     0.0743\n"
          ]
        },
        {
          "output_type": "stream",
          "name": "stderr",
          "text": [
            "\n"
          ]
        },
        {
          "output_type": "stream",
          "name": "stdout",
          "text": [
            "\n",
            "      Epoch    GPU_mem   box_loss  pose_loss  kobj_loss   cls_loss   dfl_loss  Instances       Size\n"
          ]
        },
        {
          "output_type": "stream",
          "name": "stderr",
          "text": [
            "      49/50      2.41G      1.368      5.932     0.1216      1.895      1.522         10        640: 100%|██████████| 9/9 [00:02<00:00,  3.01it/s]\n",
            "                 Class     Images  Instances      Box(P          R      mAP50  mAP50-95)     Pose(P          R      mAP50  mAP50-95): 100%|██████████| 1/1 [00:00<00:00,  5.25it/s]\n"
          ]
        },
        {
          "output_type": "stream",
          "name": "stdout",
          "text": [
            "                   all         17          2      0.915        0.5      0.695      0.388      0.474        0.5      0.248     0.0496\n",
            "\n",
            "      Epoch    GPU_mem   box_loss  pose_loss  kobj_loss   cls_loss   dfl_loss  Instances       Size\n"
          ]
        },
        {
          "output_type": "stream",
          "name": "stderr",
          "text": [
            "      50/50      2.41G      1.336       5.98     0.1437       1.89      1.535         11        640: 100%|██████████| 9/9 [00:04<00:00,  2.10it/s]\n",
            "                 Class     Images  Instances      Box(P          R      mAP50  mAP50-95)     Pose(P          R      mAP50  mAP50-95): 100%|██████████| 1/1 [00:00<00:00,  4.45it/s]"
          ]
        },
        {
          "output_type": "stream",
          "name": "stdout",
          "text": [
            "                   all         17          2      0.909        0.5      0.695      0.388      0.472        0.5      0.248     0.0743\n"
          ]
        },
        {
          "output_type": "stream",
          "name": "stderr",
          "text": [
            "\n"
          ]
        },
        {
          "output_type": "stream",
          "name": "stdout",
          "text": [
            "\n",
            "50 epochs completed in 0.070 hours.\n",
            "Optimizer stripped from runs/pose/train4/weights/last.pt, 6.8MB\n",
            "Optimizer stripped from runs/pose/train4/weights/best.pt, 6.8MB\n",
            "\n",
            "Validating runs/pose/train4/weights/best.pt...\n",
            "Ultralytics YOLOv8.1.34 🚀 Python-3.10.12 torch-2.2.1+cu121 CUDA:0 (Tesla T4, 15102MiB)\n",
            "YOLOv8n-pose summary (fused): 187 layers, 3290744 parameters, 0 gradients, 9.2 GFLOPs\n"
          ]
        },
        {
          "output_type": "stream",
          "name": "stderr",
          "text": [
            "                 Class     Images  Instances      Box(P          R      mAP50  mAP50-95)     Pose(P          R      mAP50  mAP50-95): 100%|██████████| 1/1 [00:00<00:00,  7.31it/s]\n"
          ]
        },
        {
          "output_type": "stream",
          "name": "stdout",
          "text": [
            "                   all         17          2      0.917        0.5      0.638      0.425      0.485        0.5      0.248     0.0248\n",
            "             padmasana         17          2      0.917        0.5      0.638      0.425      0.485        0.5      0.248     0.0248\n",
            "Speed: 0.3ms preprocess, 3.4ms inference, 0.0ms loss, 1.2ms postprocess per image\n",
            "Results saved to \u001b[1mruns/pose/train4\u001b[0m\n"
          ]
        },
        {
          "output_type": "execute_result",
          "data": {
            "text/plain": [
              "ultralytics.utils.metrics.PoseMetrics object with attributes:\n",
              "\n",
              "ap_class_index: array([2])\n",
              "box: ultralytics.utils.metrics.Metric object\n",
              "confusion_matrix: <ultralytics.utils.metrics.ConfusionMatrix object at 0x796040f29300>\n",
              "curves: ['Precision-Recall(B)', 'F1-Confidence(B)', 'Precision-Confidence(B)', 'Recall-Confidence(B)', 'Precision-Recall(P)', 'F1-Confidence(P)', 'Precision-Confidence(P)', 'Recall-Confidence(P)']\n",
              "curves_results: [[array([          0,    0.001001,    0.002002,    0.003003,    0.004004,    0.005005,    0.006006,    0.007007,    0.008008,    0.009009,     0.01001,    0.011011,    0.012012,    0.013013,    0.014014,    0.015015,    0.016016,    0.017017,    0.018018,    0.019019,     0.02002,    0.021021,    0.022022,    0.023023,\n",
              "          0.024024,    0.025025,    0.026026,    0.027027,    0.028028,    0.029029,     0.03003,    0.031031,    0.032032,    0.033033,    0.034034,    0.035035,    0.036036,    0.037037,    0.038038,    0.039039,     0.04004,    0.041041,    0.042042,    0.043043,    0.044044,    0.045045,    0.046046,    0.047047,\n",
              "          0.048048,    0.049049,     0.05005,    0.051051,    0.052052,    0.053053,    0.054054,    0.055055,    0.056056,    0.057057,    0.058058,    0.059059,     0.06006,    0.061061,    0.062062,    0.063063,    0.064064,    0.065065,    0.066066,    0.067067,    0.068068,    0.069069,     0.07007,    0.071071,\n",
              "          0.072072,    0.073073,    0.074074,    0.075075,    0.076076,    0.077077,    0.078078,    0.079079,     0.08008,    0.081081,    0.082082,    0.083083,    0.084084,    0.085085,    0.086086,    0.087087,    0.088088,    0.089089,     0.09009,    0.091091,    0.092092,    0.093093,    0.094094,    0.095095,\n",
              "          0.096096,    0.097097,    0.098098,    0.099099,      0.1001,      0.1011,      0.1021,      0.1031,      0.1041,     0.10511,     0.10611,     0.10711,     0.10811,     0.10911,     0.11011,     0.11111,     0.11211,     0.11311,     0.11411,     0.11512,     0.11612,     0.11712,     0.11812,     0.11912,\n",
              "           0.12012,     0.12112,     0.12212,     0.12312,     0.12412,     0.12513,     0.12613,     0.12713,     0.12813,     0.12913,     0.13013,     0.13113,     0.13213,     0.13313,     0.13413,     0.13514,     0.13614,     0.13714,     0.13814,     0.13914,     0.14014,     0.14114,     0.14214,     0.14314,\n",
              "           0.14414,     0.14515,     0.14615,     0.14715,     0.14815,     0.14915,     0.15015,     0.15115,     0.15215,     0.15315,     0.15415,     0.15516,     0.15616,     0.15716,     0.15816,     0.15916,     0.16016,     0.16116,     0.16216,     0.16316,     0.16416,     0.16517,     0.16617,     0.16717,\n",
              "           0.16817,     0.16917,     0.17017,     0.17117,     0.17217,     0.17317,     0.17417,     0.17518,     0.17618,     0.17718,     0.17818,     0.17918,     0.18018,     0.18118,     0.18218,     0.18318,     0.18418,     0.18519,     0.18619,     0.18719,     0.18819,     0.18919,     0.19019,     0.19119,\n",
              "           0.19219,     0.19319,     0.19419,      0.1952,      0.1962,      0.1972,      0.1982,      0.1992,      0.2002,      0.2012,      0.2022,      0.2032,      0.2042,     0.20521,     0.20621,     0.20721,     0.20821,     0.20921,     0.21021,     0.21121,     0.21221,     0.21321,     0.21421,     0.21522,\n",
              "           0.21622,     0.21722,     0.21822,     0.21922,     0.22022,     0.22122,     0.22222,     0.22322,     0.22422,     0.22523,     0.22623,     0.22723,     0.22823,     0.22923,     0.23023,     0.23123,     0.23223,     0.23323,     0.23423,     0.23524,     0.23624,     0.23724,     0.23824,     0.23924,\n",
              "           0.24024,     0.24124,     0.24224,     0.24324,     0.24424,     0.24525,     0.24625,     0.24725,     0.24825,     0.24925,     0.25025,     0.25125,     0.25225,     0.25325,     0.25425,     0.25526,     0.25626,     0.25726,     0.25826,     0.25926,     0.26026,     0.26126,     0.26226,     0.26326,\n",
              "           0.26426,     0.26527,     0.26627,     0.26727,     0.26827,     0.26927,     0.27027,     0.27127,     0.27227,     0.27327,     0.27427,     0.27528,     0.27628,     0.27728,     0.27828,     0.27928,     0.28028,     0.28128,     0.28228,     0.28328,     0.28428,     0.28529,     0.28629,     0.28729,\n",
              "           0.28829,     0.28929,     0.29029,     0.29129,     0.29229,     0.29329,     0.29429,      0.2953,      0.2963,      0.2973,      0.2983,      0.2993,      0.3003,      0.3013,      0.3023,      0.3033,      0.3043,     0.30531,     0.30631,     0.30731,     0.30831,     0.30931,     0.31031,     0.31131,\n",
              "           0.31231,     0.31331,     0.31431,     0.31532,     0.31632,     0.31732,     0.31832,     0.31932,     0.32032,     0.32132,     0.32232,     0.32332,     0.32432,     0.32533,     0.32633,     0.32733,     0.32833,     0.32933,     0.33033,     0.33133,     0.33233,     0.33333,     0.33433,     0.33534,\n",
              "           0.33634,     0.33734,     0.33834,     0.33934,     0.34034,     0.34134,     0.34234,     0.34334,     0.34434,     0.34535,     0.34635,     0.34735,     0.34835,     0.34935,     0.35035,     0.35135,     0.35235,     0.35335,     0.35435,     0.35536,     0.35636,     0.35736,     0.35836,     0.35936,\n",
              "           0.36036,     0.36136,     0.36236,     0.36336,     0.36436,     0.36537,     0.36637,     0.36737,     0.36837,     0.36937,     0.37037,     0.37137,     0.37237,     0.37337,     0.37437,     0.37538,     0.37638,     0.37738,     0.37838,     0.37938,     0.38038,     0.38138,     0.38238,     0.38338,\n",
              "           0.38438,     0.38539,     0.38639,     0.38739,     0.38839,     0.38939,     0.39039,     0.39139,     0.39239,     0.39339,     0.39439,      0.3954,      0.3964,      0.3974,      0.3984,      0.3994,      0.4004,      0.4014,      0.4024,      0.4034,      0.4044,     0.40541,     0.40641,     0.40741,\n",
              "           0.40841,     0.40941,     0.41041,     0.41141,     0.41241,     0.41341,     0.41441,     0.41542,     0.41642,     0.41742,     0.41842,     0.41942,     0.42042,     0.42142,     0.42242,     0.42342,     0.42442,     0.42543,     0.42643,     0.42743,     0.42843,     0.42943,     0.43043,     0.43143,\n",
              "           0.43243,     0.43343,     0.43443,     0.43544,     0.43644,     0.43744,     0.43844,     0.43944,     0.44044,     0.44144,     0.44244,     0.44344,     0.44444,     0.44545,     0.44645,     0.44745,     0.44845,     0.44945,     0.45045,     0.45145,     0.45245,     0.45345,     0.45445,     0.45546,\n",
              "           0.45646,     0.45746,     0.45846,     0.45946,     0.46046,     0.46146,     0.46246,     0.46346,     0.46446,     0.46547,     0.46647,     0.46747,     0.46847,     0.46947,     0.47047,     0.47147,     0.47247,     0.47347,     0.47447,     0.47548,     0.47648,     0.47748,     0.47848,     0.47948,\n",
              "           0.48048,     0.48148,     0.48248,     0.48348,     0.48448,     0.48549,     0.48649,     0.48749,     0.48849,     0.48949,     0.49049,     0.49149,     0.49249,     0.49349,     0.49449,      0.4955,      0.4965,      0.4975,      0.4985,      0.4995,      0.5005,      0.5015,      0.5025,      0.5035,\n",
              "            0.5045,     0.50551,     0.50651,     0.50751,     0.50851,     0.50951,     0.51051,     0.51151,     0.51251,     0.51351,     0.51451,     0.51552,     0.51652,     0.51752,     0.51852,     0.51952,     0.52052,     0.52152,     0.52252,     0.52352,     0.52452,     0.52553,     0.52653,     0.52753,\n",
              "           0.52853,     0.52953,     0.53053,     0.53153,     0.53253,     0.53353,     0.53453,     0.53554,     0.53654,     0.53754,     0.53854,     0.53954,     0.54054,     0.54154,     0.54254,     0.54354,     0.54454,     0.54555,     0.54655,     0.54755,     0.54855,     0.54955,     0.55055,     0.55155,\n",
              "           0.55255,     0.55355,     0.55455,     0.55556,     0.55656,     0.55756,     0.55856,     0.55956,     0.56056,     0.56156,     0.56256,     0.56356,     0.56456,     0.56557,     0.56657,     0.56757,     0.56857,     0.56957,     0.57057,     0.57157,     0.57257,     0.57357,     0.57457,     0.57558,\n",
              "           0.57658,     0.57758,     0.57858,     0.57958,     0.58058,     0.58158,     0.58258,     0.58358,     0.58458,     0.58559,     0.58659,     0.58759,     0.58859,     0.58959,     0.59059,     0.59159,     0.59259,     0.59359,     0.59459,      0.5956,      0.5966,      0.5976,      0.5986,      0.5996,\n",
              "            0.6006,      0.6016,      0.6026,      0.6036,      0.6046,     0.60561,     0.60661,     0.60761,     0.60861,     0.60961,     0.61061,     0.61161,     0.61261,     0.61361,     0.61461,     0.61562,     0.61662,     0.61762,     0.61862,     0.61962,     0.62062,     0.62162,     0.62262,     0.62362,\n",
              "           0.62462,     0.62563,     0.62663,     0.62763,     0.62863,     0.62963,     0.63063,     0.63163,     0.63263,     0.63363,     0.63463,     0.63564,     0.63664,     0.63764,     0.63864,     0.63964,     0.64064,     0.64164,     0.64264,     0.64364,     0.64464,     0.64565,     0.64665,     0.64765,\n",
              "           0.64865,     0.64965,     0.65065,     0.65165,     0.65265,     0.65365,     0.65465,     0.65566,     0.65666,     0.65766,     0.65866,     0.65966,     0.66066,     0.66166,     0.66266,     0.66366,     0.66466,     0.66567,     0.66667,     0.66767,     0.66867,     0.66967,     0.67067,     0.67167,\n",
              "           0.67267,     0.67367,     0.67467,     0.67568,     0.67668,     0.67768,     0.67868,     0.67968,     0.68068,     0.68168,     0.68268,     0.68368,     0.68468,     0.68569,     0.68669,     0.68769,     0.68869,     0.68969,     0.69069,     0.69169,     0.69269,     0.69369,     0.69469,      0.6957,\n",
              "            0.6967,      0.6977,      0.6987,      0.6997,      0.7007,      0.7017,      0.7027,      0.7037,      0.7047,     0.70571,     0.70671,     0.70771,     0.70871,     0.70971,     0.71071,     0.71171,     0.71271,     0.71371,     0.71471,     0.71572,     0.71672,     0.71772,     0.71872,     0.71972,\n",
              "           0.72072,     0.72172,     0.72272,     0.72372,     0.72472,     0.72573,     0.72673,     0.72773,     0.72873,     0.72973,     0.73073,     0.73173,     0.73273,     0.73373,     0.73473,     0.73574,     0.73674,     0.73774,     0.73874,     0.73974,     0.74074,     0.74174,     0.74274,     0.74374,\n",
              "           0.74474,     0.74575,     0.74675,     0.74775,     0.74875,     0.74975,     0.75075,     0.75175,     0.75275,     0.75375,     0.75475,     0.75576,     0.75676,     0.75776,     0.75876,     0.75976,     0.76076,     0.76176,     0.76276,     0.76376,     0.76476,     0.76577,     0.76677,     0.76777,\n",
              "           0.76877,     0.76977,     0.77077,     0.77177,     0.77277,     0.77377,     0.77477,     0.77578,     0.77678,     0.77778,     0.77878,     0.77978,     0.78078,     0.78178,     0.78278,     0.78378,     0.78478,     0.78579,     0.78679,     0.78779,     0.78879,     0.78979,     0.79079,     0.79179,\n",
              "           0.79279,     0.79379,     0.79479,      0.7958,      0.7968,      0.7978,      0.7988,      0.7998,      0.8008,      0.8018,      0.8028,      0.8038,      0.8048,     0.80581,     0.80681,     0.80781,     0.80881,     0.80981,     0.81081,     0.81181,     0.81281,     0.81381,     0.81481,     0.81582,\n",
              "           0.81682,     0.81782,     0.81882,     0.81982,     0.82082,     0.82182,     0.82282,     0.82382,     0.82482,     0.82583,     0.82683,     0.82783,     0.82883,     0.82983,     0.83083,     0.83183,     0.83283,     0.83383,     0.83483,     0.83584,     0.83684,     0.83784,     0.83884,     0.83984,\n",
              "           0.84084,     0.84184,     0.84284,     0.84384,     0.84484,     0.84585,     0.84685,     0.84785,     0.84885,     0.84985,     0.85085,     0.85185,     0.85285,     0.85385,     0.85485,     0.85586,     0.85686,     0.85786,     0.85886,     0.85986,     0.86086,     0.86186,     0.86286,     0.86386,\n",
              "           0.86486,     0.86587,     0.86687,     0.86787,     0.86887,     0.86987,     0.87087,     0.87187,     0.87287,     0.87387,     0.87487,     0.87588,     0.87688,     0.87788,     0.87888,     0.87988,     0.88088,     0.88188,     0.88288,     0.88388,     0.88488,     0.88589,     0.88689,     0.88789,\n",
              "           0.88889,     0.88989,     0.89089,     0.89189,     0.89289,     0.89389,     0.89489,      0.8959,      0.8969,      0.8979,      0.8989,      0.8999,      0.9009,      0.9019,      0.9029,      0.9039,      0.9049,     0.90591,     0.90691,     0.90791,     0.90891,     0.90991,     0.91091,     0.91191,\n",
              "           0.91291,     0.91391,     0.91491,     0.91592,     0.91692,     0.91792,     0.91892,     0.91992,     0.92092,     0.92192,     0.92292,     0.92392,     0.92492,     0.92593,     0.92693,     0.92793,     0.92893,     0.92993,     0.93093,     0.93193,     0.93293,     0.93393,     0.93493,     0.93594,\n",
              "           0.93694,     0.93794,     0.93894,     0.93994,     0.94094,     0.94194,     0.94294,     0.94394,     0.94494,     0.94595,     0.94695,     0.94795,     0.94895,     0.94995,     0.95095,     0.95195,     0.95295,     0.95395,     0.95495,     0.95596,     0.95696,     0.95796,     0.95896,     0.95996,\n",
              "           0.96096,     0.96196,     0.96296,     0.96396,     0.96496,     0.96597,     0.96697,     0.96797,     0.96897,     0.96997,     0.97097,     0.97197,     0.97297,     0.97397,     0.97497,     0.97598,     0.97698,     0.97798,     0.97898,     0.97998,     0.98098,     0.98198,     0.98298,     0.98398,\n",
              "           0.98498,     0.98599,     0.98699,     0.98799,     0.98899,     0.98999,     0.99099,     0.99199,     0.99299,     0.99399,     0.99499,       0.996,       0.997,       0.998,       0.999,           1]), array([[          1,           1,           1,           1,           1,           1,           1,           1,           1,           1,           1,           1,           1,           1,           1,           1,           1,           1,           1,           1,           1,           1,           1,\n",
              "                  1,           1,           1,           1,           1,           1,           1,           1,           1,           1,           1,           1,           1,           1,           1,           1,           1,           1,           1,           1,           1,           1,           1,\n",
              "                  1,           1,           1,           1,           1,           1,           1,           1,           1,           1,           1,           1,           1,           1,           1,           1,           1,           1,           1,           1,           1,           1,           1,\n",
              "                  1,           1,           1,           1,           1,           1,           1,           1,           1,           1,           1,           1,           1,           1,           1,           1,           1,           1,           1,           1,           1,           1,           1,\n",
              "                  1,           1,           1,           1,           1,           1,           1,           1,           1,           1,           1,           1,           1,           1,           1,           1,           1,           1,           1,           1,           1,           1,           1,\n",
              "                  1,           1,           1,           1,           1,           1,           1,           1,           1,           1,           1,           1,           1,           1,           1,           1,           1,           1,           1,           1,           1,           1,           1,\n",
              "                  1,           1,           1,           1,           1,           1,           1,           1,           1,           1,           1,           1,           1,           1,           1,           1,           1,           1,           1,           1,           1,           1,           1,\n",
              "                  1,           1,           1,           1,           1,           1,           1,           1,           1,           1,           1,           1,           1,           1,           1,           1,           1,           1,           1,           1,           1,           1,           1,\n",
              "                  1,           1,           1,           1,           1,           1,           1,           1,           1,           1,           1,           1,           1,           1,           1,           1,           1,           1,           1,           1,           1,           1,           1,\n",
              "                  1,           1,           1,           1,           1,           1,           1,           1,           1,           1,           1,           1,           1,           1,           1,           1,           1,           1,           1,           1,           1,           1,           1,\n",
              "                  1,           1,           1,           1,           1,           1,           1,           1,           1,           1,           1,           1,           1,           1,           1,           1,           1,           1,           1,           1,           1,           1,           1,\n",
              "                  1,           1,           1,           1,           1,           1,           1,           1,           1,           1,           1,           1,           1,           1,           1,           1,           1,           1,           1,           1,           1,           1,           1,\n",
              "                  1,           1,           1,           1,           1,           1,           1,           1,           1,           1,           1,           1,           1,           1,           1,           1,           1,           1,           1,           1,           1,           1,           1,\n",
              "                  1,           1,           1,           1,           1,           1,           1,           1,           1,           1,           1,           1,           1,           1,           1,           1,           1,           1,           1,           1,           1,           1,           1,\n",
              "                  1,           1,           1,           1,           1,           1,           1,           1,           1,           1,           1,           1,           1,           1,           1,           1,           1,           1,           1,           1,           1,           1,           1,\n",
              "                  1,           1,           1,           1,           1,           1,           1,           1,           1,           1,           1,           1,           1,           1,           1,           1,           1,           1,           1,           1,           1,           1,           1,\n",
              "                  1,           1,           1,           1,           1,           1,           1,           1,           1,           1,           1,           1,           1,           1,           1,           1,           1,           1,           1,           1,           1,           1,           1,\n",
              "                  1,           1,           1,           1,           1,           1,           1,           1,           1,           1,           1,           1,           1,           1,           1,           1,           1,           1,           1,           1,           1,           1,           1,\n",
              "                  1,           1,           1,           1,           1,           1,           1,           1,           1,           1,           1,           1,           1,           1,           1,           1,           1,           1,           1,           1,           1,           1,           1,\n",
              "                  1,           1,           1,           1,           1,           1,           1,           1,           1,           1,           1,           1,           1,           1,           1,           1,           1,           1,           1,           1,           1,           1,           1,\n",
              "                  1,           1,           1,           1,           1,           1,           1,           1,           1,           1,           1,           1,           1,           1,           1,           1,           1,           1,           1,           1,           1,           1,           1,\n",
              "                  1,           1,           1,           1,           1,           1,           1,           1,           1,           1,           1,           1,           1,           1,           1,           1,           1,     0.28571,     0.28571,     0.28571,     0.28571,     0.28571,     0.28571,\n",
              "            0.28571,     0.28571,     0.28571,     0.28571,     0.28571,     0.28571,     0.28571,     0.28571,     0.28571,     0.28571,     0.28571,     0.28571,     0.28571,     0.28571,     0.28571,     0.28571,     0.28571,     0.28571,     0.28571,     0.28571,     0.28571,     0.28571,     0.28571,\n",
              "            0.28571,     0.28571,     0.28571,     0.28571,     0.28571,     0.28571,     0.28571,     0.28571,     0.28571,     0.28571,     0.28571,     0.28571,     0.28571,     0.28571,     0.28571,     0.28571,     0.28571,     0.28571,     0.28571,     0.28571,     0.28571,     0.28571,     0.28571,\n",
              "            0.28571,     0.28571,     0.28571,     0.28571,     0.28571,     0.28571,     0.28571,     0.28571,     0.28571,     0.28571,     0.28571,     0.28571,     0.28571,     0.28571,     0.28571,     0.28571,     0.28571,     0.28571,     0.28571,     0.28571,     0.28571,     0.28571,     0.28571,\n",
              "            0.28571,     0.28571,     0.28571,     0.28571,     0.28571,     0.28571,     0.28571,     0.28571,     0.28571,     0.28571,     0.28571,     0.28571,     0.28571,     0.28571,     0.28571,     0.28571,     0.28571,     0.28571,     0.28571,     0.28571,     0.28571,     0.28571,     0.28571,\n",
              "            0.28571,     0.28571,     0.28571,     0.28571,     0.28571,     0.28571,     0.28571,     0.28571,     0.28571,     0.28571,     0.28571,     0.28571,     0.28571,     0.28571,     0.28571,     0.28571,     0.28571,     0.28571,     0.28571,     0.28571,     0.28571,     0.28571,     0.28571,\n",
              "            0.28571,     0.28571,     0.28571,     0.28571,     0.28571,     0.28571,     0.28571,     0.28571,     0.28571,     0.28571,     0.28571,     0.28571,     0.28571,     0.28571,     0.28571,     0.28571,     0.28571,     0.28571,     0.28571,     0.28571,     0.28571,     0.28571,     0.28571,\n",
              "            0.28571,     0.28571,     0.28571,     0.28571,     0.28571,     0.28571,     0.28571,     0.28571,     0.28571,     0.28571,     0.28571,     0.28571,     0.28571,     0.28571,     0.28571,     0.28571,     0.28571,     0.28571,     0.28571,     0.28571,     0.28571,     0.28571,     0.28571,\n",
              "            0.28571,     0.28571,     0.28571,     0.28571,     0.28571,     0.28571,     0.28571,     0.28571,     0.28571,     0.28571,     0.28571,     0.28571,     0.28571,     0.28571,     0.28571,     0.28571,     0.28571,     0.28571,     0.28571,     0.28571,     0.28571,     0.28571,     0.28571,\n",
              "            0.28571,     0.28571,     0.28571,     0.28571,     0.28571,     0.28571,     0.28571,     0.28571,     0.28571,     0.28571,     0.28571,     0.28571,     0.28571,     0.28571,     0.28571,     0.28571,     0.28571,     0.28571,     0.28571,     0.28571,     0.28571,     0.28571,     0.28571,\n",
              "            0.28571,     0.28571,     0.28571,     0.28571,     0.28571,     0.28571,     0.28571,     0.28571,     0.28571,     0.28571,     0.28571,     0.28571,     0.28571,     0.28571,     0.28571,     0.28571,     0.28571,     0.28571,     0.28571,     0.28571,     0.28571,     0.28571,     0.28571,\n",
              "            0.28571,     0.28571,     0.28571,     0.28571,     0.28571,     0.28571,     0.28571,     0.28571,     0.28571,     0.28571,     0.28571,     0.28571,     0.28571,     0.28571,     0.28571,     0.28571,     0.28571,     0.28571,     0.28571,     0.28571,     0.28571,     0.28571,     0.28571,\n",
              "            0.28571,     0.28571,     0.28571,     0.28571,     0.28571,     0.28571,     0.28571,     0.28571,     0.28571,     0.28571,     0.28571,     0.28571,     0.28571,     0.28571,     0.28571,     0.28571,     0.28571,     0.28571,     0.28571,     0.28571,     0.28571,     0.28571,     0.28571,\n",
              "            0.28571,     0.28571,     0.28571,     0.28571,     0.28571,     0.28571,     0.28571,     0.28571,     0.28571,     0.28571,     0.28571,     0.28571,     0.28571,     0.28571,     0.28571,     0.28571,     0.28571,     0.28571,     0.28571,     0.28571,     0.28571,     0.28571,     0.28571,\n",
              "            0.28571,     0.28571,     0.28571,     0.28571,     0.28571,     0.28571,     0.28571,     0.28571,     0.28571,     0.28571,     0.28571,     0.28571,     0.28571,     0.28571,     0.28571,     0.28571,     0.28571,     0.28571,     0.28571,     0.28571,     0.28571,     0.28571,     0.28571,\n",
              "            0.28571,     0.28571,     0.28571,     0.28571,     0.28571,     0.28571,     0.28571,     0.28571,     0.28571,     0.28571,     0.28571,     0.28571,     0.28571,     0.28571,     0.28571,     0.28571,     0.28571,     0.28571,     0.28571,     0.28571,     0.28571,     0.28571,     0.28571,\n",
              "            0.28571,     0.28571,     0.28571,     0.28571,     0.28571,     0.28571,     0.28571,     0.28571,     0.28571,     0.28571,     0.28571,     0.28571,     0.28571,     0.28571,     0.28571,     0.28571,     0.28571,     0.28571,     0.28571,     0.28571,     0.28571,     0.28571,     0.28571,\n",
              "            0.28571,     0.28571,     0.28571,     0.28571,     0.28571,     0.28571,     0.28571,     0.28571,     0.28571,     0.28571,     0.28571,     0.28571,     0.28571,     0.28571,     0.28571,     0.28571,     0.28571,     0.28571,     0.28571,     0.28571,     0.28571,     0.28571,     0.28571,\n",
              "            0.28571,     0.28571,     0.28571,     0.28571,     0.28571,     0.28571,     0.28571,     0.28571,     0.28571,     0.28571,     0.28571,     0.28571,     0.28571,     0.28571,     0.28571,     0.28571,     0.28571,     0.28571,     0.28571,     0.28571,     0.28571,     0.28571,     0.28571,\n",
              "            0.28571,     0.28571,     0.28571,     0.28571,     0.28571,     0.28571,     0.28571,     0.28571,     0.28571,     0.28571,     0.28571,     0.28571,     0.28571,     0.28571,     0.28571,     0.28571,     0.28571,     0.28571,     0.28571,     0.28571,     0.28571,     0.28571,     0.28571,\n",
              "            0.28571,     0.28571,     0.28571,     0.28571,     0.28571,     0.28571,     0.28571,     0.28571,     0.28571,     0.28571,     0.28571,     0.28571,     0.28571,     0.28571,     0.28571,     0.28571,     0.28571,     0.28571,     0.28571,     0.28571,     0.28571,     0.28571,     0.28571,\n",
              "            0.28571,     0.28571,     0.28571,     0.28571,     0.28571,     0.28571,     0.28571,     0.28571,     0.28571,     0.28571,     0.28571,     0.28571,     0.28571,     0.28571,     0.28571,     0.28571,     0.28571,     0.28571,     0.28571,     0.28571,     0.28571,     0.28571,     0.28571,\n",
              "            0.28571,     0.28571,     0.28571,     0.28571,     0.28571,     0.28571,     0.28571,     0.28571,     0.28571,     0.28571,           0]]), 'Recall', 'Precision'], [array([          0,    0.001001,    0.002002,    0.003003,    0.004004,    0.005005,    0.006006,    0.007007,    0.008008,    0.009009,     0.01001,    0.011011,    0.012012,    0.013013,    0.014014,    0.015015,    0.016016,    0.017017,    0.018018,    0.019019,     0.02002,    0.021021,    0.022022,    0.023023,\n",
              "          0.024024,    0.025025,    0.026026,    0.027027,    0.028028,    0.029029,     0.03003,    0.031031,    0.032032,    0.033033,    0.034034,    0.035035,    0.036036,    0.037037,    0.038038,    0.039039,     0.04004,    0.041041,    0.042042,    0.043043,    0.044044,    0.045045,    0.046046,    0.047047,\n",
              "          0.048048,    0.049049,     0.05005,    0.051051,    0.052052,    0.053053,    0.054054,    0.055055,    0.056056,    0.057057,    0.058058,    0.059059,     0.06006,    0.061061,    0.062062,    0.063063,    0.064064,    0.065065,    0.066066,    0.067067,    0.068068,    0.069069,     0.07007,    0.071071,\n",
              "          0.072072,    0.073073,    0.074074,    0.075075,    0.076076,    0.077077,    0.078078,    0.079079,     0.08008,    0.081081,    0.082082,    0.083083,    0.084084,    0.085085,    0.086086,    0.087087,    0.088088,    0.089089,     0.09009,    0.091091,    0.092092,    0.093093,    0.094094,    0.095095,\n",
              "          0.096096,    0.097097,    0.098098,    0.099099,      0.1001,      0.1011,      0.1021,      0.1031,      0.1041,     0.10511,     0.10611,     0.10711,     0.10811,     0.10911,     0.11011,     0.11111,     0.11211,     0.11311,     0.11411,     0.11512,     0.11612,     0.11712,     0.11812,     0.11912,\n",
              "           0.12012,     0.12112,     0.12212,     0.12312,     0.12412,     0.12513,     0.12613,     0.12713,     0.12813,     0.12913,     0.13013,     0.13113,     0.13213,     0.13313,     0.13413,     0.13514,     0.13614,     0.13714,     0.13814,     0.13914,     0.14014,     0.14114,     0.14214,     0.14314,\n",
              "           0.14414,     0.14515,     0.14615,     0.14715,     0.14815,     0.14915,     0.15015,     0.15115,     0.15215,     0.15315,     0.15415,     0.15516,     0.15616,     0.15716,     0.15816,     0.15916,     0.16016,     0.16116,     0.16216,     0.16316,     0.16416,     0.16517,     0.16617,     0.16717,\n",
              "           0.16817,     0.16917,     0.17017,     0.17117,     0.17217,     0.17317,     0.17417,     0.17518,     0.17618,     0.17718,     0.17818,     0.17918,     0.18018,     0.18118,     0.18218,     0.18318,     0.18418,     0.18519,     0.18619,     0.18719,     0.18819,     0.18919,     0.19019,     0.19119,\n",
              "           0.19219,     0.19319,     0.19419,      0.1952,      0.1962,      0.1972,      0.1982,      0.1992,      0.2002,      0.2012,      0.2022,      0.2032,      0.2042,     0.20521,     0.20621,     0.20721,     0.20821,     0.20921,     0.21021,     0.21121,     0.21221,     0.21321,     0.21421,     0.21522,\n",
              "           0.21622,     0.21722,     0.21822,     0.21922,     0.22022,     0.22122,     0.22222,     0.22322,     0.22422,     0.22523,     0.22623,     0.22723,     0.22823,     0.22923,     0.23023,     0.23123,     0.23223,     0.23323,     0.23423,     0.23524,     0.23624,     0.23724,     0.23824,     0.23924,\n",
              "           0.24024,     0.24124,     0.24224,     0.24324,     0.24424,     0.24525,     0.24625,     0.24725,     0.24825,     0.24925,     0.25025,     0.25125,     0.25225,     0.25325,     0.25425,     0.25526,     0.25626,     0.25726,     0.25826,     0.25926,     0.26026,     0.26126,     0.26226,     0.26326,\n",
              "           0.26426,     0.26527,     0.26627,     0.26727,     0.26827,     0.26927,     0.27027,     0.27127,     0.27227,     0.27327,     0.27427,     0.27528,     0.27628,     0.27728,     0.27828,     0.27928,     0.28028,     0.28128,     0.28228,     0.28328,     0.28428,     0.28529,     0.28629,     0.28729,\n",
              "           0.28829,     0.28929,     0.29029,     0.29129,     0.29229,     0.29329,     0.29429,      0.2953,      0.2963,      0.2973,      0.2983,      0.2993,      0.3003,      0.3013,      0.3023,      0.3033,      0.3043,     0.30531,     0.30631,     0.30731,     0.30831,     0.30931,     0.31031,     0.31131,\n",
              "           0.31231,     0.31331,     0.31431,     0.31532,     0.31632,     0.31732,     0.31832,     0.31932,     0.32032,     0.32132,     0.32232,     0.32332,     0.32432,     0.32533,     0.32633,     0.32733,     0.32833,     0.32933,     0.33033,     0.33133,     0.33233,     0.33333,     0.33433,     0.33534,\n",
              "           0.33634,     0.33734,     0.33834,     0.33934,     0.34034,     0.34134,     0.34234,     0.34334,     0.34434,     0.34535,     0.34635,     0.34735,     0.34835,     0.34935,     0.35035,     0.35135,     0.35235,     0.35335,     0.35435,     0.35536,     0.35636,     0.35736,     0.35836,     0.35936,\n",
              "           0.36036,     0.36136,     0.36236,     0.36336,     0.36436,     0.36537,     0.36637,     0.36737,     0.36837,     0.36937,     0.37037,     0.37137,     0.37237,     0.37337,     0.37437,     0.37538,     0.37638,     0.37738,     0.37838,     0.37938,     0.38038,     0.38138,     0.38238,     0.38338,\n",
              "           0.38438,     0.38539,     0.38639,     0.38739,     0.38839,     0.38939,     0.39039,     0.39139,     0.39239,     0.39339,     0.39439,      0.3954,      0.3964,      0.3974,      0.3984,      0.3994,      0.4004,      0.4014,      0.4024,      0.4034,      0.4044,     0.40541,     0.40641,     0.40741,\n",
              "           0.40841,     0.40941,     0.41041,     0.41141,     0.41241,     0.41341,     0.41441,     0.41542,     0.41642,     0.41742,     0.41842,     0.41942,     0.42042,     0.42142,     0.42242,     0.42342,     0.42442,     0.42543,     0.42643,     0.42743,     0.42843,     0.42943,     0.43043,     0.43143,\n",
              "           0.43243,     0.43343,     0.43443,     0.43544,     0.43644,     0.43744,     0.43844,     0.43944,     0.44044,     0.44144,     0.44244,     0.44344,     0.44444,     0.44545,     0.44645,     0.44745,     0.44845,     0.44945,     0.45045,     0.45145,     0.45245,     0.45345,     0.45445,     0.45546,\n",
              "           0.45646,     0.45746,     0.45846,     0.45946,     0.46046,     0.46146,     0.46246,     0.46346,     0.46446,     0.46547,     0.46647,     0.46747,     0.46847,     0.46947,     0.47047,     0.47147,     0.47247,     0.47347,     0.47447,     0.47548,     0.47648,     0.47748,     0.47848,     0.47948,\n",
              "           0.48048,     0.48148,     0.48248,     0.48348,     0.48448,     0.48549,     0.48649,     0.48749,     0.48849,     0.48949,     0.49049,     0.49149,     0.49249,     0.49349,     0.49449,      0.4955,      0.4965,      0.4975,      0.4985,      0.4995,      0.5005,      0.5015,      0.5025,      0.5035,\n",
              "            0.5045,     0.50551,     0.50651,     0.50751,     0.50851,     0.50951,     0.51051,     0.51151,     0.51251,     0.51351,     0.51451,     0.51552,     0.51652,     0.51752,     0.51852,     0.51952,     0.52052,     0.52152,     0.52252,     0.52352,     0.52452,     0.52553,     0.52653,     0.52753,\n",
              "           0.52853,     0.52953,     0.53053,     0.53153,     0.53253,     0.53353,     0.53453,     0.53554,     0.53654,     0.53754,     0.53854,     0.53954,     0.54054,     0.54154,     0.54254,     0.54354,     0.54454,     0.54555,     0.54655,     0.54755,     0.54855,     0.54955,     0.55055,     0.55155,\n",
              "           0.55255,     0.55355,     0.55455,     0.55556,     0.55656,     0.55756,     0.55856,     0.55956,     0.56056,     0.56156,     0.56256,     0.56356,     0.56456,     0.56557,     0.56657,     0.56757,     0.56857,     0.56957,     0.57057,     0.57157,     0.57257,     0.57357,     0.57457,     0.57558,\n",
              "           0.57658,     0.57758,     0.57858,     0.57958,     0.58058,     0.58158,     0.58258,     0.58358,     0.58458,     0.58559,     0.58659,     0.58759,     0.58859,     0.58959,     0.59059,     0.59159,     0.59259,     0.59359,     0.59459,      0.5956,      0.5966,      0.5976,      0.5986,      0.5996,\n",
              "            0.6006,      0.6016,      0.6026,      0.6036,      0.6046,     0.60561,     0.60661,     0.60761,     0.60861,     0.60961,     0.61061,     0.61161,     0.61261,     0.61361,     0.61461,     0.61562,     0.61662,     0.61762,     0.61862,     0.61962,     0.62062,     0.62162,     0.62262,     0.62362,\n",
              "           0.62462,     0.62563,     0.62663,     0.62763,     0.62863,     0.62963,     0.63063,     0.63163,     0.63263,     0.63363,     0.63463,     0.63564,     0.63664,     0.63764,     0.63864,     0.63964,     0.64064,     0.64164,     0.64264,     0.64364,     0.64464,     0.64565,     0.64665,     0.64765,\n",
              "           0.64865,     0.64965,     0.65065,     0.65165,     0.65265,     0.65365,     0.65465,     0.65566,     0.65666,     0.65766,     0.65866,     0.65966,     0.66066,     0.66166,     0.66266,     0.66366,     0.66466,     0.66567,     0.66667,     0.66767,     0.66867,     0.66967,     0.67067,     0.67167,\n",
              "           0.67267,     0.67367,     0.67467,     0.67568,     0.67668,     0.67768,     0.67868,     0.67968,     0.68068,     0.68168,     0.68268,     0.68368,     0.68468,     0.68569,     0.68669,     0.68769,     0.68869,     0.68969,     0.69069,     0.69169,     0.69269,     0.69369,     0.69469,      0.6957,\n",
              "            0.6967,      0.6977,      0.6987,      0.6997,      0.7007,      0.7017,      0.7027,      0.7037,      0.7047,     0.70571,     0.70671,     0.70771,     0.70871,     0.70971,     0.71071,     0.71171,     0.71271,     0.71371,     0.71471,     0.71572,     0.71672,     0.71772,     0.71872,     0.71972,\n",
              "           0.72072,     0.72172,     0.72272,     0.72372,     0.72472,     0.72573,     0.72673,     0.72773,     0.72873,     0.72973,     0.73073,     0.73173,     0.73273,     0.73373,     0.73473,     0.73574,     0.73674,     0.73774,     0.73874,     0.73974,     0.74074,     0.74174,     0.74274,     0.74374,\n",
              "           0.74474,     0.74575,     0.74675,     0.74775,     0.74875,     0.74975,     0.75075,     0.75175,     0.75275,     0.75375,     0.75475,     0.75576,     0.75676,     0.75776,     0.75876,     0.75976,     0.76076,     0.76176,     0.76276,     0.76376,     0.76476,     0.76577,     0.76677,     0.76777,\n",
              "           0.76877,     0.76977,     0.77077,     0.77177,     0.77277,     0.77377,     0.77477,     0.77578,     0.77678,     0.77778,     0.77878,     0.77978,     0.78078,     0.78178,     0.78278,     0.78378,     0.78478,     0.78579,     0.78679,     0.78779,     0.78879,     0.78979,     0.79079,     0.79179,\n",
              "           0.79279,     0.79379,     0.79479,      0.7958,      0.7968,      0.7978,      0.7988,      0.7998,      0.8008,      0.8018,      0.8028,      0.8038,      0.8048,     0.80581,     0.80681,     0.80781,     0.80881,     0.80981,     0.81081,     0.81181,     0.81281,     0.81381,     0.81481,     0.81582,\n",
              "           0.81682,     0.81782,     0.81882,     0.81982,     0.82082,     0.82182,     0.82282,     0.82382,     0.82482,     0.82583,     0.82683,     0.82783,     0.82883,     0.82983,     0.83083,     0.83183,     0.83283,     0.83383,     0.83483,     0.83584,     0.83684,     0.83784,     0.83884,     0.83984,\n",
              "           0.84084,     0.84184,     0.84284,     0.84384,     0.84484,     0.84585,     0.84685,     0.84785,     0.84885,     0.84985,     0.85085,     0.85185,     0.85285,     0.85385,     0.85485,     0.85586,     0.85686,     0.85786,     0.85886,     0.85986,     0.86086,     0.86186,     0.86286,     0.86386,\n",
              "           0.86486,     0.86587,     0.86687,     0.86787,     0.86887,     0.86987,     0.87087,     0.87187,     0.87287,     0.87387,     0.87487,     0.87588,     0.87688,     0.87788,     0.87888,     0.87988,     0.88088,     0.88188,     0.88288,     0.88388,     0.88488,     0.88589,     0.88689,     0.88789,\n",
              "           0.88889,     0.88989,     0.89089,     0.89189,     0.89289,     0.89389,     0.89489,      0.8959,      0.8969,      0.8979,      0.8989,      0.8999,      0.9009,      0.9019,      0.9029,      0.9039,      0.9049,     0.90591,     0.90691,     0.90791,     0.90891,     0.90991,     0.91091,     0.91191,\n",
              "           0.91291,     0.91391,     0.91491,     0.91592,     0.91692,     0.91792,     0.91892,     0.91992,     0.92092,     0.92192,     0.92292,     0.92392,     0.92492,     0.92593,     0.92693,     0.92793,     0.92893,     0.92993,     0.93093,     0.93193,     0.93293,     0.93393,     0.93493,     0.93594,\n",
              "           0.93694,     0.93794,     0.93894,     0.93994,     0.94094,     0.94194,     0.94294,     0.94394,     0.94494,     0.94595,     0.94695,     0.94795,     0.94895,     0.94995,     0.95095,     0.95195,     0.95295,     0.95395,     0.95495,     0.95596,     0.95696,     0.95796,     0.95896,     0.95996,\n",
              "           0.96096,     0.96196,     0.96296,     0.96396,     0.96496,     0.96597,     0.96697,     0.96797,     0.96897,     0.96997,     0.97097,     0.97197,     0.97297,     0.97397,     0.97497,     0.97598,     0.97698,     0.97798,     0.97898,     0.97998,     0.98098,     0.98198,     0.98298,     0.98398,\n",
              "           0.98498,     0.98599,     0.98699,     0.98799,     0.98899,     0.98999,     0.99099,     0.99199,     0.99299,     0.99399,     0.99499,       0.996,       0.997,       0.998,       0.999,           1]), array([[  0.0040984,   0.0040984,    0.020129,    0.047593,    0.075439,     0.10718,     0.15041,     0.19234,     0.21127,     0.24318,     0.26424,     0.29468,      0.3112,      0.3196,     0.32792,     0.34623,     0.37145,     0.38605,     0.40077,     0.42804,     0.33898,     0.25174,     0.25429,\n",
              "            0.25683,     0.25934,     0.26184,     0.26432,     0.26679,     0.26924,     0.27167,     0.27409,     0.27649,     0.27887,     0.28124,     0.28359,     0.32236,     0.33668,     0.34009,     0.34347,     0.34682,     0.35013,      0.3534,     0.35665,     0.35986,     0.36304,     0.36619,\n",
              "            0.36931,     0.37239,     0.37545,     0.37848,     0.38147,     0.38444,     0.38738,      0.3903,     0.39318,     0.39604,     0.39887,     0.40092,     0.40246,     0.40398,      0.4055,     0.40702,     0.40852,     0.41002,      0.4115,     0.41299,     0.41446,     0.41593,     0.41738,\n",
              "            0.41884,     0.42028,     0.42172,     0.42315,     0.42457,     0.42599,      0.4274,      0.4288,      0.4302,     0.43158,     0.43297,     0.43434,     0.43571,     0.43707,     0.43843,     0.43978,     0.44112,     0.44246,     0.44378,     0.44511,     0.44643,     0.44774,     0.44904,\n",
              "            0.45034,     0.45163,     0.45292,      0.4542,     0.45547,     0.45674,       0.458,     0.45926,     0.46051,     0.46176,       0.463,     0.46423,     0.46546,     0.46668,      0.4679,     0.46911,     0.47031,     0.47151,     0.47271,      0.4739,     0.47508,     0.47626,     0.47743,\n",
              "             0.4786,     0.47976,     0.48092,     0.48208,     0.48322,     0.48437,      0.4855,     0.48664,     0.48776,     0.48889,        0.49,     0.49112,     0.49222,     0.49333,     0.49443,     0.49552,     0.49661,     0.49769,     0.49877,     0.49985,     0.50071,     0.50153,     0.50235,\n",
              "            0.50317,     0.50399,      0.5048,     0.50561,     0.50642,     0.50722,     0.50802,     0.50882,     0.50962,     0.51041,     0.51121,       0.512,     0.51278,     0.51357,     0.51435,     0.51513,     0.51591,     0.51668,     0.51745,     0.51822,     0.51899,     0.51975,     0.52051,\n",
              "            0.52127,     0.52203,     0.52279,     0.52354,     0.52429,     0.52504,     0.52578,     0.52652,     0.52726,       0.528,     0.52874,     0.52947,      0.5302,     0.53093,     0.53166,     0.53239,     0.53311,     0.53383,     0.53455,     0.53526,     0.53598,     0.53669,      0.5374,\n",
              "             0.5381,     0.53881,     0.53951,     0.54021,     0.54091,     0.54161,      0.5423,     0.54299,     0.54368,     0.54437,     0.54506,     0.54574,     0.54642,      0.5471,     0.54778,     0.54846,     0.54913,      0.5498,     0.55047,     0.55114,      0.5518,     0.55247,     0.55313,\n",
              "            0.55379,     0.55445,      0.5551,     0.55576,     0.55641,     0.55706,     0.55771,     0.55836,       0.559,     0.55964,     0.56028,     0.56092,     0.56156,     0.56219,     0.56283,     0.56346,     0.56409,     0.56472,     0.56534,     0.56597,     0.56659,     0.56721,     0.56783,\n",
              "            0.56845,     0.56906,     0.56968,     0.57029,      0.5709,     0.57151,     0.57211,     0.57272,     0.57332,     0.57392,     0.57452,     0.57512,     0.57572,     0.57631,     0.57691,      0.5775,     0.57809,     0.57868,     0.57926,     0.57985,     0.58043,     0.58101,     0.58159,\n",
              "            0.58217,     0.58275,     0.58332,      0.5839,     0.58447,     0.58504,     0.58561,     0.58618,     0.58674,     0.58731,     0.58787,     0.58843,     0.58899,     0.58955,     0.59011,     0.59066,     0.59121,     0.59177,     0.59232,     0.59287,     0.59341,     0.59396,     0.59451,\n",
              "            0.59505,     0.59559,     0.59613,     0.59667,     0.59721,     0.59774,     0.59828,     0.59881,     0.59934,     0.59987,      0.6004,     0.60093,     0.60146,     0.60198,     0.60251,     0.60303,     0.60355,     0.60407,     0.60459,      0.6051,     0.60562,     0.60613,     0.60665,\n",
              "            0.60716,     0.60767,     0.60818,     0.60868,     0.60919,     0.60969,      0.6102,      0.6107,      0.6112,      0.6117,      0.6122,      0.6127,     0.61319,     0.61369,     0.61418,     0.61467,     0.61516,     0.61565,     0.61614,     0.61663,     0.61711,      0.6176,     0.61808,\n",
              "            0.61856,     0.61904,     0.61952,        0.62,     0.62048,     0.62095,     0.62143,      0.6219,     0.62238,     0.62285,     0.62332,     0.62379,     0.62425,     0.62472,     0.62519,     0.62565,     0.62611,     0.62657,     0.62704,      0.6275,     0.62795,     0.62841,     0.62887,\n",
              "            0.62932,     0.62978,     0.63023,     0.63068,     0.63113,     0.63158,     0.63203,     0.63248,     0.63293,     0.63337,     0.63381,     0.63426,      0.6347,     0.63514,     0.63558,     0.63602,     0.63646,      0.6369,     0.63733,     0.63777,      0.6382,     0.63863,     0.63906,\n",
              "            0.63949,     0.63992,     0.64035,     0.64078,     0.64121,     0.64163,     0.64206,     0.64248,      0.6429,     0.64332,     0.64374,     0.64416,     0.64458,       0.645,     0.64542,     0.64583,     0.64625,     0.64666,     0.64707,     0.64748,      0.6479,     0.64831,     0.64871,\n",
              "            0.64912,     0.64953,     0.64993,     0.65034,     0.65074,     0.65115,     0.65155,     0.65195,     0.65235,     0.65275,     0.65315,     0.65355,     0.65394,     0.65434,     0.65473,     0.65513,     0.65552,     0.65591,     0.65631,      0.6567,     0.65709,     0.65747,     0.65786,\n",
              "            0.65825,     0.65863,     0.65902,      0.6594,     0.65979,     0.66017,     0.66055,     0.66093,     0.66131,     0.66169,     0.66207,     0.66245,     0.66282,      0.6632,     0.66358,     0.66395,     0.66432,     0.66469,     0.66507,     0.66544,     0.66581,     0.66618,     0.66654,\n",
              "                  0,           0,           0,           0,           0,           0,           0,           0,           0,           0,           0,           0,           0,           0,           0,           0,           0,           0,           0,           0,           0,           0,           0,\n",
              "                  0,           0,           0,           0,           0,           0,           0,           0,           0,           0,           0,           0,           0,           0,           0,           0,           0,           0,           0,           0,           0,           0,           0,\n",
              "                  0,           0,           0,           0,           0,           0,           0,           0,           0,           0,           0,           0,           0,           0,           0,           0,           0,           0,           0,           0,           0,           0,           0,\n",
              "                  0,           0,           0,           0,           0,           0,           0,           0,           0,           0,           0,           0,           0,           0,           0,           0,           0,           0,           0,           0,           0,           0,           0,\n",
              "                  0,           0,           0,           0,           0,           0,           0,           0,           0,           0,           0,           0,           0,           0,           0,           0,           0,           0,           0,           0,           0,           0,           0,\n",
              "                  0,           0,           0,           0,           0,           0,           0,           0,           0,           0,           0,           0,           0,           0,           0,           0,           0,           0,           0,           0,           0,           0,           0,\n",
              "                  0,           0,           0,           0,           0,           0,           0,           0,           0,           0,           0,           0,           0,           0,           0,           0,           0,           0,           0,           0,           0,           0,           0,\n",
              "                  0,           0,           0,           0,           0,           0,           0,           0,           0,           0,           0,           0,           0,           0,           0,           0,           0,           0,           0,           0,           0,           0,           0,\n",
              "                  0,           0,           0,           0,           0,           0,           0,           0,           0,           0,           0,           0,           0,           0,           0,           0,           0,           0,           0,           0,           0,           0,           0,\n",
              "                  0,           0,           0,           0,           0,           0,           0,           0,           0,           0,           0,           0,           0,           0,           0,           0,           0,           0,           0,           0,           0,           0,           0,\n",
              "                  0,           0,           0,           0,           0,           0,           0,           0,           0,           0,           0,           0,           0,           0,           0,           0,           0,           0,           0,           0,           0,           0,           0,\n",
              "                  0,           0,           0,           0,           0,           0,           0,           0,           0,           0,           0,           0,           0,           0,           0,           0,           0,           0,           0,           0,           0,           0,           0,\n",
              "                  0,           0,           0,           0,           0,           0,           0,           0,           0,           0,           0,           0,           0,           0,           0,           0,           0,           0,           0,           0,           0,           0,           0,\n",
              "                  0,           0,           0,           0,           0,           0,           0,           0,           0,           0,           0,           0,           0,           0,           0,           0,           0,           0,           0,           0,           0,           0,           0,\n",
              "                  0,           0,           0,           0,           0,           0,           0,           0,           0,           0,           0,           0,           0,           0,           0,           0,           0,           0,           0,           0,           0,           0,           0,\n",
              "                  0,           0,           0,           0,           0,           0,           0,           0,           0,           0,           0,           0,           0,           0,           0,           0,           0,           0,           0,           0,           0,           0,           0,\n",
              "                  0,           0,           0,           0,           0,           0,           0,           0,           0,           0,           0,           0,           0,           0,           0,           0,           0,           0,           0,           0,           0,           0,           0,\n",
              "                  0,           0,           0,           0,           0,           0,           0,           0,           0,           0,           0,           0,           0,           0,           0,           0,           0,           0,           0,           0,           0,           0,           0,\n",
              "                  0,           0,           0,           0,           0,           0,           0,           0,           0,           0,           0,           0,           0,           0,           0,           0,           0,           0,           0,           0,           0,           0,           0,\n",
              "                  0,           0,           0,           0,           0,           0,           0,           0,           0,           0,           0,           0,           0,           0,           0,           0,           0,           0,           0,           0,           0,           0,           0,\n",
              "                  0,           0,           0,           0,           0,           0,           0,           0,           0,           0,           0,           0,           0,           0,           0,           0,           0,           0,           0,           0,           0,           0,           0,\n",
              "                  0,           0,           0,           0,           0,           0,           0,           0,           0,           0,           0,           0,           0,           0,           0,           0,           0,           0,           0,           0,           0,           0,           0,\n",
              "                  0,           0,           0,           0,           0,           0,           0,           0,           0,           0,           0,           0,           0,           0,           0,           0,           0,           0,           0,           0,           0,           0,           0,\n",
              "                  0,           0,           0,           0,           0,           0,           0,           0,           0,           0,           0,           0,           0,           0,           0,           0,           0,           0,           0,           0,           0,           0,           0,\n",
              "                  0,           0,           0,           0,           0,           0,           0,           0,           0,           0,           0]]), 'Confidence', 'F1'], [array([          0,    0.001001,    0.002002,    0.003003,    0.004004,    0.005005,    0.006006,    0.007007,    0.008008,    0.009009,     0.01001,    0.011011,    0.012012,    0.013013,    0.014014,    0.015015,    0.016016,    0.017017,    0.018018,    0.019019,     0.02002,    0.021021,    0.022022,    0.023023,\n",
              "          0.024024,    0.025025,    0.026026,    0.027027,    0.028028,    0.029029,     0.03003,    0.031031,    0.032032,    0.033033,    0.034034,    0.035035,    0.036036,    0.037037,    0.038038,    0.039039,     0.04004,    0.041041,    0.042042,    0.043043,    0.044044,    0.045045,    0.046046,    0.047047,\n",
              "          0.048048,    0.049049,     0.05005,    0.051051,    0.052052,    0.053053,    0.054054,    0.055055,    0.056056,    0.057057,    0.058058,    0.059059,     0.06006,    0.061061,    0.062062,    0.063063,    0.064064,    0.065065,    0.066066,    0.067067,    0.068068,    0.069069,     0.07007,    0.071071,\n",
              "          0.072072,    0.073073,    0.074074,    0.075075,    0.076076,    0.077077,    0.078078,    0.079079,     0.08008,    0.081081,    0.082082,    0.083083,    0.084084,    0.085085,    0.086086,    0.087087,    0.088088,    0.089089,     0.09009,    0.091091,    0.092092,    0.093093,    0.094094,    0.095095,\n",
              "          0.096096,    0.097097,    0.098098,    0.099099,      0.1001,      0.1011,      0.1021,      0.1031,      0.1041,     0.10511,     0.10611,     0.10711,     0.10811,     0.10911,     0.11011,     0.11111,     0.11211,     0.11311,     0.11411,     0.11512,     0.11612,     0.11712,     0.11812,     0.11912,\n",
              "           0.12012,     0.12112,     0.12212,     0.12312,     0.12412,     0.12513,     0.12613,     0.12713,     0.12813,     0.12913,     0.13013,     0.13113,     0.13213,     0.13313,     0.13413,     0.13514,     0.13614,     0.13714,     0.13814,     0.13914,     0.14014,     0.14114,     0.14214,     0.14314,\n",
              "           0.14414,     0.14515,     0.14615,     0.14715,     0.14815,     0.14915,     0.15015,     0.15115,     0.15215,     0.15315,     0.15415,     0.15516,     0.15616,     0.15716,     0.15816,     0.15916,     0.16016,     0.16116,     0.16216,     0.16316,     0.16416,     0.16517,     0.16617,     0.16717,\n",
              "           0.16817,     0.16917,     0.17017,     0.17117,     0.17217,     0.17317,     0.17417,     0.17518,     0.17618,     0.17718,     0.17818,     0.17918,     0.18018,     0.18118,     0.18218,     0.18318,     0.18418,     0.18519,     0.18619,     0.18719,     0.18819,     0.18919,     0.19019,     0.19119,\n",
              "           0.19219,     0.19319,     0.19419,      0.1952,      0.1962,      0.1972,      0.1982,      0.1992,      0.2002,      0.2012,      0.2022,      0.2032,      0.2042,     0.20521,     0.20621,     0.20721,     0.20821,     0.20921,     0.21021,     0.21121,     0.21221,     0.21321,     0.21421,     0.21522,\n",
              "           0.21622,     0.21722,     0.21822,     0.21922,     0.22022,     0.22122,     0.22222,     0.22322,     0.22422,     0.22523,     0.22623,     0.22723,     0.22823,     0.22923,     0.23023,     0.23123,     0.23223,     0.23323,     0.23423,     0.23524,     0.23624,     0.23724,     0.23824,     0.23924,\n",
              "           0.24024,     0.24124,     0.24224,     0.24324,     0.24424,     0.24525,     0.24625,     0.24725,     0.24825,     0.24925,     0.25025,     0.25125,     0.25225,     0.25325,     0.25425,     0.25526,     0.25626,     0.25726,     0.25826,     0.25926,     0.26026,     0.26126,     0.26226,     0.26326,\n",
              "           0.26426,     0.26527,     0.26627,     0.26727,     0.26827,     0.26927,     0.27027,     0.27127,     0.27227,     0.27327,     0.27427,     0.27528,     0.27628,     0.27728,     0.27828,     0.27928,     0.28028,     0.28128,     0.28228,     0.28328,     0.28428,     0.28529,     0.28629,     0.28729,\n",
              "           0.28829,     0.28929,     0.29029,     0.29129,     0.29229,     0.29329,     0.29429,      0.2953,      0.2963,      0.2973,      0.2983,      0.2993,      0.3003,      0.3013,      0.3023,      0.3033,      0.3043,     0.30531,     0.30631,     0.30731,     0.30831,     0.30931,     0.31031,     0.31131,\n",
              "           0.31231,     0.31331,     0.31431,     0.31532,     0.31632,     0.31732,     0.31832,     0.31932,     0.32032,     0.32132,     0.32232,     0.32332,     0.32432,     0.32533,     0.32633,     0.32733,     0.32833,     0.32933,     0.33033,     0.33133,     0.33233,     0.33333,     0.33433,     0.33534,\n",
              "           0.33634,     0.33734,     0.33834,     0.33934,     0.34034,     0.34134,     0.34234,     0.34334,     0.34434,     0.34535,     0.34635,     0.34735,     0.34835,     0.34935,     0.35035,     0.35135,     0.35235,     0.35335,     0.35435,     0.35536,     0.35636,     0.35736,     0.35836,     0.35936,\n",
              "           0.36036,     0.36136,     0.36236,     0.36336,     0.36436,     0.36537,     0.36637,     0.36737,     0.36837,     0.36937,     0.37037,     0.37137,     0.37237,     0.37337,     0.37437,     0.37538,     0.37638,     0.37738,     0.37838,     0.37938,     0.38038,     0.38138,     0.38238,     0.38338,\n",
              "           0.38438,     0.38539,     0.38639,     0.38739,     0.38839,     0.38939,     0.39039,     0.39139,     0.39239,     0.39339,     0.39439,      0.3954,      0.3964,      0.3974,      0.3984,      0.3994,      0.4004,      0.4014,      0.4024,      0.4034,      0.4044,     0.40541,     0.40641,     0.40741,\n",
              "           0.40841,     0.40941,     0.41041,     0.41141,     0.41241,     0.41341,     0.41441,     0.41542,     0.41642,     0.41742,     0.41842,     0.41942,     0.42042,     0.42142,     0.42242,     0.42342,     0.42442,     0.42543,     0.42643,     0.42743,     0.42843,     0.42943,     0.43043,     0.43143,\n",
              "           0.43243,     0.43343,     0.43443,     0.43544,     0.43644,     0.43744,     0.43844,     0.43944,     0.44044,     0.44144,     0.44244,     0.44344,     0.44444,     0.44545,     0.44645,     0.44745,     0.44845,     0.44945,     0.45045,     0.45145,     0.45245,     0.45345,     0.45445,     0.45546,\n",
              "           0.45646,     0.45746,     0.45846,     0.45946,     0.46046,     0.46146,     0.46246,     0.46346,     0.46446,     0.46547,     0.46647,     0.46747,     0.46847,     0.46947,     0.47047,     0.47147,     0.47247,     0.47347,     0.47447,     0.47548,     0.47648,     0.47748,     0.47848,     0.47948,\n",
              "           0.48048,     0.48148,     0.48248,     0.48348,     0.48448,     0.48549,     0.48649,     0.48749,     0.48849,     0.48949,     0.49049,     0.49149,     0.49249,     0.49349,     0.49449,      0.4955,      0.4965,      0.4975,      0.4985,      0.4995,      0.5005,      0.5015,      0.5025,      0.5035,\n",
              "            0.5045,     0.50551,     0.50651,     0.50751,     0.50851,     0.50951,     0.51051,     0.51151,     0.51251,     0.51351,     0.51451,     0.51552,     0.51652,     0.51752,     0.51852,     0.51952,     0.52052,     0.52152,     0.52252,     0.52352,     0.52452,     0.52553,     0.52653,     0.52753,\n",
              "           0.52853,     0.52953,     0.53053,     0.53153,     0.53253,     0.53353,     0.53453,     0.53554,     0.53654,     0.53754,     0.53854,     0.53954,     0.54054,     0.54154,     0.54254,     0.54354,     0.54454,     0.54555,     0.54655,     0.54755,     0.54855,     0.54955,     0.55055,     0.55155,\n",
              "           0.55255,     0.55355,     0.55455,     0.55556,     0.55656,     0.55756,     0.55856,     0.55956,     0.56056,     0.56156,     0.56256,     0.56356,     0.56456,     0.56557,     0.56657,     0.56757,     0.56857,     0.56957,     0.57057,     0.57157,     0.57257,     0.57357,     0.57457,     0.57558,\n",
              "           0.57658,     0.57758,     0.57858,     0.57958,     0.58058,     0.58158,     0.58258,     0.58358,     0.58458,     0.58559,     0.58659,     0.58759,     0.58859,     0.58959,     0.59059,     0.59159,     0.59259,     0.59359,     0.59459,      0.5956,      0.5966,      0.5976,      0.5986,      0.5996,\n",
              "            0.6006,      0.6016,      0.6026,      0.6036,      0.6046,     0.60561,     0.60661,     0.60761,     0.60861,     0.60961,     0.61061,     0.61161,     0.61261,     0.61361,     0.61461,     0.61562,     0.61662,     0.61762,     0.61862,     0.61962,     0.62062,     0.62162,     0.62262,     0.62362,\n",
              "           0.62462,     0.62563,     0.62663,     0.62763,     0.62863,     0.62963,     0.63063,     0.63163,     0.63263,     0.63363,     0.63463,     0.63564,     0.63664,     0.63764,     0.63864,     0.63964,     0.64064,     0.64164,     0.64264,     0.64364,     0.64464,     0.64565,     0.64665,     0.64765,\n",
              "           0.64865,     0.64965,     0.65065,     0.65165,     0.65265,     0.65365,     0.65465,     0.65566,     0.65666,     0.65766,     0.65866,     0.65966,     0.66066,     0.66166,     0.66266,     0.66366,     0.66466,     0.66567,     0.66667,     0.66767,     0.66867,     0.66967,     0.67067,     0.67167,\n",
              "           0.67267,     0.67367,     0.67467,     0.67568,     0.67668,     0.67768,     0.67868,     0.67968,     0.68068,     0.68168,     0.68268,     0.68368,     0.68468,     0.68569,     0.68669,     0.68769,     0.68869,     0.68969,     0.69069,     0.69169,     0.69269,     0.69369,     0.69469,      0.6957,\n",
              "            0.6967,      0.6977,      0.6987,      0.6997,      0.7007,      0.7017,      0.7027,      0.7037,      0.7047,     0.70571,     0.70671,     0.70771,     0.70871,     0.70971,     0.71071,     0.71171,     0.71271,     0.71371,     0.71471,     0.71572,     0.71672,     0.71772,     0.71872,     0.71972,\n",
              "           0.72072,     0.72172,     0.72272,     0.72372,     0.72472,     0.72573,     0.72673,     0.72773,     0.72873,     0.72973,     0.73073,     0.73173,     0.73273,     0.73373,     0.73473,     0.73574,     0.73674,     0.73774,     0.73874,     0.73974,     0.74074,     0.74174,     0.74274,     0.74374,\n",
              "           0.74474,     0.74575,     0.74675,     0.74775,     0.74875,     0.74975,     0.75075,     0.75175,     0.75275,     0.75375,     0.75475,     0.75576,     0.75676,     0.75776,     0.75876,     0.75976,     0.76076,     0.76176,     0.76276,     0.76376,     0.76476,     0.76577,     0.76677,     0.76777,\n",
              "           0.76877,     0.76977,     0.77077,     0.77177,     0.77277,     0.77377,     0.77477,     0.77578,     0.77678,     0.77778,     0.77878,     0.77978,     0.78078,     0.78178,     0.78278,     0.78378,     0.78478,     0.78579,     0.78679,     0.78779,     0.78879,     0.78979,     0.79079,     0.79179,\n",
              "           0.79279,     0.79379,     0.79479,      0.7958,      0.7968,      0.7978,      0.7988,      0.7998,      0.8008,      0.8018,      0.8028,      0.8038,      0.8048,     0.80581,     0.80681,     0.80781,     0.80881,     0.80981,     0.81081,     0.81181,     0.81281,     0.81381,     0.81481,     0.81582,\n",
              "           0.81682,     0.81782,     0.81882,     0.81982,     0.82082,     0.82182,     0.82282,     0.82382,     0.82482,     0.82583,     0.82683,     0.82783,     0.82883,     0.82983,     0.83083,     0.83183,     0.83283,     0.83383,     0.83483,     0.83584,     0.83684,     0.83784,     0.83884,     0.83984,\n",
              "           0.84084,     0.84184,     0.84284,     0.84384,     0.84484,     0.84585,     0.84685,     0.84785,     0.84885,     0.84985,     0.85085,     0.85185,     0.85285,     0.85385,     0.85485,     0.85586,     0.85686,     0.85786,     0.85886,     0.85986,     0.86086,     0.86186,     0.86286,     0.86386,\n",
              "           0.86486,     0.86587,     0.86687,     0.86787,     0.86887,     0.86987,     0.87087,     0.87187,     0.87287,     0.87387,     0.87487,     0.87588,     0.87688,     0.87788,     0.87888,     0.87988,     0.88088,     0.88188,     0.88288,     0.88388,     0.88488,     0.88589,     0.88689,     0.88789,\n",
              "           0.88889,     0.88989,     0.89089,     0.89189,     0.89289,     0.89389,     0.89489,      0.8959,      0.8969,      0.8979,      0.8989,      0.8999,      0.9009,      0.9019,      0.9029,      0.9039,      0.9049,     0.90591,     0.90691,     0.90791,     0.90891,     0.90991,     0.91091,     0.91191,\n",
              "           0.91291,     0.91391,     0.91491,     0.91592,     0.91692,     0.91792,     0.91892,     0.91992,     0.92092,     0.92192,     0.92292,     0.92392,     0.92492,     0.92593,     0.92693,     0.92793,     0.92893,     0.92993,     0.93093,     0.93193,     0.93293,     0.93393,     0.93493,     0.93594,\n",
              "           0.93694,     0.93794,     0.93894,     0.93994,     0.94094,     0.94194,     0.94294,     0.94394,     0.94494,     0.94595,     0.94695,     0.94795,     0.94895,     0.94995,     0.95095,     0.95195,     0.95295,     0.95395,     0.95495,     0.95596,     0.95696,     0.95796,     0.95896,     0.95996,\n",
              "           0.96096,     0.96196,     0.96296,     0.96396,     0.96496,     0.96597,     0.96697,     0.96797,     0.96897,     0.96997,     0.97097,     0.97197,     0.97297,     0.97397,     0.97497,     0.97598,     0.97698,     0.97798,     0.97898,     0.97998,     0.98098,     0.98198,     0.98298,     0.98398,\n",
              "           0.98498,     0.98599,     0.98699,     0.98799,     0.98899,     0.98999,     0.99099,     0.99199,     0.99299,     0.99399,     0.99499,       0.996,       0.997,       0.998,       0.999,           1]), array([[  0.0020534,   0.0020534,    0.010167,    0.024376,    0.039198,    0.056626,     0.08132,      0.1064,     0.11811,     0.13842,     0.15224,      0.1728,     0.18427,     0.19019,     0.19611,     0.20936,     0.22809,      0.2392,      0.2506,      0.2723,     0.22093,     0.16822,     0.17051,\n",
              "            0.17279,     0.17508,     0.17736,     0.17965,     0.18193,     0.18422,      0.1865,     0.18879,     0.19107,     0.19336,     0.19564,     0.19793,     0.23785,     0.25378,     0.25768,     0.26158,     0.26548,     0.26938,     0.27328,     0.27718,     0.28108,     0.28498,     0.28888,\n",
              "            0.29278,     0.29668,     0.30058,     0.30447,     0.30837,     0.31227,     0.31617,     0.32007,     0.32397,     0.32787,     0.33177,     0.33462,     0.33676,     0.33891,     0.34105,     0.34319,     0.34534,     0.34748,     0.34962,     0.35177,     0.35391,     0.35606,      0.3582,\n",
              "            0.36034,     0.36249,     0.36463,     0.36678,     0.36892,     0.37106,     0.37321,     0.37535,     0.37749,     0.37964,     0.38178,     0.38393,     0.38607,     0.38821,     0.39036,      0.3925,     0.39464,     0.39679,     0.39893,     0.40108,     0.40322,     0.40536,     0.40751,\n",
              "            0.40965,      0.4118,     0.41394,     0.41608,     0.41823,     0.42037,     0.42251,     0.42466,      0.4268,     0.42895,     0.43109,     0.43323,     0.43538,     0.43752,     0.43967,     0.44181,     0.44395,      0.4461,     0.44824,     0.45038,     0.45253,     0.45467,     0.45682,\n",
              "            0.45896,      0.4611,     0.46325,     0.46539,     0.46754,     0.46968,     0.47182,     0.47397,     0.47611,     0.47825,      0.4804,     0.48254,     0.48469,     0.48683,     0.48897,     0.49112,     0.49326,     0.49541,     0.49755,     0.49969,     0.50142,     0.50307,     0.50473,\n",
              "            0.50638,     0.50804,     0.50969,     0.51135,       0.513,     0.51465,     0.51631,     0.51796,     0.51962,     0.52127,     0.52293,     0.52458,     0.52624,     0.52789,     0.52955,      0.5312,     0.53286,     0.53451,     0.53616,     0.53782,     0.53947,     0.54113,     0.54278,\n",
              "            0.54444,     0.54609,     0.54775,      0.5494,     0.55106,     0.55271,     0.55437,     0.55602,     0.55767,     0.55933,     0.56098,     0.56264,     0.56429,     0.56595,      0.5676,     0.56926,     0.57091,     0.57257,     0.57422,     0.57587,     0.57753,     0.57918,     0.58084,\n",
              "            0.58249,     0.58415,      0.5858,     0.58746,     0.58911,     0.59077,     0.59242,     0.59408,     0.59573,     0.59738,     0.59904,     0.60069,     0.60235,       0.604,     0.60566,     0.60731,     0.60897,     0.61062,     0.61228,     0.61393,     0.61559,     0.61724,     0.61889,\n",
              "            0.62055,      0.6222,     0.62386,     0.62551,     0.62717,     0.62882,     0.63048,     0.63213,     0.63379,     0.63544,      0.6371,     0.63875,      0.6404,     0.64206,     0.64371,     0.64537,     0.64702,     0.64868,     0.65033,     0.65199,     0.65364,      0.6553,     0.65695,\n",
              "             0.6586,     0.66026,     0.66191,     0.66357,     0.66522,     0.66688,     0.66853,     0.67019,     0.67184,      0.6735,     0.67515,     0.67681,     0.67846,     0.68011,     0.68177,     0.68342,     0.68508,     0.68673,     0.68839,     0.69004,      0.6917,     0.69335,     0.69501,\n",
              "            0.69666,     0.69832,     0.69997,     0.70162,     0.70328,     0.70493,     0.70659,     0.70824,      0.7099,     0.71155,     0.71321,     0.71486,     0.71652,     0.71817,     0.71983,     0.72148,     0.72313,     0.72479,     0.72644,      0.7281,     0.72975,     0.73141,     0.73306,\n",
              "            0.73472,     0.73637,     0.73803,     0.73968,     0.74133,     0.74299,     0.74464,      0.7463,     0.74795,     0.74961,     0.75126,     0.75292,     0.75457,     0.75623,     0.75788,     0.75954,     0.76119,     0.76284,      0.7645,     0.76615,     0.76781,     0.76946,     0.77112,\n",
              "            0.77277,     0.77443,     0.77608,     0.77774,     0.77939,     0.78105,      0.7827,     0.78435,     0.78601,     0.78766,     0.78932,     0.79097,     0.79263,     0.79428,     0.79594,     0.79759,     0.79925,      0.8009,     0.80256,     0.80421,     0.80586,     0.80752,     0.80917,\n",
              "            0.81083,     0.81248,     0.81414,     0.81579,     0.81745,      0.8191,     0.82076,     0.82241,     0.82406,     0.82572,     0.82737,     0.82903,     0.83068,     0.83234,     0.83399,     0.83565,      0.8373,     0.83896,     0.84061,     0.84227,     0.84392,     0.84557,     0.84723,\n",
              "            0.84888,     0.85054,     0.85219,     0.85385,      0.8555,     0.85716,     0.85881,     0.86047,     0.86212,     0.86378,     0.86543,     0.86708,     0.86874,     0.87039,     0.87205,      0.8737,     0.87536,     0.87701,     0.87867,     0.88032,     0.88198,     0.88363,     0.88529,\n",
              "            0.88694,     0.88859,     0.89025,      0.8919,     0.89356,     0.89521,     0.89687,     0.89852,     0.90018,     0.90183,     0.90349,     0.90514,      0.9068,     0.90845,      0.9101,     0.91176,     0.91341,     0.91507,     0.91672,     0.91838,     0.92003,     0.92169,     0.92334,\n",
              "              0.925,     0.92665,      0.9283,     0.92996,     0.93161,     0.93327,     0.93492,     0.93658,     0.93823,     0.93989,     0.94154,      0.9432,     0.94485,     0.94651,     0.94816,     0.94981,     0.95147,     0.95312,     0.95478,     0.95643,     0.95809,     0.95974,      0.9614,\n",
              "            0.96305,     0.96471,     0.96636,     0.96802,     0.96967,     0.97132,     0.97298,     0.97463,     0.97629,     0.97794,      0.9796,     0.98125,     0.98291,     0.98456,     0.98622,     0.98787,     0.98953,     0.99118,     0.99283,     0.99449,     0.99614,      0.9978,     0.99945,\n",
              "                  1,           1,           1,           1,           1,           1,           1,           1,           1,           1,           1,           1,           1,           1,           1,           1,           1,           1,           1,           1,           1,           1,           1,\n",
              "                  1,           1,           1,           1,           1,           1,           1,           1,           1,           1,           1,           1,           1,           1,           1,           1,           1,           1,           1,           1,           1,           1,           1,\n",
              "                  1,           1,           1,           1,           1,           1,           1,           1,           1,           1,           1,           1,           1,           1,           1,           1,           1,           1,           1,           1,           1,           1,           1,\n",
              "                  1,           1,           1,           1,           1,           1,           1,           1,           1,           1,           1,           1,           1,           1,           1,           1,           1,           1,           1,           1,           1,           1,           1,\n",
              "                  1,           1,           1,           1,           1,           1,           1,           1,           1,           1,           1,           1,           1,           1,           1,           1,           1,           1,           1,           1,           1,           1,           1,\n",
              "                  1,           1,           1,           1,           1,           1,           1,           1,           1,           1,           1,           1,           1,           1,           1,           1,           1,           1,           1,           1,           1,           1,           1,\n",
              "                  1,           1,           1,           1,           1,           1,           1,           1,           1,           1,           1,           1,           1,           1,           1,           1,           1,           1,           1,           1,           1,           1,           1,\n",
              "                  1,           1,           1,           1,           1,           1,           1,           1,           1,           1,           1,           1,           1,           1,           1,           1,           1,           1,           1,           1,           1,           1,           1,\n",
              "                  1,           1,           1,           1,           1,           1,           1,           1,           1,           1,           1,           1,           1,           1,           1,           1,           1,           1,           1,           1,           1,           1,           1,\n",
              "                  1,           1,           1,           1,           1,           1,           1,           1,           1,           1,           1,           1,           1,           1,           1,           1,           1,           1,           1,           1,           1,           1,           1,\n",
              "                  1,           1,           1,           1,           1,           1,           1,           1,           1,           1,           1,           1,           1,           1,           1,           1,           1,           1,           1,           1,           1,           1,           1,\n",
              "                  1,           1,           1,           1,           1,           1,           1,           1,           1,           1,           1,           1,           1,           1,           1,           1,           1,           1,           1,           1,           1,           1,           1,\n",
              "                  1,           1,           1,           1,           1,           1,           1,           1,           1,           1,           1,           1,           1,           1,           1,           1,           1,           1,           1,           1,           1,           1,           1,\n",
              "                  1,           1,           1,           1,           1,           1,           1,           1,           1,           1,           1,           1,           1,           1,           1,           1,           1,           1,           1,           1,           1,           1,           1,\n",
              "                  1,           1,           1,           1,           1,           1,           1,           1,           1,           1,           1,           1,           1,           1,           1,           1,           1,           1,           1,           1,           1,           1,           1,\n",
              "                  1,           1,           1,           1,           1,           1,           1,           1,           1,           1,           1,           1,           1,           1,           1,           1,           1,           1,           1,           1,           1,           1,           1,\n",
              "                  1,           1,           1,           1,           1,           1,           1,           1,           1,           1,           1,           1,           1,           1,           1,           1,           1,           1,           1,           1,           1,           1,           1,\n",
              "                  1,           1,           1,           1,           1,           1,           1,           1,           1,           1,           1,           1,           1,           1,           1,           1,           1,           1,           1,           1,           1,           1,           1,\n",
              "                  1,           1,           1,           1,           1,           1,           1,           1,           1,           1,           1,           1,           1,           1,           1,           1,           1,           1,           1,           1,           1,           1,           1,\n",
              "                  1,           1,           1,           1,           1,           1,           1,           1,           1,           1,           1,           1,           1,           1,           1,           1,           1,           1,           1,           1,           1,           1,           1,\n",
              "                  1,           1,           1,           1,           1,           1,           1,           1,           1,           1,           1,           1,           1,           1,           1,           1,           1,           1,           1,           1,           1,           1,           1,\n",
              "                  1,           1,           1,           1,           1,           1,           1,           1,           1,           1,           1,           1,           1,           1,           1,           1,           1,           1,           1,           1,           1,           1,           1,\n",
              "                  1,           1,           1,           1,           1,           1,           1,           1,           1,           1,           1,           1,           1,           1,           1,           1,           1,           1,           1,           1,           1,           1,           1,\n",
              "                  1,           1,           1,           1,           1,           1,           1,           1,           1,           1,           1,           1,           1,           1,           1,           1,           1,           1,           1,           1,           1,           1,           1,\n",
              "                  1,           1,           1,           1,           1,           1,           1,           1,           1,           1,           1]]), 'Confidence', 'Precision'], [array([          0,    0.001001,    0.002002,    0.003003,    0.004004,    0.005005,    0.006006,    0.007007,    0.008008,    0.009009,     0.01001,    0.011011,    0.012012,    0.013013,    0.014014,    0.015015,    0.016016,    0.017017,    0.018018,    0.019019,     0.02002,    0.021021,    0.022022,    0.023023,\n",
              "          0.024024,    0.025025,    0.026026,    0.027027,    0.028028,    0.029029,     0.03003,    0.031031,    0.032032,    0.033033,    0.034034,    0.035035,    0.036036,    0.037037,    0.038038,    0.039039,     0.04004,    0.041041,    0.042042,    0.043043,    0.044044,    0.045045,    0.046046,    0.047047,\n",
              "          0.048048,    0.049049,     0.05005,    0.051051,    0.052052,    0.053053,    0.054054,    0.055055,    0.056056,    0.057057,    0.058058,    0.059059,     0.06006,    0.061061,    0.062062,    0.063063,    0.064064,    0.065065,    0.066066,    0.067067,    0.068068,    0.069069,     0.07007,    0.071071,\n",
              "          0.072072,    0.073073,    0.074074,    0.075075,    0.076076,    0.077077,    0.078078,    0.079079,     0.08008,    0.081081,    0.082082,    0.083083,    0.084084,    0.085085,    0.086086,    0.087087,    0.088088,    0.089089,     0.09009,    0.091091,    0.092092,    0.093093,    0.094094,    0.095095,\n",
              "          0.096096,    0.097097,    0.098098,    0.099099,      0.1001,      0.1011,      0.1021,      0.1031,      0.1041,     0.10511,     0.10611,     0.10711,     0.10811,     0.10911,     0.11011,     0.11111,     0.11211,     0.11311,     0.11411,     0.11512,     0.11612,     0.11712,     0.11812,     0.11912,\n",
              "           0.12012,     0.12112,     0.12212,     0.12312,     0.12412,     0.12513,     0.12613,     0.12713,     0.12813,     0.12913,     0.13013,     0.13113,     0.13213,     0.13313,     0.13413,     0.13514,     0.13614,     0.13714,     0.13814,     0.13914,     0.14014,     0.14114,     0.14214,     0.14314,\n",
              "           0.14414,     0.14515,     0.14615,     0.14715,     0.14815,     0.14915,     0.15015,     0.15115,     0.15215,     0.15315,     0.15415,     0.15516,     0.15616,     0.15716,     0.15816,     0.15916,     0.16016,     0.16116,     0.16216,     0.16316,     0.16416,     0.16517,     0.16617,     0.16717,\n",
              "           0.16817,     0.16917,     0.17017,     0.17117,     0.17217,     0.17317,     0.17417,     0.17518,     0.17618,     0.17718,     0.17818,     0.17918,     0.18018,     0.18118,     0.18218,     0.18318,     0.18418,     0.18519,     0.18619,     0.18719,     0.18819,     0.18919,     0.19019,     0.19119,\n",
              "           0.19219,     0.19319,     0.19419,      0.1952,      0.1962,      0.1972,      0.1982,      0.1992,      0.2002,      0.2012,      0.2022,      0.2032,      0.2042,     0.20521,     0.20621,     0.20721,     0.20821,     0.20921,     0.21021,     0.21121,     0.21221,     0.21321,     0.21421,     0.21522,\n",
              "           0.21622,     0.21722,     0.21822,     0.21922,     0.22022,     0.22122,     0.22222,     0.22322,     0.22422,     0.22523,     0.22623,     0.22723,     0.22823,     0.22923,     0.23023,     0.23123,     0.23223,     0.23323,     0.23423,     0.23524,     0.23624,     0.23724,     0.23824,     0.23924,\n",
              "           0.24024,     0.24124,     0.24224,     0.24324,     0.24424,     0.24525,     0.24625,     0.24725,     0.24825,     0.24925,     0.25025,     0.25125,     0.25225,     0.25325,     0.25425,     0.25526,     0.25626,     0.25726,     0.25826,     0.25926,     0.26026,     0.26126,     0.26226,     0.26326,\n",
              "           0.26426,     0.26527,     0.26627,     0.26727,     0.26827,     0.26927,     0.27027,     0.27127,     0.27227,     0.27327,     0.27427,     0.27528,     0.27628,     0.27728,     0.27828,     0.27928,     0.28028,     0.28128,     0.28228,     0.28328,     0.28428,     0.28529,     0.28629,     0.28729,\n",
              "           0.28829,     0.28929,     0.29029,     0.29129,     0.29229,     0.29329,     0.29429,      0.2953,      0.2963,      0.2973,      0.2983,      0.2993,      0.3003,      0.3013,      0.3023,      0.3033,      0.3043,     0.30531,     0.30631,     0.30731,     0.30831,     0.30931,     0.31031,     0.31131,\n",
              "           0.31231,     0.31331,     0.31431,     0.31532,     0.31632,     0.31732,     0.31832,     0.31932,     0.32032,     0.32132,     0.32232,     0.32332,     0.32432,     0.32533,     0.32633,     0.32733,     0.32833,     0.32933,     0.33033,     0.33133,     0.33233,     0.33333,     0.33433,     0.33534,\n",
              "           0.33634,     0.33734,     0.33834,     0.33934,     0.34034,     0.34134,     0.34234,     0.34334,     0.34434,     0.34535,     0.34635,     0.34735,     0.34835,     0.34935,     0.35035,     0.35135,     0.35235,     0.35335,     0.35435,     0.35536,     0.35636,     0.35736,     0.35836,     0.35936,\n",
              "           0.36036,     0.36136,     0.36236,     0.36336,     0.36436,     0.36537,     0.36637,     0.36737,     0.36837,     0.36937,     0.37037,     0.37137,     0.37237,     0.37337,     0.37437,     0.37538,     0.37638,     0.37738,     0.37838,     0.37938,     0.38038,     0.38138,     0.38238,     0.38338,\n",
              "           0.38438,     0.38539,     0.38639,     0.38739,     0.38839,     0.38939,     0.39039,     0.39139,     0.39239,     0.39339,     0.39439,      0.3954,      0.3964,      0.3974,      0.3984,      0.3994,      0.4004,      0.4014,      0.4024,      0.4034,      0.4044,     0.40541,     0.40641,     0.40741,\n",
              "           0.40841,     0.40941,     0.41041,     0.41141,     0.41241,     0.41341,     0.41441,     0.41542,     0.41642,     0.41742,     0.41842,     0.41942,     0.42042,     0.42142,     0.42242,     0.42342,     0.42442,     0.42543,     0.42643,     0.42743,     0.42843,     0.42943,     0.43043,     0.43143,\n",
              "           0.43243,     0.43343,     0.43443,     0.43544,     0.43644,     0.43744,     0.43844,     0.43944,     0.44044,     0.44144,     0.44244,     0.44344,     0.44444,     0.44545,     0.44645,     0.44745,     0.44845,     0.44945,     0.45045,     0.45145,     0.45245,     0.45345,     0.45445,     0.45546,\n",
              "           0.45646,     0.45746,     0.45846,     0.45946,     0.46046,     0.46146,     0.46246,     0.46346,     0.46446,     0.46547,     0.46647,     0.46747,     0.46847,     0.46947,     0.47047,     0.47147,     0.47247,     0.47347,     0.47447,     0.47548,     0.47648,     0.47748,     0.47848,     0.47948,\n",
              "           0.48048,     0.48148,     0.48248,     0.48348,     0.48448,     0.48549,     0.48649,     0.48749,     0.48849,     0.48949,     0.49049,     0.49149,     0.49249,     0.49349,     0.49449,      0.4955,      0.4965,      0.4975,      0.4985,      0.4995,      0.5005,      0.5015,      0.5025,      0.5035,\n",
              "            0.5045,     0.50551,     0.50651,     0.50751,     0.50851,     0.50951,     0.51051,     0.51151,     0.51251,     0.51351,     0.51451,     0.51552,     0.51652,     0.51752,     0.51852,     0.51952,     0.52052,     0.52152,     0.52252,     0.52352,     0.52452,     0.52553,     0.52653,     0.52753,\n",
              "           0.52853,     0.52953,     0.53053,     0.53153,     0.53253,     0.53353,     0.53453,     0.53554,     0.53654,     0.53754,     0.53854,     0.53954,     0.54054,     0.54154,     0.54254,     0.54354,     0.54454,     0.54555,     0.54655,     0.54755,     0.54855,     0.54955,     0.55055,     0.55155,\n",
              "           0.55255,     0.55355,     0.55455,     0.55556,     0.55656,     0.55756,     0.55856,     0.55956,     0.56056,     0.56156,     0.56256,     0.56356,     0.56456,     0.56557,     0.56657,     0.56757,     0.56857,     0.56957,     0.57057,     0.57157,     0.57257,     0.57357,     0.57457,     0.57558,\n",
              "           0.57658,     0.57758,     0.57858,     0.57958,     0.58058,     0.58158,     0.58258,     0.58358,     0.58458,     0.58559,     0.58659,     0.58759,     0.58859,     0.58959,     0.59059,     0.59159,     0.59259,     0.59359,     0.59459,      0.5956,      0.5966,      0.5976,      0.5986,      0.5996,\n",
              "            0.6006,      0.6016,      0.6026,      0.6036,      0.6046,     0.60561,     0.60661,     0.60761,     0.60861,     0.60961,     0.61061,     0.61161,     0.61261,     0.61361,     0.61461,     0.61562,     0.61662,     0.61762,     0.61862,     0.61962,     0.62062,     0.62162,     0.62262,     0.62362,\n",
              "           0.62462,     0.62563,     0.62663,     0.62763,     0.62863,     0.62963,     0.63063,     0.63163,     0.63263,     0.63363,     0.63463,     0.63564,     0.63664,     0.63764,     0.63864,     0.63964,     0.64064,     0.64164,     0.64264,     0.64364,     0.64464,     0.64565,     0.64665,     0.64765,\n",
              "           0.64865,     0.64965,     0.65065,     0.65165,     0.65265,     0.65365,     0.65465,     0.65566,     0.65666,     0.65766,     0.65866,     0.65966,     0.66066,     0.66166,     0.66266,     0.66366,     0.66466,     0.66567,     0.66667,     0.66767,     0.66867,     0.66967,     0.67067,     0.67167,\n",
              "           0.67267,     0.67367,     0.67467,     0.67568,     0.67668,     0.67768,     0.67868,     0.67968,     0.68068,     0.68168,     0.68268,     0.68368,     0.68468,     0.68569,     0.68669,     0.68769,     0.68869,     0.68969,     0.69069,     0.69169,     0.69269,     0.69369,     0.69469,      0.6957,\n",
              "            0.6967,      0.6977,      0.6987,      0.6997,      0.7007,      0.7017,      0.7027,      0.7037,      0.7047,     0.70571,     0.70671,     0.70771,     0.70871,     0.70971,     0.71071,     0.71171,     0.71271,     0.71371,     0.71471,     0.71572,     0.71672,     0.71772,     0.71872,     0.71972,\n",
              "           0.72072,     0.72172,     0.72272,     0.72372,     0.72472,     0.72573,     0.72673,     0.72773,     0.72873,     0.72973,     0.73073,     0.73173,     0.73273,     0.73373,     0.73473,     0.73574,     0.73674,     0.73774,     0.73874,     0.73974,     0.74074,     0.74174,     0.74274,     0.74374,\n",
              "           0.74474,     0.74575,     0.74675,     0.74775,     0.74875,     0.74975,     0.75075,     0.75175,     0.75275,     0.75375,     0.75475,     0.75576,     0.75676,     0.75776,     0.75876,     0.75976,     0.76076,     0.76176,     0.76276,     0.76376,     0.76476,     0.76577,     0.76677,     0.76777,\n",
              "           0.76877,     0.76977,     0.77077,     0.77177,     0.77277,     0.77377,     0.77477,     0.77578,     0.77678,     0.77778,     0.77878,     0.77978,     0.78078,     0.78178,     0.78278,     0.78378,     0.78478,     0.78579,     0.78679,     0.78779,     0.78879,     0.78979,     0.79079,     0.79179,\n",
              "           0.79279,     0.79379,     0.79479,      0.7958,      0.7968,      0.7978,      0.7988,      0.7998,      0.8008,      0.8018,      0.8028,      0.8038,      0.8048,     0.80581,     0.80681,     0.80781,     0.80881,     0.80981,     0.81081,     0.81181,     0.81281,     0.81381,     0.81481,     0.81582,\n",
              "           0.81682,     0.81782,     0.81882,     0.81982,     0.82082,     0.82182,     0.82282,     0.82382,     0.82482,     0.82583,     0.82683,     0.82783,     0.82883,     0.82983,     0.83083,     0.83183,     0.83283,     0.83383,     0.83483,     0.83584,     0.83684,     0.83784,     0.83884,     0.83984,\n",
              "           0.84084,     0.84184,     0.84284,     0.84384,     0.84484,     0.84585,     0.84685,     0.84785,     0.84885,     0.84985,     0.85085,     0.85185,     0.85285,     0.85385,     0.85485,     0.85586,     0.85686,     0.85786,     0.85886,     0.85986,     0.86086,     0.86186,     0.86286,     0.86386,\n",
              "           0.86486,     0.86587,     0.86687,     0.86787,     0.86887,     0.86987,     0.87087,     0.87187,     0.87287,     0.87387,     0.87487,     0.87588,     0.87688,     0.87788,     0.87888,     0.87988,     0.88088,     0.88188,     0.88288,     0.88388,     0.88488,     0.88589,     0.88689,     0.88789,\n",
              "           0.88889,     0.88989,     0.89089,     0.89189,     0.89289,     0.89389,     0.89489,      0.8959,      0.8969,      0.8979,      0.8989,      0.8999,      0.9009,      0.9019,      0.9029,      0.9039,      0.9049,     0.90591,     0.90691,     0.90791,     0.90891,     0.90991,     0.91091,     0.91191,\n",
              "           0.91291,     0.91391,     0.91491,     0.91592,     0.91692,     0.91792,     0.91892,     0.91992,     0.92092,     0.92192,     0.92292,     0.92392,     0.92492,     0.92593,     0.92693,     0.92793,     0.92893,     0.92993,     0.93093,     0.93193,     0.93293,     0.93393,     0.93493,     0.93594,\n",
              "           0.93694,     0.93794,     0.93894,     0.93994,     0.94094,     0.94194,     0.94294,     0.94394,     0.94494,     0.94595,     0.94695,     0.94795,     0.94895,     0.94995,     0.95095,     0.95195,     0.95295,     0.95395,     0.95495,     0.95596,     0.95696,     0.95796,     0.95896,     0.95996,\n",
              "           0.96096,     0.96196,     0.96296,     0.96396,     0.96496,     0.96597,     0.96697,     0.96797,     0.96897,     0.96997,     0.97097,     0.97197,     0.97297,     0.97397,     0.97497,     0.97598,     0.97698,     0.97798,     0.97898,     0.97998,     0.98098,     0.98198,     0.98298,     0.98398,\n",
              "           0.98498,     0.98599,     0.98699,     0.98799,     0.98899,     0.98999,     0.99099,     0.99199,     0.99299,     0.99399,     0.99499,       0.996,       0.997,       0.998,       0.999,           1]), array([[          1,           1,           1,           1,           1,           1,           1,           1,           1,           1,           1,           1,           1,           1,           1,           1,           1,           1,           1,           1,     0.72791,         0.5,         0.5,\n",
              "                0.5,         0.5,         0.5,         0.5,         0.5,         0.5,         0.5,         0.5,         0.5,         0.5,         0.5,         0.5,         0.5,         0.5,         0.5,         0.5,         0.5,         0.5,         0.5,         0.5,         0.5,         0.5,         0.5,\n",
              "                0.5,         0.5,         0.5,         0.5,         0.5,         0.5,         0.5,         0.5,         0.5,         0.5,         0.5,         0.5,         0.5,         0.5,         0.5,         0.5,         0.5,         0.5,         0.5,         0.5,         0.5,         0.5,         0.5,\n",
              "                0.5,         0.5,         0.5,         0.5,         0.5,         0.5,         0.5,         0.5,         0.5,         0.5,         0.5,         0.5,         0.5,         0.5,         0.5,         0.5,         0.5,         0.5,         0.5,         0.5,         0.5,         0.5,         0.5,\n",
              "                0.5,         0.5,         0.5,         0.5,         0.5,         0.5,         0.5,         0.5,         0.5,         0.5,         0.5,         0.5,         0.5,         0.5,         0.5,         0.5,         0.5,         0.5,         0.5,         0.5,         0.5,         0.5,         0.5,\n",
              "                0.5,         0.5,         0.5,         0.5,         0.5,         0.5,         0.5,         0.5,         0.5,         0.5,         0.5,         0.5,         0.5,         0.5,         0.5,         0.5,         0.5,         0.5,         0.5,         0.5,         0.5,         0.5,         0.5,\n",
              "                0.5,         0.5,         0.5,         0.5,         0.5,         0.5,         0.5,         0.5,         0.5,         0.5,         0.5,         0.5,         0.5,         0.5,         0.5,         0.5,         0.5,         0.5,         0.5,         0.5,         0.5,         0.5,         0.5,\n",
              "                0.5,         0.5,         0.5,         0.5,         0.5,         0.5,         0.5,         0.5,         0.5,         0.5,         0.5,         0.5,         0.5,         0.5,         0.5,         0.5,         0.5,         0.5,         0.5,         0.5,         0.5,         0.5,         0.5,\n",
              "                0.5,         0.5,         0.5,         0.5,         0.5,         0.5,         0.5,         0.5,         0.5,         0.5,         0.5,         0.5,         0.5,         0.5,         0.5,         0.5,         0.5,         0.5,         0.5,         0.5,         0.5,         0.5,         0.5,\n",
              "                0.5,         0.5,         0.5,         0.5,         0.5,         0.5,         0.5,         0.5,         0.5,         0.5,         0.5,         0.5,         0.5,         0.5,         0.5,         0.5,         0.5,         0.5,         0.5,         0.5,         0.5,         0.5,         0.5,\n",
              "                0.5,         0.5,         0.5,         0.5,         0.5,         0.5,         0.5,         0.5,         0.5,         0.5,         0.5,         0.5,         0.5,         0.5,         0.5,         0.5,         0.5,         0.5,         0.5,         0.5,         0.5,         0.5,         0.5,\n",
              "                0.5,         0.5,         0.5,         0.5,         0.5,         0.5,         0.5,         0.5,         0.5,         0.5,         0.5,         0.5,         0.5,         0.5,         0.5,         0.5,         0.5,         0.5,         0.5,         0.5,         0.5,         0.5,         0.5,\n",
              "                0.5,         0.5,         0.5,         0.5,         0.5,         0.5,         0.5,         0.5,         0.5,         0.5,         0.5,         0.5,         0.5,         0.5,         0.5,         0.5,         0.5,         0.5,         0.5,         0.5,         0.5,         0.5,         0.5,\n",
              "                0.5,         0.5,         0.5,         0.5,         0.5,         0.5,         0.5,         0.5,         0.5,         0.5,         0.5,         0.5,         0.5,         0.5,         0.5,         0.5,         0.5,         0.5,         0.5,         0.5,         0.5,         0.5,         0.5,\n",
              "                0.5,         0.5,         0.5,         0.5,         0.5,         0.5,         0.5,         0.5,         0.5,         0.5,         0.5,         0.5,         0.5,         0.5,         0.5,         0.5,         0.5,         0.5,         0.5,         0.5,         0.5,         0.5,         0.5,\n",
              "                0.5,         0.5,         0.5,         0.5,         0.5,         0.5,         0.5,         0.5,         0.5,         0.5,         0.5,         0.5,         0.5,         0.5,         0.5,         0.5,         0.5,         0.5,         0.5,         0.5,         0.5,         0.5,         0.5,\n",
              "                0.5,         0.5,         0.5,         0.5,         0.5,         0.5,         0.5,         0.5,         0.5,         0.5,         0.5,         0.5,         0.5,         0.5,         0.5,         0.5,         0.5,         0.5,         0.5,         0.5,         0.5,         0.5,         0.5,\n",
              "                0.5,         0.5,         0.5,         0.5,         0.5,         0.5,         0.5,         0.5,         0.5,         0.5,         0.5,         0.5,         0.5,         0.5,         0.5,         0.5,         0.5,         0.5,         0.5,         0.5,         0.5,         0.5,         0.5,\n",
              "                0.5,         0.5,         0.5,         0.5,         0.5,         0.5,         0.5,         0.5,         0.5,         0.5,         0.5,         0.5,         0.5,         0.5,         0.5,         0.5,         0.5,         0.5,         0.5,         0.5,         0.5,         0.5,         0.5,\n",
              "                  0,           0,           0,           0,           0,           0,           0,           0,           0,           0,           0,           0,           0,           0,           0,           0,           0,           0,           0,           0,           0,           0,           0,\n",
              "                  0,           0,           0,           0,           0,           0,           0,           0,           0,           0,           0,           0,           0,           0,           0,           0,           0,           0,           0,           0,           0,           0,           0,\n",
              "                  0,           0,           0,           0,           0,           0,           0,           0,           0,           0,           0,           0,           0,           0,           0,           0,           0,           0,           0,           0,           0,           0,           0,\n",
              "                  0,           0,           0,           0,           0,           0,           0,           0,           0,           0,           0,           0,           0,           0,           0,           0,           0,           0,           0,           0,           0,           0,           0,\n",
              "                  0,           0,           0,           0,           0,           0,           0,           0,           0,           0,           0,           0,           0,           0,           0,           0,           0,           0,           0,           0,           0,           0,           0,\n",
              "                  0,           0,           0,           0,           0,           0,           0,           0,           0,           0,           0,           0,           0,           0,           0,           0,           0,           0,           0,           0,           0,           0,           0,\n",
              "                  0,           0,           0,           0,           0,           0,           0,           0,           0,           0,           0,           0,           0,           0,           0,           0,           0,           0,           0,           0,           0,           0,           0,\n",
              "                  0,           0,           0,           0,           0,           0,           0,           0,           0,           0,           0,           0,           0,           0,           0,           0,           0,           0,           0,           0,           0,           0,           0,\n",
              "                  0,           0,           0,           0,           0,           0,           0,           0,           0,           0,           0,           0,           0,           0,           0,           0,           0,           0,           0,           0,           0,           0,           0,\n",
              "                  0,           0,           0,           0,           0,           0,           0,           0,           0,           0,           0,           0,           0,           0,           0,           0,           0,           0,           0,           0,           0,           0,           0,\n",
              "                  0,           0,           0,           0,           0,           0,           0,           0,           0,           0,           0,           0,           0,           0,           0,           0,           0,           0,           0,           0,           0,           0,           0,\n",
              "                  0,           0,           0,           0,           0,           0,           0,           0,           0,           0,           0,           0,           0,           0,           0,           0,           0,           0,           0,           0,           0,           0,           0,\n",
              "                  0,           0,           0,           0,           0,           0,           0,           0,           0,           0,           0,           0,           0,           0,           0,           0,           0,           0,           0,           0,           0,           0,           0,\n",
              "                  0,           0,           0,           0,           0,           0,           0,           0,           0,           0,           0,           0,           0,           0,           0,           0,           0,           0,           0,           0,           0,           0,           0,\n",
              "                  0,           0,           0,           0,           0,           0,           0,           0,           0,           0,           0,           0,           0,           0,           0,           0,           0,           0,           0,           0,           0,           0,           0,\n",
              "                  0,           0,           0,           0,           0,           0,           0,           0,           0,           0,           0,           0,           0,           0,           0,           0,           0,           0,           0,           0,           0,           0,           0,\n",
              "                  0,           0,           0,           0,           0,           0,           0,           0,           0,           0,           0,           0,           0,           0,           0,           0,           0,           0,           0,           0,           0,           0,           0,\n",
              "                  0,           0,           0,           0,           0,           0,           0,           0,           0,           0,           0,           0,           0,           0,           0,           0,           0,           0,           0,           0,           0,           0,           0,\n",
              "                  0,           0,           0,           0,           0,           0,           0,           0,           0,           0,           0,           0,           0,           0,           0,           0,           0,           0,           0,           0,           0,           0,           0,\n",
              "                  0,           0,           0,           0,           0,           0,           0,           0,           0,           0,           0,           0,           0,           0,           0,           0,           0,           0,           0,           0,           0,           0,           0,\n",
              "                  0,           0,           0,           0,           0,           0,           0,           0,           0,           0,           0,           0,           0,           0,           0,           0,           0,           0,           0,           0,           0,           0,           0,\n",
              "                  0,           0,           0,           0,           0,           0,           0,           0,           0,           0,           0,           0,           0,           0,           0,           0,           0,           0,           0,           0,           0,           0,           0,\n",
              "                  0,           0,           0,           0,           0,           0,           0,           0,           0,           0,           0,           0,           0,           0,           0,           0,           0,           0,           0,           0,           0,           0,           0,\n",
              "                  0,           0,           0,           0,           0,           0,           0,           0,           0,           0,           0,           0,           0,           0,           0,           0,           0,           0,           0,           0,           0,           0,           0,\n",
              "                  0,           0,           0,           0,           0,           0,           0,           0,           0,           0,           0]]), 'Confidence', 'Recall'], [array([          0,    0.001001,    0.002002,    0.003003,    0.004004,    0.005005,    0.006006,    0.007007,    0.008008,    0.009009,     0.01001,    0.011011,    0.012012,    0.013013,    0.014014,    0.015015,    0.016016,    0.017017,    0.018018,    0.019019,     0.02002,    0.021021,    0.022022,    0.023023,\n",
              "          0.024024,    0.025025,    0.026026,    0.027027,    0.028028,    0.029029,     0.03003,    0.031031,    0.032032,    0.033033,    0.034034,    0.035035,    0.036036,    0.037037,    0.038038,    0.039039,     0.04004,    0.041041,    0.042042,    0.043043,    0.044044,    0.045045,    0.046046,    0.047047,\n",
              "          0.048048,    0.049049,     0.05005,    0.051051,    0.052052,    0.053053,    0.054054,    0.055055,    0.056056,    0.057057,    0.058058,    0.059059,     0.06006,    0.061061,    0.062062,    0.063063,    0.064064,    0.065065,    0.066066,    0.067067,    0.068068,    0.069069,     0.07007,    0.071071,\n",
              "          0.072072,    0.073073,    0.074074,    0.075075,    0.076076,    0.077077,    0.078078,    0.079079,     0.08008,    0.081081,    0.082082,    0.083083,    0.084084,    0.085085,    0.086086,    0.087087,    0.088088,    0.089089,     0.09009,    0.091091,    0.092092,    0.093093,    0.094094,    0.095095,\n",
              "          0.096096,    0.097097,    0.098098,    0.099099,      0.1001,      0.1011,      0.1021,      0.1031,      0.1041,     0.10511,     0.10611,     0.10711,     0.10811,     0.10911,     0.11011,     0.11111,     0.11211,     0.11311,     0.11411,     0.11512,     0.11612,     0.11712,     0.11812,     0.11912,\n",
              "           0.12012,     0.12112,     0.12212,     0.12312,     0.12412,     0.12513,     0.12613,     0.12713,     0.12813,     0.12913,     0.13013,     0.13113,     0.13213,     0.13313,     0.13413,     0.13514,     0.13614,     0.13714,     0.13814,     0.13914,     0.14014,     0.14114,     0.14214,     0.14314,\n",
              "           0.14414,     0.14515,     0.14615,     0.14715,     0.14815,     0.14915,     0.15015,     0.15115,     0.15215,     0.15315,     0.15415,     0.15516,     0.15616,     0.15716,     0.15816,     0.15916,     0.16016,     0.16116,     0.16216,     0.16316,     0.16416,     0.16517,     0.16617,     0.16717,\n",
              "           0.16817,     0.16917,     0.17017,     0.17117,     0.17217,     0.17317,     0.17417,     0.17518,     0.17618,     0.17718,     0.17818,     0.17918,     0.18018,     0.18118,     0.18218,     0.18318,     0.18418,     0.18519,     0.18619,     0.18719,     0.18819,     0.18919,     0.19019,     0.19119,\n",
              "           0.19219,     0.19319,     0.19419,      0.1952,      0.1962,      0.1972,      0.1982,      0.1992,      0.2002,      0.2012,      0.2022,      0.2032,      0.2042,     0.20521,     0.20621,     0.20721,     0.20821,     0.20921,     0.21021,     0.21121,     0.21221,     0.21321,     0.21421,     0.21522,\n",
              "           0.21622,     0.21722,     0.21822,     0.21922,     0.22022,     0.22122,     0.22222,     0.22322,     0.22422,     0.22523,     0.22623,     0.22723,     0.22823,     0.22923,     0.23023,     0.23123,     0.23223,     0.23323,     0.23423,     0.23524,     0.23624,     0.23724,     0.23824,     0.23924,\n",
              "           0.24024,     0.24124,     0.24224,     0.24324,     0.24424,     0.24525,     0.24625,     0.24725,     0.24825,     0.24925,     0.25025,     0.25125,     0.25225,     0.25325,     0.25425,     0.25526,     0.25626,     0.25726,     0.25826,     0.25926,     0.26026,     0.26126,     0.26226,     0.26326,\n",
              "           0.26426,     0.26527,     0.26627,     0.26727,     0.26827,     0.26927,     0.27027,     0.27127,     0.27227,     0.27327,     0.27427,     0.27528,     0.27628,     0.27728,     0.27828,     0.27928,     0.28028,     0.28128,     0.28228,     0.28328,     0.28428,     0.28529,     0.28629,     0.28729,\n",
              "           0.28829,     0.28929,     0.29029,     0.29129,     0.29229,     0.29329,     0.29429,      0.2953,      0.2963,      0.2973,      0.2983,      0.2993,      0.3003,      0.3013,      0.3023,      0.3033,      0.3043,     0.30531,     0.30631,     0.30731,     0.30831,     0.30931,     0.31031,     0.31131,\n",
              "           0.31231,     0.31331,     0.31431,     0.31532,     0.31632,     0.31732,     0.31832,     0.31932,     0.32032,     0.32132,     0.32232,     0.32332,     0.32432,     0.32533,     0.32633,     0.32733,     0.32833,     0.32933,     0.33033,     0.33133,     0.33233,     0.33333,     0.33433,     0.33534,\n",
              "           0.33634,     0.33734,     0.33834,     0.33934,     0.34034,     0.34134,     0.34234,     0.34334,     0.34434,     0.34535,     0.34635,     0.34735,     0.34835,     0.34935,     0.35035,     0.35135,     0.35235,     0.35335,     0.35435,     0.35536,     0.35636,     0.35736,     0.35836,     0.35936,\n",
              "           0.36036,     0.36136,     0.36236,     0.36336,     0.36436,     0.36537,     0.36637,     0.36737,     0.36837,     0.36937,     0.37037,     0.37137,     0.37237,     0.37337,     0.37437,     0.37538,     0.37638,     0.37738,     0.37838,     0.37938,     0.38038,     0.38138,     0.38238,     0.38338,\n",
              "           0.38438,     0.38539,     0.38639,     0.38739,     0.38839,     0.38939,     0.39039,     0.39139,     0.39239,     0.39339,     0.39439,      0.3954,      0.3964,      0.3974,      0.3984,      0.3994,      0.4004,      0.4014,      0.4024,      0.4034,      0.4044,     0.40541,     0.40641,     0.40741,\n",
              "           0.40841,     0.40941,     0.41041,     0.41141,     0.41241,     0.41341,     0.41441,     0.41542,     0.41642,     0.41742,     0.41842,     0.41942,     0.42042,     0.42142,     0.42242,     0.42342,     0.42442,     0.42543,     0.42643,     0.42743,     0.42843,     0.42943,     0.43043,     0.43143,\n",
              "           0.43243,     0.43343,     0.43443,     0.43544,     0.43644,     0.43744,     0.43844,     0.43944,     0.44044,     0.44144,     0.44244,     0.44344,     0.44444,     0.44545,     0.44645,     0.44745,     0.44845,     0.44945,     0.45045,     0.45145,     0.45245,     0.45345,     0.45445,     0.45546,\n",
              "           0.45646,     0.45746,     0.45846,     0.45946,     0.46046,     0.46146,     0.46246,     0.46346,     0.46446,     0.46547,     0.46647,     0.46747,     0.46847,     0.46947,     0.47047,     0.47147,     0.47247,     0.47347,     0.47447,     0.47548,     0.47648,     0.47748,     0.47848,     0.47948,\n",
              "           0.48048,     0.48148,     0.48248,     0.48348,     0.48448,     0.48549,     0.48649,     0.48749,     0.48849,     0.48949,     0.49049,     0.49149,     0.49249,     0.49349,     0.49449,      0.4955,      0.4965,      0.4975,      0.4985,      0.4995,      0.5005,      0.5015,      0.5025,      0.5035,\n",
              "            0.5045,     0.50551,     0.50651,     0.50751,     0.50851,     0.50951,     0.51051,     0.51151,     0.51251,     0.51351,     0.51451,     0.51552,     0.51652,     0.51752,     0.51852,     0.51952,     0.52052,     0.52152,     0.52252,     0.52352,     0.52452,     0.52553,     0.52653,     0.52753,\n",
              "           0.52853,     0.52953,     0.53053,     0.53153,     0.53253,     0.53353,     0.53453,     0.53554,     0.53654,     0.53754,     0.53854,     0.53954,     0.54054,     0.54154,     0.54254,     0.54354,     0.54454,     0.54555,     0.54655,     0.54755,     0.54855,     0.54955,     0.55055,     0.55155,\n",
              "           0.55255,     0.55355,     0.55455,     0.55556,     0.55656,     0.55756,     0.55856,     0.55956,     0.56056,     0.56156,     0.56256,     0.56356,     0.56456,     0.56557,     0.56657,     0.56757,     0.56857,     0.56957,     0.57057,     0.57157,     0.57257,     0.57357,     0.57457,     0.57558,\n",
              "           0.57658,     0.57758,     0.57858,     0.57958,     0.58058,     0.58158,     0.58258,     0.58358,     0.58458,     0.58559,     0.58659,     0.58759,     0.58859,     0.58959,     0.59059,     0.59159,     0.59259,     0.59359,     0.59459,      0.5956,      0.5966,      0.5976,      0.5986,      0.5996,\n",
              "            0.6006,      0.6016,      0.6026,      0.6036,      0.6046,     0.60561,     0.60661,     0.60761,     0.60861,     0.60961,     0.61061,     0.61161,     0.61261,     0.61361,     0.61461,     0.61562,     0.61662,     0.61762,     0.61862,     0.61962,     0.62062,     0.62162,     0.62262,     0.62362,\n",
              "           0.62462,     0.62563,     0.62663,     0.62763,     0.62863,     0.62963,     0.63063,     0.63163,     0.63263,     0.63363,     0.63463,     0.63564,     0.63664,     0.63764,     0.63864,     0.63964,     0.64064,     0.64164,     0.64264,     0.64364,     0.64464,     0.64565,     0.64665,     0.64765,\n",
              "           0.64865,     0.64965,     0.65065,     0.65165,     0.65265,     0.65365,     0.65465,     0.65566,     0.65666,     0.65766,     0.65866,     0.65966,     0.66066,     0.66166,     0.66266,     0.66366,     0.66466,     0.66567,     0.66667,     0.66767,     0.66867,     0.66967,     0.67067,     0.67167,\n",
              "           0.67267,     0.67367,     0.67467,     0.67568,     0.67668,     0.67768,     0.67868,     0.67968,     0.68068,     0.68168,     0.68268,     0.68368,     0.68468,     0.68569,     0.68669,     0.68769,     0.68869,     0.68969,     0.69069,     0.69169,     0.69269,     0.69369,     0.69469,      0.6957,\n",
              "            0.6967,      0.6977,      0.6987,      0.6997,      0.7007,      0.7017,      0.7027,      0.7037,      0.7047,     0.70571,     0.70671,     0.70771,     0.70871,     0.70971,     0.71071,     0.71171,     0.71271,     0.71371,     0.71471,     0.71572,     0.71672,     0.71772,     0.71872,     0.71972,\n",
              "           0.72072,     0.72172,     0.72272,     0.72372,     0.72472,     0.72573,     0.72673,     0.72773,     0.72873,     0.72973,     0.73073,     0.73173,     0.73273,     0.73373,     0.73473,     0.73574,     0.73674,     0.73774,     0.73874,     0.73974,     0.74074,     0.74174,     0.74274,     0.74374,\n",
              "           0.74474,     0.74575,     0.74675,     0.74775,     0.74875,     0.74975,     0.75075,     0.75175,     0.75275,     0.75375,     0.75475,     0.75576,     0.75676,     0.75776,     0.75876,     0.75976,     0.76076,     0.76176,     0.76276,     0.76376,     0.76476,     0.76577,     0.76677,     0.76777,\n",
              "           0.76877,     0.76977,     0.77077,     0.77177,     0.77277,     0.77377,     0.77477,     0.77578,     0.77678,     0.77778,     0.77878,     0.77978,     0.78078,     0.78178,     0.78278,     0.78378,     0.78478,     0.78579,     0.78679,     0.78779,     0.78879,     0.78979,     0.79079,     0.79179,\n",
              "           0.79279,     0.79379,     0.79479,      0.7958,      0.7968,      0.7978,      0.7988,      0.7998,      0.8008,      0.8018,      0.8028,      0.8038,      0.8048,     0.80581,     0.80681,     0.80781,     0.80881,     0.80981,     0.81081,     0.81181,     0.81281,     0.81381,     0.81481,     0.81582,\n",
              "           0.81682,     0.81782,     0.81882,     0.81982,     0.82082,     0.82182,     0.82282,     0.82382,     0.82482,     0.82583,     0.82683,     0.82783,     0.82883,     0.82983,     0.83083,     0.83183,     0.83283,     0.83383,     0.83483,     0.83584,     0.83684,     0.83784,     0.83884,     0.83984,\n",
              "           0.84084,     0.84184,     0.84284,     0.84384,     0.84484,     0.84585,     0.84685,     0.84785,     0.84885,     0.84985,     0.85085,     0.85185,     0.85285,     0.85385,     0.85485,     0.85586,     0.85686,     0.85786,     0.85886,     0.85986,     0.86086,     0.86186,     0.86286,     0.86386,\n",
              "           0.86486,     0.86587,     0.86687,     0.86787,     0.86887,     0.86987,     0.87087,     0.87187,     0.87287,     0.87387,     0.87487,     0.87588,     0.87688,     0.87788,     0.87888,     0.87988,     0.88088,     0.88188,     0.88288,     0.88388,     0.88488,     0.88589,     0.88689,     0.88789,\n",
              "           0.88889,     0.88989,     0.89089,     0.89189,     0.89289,     0.89389,     0.89489,      0.8959,      0.8969,      0.8979,      0.8989,      0.8999,      0.9009,      0.9019,      0.9029,      0.9039,      0.9049,     0.90591,     0.90691,     0.90791,     0.90891,     0.90991,     0.91091,     0.91191,\n",
              "           0.91291,     0.91391,     0.91491,     0.91592,     0.91692,     0.91792,     0.91892,     0.91992,     0.92092,     0.92192,     0.92292,     0.92392,     0.92492,     0.92593,     0.92693,     0.92793,     0.92893,     0.92993,     0.93093,     0.93193,     0.93293,     0.93393,     0.93493,     0.93594,\n",
              "           0.93694,     0.93794,     0.93894,     0.93994,     0.94094,     0.94194,     0.94294,     0.94394,     0.94494,     0.94595,     0.94695,     0.94795,     0.94895,     0.94995,     0.95095,     0.95195,     0.95295,     0.95395,     0.95495,     0.95596,     0.95696,     0.95796,     0.95896,     0.95996,\n",
              "           0.96096,     0.96196,     0.96296,     0.96396,     0.96496,     0.96597,     0.96697,     0.96797,     0.96897,     0.96997,     0.97097,     0.97197,     0.97297,     0.97397,     0.97497,     0.97598,     0.97698,     0.97798,     0.97898,     0.97998,     0.98098,     0.98198,     0.98298,     0.98398,\n",
              "           0.98498,     0.98599,     0.98699,     0.98799,     0.98899,     0.98999,     0.99099,     0.99199,     0.99299,     0.99399,     0.99499,       0.996,       0.997,       0.998,       0.999,           1]), array([[        0.5,         0.5,         0.5,         0.5,         0.5,         0.5,         0.5,         0.5,         0.5,         0.5,         0.5,         0.5,         0.5,         0.5,         0.5,         0.5,         0.5,         0.5,         0.5,         0.5,         0.5,         0.5,         0.5,\n",
              "                0.5,         0.5,         0.5,         0.5,         0.5,         0.5,         0.5,         0.5,         0.5,         0.5,         0.5,         0.5,         0.5,         0.5,         0.5,         0.5,         0.5,         0.5,         0.5,         0.5,         0.5,         0.5,         0.5,\n",
              "                0.5,         0.5,         0.5,         0.5,         0.5,         0.5,         0.5,         0.5,         0.5,         0.5,         0.5,         0.5,         0.5,         0.5,         0.5,         0.5,         0.5,         0.5,         0.5,         0.5,         0.5,         0.5,         0.5,\n",
              "                0.5,         0.5,         0.5,         0.5,         0.5,         0.5,         0.5,         0.5,         0.5,         0.5,         0.5,         0.5,         0.5,         0.5,         0.5,         0.5,         0.5,         0.5,         0.5,         0.5,         0.5,         0.5,         0.5,\n",
              "                0.5,         0.5,         0.5,         0.5,         0.5,         0.5,         0.5,         0.5,         0.5,         0.5,         0.5,         0.5,         0.5,         0.5,         0.5,         0.5,         0.5,         0.5,         0.5,         0.5,         0.5,         0.5,         0.5,\n",
              "                0.5,         0.5,         0.5,         0.5,         0.5,         0.5,         0.5,         0.5,         0.5,         0.5,         0.5,         0.5,         0.5,         0.5,         0.5,         0.5,         0.5,         0.5,         0.5,         0.5,         0.5,         0.5,         0.5,\n",
              "                0.5,         0.5,         0.5,         0.5,         0.5,         0.5,         0.5,         0.5,         0.5,         0.5,         0.5,         0.5,         0.5,         0.5,         0.5,         0.5,         0.5,         0.5,         0.5,         0.5,         0.5,         0.5,         0.5,\n",
              "                0.5,         0.5,         0.5,         0.5,         0.5,         0.5,         0.5,         0.5,         0.5,         0.5,         0.5,         0.5,         0.5,         0.5,         0.5,         0.5,         0.5,         0.5,         0.5,         0.5,         0.5,         0.5,         0.5,\n",
              "                0.5,         0.5,         0.5,         0.5,         0.5,         0.5,         0.5,         0.5,         0.5,         0.5,         0.5,         0.5,         0.5,         0.5,         0.5,         0.5,         0.5,         0.5,         0.5,         0.5,         0.5,         0.5,         0.5,\n",
              "                0.5,         0.5,         0.5,         0.5,         0.5,         0.5,         0.5,         0.5,         0.5,         0.5,         0.5,         0.5,         0.5,         0.5,         0.5,         0.5,         0.5,         0.5,         0.5,         0.5,         0.5,         0.5,         0.5,\n",
              "                0.5,         0.5,         0.5,         0.5,         0.5,         0.5,         0.5,         0.5,         0.5,         0.5,         0.5,         0.5,         0.5,         0.5,         0.5,         0.5,         0.5,         0.5,         0.5,         0.5,         0.5,         0.5,         0.5,\n",
              "                0.5,         0.5,         0.5,         0.5,         0.5,         0.5,         0.5,         0.5,         0.5,         0.5,         0.5,         0.5,         0.5,         0.5,         0.5,         0.5,         0.5,         0.5,         0.5,         0.5,         0.5,         0.5,         0.5,\n",
              "                0.5,         0.5,         0.5,         0.5,         0.5,         0.5,         0.5,         0.5,         0.5,         0.5,         0.5,         0.5,         0.5,         0.5,         0.5,         0.5,         0.5,         0.5,         0.5,         0.5,         0.5,         0.5,         0.5,\n",
              "                0.5,         0.5,         0.5,         0.5,         0.5,         0.5,         0.5,         0.5,         0.5,         0.5,         0.5,         0.5,         0.5,         0.5,         0.5,         0.5,         0.5,         0.5,         0.5,         0.5,         0.5,         0.5,         0.5,\n",
              "                0.5,         0.5,         0.5,         0.5,         0.5,         0.5,         0.5,         0.5,         0.5,         0.5,         0.5,         0.5,         0.5,         0.5,         0.5,         0.5,         0.5,         0.5,         0.5,         0.5,         0.5,         0.5,         0.5,\n",
              "                0.5,         0.5,         0.5,         0.5,         0.5,         0.5,         0.5,         0.5,         0.5,         0.5,         0.5,         0.5,         0.5,         0.5,         0.5,         0.5,         0.5,         0.5,         0.5,         0.5,         0.5,         0.5,         0.5,\n",
              "                0.5,         0.5,         0.5,         0.5,         0.5,         0.5,         0.5,         0.5,         0.5,         0.5,         0.5,         0.5,         0.5,         0.5,         0.5,         0.5,         0.5,         0.5,         0.5,         0.5,         0.5,         0.5,         0.5,\n",
              "                0.5,         0.5,         0.5,         0.5,         0.5,         0.5,         0.5,         0.5,         0.5,         0.5,         0.5,         0.5,         0.5,         0.5,         0.5,         0.5,         0.5,         0.5,         0.5,         0.5,         0.5,         0.5,         0.5,\n",
              "                0.5,         0.5,         0.5,         0.5,         0.5,         0.5,         0.5,         0.5,         0.5,         0.5,         0.5,         0.5,         0.5,         0.5,         0.5,         0.5,         0.5,         0.5,         0.5,         0.5,         0.5,         0.5,         0.5,\n",
              "                0.5,         0.5,         0.5,         0.5,         0.5,         0.5,         0.5,         0.5,         0.5,         0.5,         0.5,         0.5,         0.5,         0.5,         0.5,         0.5,         0.5,         0.5,         0.5,         0.5,         0.5,         0.5,         0.5,\n",
              "                0.5,         0.5,         0.5,         0.5,         0.5,         0.5,         0.5,         0.5,         0.5,         0.5,         0.5,         0.5,         0.5,         0.5,         0.5,         0.5,         0.5,         0.5,         0.5,         0.5,         0.5,         0.5,         0.5,\n",
              "                0.5,         0.5,         0.5,         0.5,         0.5,         0.5,         0.5,         0.5,         0.5,         0.5,         0.5,         0.5,         0.5,         0.5,         0.5,         0.5,         0.5,   0.0010257,   0.0010236,   0.0010216,   0.0010195,   0.0010174,   0.0010154,\n",
              "          0.0010133,   0.0010113,   0.0010092,   0.0010072,   0.0010051,   0.0010031,    0.001001,  0.00099895,  0.00099689,  0.00099483,  0.00099278,  0.00099072,  0.00098867,  0.00098661,  0.00098456,   0.0009825,  0.00098045,  0.00097839,  0.00097634,  0.00097428,  0.00097222,  0.00097017,  0.00096811,\n",
              "         0.00096606,    0.000964,  0.00096195,  0.00095989,  0.00095784,  0.00095578,  0.00095373,  0.00095167,  0.00094961,  0.00094756,   0.0009455,  0.00094345,  0.00094139,  0.00093934,  0.00093728,  0.00093523,  0.00093317,  0.00093112,  0.00092906,  0.00092701,  0.00092495,  0.00092289,  0.00092084,\n",
              "         0.00091878,  0.00091673,  0.00091467,  0.00091262,  0.00091056,  0.00090851,  0.00090645,   0.0009044,  0.00090234,  0.00090028,  0.00089823,  0.00089617,  0.00089412,  0.00089206,  0.00089001,  0.00088795,   0.0008859,  0.00088384,  0.00088179,  0.00087973,  0.00087767,  0.00087562,  0.00087356,\n",
              "         0.00087151,  0.00086945,   0.0008674,  0.00086534,  0.00086329,  0.00086123,  0.00085918,  0.00085712,  0.00085506,  0.00085301,  0.00085095,   0.0008489,  0.00084684,  0.00084479,  0.00084273,  0.00084068,  0.00083862,  0.00083657,  0.00083451,  0.00083245,   0.0008304,  0.00082834,  0.00082629,\n",
              "         0.00082423,  0.00082218,  0.00082012,  0.00081807,  0.00081601,  0.00081396,   0.0008119,  0.00080984,  0.00080779,  0.00080573,  0.00080368,  0.00080162,  0.00079957,  0.00079751,  0.00079546,   0.0007934,  0.00079135,  0.00078929,  0.00078723,  0.00078518,  0.00078312,  0.00078107,  0.00077901,\n",
              "         0.00077696,   0.0007749,  0.00077285,  0.00077079,  0.00076874,  0.00076668,  0.00076462,  0.00076257,  0.00076051,  0.00075846,   0.0007564,  0.00075435,  0.00075229,  0.00075024,  0.00074818,  0.00074613,  0.00074407,  0.00074202,  0.00073996,   0.0007379,  0.00073585,  0.00073379,  0.00073174,\n",
              "         0.00072968,  0.00072763,  0.00072557,  0.00072352,  0.00072146,  0.00071941,  0.00071735,  0.00071529,  0.00071324,  0.00071118,  0.00070913,  0.00070707,  0.00070502,  0.00070296,  0.00070091,  0.00069885,   0.0006968,  0.00069474,  0.00069268,  0.00069063,  0.00068857,  0.00068652,  0.00068446,\n",
              "         0.00068241,  0.00068035,   0.0006783,  0.00067624,  0.00067419,  0.00067213,  0.00067007,  0.00066802,  0.00066596,  0.00066391,  0.00066185,   0.0006598,  0.00065774,  0.00065569,  0.00065363,  0.00065158,  0.00064952,  0.00064746,  0.00064541,  0.00064335,   0.0006413,  0.00063924,  0.00063719,\n",
              "         0.00063513,  0.00063308,  0.00063102,  0.00062897,  0.00062691,  0.00062485,   0.0006228,  0.00062074,  0.00061869,  0.00061663,  0.00061458,  0.00061252,  0.00061047,  0.00060841,  0.00060636,   0.0006043,  0.00060224,  0.00060019,  0.00059813,  0.00059608,  0.00059402,  0.00059197,  0.00058991,\n",
              "         0.00058786,   0.0005858,  0.00058375,  0.00058169,  0.00057964,  0.00057758,  0.00057552,  0.00057347,  0.00057141,  0.00056936,   0.0005673,  0.00056525,  0.00056319,  0.00056114,  0.00055908,  0.00055703,  0.00055497,  0.00055291,  0.00055086,   0.0005488,  0.00054675,  0.00054469,  0.00054264,\n",
              "         0.00054058,  0.00053853,  0.00053647,  0.00053442,  0.00053236,   0.0005303,  0.00052825,  0.00052619,  0.00052414,  0.00052208,  0.00052003,  0.00051797,  0.00051592,  0.00051386,  0.00051181,  0.00050975,  0.00050769,  0.00050564,  0.00050358,  0.00050153,  0.00049947,  0.00049742,  0.00049536,\n",
              "         0.00049331,  0.00049125,   0.0004892,  0.00048714,  0.00048508,  0.00048303,  0.00048097,  0.00047892,  0.00047686,  0.00047481,  0.00047275,   0.0004707,  0.00046864,  0.00046659,  0.00046453,  0.00046247,  0.00046042,  0.00045836,  0.00045631,  0.00045425,   0.0004522,  0.00045014,  0.00044809,\n",
              "         0.00044603,  0.00044398,  0.00044192,  0.00043986,  0.00043781,  0.00043575,   0.0004337,  0.00043164,  0.00042959,  0.00042753,  0.00042548,  0.00042342,  0.00042137,  0.00041931,  0.00041726,   0.0004152,  0.00041314,  0.00041109,  0.00040903,  0.00040698,  0.00040492,  0.00040287,  0.00040081,\n",
              "         0.00039876,   0.0003967,  0.00039465,  0.00039259,  0.00039053,  0.00038848,  0.00038642,  0.00038437,  0.00038231,  0.00038026,   0.0003782,  0.00037615,  0.00037409,  0.00037204,  0.00036998,  0.00036792,  0.00036587,  0.00036381,  0.00036176,   0.0003597,  0.00035765,  0.00035559,  0.00035354,\n",
              "         0.00035148,  0.00034943,  0.00034737,  0.00034531,  0.00034326,   0.0003412,  0.00033915,  0.00033709,  0.00033504,  0.00033298,  0.00033093,  0.00032887,  0.00032682,  0.00032476,   0.0003227,  0.00032065,  0.00031859,  0.00031654,  0.00031448,  0.00031243,  0.00031037,  0.00030832,  0.00030626,\n",
              "         0.00030421,  0.00030215,  0.00030009,  0.00029804,  0.00029598,  0.00029393,  0.00029187,  0.00028982,  0.00028776,  0.00028571,  0.00028365,   0.0002816,  0.00027954,  0.00027748,  0.00027543,  0.00027337,  0.00027132,  0.00026926,  0.00026721,  0.00026515,   0.0002631,  0.00026104,  0.00025899,\n",
              "         0.00025693,  0.00025487,  0.00025282,  0.00025076,  0.00024871,  0.00024665,   0.0002446,  0.00024254,  0.00024049,  0.00023843,  0.00023638,  0.00023432,  0.00023227,  0.00023021,  0.00022815,   0.0002261,  0.00022404,  0.00022199,  0.00021993,  0.00021788,  0.00021582,  0.00021377,  0.00021171,\n",
              "         0.00020966,   0.0002076,  0.00020554,  0.00020349,  0.00020143,  0.00019938,  0.00019732,  0.00019527,  0.00019321,  0.00019116,   0.0001891,  0.00018705,  0.00018499,  0.00018293,  0.00018088,  0.00017882,  0.00017677,  0.00017471,  0.00017266,   0.0001706,  0.00016855,  0.00016649,  0.00016444,\n",
              "         0.00016238,  0.00016032,  0.00015827,  0.00015621,  0.00015416,   0.0001521,  0.00015005,  0.00014799,  0.00014594,  0.00014388,  0.00014183,  0.00013977,  0.00013771,  0.00013566,   0.0001336,  0.00013155,  0.00012949,  0.00012744,  0.00012538,  0.00012333,  0.00012127,  0.00011922,  0.00011716,\n",
              "          0.0001151,  0.00011305,  0.00011099,  0.00010894,  0.00010688,  0.00010483,  0.00010277,  0.00010072,  9.8661e-05,  9.6606e-05,   9.455e-05,  9.2495e-05,   9.044e-05,  8.8384e-05,  8.6329e-05,  8.4273e-05,  8.2218e-05,  8.0162e-05,  7.8107e-05,  7.6051e-05,  7.3996e-05,  7.1941e-05,  6.9885e-05,\n",
              "          6.783e-05,  6.5774e-05,  6.3719e-05,  6.1663e-05,  5.9608e-05,  5.7552e-05,  5.5497e-05,  5.3442e-05,  5.1386e-05,  4.9331e-05,  4.7275e-05,   4.522e-05,  4.3164e-05,  4.1109e-05,  3.9053e-05,  3.6998e-05,  3.4943e-05,  3.2887e-05,  3.0832e-05,  2.8776e-05,  2.6721e-05,  2.4665e-05,   2.261e-05,\n",
              "         2.0554e-05,  1.8499e-05,  1.6444e-05,  1.4388e-05,  1.2333e-05,  1.0277e-05,  8.2218e-06,  6.1663e-06,  4.1109e-06,  2.0554e-06,           0]]), 'Recall', 'Precision'], [array([          0,    0.001001,    0.002002,    0.003003,    0.004004,    0.005005,    0.006006,    0.007007,    0.008008,    0.009009,     0.01001,    0.011011,    0.012012,    0.013013,    0.014014,    0.015015,    0.016016,    0.017017,    0.018018,    0.019019,     0.02002,    0.021021,    0.022022,    0.023023,\n",
              "          0.024024,    0.025025,    0.026026,    0.027027,    0.028028,    0.029029,     0.03003,    0.031031,    0.032032,    0.033033,    0.034034,    0.035035,    0.036036,    0.037037,    0.038038,    0.039039,     0.04004,    0.041041,    0.042042,    0.043043,    0.044044,    0.045045,    0.046046,    0.047047,\n",
              "          0.048048,    0.049049,     0.05005,    0.051051,    0.052052,    0.053053,    0.054054,    0.055055,    0.056056,    0.057057,    0.058058,    0.059059,     0.06006,    0.061061,    0.062062,    0.063063,    0.064064,    0.065065,    0.066066,    0.067067,    0.068068,    0.069069,     0.07007,    0.071071,\n",
              "          0.072072,    0.073073,    0.074074,    0.075075,    0.076076,    0.077077,    0.078078,    0.079079,     0.08008,    0.081081,    0.082082,    0.083083,    0.084084,    0.085085,    0.086086,    0.087087,    0.088088,    0.089089,     0.09009,    0.091091,    0.092092,    0.093093,    0.094094,    0.095095,\n",
              "          0.096096,    0.097097,    0.098098,    0.099099,      0.1001,      0.1011,      0.1021,      0.1031,      0.1041,     0.10511,     0.10611,     0.10711,     0.10811,     0.10911,     0.11011,     0.11111,     0.11211,     0.11311,     0.11411,     0.11512,     0.11612,     0.11712,     0.11812,     0.11912,\n",
              "           0.12012,     0.12112,     0.12212,     0.12312,     0.12412,     0.12513,     0.12613,     0.12713,     0.12813,     0.12913,     0.13013,     0.13113,     0.13213,     0.13313,     0.13413,     0.13514,     0.13614,     0.13714,     0.13814,     0.13914,     0.14014,     0.14114,     0.14214,     0.14314,\n",
              "           0.14414,     0.14515,     0.14615,     0.14715,     0.14815,     0.14915,     0.15015,     0.15115,     0.15215,     0.15315,     0.15415,     0.15516,     0.15616,     0.15716,     0.15816,     0.15916,     0.16016,     0.16116,     0.16216,     0.16316,     0.16416,     0.16517,     0.16617,     0.16717,\n",
              "           0.16817,     0.16917,     0.17017,     0.17117,     0.17217,     0.17317,     0.17417,     0.17518,     0.17618,     0.17718,     0.17818,     0.17918,     0.18018,     0.18118,     0.18218,     0.18318,     0.18418,     0.18519,     0.18619,     0.18719,     0.18819,     0.18919,     0.19019,     0.19119,\n",
              "           0.19219,     0.19319,     0.19419,      0.1952,      0.1962,      0.1972,      0.1982,      0.1992,      0.2002,      0.2012,      0.2022,      0.2032,      0.2042,     0.20521,     0.20621,     0.20721,     0.20821,     0.20921,     0.21021,     0.21121,     0.21221,     0.21321,     0.21421,     0.21522,\n",
              "           0.21622,     0.21722,     0.21822,     0.21922,     0.22022,     0.22122,     0.22222,     0.22322,     0.22422,     0.22523,     0.22623,     0.22723,     0.22823,     0.22923,     0.23023,     0.23123,     0.23223,     0.23323,     0.23423,     0.23524,     0.23624,     0.23724,     0.23824,     0.23924,\n",
              "           0.24024,     0.24124,     0.24224,     0.24324,     0.24424,     0.24525,     0.24625,     0.24725,     0.24825,     0.24925,     0.25025,     0.25125,     0.25225,     0.25325,     0.25425,     0.25526,     0.25626,     0.25726,     0.25826,     0.25926,     0.26026,     0.26126,     0.26226,     0.26326,\n",
              "           0.26426,     0.26527,     0.26627,     0.26727,     0.26827,     0.26927,     0.27027,     0.27127,     0.27227,     0.27327,     0.27427,     0.27528,     0.27628,     0.27728,     0.27828,     0.27928,     0.28028,     0.28128,     0.28228,     0.28328,     0.28428,     0.28529,     0.28629,     0.28729,\n",
              "           0.28829,     0.28929,     0.29029,     0.29129,     0.29229,     0.29329,     0.29429,      0.2953,      0.2963,      0.2973,      0.2983,      0.2993,      0.3003,      0.3013,      0.3023,      0.3033,      0.3043,     0.30531,     0.30631,     0.30731,     0.30831,     0.30931,     0.31031,     0.31131,\n",
              "           0.31231,     0.31331,     0.31431,     0.31532,     0.31632,     0.31732,     0.31832,     0.31932,     0.32032,     0.32132,     0.32232,     0.32332,     0.32432,     0.32533,     0.32633,     0.32733,     0.32833,     0.32933,     0.33033,     0.33133,     0.33233,     0.33333,     0.33433,     0.33534,\n",
              "           0.33634,     0.33734,     0.33834,     0.33934,     0.34034,     0.34134,     0.34234,     0.34334,     0.34434,     0.34535,     0.34635,     0.34735,     0.34835,     0.34935,     0.35035,     0.35135,     0.35235,     0.35335,     0.35435,     0.35536,     0.35636,     0.35736,     0.35836,     0.35936,\n",
              "           0.36036,     0.36136,     0.36236,     0.36336,     0.36436,     0.36537,     0.36637,     0.36737,     0.36837,     0.36937,     0.37037,     0.37137,     0.37237,     0.37337,     0.37437,     0.37538,     0.37638,     0.37738,     0.37838,     0.37938,     0.38038,     0.38138,     0.38238,     0.38338,\n",
              "           0.38438,     0.38539,     0.38639,     0.38739,     0.38839,     0.38939,     0.39039,     0.39139,     0.39239,     0.39339,     0.39439,      0.3954,      0.3964,      0.3974,      0.3984,      0.3994,      0.4004,      0.4014,      0.4024,      0.4034,      0.4044,     0.40541,     0.40641,     0.40741,\n",
              "           0.40841,     0.40941,     0.41041,     0.41141,     0.41241,     0.41341,     0.41441,     0.41542,     0.41642,     0.41742,     0.41842,     0.41942,     0.42042,     0.42142,     0.42242,     0.42342,     0.42442,     0.42543,     0.42643,     0.42743,     0.42843,     0.42943,     0.43043,     0.43143,\n",
              "           0.43243,     0.43343,     0.43443,     0.43544,     0.43644,     0.43744,     0.43844,     0.43944,     0.44044,     0.44144,     0.44244,     0.44344,     0.44444,     0.44545,     0.44645,     0.44745,     0.44845,     0.44945,     0.45045,     0.45145,     0.45245,     0.45345,     0.45445,     0.45546,\n",
              "           0.45646,     0.45746,     0.45846,     0.45946,     0.46046,     0.46146,     0.46246,     0.46346,     0.46446,     0.46547,     0.46647,     0.46747,     0.46847,     0.46947,     0.47047,     0.47147,     0.47247,     0.47347,     0.47447,     0.47548,     0.47648,     0.47748,     0.47848,     0.47948,\n",
              "           0.48048,     0.48148,     0.48248,     0.48348,     0.48448,     0.48549,     0.48649,     0.48749,     0.48849,     0.48949,     0.49049,     0.49149,     0.49249,     0.49349,     0.49449,      0.4955,      0.4965,      0.4975,      0.4985,      0.4995,      0.5005,      0.5015,      0.5025,      0.5035,\n",
              "            0.5045,     0.50551,     0.50651,     0.50751,     0.50851,     0.50951,     0.51051,     0.51151,     0.51251,     0.51351,     0.51451,     0.51552,     0.51652,     0.51752,     0.51852,     0.51952,     0.52052,     0.52152,     0.52252,     0.52352,     0.52452,     0.52553,     0.52653,     0.52753,\n",
              "           0.52853,     0.52953,     0.53053,     0.53153,     0.53253,     0.53353,     0.53453,     0.53554,     0.53654,     0.53754,     0.53854,     0.53954,     0.54054,     0.54154,     0.54254,     0.54354,     0.54454,     0.54555,     0.54655,     0.54755,     0.54855,     0.54955,     0.55055,     0.55155,\n",
              "           0.55255,     0.55355,     0.55455,     0.55556,     0.55656,     0.55756,     0.55856,     0.55956,     0.56056,     0.56156,     0.56256,     0.56356,     0.56456,     0.56557,     0.56657,     0.56757,     0.56857,     0.56957,     0.57057,     0.57157,     0.57257,     0.57357,     0.57457,     0.57558,\n",
              "           0.57658,     0.57758,     0.57858,     0.57958,     0.58058,     0.58158,     0.58258,     0.58358,     0.58458,     0.58559,     0.58659,     0.58759,     0.58859,     0.58959,     0.59059,     0.59159,     0.59259,     0.59359,     0.59459,      0.5956,      0.5966,      0.5976,      0.5986,      0.5996,\n",
              "            0.6006,      0.6016,      0.6026,      0.6036,      0.6046,     0.60561,     0.60661,     0.60761,     0.60861,     0.60961,     0.61061,     0.61161,     0.61261,     0.61361,     0.61461,     0.61562,     0.61662,     0.61762,     0.61862,     0.61962,     0.62062,     0.62162,     0.62262,     0.62362,\n",
              "           0.62462,     0.62563,     0.62663,     0.62763,     0.62863,     0.62963,     0.63063,     0.63163,     0.63263,     0.63363,     0.63463,     0.63564,     0.63664,     0.63764,     0.63864,     0.63964,     0.64064,     0.64164,     0.64264,     0.64364,     0.64464,     0.64565,     0.64665,     0.64765,\n",
              "           0.64865,     0.64965,     0.65065,     0.65165,     0.65265,     0.65365,     0.65465,     0.65566,     0.65666,     0.65766,     0.65866,     0.65966,     0.66066,     0.66166,     0.66266,     0.66366,     0.66466,     0.66567,     0.66667,     0.66767,     0.66867,     0.66967,     0.67067,     0.67167,\n",
              "           0.67267,     0.67367,     0.67467,     0.67568,     0.67668,     0.67768,     0.67868,     0.67968,     0.68068,     0.68168,     0.68268,     0.68368,     0.68468,     0.68569,     0.68669,     0.68769,     0.68869,     0.68969,     0.69069,     0.69169,     0.69269,     0.69369,     0.69469,      0.6957,\n",
              "            0.6967,      0.6977,      0.6987,      0.6997,      0.7007,      0.7017,      0.7027,      0.7037,      0.7047,     0.70571,     0.70671,     0.70771,     0.70871,     0.70971,     0.71071,     0.71171,     0.71271,     0.71371,     0.71471,     0.71572,     0.71672,     0.71772,     0.71872,     0.71972,\n",
              "           0.72072,     0.72172,     0.72272,     0.72372,     0.72472,     0.72573,     0.72673,     0.72773,     0.72873,     0.72973,     0.73073,     0.73173,     0.73273,     0.73373,     0.73473,     0.73574,     0.73674,     0.73774,     0.73874,     0.73974,     0.74074,     0.74174,     0.74274,     0.74374,\n",
              "           0.74474,     0.74575,     0.74675,     0.74775,     0.74875,     0.74975,     0.75075,     0.75175,     0.75275,     0.75375,     0.75475,     0.75576,     0.75676,     0.75776,     0.75876,     0.75976,     0.76076,     0.76176,     0.76276,     0.76376,     0.76476,     0.76577,     0.76677,     0.76777,\n",
              "           0.76877,     0.76977,     0.77077,     0.77177,     0.77277,     0.77377,     0.77477,     0.77578,     0.77678,     0.77778,     0.77878,     0.77978,     0.78078,     0.78178,     0.78278,     0.78378,     0.78478,     0.78579,     0.78679,     0.78779,     0.78879,     0.78979,     0.79079,     0.79179,\n",
              "           0.79279,     0.79379,     0.79479,      0.7958,      0.7968,      0.7978,      0.7988,      0.7998,      0.8008,      0.8018,      0.8028,      0.8038,      0.8048,     0.80581,     0.80681,     0.80781,     0.80881,     0.80981,     0.81081,     0.81181,     0.81281,     0.81381,     0.81481,     0.81582,\n",
              "           0.81682,     0.81782,     0.81882,     0.81982,     0.82082,     0.82182,     0.82282,     0.82382,     0.82482,     0.82583,     0.82683,     0.82783,     0.82883,     0.82983,     0.83083,     0.83183,     0.83283,     0.83383,     0.83483,     0.83584,     0.83684,     0.83784,     0.83884,     0.83984,\n",
              "           0.84084,     0.84184,     0.84284,     0.84384,     0.84484,     0.84585,     0.84685,     0.84785,     0.84885,     0.84985,     0.85085,     0.85185,     0.85285,     0.85385,     0.85485,     0.85586,     0.85686,     0.85786,     0.85886,     0.85986,     0.86086,     0.86186,     0.86286,     0.86386,\n",
              "           0.86486,     0.86587,     0.86687,     0.86787,     0.86887,     0.86987,     0.87087,     0.87187,     0.87287,     0.87387,     0.87487,     0.87588,     0.87688,     0.87788,     0.87888,     0.87988,     0.88088,     0.88188,     0.88288,     0.88388,     0.88488,     0.88589,     0.88689,     0.88789,\n",
              "           0.88889,     0.88989,     0.89089,     0.89189,     0.89289,     0.89389,     0.89489,      0.8959,      0.8969,      0.8979,      0.8989,      0.8999,      0.9009,      0.9019,      0.9029,      0.9039,      0.9049,     0.90591,     0.90691,     0.90791,     0.90891,     0.90991,     0.91091,     0.91191,\n",
              "           0.91291,     0.91391,     0.91491,     0.91592,     0.91692,     0.91792,     0.91892,     0.91992,     0.92092,     0.92192,     0.92292,     0.92392,     0.92492,     0.92593,     0.92693,     0.92793,     0.92893,     0.92993,     0.93093,     0.93193,     0.93293,     0.93393,     0.93493,     0.93594,\n",
              "           0.93694,     0.93794,     0.93894,     0.93994,     0.94094,     0.94194,     0.94294,     0.94394,     0.94494,     0.94595,     0.94695,     0.94795,     0.94895,     0.94995,     0.95095,     0.95195,     0.95295,     0.95395,     0.95495,     0.95596,     0.95696,     0.95796,     0.95896,     0.95996,\n",
              "           0.96096,     0.96196,     0.96296,     0.96396,     0.96496,     0.96597,     0.96697,     0.96797,     0.96897,     0.96997,     0.97097,     0.97197,     0.97297,     0.97397,     0.97497,     0.97598,     0.97698,     0.97798,     0.97898,     0.97998,     0.98098,     0.98198,     0.98298,     0.98398,\n",
              "           0.98498,     0.98599,     0.98699,     0.98799,     0.98899,     0.98999,     0.99099,     0.99199,     0.99299,     0.99399,     0.99499,       0.996,       0.997,       0.998,       0.999,           1]), array([[  0.0020492,   0.0020492,    0.010064,    0.023796,     0.03772,    0.053592,    0.075205,    0.096168,     0.10564,     0.12159,     0.13212,     0.14734,      0.1556,      0.1598,     0.16396,     0.17311,     0.18573,     0.19303,     0.20039,     0.21402,     0.23759,     0.25174,     0.25429,\n",
              "            0.25683,     0.25934,     0.26184,     0.26432,     0.26679,     0.26924,     0.27167,     0.27409,     0.27649,     0.27887,     0.28124,     0.28359,     0.32236,     0.33668,     0.34009,     0.34347,     0.34682,     0.35013,      0.3534,     0.35665,     0.35986,     0.36304,     0.36619,\n",
              "            0.36931,     0.37239,     0.37545,     0.37848,     0.38147,     0.38444,     0.38738,      0.3903,     0.39318,     0.39604,     0.39887,     0.40092,     0.40246,     0.40398,      0.4055,     0.40702,     0.40852,     0.41002,      0.4115,     0.41299,     0.41446,     0.41593,     0.41738,\n",
              "            0.41884,     0.42028,     0.42172,     0.42315,     0.42457,     0.42599,      0.4274,      0.4288,      0.4302,     0.43158,     0.43297,     0.43434,     0.43571,     0.43707,     0.43843,     0.43978,     0.44112,     0.44246,     0.44378,     0.44511,     0.44643,     0.44774,     0.44904,\n",
              "            0.45034,     0.45163,     0.45292,      0.4542,     0.45547,     0.45674,       0.458,     0.45926,     0.46051,     0.46176,       0.463,     0.46423,     0.46546,     0.46668,      0.4679,     0.46911,     0.47031,     0.47151,     0.47271,      0.4739,     0.47508,     0.47626,     0.47743,\n",
              "             0.4786,     0.47976,     0.48092,     0.48208,     0.48322,     0.48437,      0.4855,     0.48664,     0.48776,     0.48889,        0.49,     0.49112,     0.49222,     0.49333,     0.49443,     0.49552,     0.49661,     0.49769,     0.49877,     0.49985,     0.49858,     0.49693,     0.49527,\n",
              "            0.49362,     0.49196,     0.49031,     0.48865,       0.487,     0.48535,     0.48369,     0.48204,     0.48038,     0.47873,     0.47707,     0.47542,     0.47376,     0.47211,     0.47045,      0.4688,     0.46714,     0.46549,     0.46384,     0.46218,     0.46053,     0.45887,     0.45722,\n",
              "            0.45556,     0.45391,     0.45225,      0.4506,     0.44894,     0.44729,     0.44563,     0.44398,     0.44233,     0.44067,     0.43902,     0.43736,     0.43571,     0.43405,      0.4324,     0.43074,     0.42909,     0.42743,     0.42578,     0.42413,     0.42247,     0.42082,     0.41916,\n",
              "            0.41751,     0.41585,      0.4142,     0.41254,     0.41089,     0.40923,     0.40758,     0.40592,     0.40427,     0.40262,     0.40096,     0.39931,     0.39765,       0.396,     0.39434,     0.39269,     0.39103,     0.38938,     0.38772,     0.38607,     0.38441,     0.38276,     0.38111,\n",
              "            0.37945,      0.3778,     0.37614,     0.37449,     0.37283,     0.37118,     0.36952,     0.36787,     0.36621,     0.36456,      0.3629,     0.36125,      0.3596,     0.35794,     0.35629,     0.35463,     0.35298,     0.35132,     0.34967,     0.34801,     0.34636,      0.3447,     0.34305,\n",
              "             0.3414,     0.33974,     0.33809,     0.33643,     0.33478,     0.33312,     0.33147,     0.32981,     0.32816,      0.3265,     0.32485,     0.32319,     0.32154,     0.31989,     0.31823,     0.31658,     0.31492,     0.31327,     0.31161,     0.30996,      0.3083,     0.30665,     0.30499,\n",
              "            0.30334,     0.30168,     0.30003,     0.29838,     0.29672,     0.29507,     0.29341,     0.29176,      0.2901,     0.28845,     0.28679,     0.28514,     0.28348,     0.28183,     0.28017,     0.27852,     0.27687,     0.27521,     0.27356,      0.2719,     0.27025,     0.26859,     0.26694,\n",
              "            0.26528,     0.26363,     0.26197,     0.26032,     0.25867,     0.25701,     0.25536,      0.2537,     0.25205,     0.25039,     0.24874,     0.24708,     0.24543,     0.24377,     0.24212,     0.24046,     0.23881,     0.23716,      0.2355,     0.23385,     0.23219,     0.23054,     0.22888,\n",
              "            0.22723,     0.22557,     0.22392,     0.22226,     0.22061,     0.21895,      0.2173,     0.21565,     0.21399,     0.21234,     0.21068,     0.20903,     0.20737,     0.20572,     0.20406,     0.20241,     0.20075,      0.1991,     0.19744,     0.19579,     0.19414,     0.19248,     0.19083,\n",
              "            0.18917,     0.18752,     0.18586,     0.18421,     0.18255,      0.1809,     0.17924,     0.17759,     0.17594,     0.17428,     0.17263,     0.17097,     0.16932,     0.16766,     0.16601,     0.16435,      0.1627,     0.16104,     0.15939,     0.15773,     0.15608,     0.15443,     0.15277,\n",
              "            0.15112,     0.14946,     0.14781,     0.14615,      0.1445,     0.14284,     0.14119,     0.13953,     0.13788,     0.13622,     0.13457,     0.13292,     0.13126,     0.12961,     0.12795,      0.1263,     0.12464,     0.12299,     0.12133,     0.11968,     0.11802,     0.11637,     0.11471,\n",
              "            0.11306,     0.11141,     0.10975,      0.1081,     0.10644,     0.10479,     0.10313,     0.10148,    0.099823,    0.098169,    0.096514,     0.09486,    0.093205,     0.09155,    0.089896,    0.088241,    0.086587,    0.084932,    0.083277,    0.081623,    0.079968,    0.078314,    0.076659,\n",
              "           0.075004,     0.07335,    0.071695,    0.070041,    0.068386,    0.066731,    0.065077,    0.063422,    0.061768,    0.060113,    0.058458,    0.056804,    0.055149,    0.053495,     0.05184,    0.050185,    0.048531,    0.046876,    0.045222,    0.043567,    0.041912,    0.040258,    0.038603,\n",
              "           0.036949,    0.035294,    0.033639,    0.031985,     0.03033,    0.028676,    0.027021,    0.025366,    0.023712,    0.022057,    0.020403,    0.018748,    0.017093,    0.015439,    0.013784,     0.01213,    0.010475,   0.0088204,   0.0071658,   0.0055112,   0.0038566,    0.002202,  0.00054736,\n",
              "                  0,           0,           0,           0,           0,           0,           0,           0,           0,           0,           0,           0,           0,           0,           0,           0,           0,           0,           0,           0,           0,           0,           0,\n",
              "                  0,           0,           0,           0,           0,           0,           0,           0,           0,           0,           0,           0,           0,           0,           0,           0,           0,           0,           0,           0,           0,           0,           0,\n",
              "                  0,           0,           0,           0,           0,           0,           0,           0,           0,           0,           0,           0,           0,           0,           0,           0,           0,           0,           0,           0,           0,           0,           0,\n",
              "                  0,           0,           0,           0,           0,           0,           0,           0,           0,           0,           0,           0,           0,           0,           0,           0,           0,           0,           0,           0,           0,           0,           0,\n",
              "                  0,           0,           0,           0,           0,           0,           0,           0,           0,           0,           0,           0,           0,           0,           0,           0,           0,           0,           0,           0,           0,           0,           0,\n",
              "                  0,           0,           0,           0,           0,           0,           0,           0,           0,           0,           0,           0,           0,           0,           0,           0,           0,           0,           0,           0,           0,           0,           0,\n",
              "                  0,           0,           0,           0,           0,           0,           0,           0,           0,           0,           0,           0,           0,           0,           0,           0,           0,           0,           0,           0,           0,           0,           0,\n",
              "                  0,           0,           0,           0,           0,           0,           0,           0,           0,           0,           0,           0,           0,           0,           0,           0,           0,           0,           0,           0,           0,           0,           0,\n",
              "                  0,           0,           0,           0,           0,           0,           0,           0,           0,           0,           0,           0,           0,           0,           0,           0,           0,           0,           0,           0,           0,           0,           0,\n",
              "                  0,           0,           0,           0,           0,           0,           0,           0,           0,           0,           0,           0,           0,           0,           0,           0,           0,           0,           0,           0,           0,           0,           0,\n",
              "                  0,           0,           0,           0,           0,           0,           0,           0,           0,           0,           0,           0,           0,           0,           0,           0,           0,           0,           0,           0,           0,           0,           0,\n",
              "                  0,           0,           0,           0,           0,           0,           0,           0,           0,           0,           0,           0,           0,           0,           0,           0,           0,           0,           0,           0,           0,           0,           0,\n",
              "                  0,           0,           0,           0,           0,           0,           0,           0,           0,           0,           0,           0,           0,           0,           0,           0,           0,           0,           0,           0,           0,           0,           0,\n",
              "                  0,           0,           0,           0,           0,           0,           0,           0,           0,           0,           0,           0,           0,           0,           0,           0,           0,           0,           0,           0,           0,           0,           0,\n",
              "                  0,           0,           0,           0,           0,           0,           0,           0,           0,           0,           0,           0,           0,           0,           0,           0,           0,           0,           0,           0,           0,           0,           0,\n",
              "                  0,           0,           0,           0,           0,           0,           0,           0,           0,           0,           0,           0,           0,           0,           0,           0,           0,           0,           0,           0,           0,           0,           0,\n",
              "                  0,           0,           0,           0,           0,           0,           0,           0,           0,           0,           0,           0,           0,           0,           0,           0,           0,           0,           0,           0,           0,           0,           0,\n",
              "                  0,           0,           0,           0,           0,           0,           0,           0,           0,           0,           0,           0,           0,           0,           0,           0,           0,           0,           0,           0,           0,           0,           0,\n",
              "                  0,           0,           0,           0,           0,           0,           0,           0,           0,           0,           0,           0,           0,           0,           0,           0,           0,           0,           0,           0,           0,           0,           0,\n",
              "                  0,           0,           0,           0,           0,           0,           0,           0,           0,           0,           0,           0,           0,           0,           0,           0,           0,           0,           0,           0,           0,           0,           0,\n",
              "                  0,           0,           0,           0,           0,           0,           0,           0,           0,           0,           0,           0,           0,           0,           0,           0,           0,           0,           0,           0,           0,           0,           0,\n",
              "                  0,           0,           0,           0,           0,           0,           0,           0,           0,           0,           0,           0,           0,           0,           0,           0,           0,           0,           0,           0,           0,           0,           0,\n",
              "                  0,           0,           0,           0,           0,           0,           0,           0,           0,           0,           0,           0,           0,           0,           0,           0,           0,           0,           0,           0,           0,           0,           0,\n",
              "                  0,           0,           0,           0,           0,           0,           0,           0,           0,           0,           0,           0,           0,           0,           0,           0,           0,           0,           0,           0,           0,           0,           0,\n",
              "                  0,           0,           0,           0,           0,           0,           0,           0,           0,           0,           0]]), 'Confidence', 'F1'], [array([          0,    0.001001,    0.002002,    0.003003,    0.004004,    0.005005,    0.006006,    0.007007,    0.008008,    0.009009,     0.01001,    0.011011,    0.012012,    0.013013,    0.014014,    0.015015,    0.016016,    0.017017,    0.018018,    0.019019,     0.02002,    0.021021,    0.022022,    0.023023,\n",
              "          0.024024,    0.025025,    0.026026,    0.027027,    0.028028,    0.029029,     0.03003,    0.031031,    0.032032,    0.033033,    0.034034,    0.035035,    0.036036,    0.037037,    0.038038,    0.039039,     0.04004,    0.041041,    0.042042,    0.043043,    0.044044,    0.045045,    0.046046,    0.047047,\n",
              "          0.048048,    0.049049,     0.05005,    0.051051,    0.052052,    0.053053,    0.054054,    0.055055,    0.056056,    0.057057,    0.058058,    0.059059,     0.06006,    0.061061,    0.062062,    0.063063,    0.064064,    0.065065,    0.066066,    0.067067,    0.068068,    0.069069,     0.07007,    0.071071,\n",
              "          0.072072,    0.073073,    0.074074,    0.075075,    0.076076,    0.077077,    0.078078,    0.079079,     0.08008,    0.081081,    0.082082,    0.083083,    0.084084,    0.085085,    0.086086,    0.087087,    0.088088,    0.089089,     0.09009,    0.091091,    0.092092,    0.093093,    0.094094,    0.095095,\n",
              "          0.096096,    0.097097,    0.098098,    0.099099,      0.1001,      0.1011,      0.1021,      0.1031,      0.1041,     0.10511,     0.10611,     0.10711,     0.10811,     0.10911,     0.11011,     0.11111,     0.11211,     0.11311,     0.11411,     0.11512,     0.11612,     0.11712,     0.11812,     0.11912,\n",
              "           0.12012,     0.12112,     0.12212,     0.12312,     0.12412,     0.12513,     0.12613,     0.12713,     0.12813,     0.12913,     0.13013,     0.13113,     0.13213,     0.13313,     0.13413,     0.13514,     0.13614,     0.13714,     0.13814,     0.13914,     0.14014,     0.14114,     0.14214,     0.14314,\n",
              "           0.14414,     0.14515,     0.14615,     0.14715,     0.14815,     0.14915,     0.15015,     0.15115,     0.15215,     0.15315,     0.15415,     0.15516,     0.15616,     0.15716,     0.15816,     0.15916,     0.16016,     0.16116,     0.16216,     0.16316,     0.16416,     0.16517,     0.16617,     0.16717,\n",
              "           0.16817,     0.16917,     0.17017,     0.17117,     0.17217,     0.17317,     0.17417,     0.17518,     0.17618,     0.17718,     0.17818,     0.17918,     0.18018,     0.18118,     0.18218,     0.18318,     0.18418,     0.18519,     0.18619,     0.18719,     0.18819,     0.18919,     0.19019,     0.19119,\n",
              "           0.19219,     0.19319,     0.19419,      0.1952,      0.1962,      0.1972,      0.1982,      0.1992,      0.2002,      0.2012,      0.2022,      0.2032,      0.2042,     0.20521,     0.20621,     0.20721,     0.20821,     0.20921,     0.21021,     0.21121,     0.21221,     0.21321,     0.21421,     0.21522,\n",
              "           0.21622,     0.21722,     0.21822,     0.21922,     0.22022,     0.22122,     0.22222,     0.22322,     0.22422,     0.22523,     0.22623,     0.22723,     0.22823,     0.22923,     0.23023,     0.23123,     0.23223,     0.23323,     0.23423,     0.23524,     0.23624,     0.23724,     0.23824,     0.23924,\n",
              "           0.24024,     0.24124,     0.24224,     0.24324,     0.24424,     0.24525,     0.24625,     0.24725,     0.24825,     0.24925,     0.25025,     0.25125,     0.25225,     0.25325,     0.25425,     0.25526,     0.25626,     0.25726,     0.25826,     0.25926,     0.26026,     0.26126,     0.26226,     0.26326,\n",
              "           0.26426,     0.26527,     0.26627,     0.26727,     0.26827,     0.26927,     0.27027,     0.27127,     0.27227,     0.27327,     0.27427,     0.27528,     0.27628,     0.27728,     0.27828,     0.27928,     0.28028,     0.28128,     0.28228,     0.28328,     0.28428,     0.28529,     0.28629,     0.28729,\n",
              "           0.28829,     0.28929,     0.29029,     0.29129,     0.29229,     0.29329,     0.29429,      0.2953,      0.2963,      0.2973,      0.2983,      0.2993,      0.3003,      0.3013,      0.3023,      0.3033,      0.3043,     0.30531,     0.30631,     0.30731,     0.30831,     0.30931,     0.31031,     0.31131,\n",
              "           0.31231,     0.31331,     0.31431,     0.31532,     0.31632,     0.31732,     0.31832,     0.31932,     0.32032,     0.32132,     0.32232,     0.32332,     0.32432,     0.32533,     0.32633,     0.32733,     0.32833,     0.32933,     0.33033,     0.33133,     0.33233,     0.33333,     0.33433,     0.33534,\n",
              "           0.33634,     0.33734,     0.33834,     0.33934,     0.34034,     0.34134,     0.34234,     0.34334,     0.34434,     0.34535,     0.34635,     0.34735,     0.34835,     0.34935,     0.35035,     0.35135,     0.35235,     0.35335,     0.35435,     0.35536,     0.35636,     0.35736,     0.35836,     0.35936,\n",
              "           0.36036,     0.36136,     0.36236,     0.36336,     0.36436,     0.36537,     0.36637,     0.36737,     0.36837,     0.36937,     0.37037,     0.37137,     0.37237,     0.37337,     0.37437,     0.37538,     0.37638,     0.37738,     0.37838,     0.37938,     0.38038,     0.38138,     0.38238,     0.38338,\n",
              "           0.38438,     0.38539,     0.38639,     0.38739,     0.38839,     0.38939,     0.39039,     0.39139,     0.39239,     0.39339,     0.39439,      0.3954,      0.3964,      0.3974,      0.3984,      0.3994,      0.4004,      0.4014,      0.4024,      0.4034,      0.4044,     0.40541,     0.40641,     0.40741,\n",
              "           0.40841,     0.40941,     0.41041,     0.41141,     0.41241,     0.41341,     0.41441,     0.41542,     0.41642,     0.41742,     0.41842,     0.41942,     0.42042,     0.42142,     0.42242,     0.42342,     0.42442,     0.42543,     0.42643,     0.42743,     0.42843,     0.42943,     0.43043,     0.43143,\n",
              "           0.43243,     0.43343,     0.43443,     0.43544,     0.43644,     0.43744,     0.43844,     0.43944,     0.44044,     0.44144,     0.44244,     0.44344,     0.44444,     0.44545,     0.44645,     0.44745,     0.44845,     0.44945,     0.45045,     0.45145,     0.45245,     0.45345,     0.45445,     0.45546,\n",
              "           0.45646,     0.45746,     0.45846,     0.45946,     0.46046,     0.46146,     0.46246,     0.46346,     0.46446,     0.46547,     0.46647,     0.46747,     0.46847,     0.46947,     0.47047,     0.47147,     0.47247,     0.47347,     0.47447,     0.47548,     0.47648,     0.47748,     0.47848,     0.47948,\n",
              "           0.48048,     0.48148,     0.48248,     0.48348,     0.48448,     0.48549,     0.48649,     0.48749,     0.48849,     0.48949,     0.49049,     0.49149,     0.49249,     0.49349,     0.49449,      0.4955,      0.4965,      0.4975,      0.4985,      0.4995,      0.5005,      0.5015,      0.5025,      0.5035,\n",
              "            0.5045,     0.50551,     0.50651,     0.50751,     0.50851,     0.50951,     0.51051,     0.51151,     0.51251,     0.51351,     0.51451,     0.51552,     0.51652,     0.51752,     0.51852,     0.51952,     0.52052,     0.52152,     0.52252,     0.52352,     0.52452,     0.52553,     0.52653,     0.52753,\n",
              "           0.52853,     0.52953,     0.53053,     0.53153,     0.53253,     0.53353,     0.53453,     0.53554,     0.53654,     0.53754,     0.53854,     0.53954,     0.54054,     0.54154,     0.54254,     0.54354,     0.54454,     0.54555,     0.54655,     0.54755,     0.54855,     0.54955,     0.55055,     0.55155,\n",
              "           0.55255,     0.55355,     0.55455,     0.55556,     0.55656,     0.55756,     0.55856,     0.55956,     0.56056,     0.56156,     0.56256,     0.56356,     0.56456,     0.56557,     0.56657,     0.56757,     0.56857,     0.56957,     0.57057,     0.57157,     0.57257,     0.57357,     0.57457,     0.57558,\n",
              "           0.57658,     0.57758,     0.57858,     0.57958,     0.58058,     0.58158,     0.58258,     0.58358,     0.58458,     0.58559,     0.58659,     0.58759,     0.58859,     0.58959,     0.59059,     0.59159,     0.59259,     0.59359,     0.59459,      0.5956,      0.5966,      0.5976,      0.5986,      0.5996,\n",
              "            0.6006,      0.6016,      0.6026,      0.6036,      0.6046,     0.60561,     0.60661,     0.60761,     0.60861,     0.60961,     0.61061,     0.61161,     0.61261,     0.61361,     0.61461,     0.61562,     0.61662,     0.61762,     0.61862,     0.61962,     0.62062,     0.62162,     0.62262,     0.62362,\n",
              "           0.62462,     0.62563,     0.62663,     0.62763,     0.62863,     0.62963,     0.63063,     0.63163,     0.63263,     0.63363,     0.63463,     0.63564,     0.63664,     0.63764,     0.63864,     0.63964,     0.64064,     0.64164,     0.64264,     0.64364,     0.64464,     0.64565,     0.64665,     0.64765,\n",
              "           0.64865,     0.64965,     0.65065,     0.65165,     0.65265,     0.65365,     0.65465,     0.65566,     0.65666,     0.65766,     0.65866,     0.65966,     0.66066,     0.66166,     0.66266,     0.66366,     0.66466,     0.66567,     0.66667,     0.66767,     0.66867,     0.66967,     0.67067,     0.67167,\n",
              "           0.67267,     0.67367,     0.67467,     0.67568,     0.67668,     0.67768,     0.67868,     0.67968,     0.68068,     0.68168,     0.68268,     0.68368,     0.68468,     0.68569,     0.68669,     0.68769,     0.68869,     0.68969,     0.69069,     0.69169,     0.69269,     0.69369,     0.69469,      0.6957,\n",
              "            0.6967,      0.6977,      0.6987,      0.6997,      0.7007,      0.7017,      0.7027,      0.7037,      0.7047,     0.70571,     0.70671,     0.70771,     0.70871,     0.70971,     0.71071,     0.71171,     0.71271,     0.71371,     0.71471,     0.71572,     0.71672,     0.71772,     0.71872,     0.71972,\n",
              "           0.72072,     0.72172,     0.72272,     0.72372,     0.72472,     0.72573,     0.72673,     0.72773,     0.72873,     0.72973,     0.73073,     0.73173,     0.73273,     0.73373,     0.73473,     0.73574,     0.73674,     0.73774,     0.73874,     0.73974,     0.74074,     0.74174,     0.74274,     0.74374,\n",
              "           0.74474,     0.74575,     0.74675,     0.74775,     0.74875,     0.74975,     0.75075,     0.75175,     0.75275,     0.75375,     0.75475,     0.75576,     0.75676,     0.75776,     0.75876,     0.75976,     0.76076,     0.76176,     0.76276,     0.76376,     0.76476,     0.76577,     0.76677,     0.76777,\n",
              "           0.76877,     0.76977,     0.77077,     0.77177,     0.77277,     0.77377,     0.77477,     0.77578,     0.77678,     0.77778,     0.77878,     0.77978,     0.78078,     0.78178,     0.78278,     0.78378,     0.78478,     0.78579,     0.78679,     0.78779,     0.78879,     0.78979,     0.79079,     0.79179,\n",
              "           0.79279,     0.79379,     0.79479,      0.7958,      0.7968,      0.7978,      0.7988,      0.7998,      0.8008,      0.8018,      0.8028,      0.8038,      0.8048,     0.80581,     0.80681,     0.80781,     0.80881,     0.80981,     0.81081,     0.81181,     0.81281,     0.81381,     0.81481,     0.81582,\n",
              "           0.81682,     0.81782,     0.81882,     0.81982,     0.82082,     0.82182,     0.82282,     0.82382,     0.82482,     0.82583,     0.82683,     0.82783,     0.82883,     0.82983,     0.83083,     0.83183,     0.83283,     0.83383,     0.83483,     0.83584,     0.83684,     0.83784,     0.83884,     0.83984,\n",
              "           0.84084,     0.84184,     0.84284,     0.84384,     0.84484,     0.84585,     0.84685,     0.84785,     0.84885,     0.84985,     0.85085,     0.85185,     0.85285,     0.85385,     0.85485,     0.85586,     0.85686,     0.85786,     0.85886,     0.85986,     0.86086,     0.86186,     0.86286,     0.86386,\n",
              "           0.86486,     0.86587,     0.86687,     0.86787,     0.86887,     0.86987,     0.87087,     0.87187,     0.87287,     0.87387,     0.87487,     0.87588,     0.87688,     0.87788,     0.87888,     0.87988,     0.88088,     0.88188,     0.88288,     0.88388,     0.88488,     0.88589,     0.88689,     0.88789,\n",
              "           0.88889,     0.88989,     0.89089,     0.89189,     0.89289,     0.89389,     0.89489,      0.8959,      0.8969,      0.8979,      0.8989,      0.8999,      0.9009,      0.9019,      0.9029,      0.9039,      0.9049,     0.90591,     0.90691,     0.90791,     0.90891,     0.90991,     0.91091,     0.91191,\n",
              "           0.91291,     0.91391,     0.91491,     0.91592,     0.91692,     0.91792,     0.91892,     0.91992,     0.92092,     0.92192,     0.92292,     0.92392,     0.92492,     0.92593,     0.92693,     0.92793,     0.92893,     0.92993,     0.93093,     0.93193,     0.93293,     0.93393,     0.93493,     0.93594,\n",
              "           0.93694,     0.93794,     0.93894,     0.93994,     0.94094,     0.94194,     0.94294,     0.94394,     0.94494,     0.94595,     0.94695,     0.94795,     0.94895,     0.94995,     0.95095,     0.95195,     0.95295,     0.95395,     0.95495,     0.95596,     0.95696,     0.95796,     0.95896,     0.95996,\n",
              "           0.96096,     0.96196,     0.96296,     0.96396,     0.96496,     0.96597,     0.96697,     0.96797,     0.96897,     0.96997,     0.97097,     0.97197,     0.97297,     0.97397,     0.97497,     0.97598,     0.97698,     0.97798,     0.97898,     0.97998,     0.98098,     0.98198,     0.98298,     0.98398,\n",
              "           0.98498,     0.98599,     0.98699,     0.98799,     0.98899,     0.98999,     0.99099,     0.99199,     0.99299,     0.99399,     0.99499,       0.996,       0.997,       0.998,       0.999,           1]), array([[  0.0010267,   0.0010267,   0.0050834,    0.012188,    0.019599,    0.028313,     0.04066,      0.0532,    0.059056,    0.069212,    0.076118,    0.086401,    0.092137,    0.095097,    0.098057,     0.10468,     0.11404,      0.1196,      0.1253,     0.13615,     0.15581,     0.16822,     0.17051,\n",
              "            0.17279,     0.17508,     0.17736,     0.17965,     0.18193,     0.18422,      0.1865,     0.18879,     0.19107,     0.19336,     0.19564,     0.19793,     0.23785,     0.25378,     0.25768,     0.26158,     0.26548,     0.26938,     0.27328,     0.27718,     0.28108,     0.28498,     0.28888,\n",
              "            0.29278,     0.29668,     0.30058,     0.30447,     0.30837,     0.31227,     0.31617,     0.32007,     0.32397,     0.32787,     0.33177,     0.33462,     0.33676,     0.33891,     0.34105,     0.34319,     0.34534,     0.34748,     0.34962,     0.35177,     0.35391,     0.35606,      0.3582,\n",
              "            0.36034,     0.36249,     0.36463,     0.36678,     0.36892,     0.37106,     0.37321,     0.37535,     0.37749,     0.37964,     0.38178,     0.38393,     0.38607,     0.38821,     0.39036,      0.3925,     0.39464,     0.39679,     0.39893,     0.40108,     0.40322,     0.40536,     0.40751,\n",
              "            0.40965,      0.4118,     0.41394,     0.41608,     0.41823,     0.42037,     0.42251,     0.42466,      0.4268,     0.42895,     0.43109,     0.43323,     0.43538,     0.43752,     0.43967,     0.44181,     0.44395,      0.4461,     0.44824,     0.45038,     0.45253,     0.45467,     0.45682,\n",
              "            0.45896,      0.4611,     0.46325,     0.46539,     0.46754,     0.46968,     0.47182,     0.47397,     0.47611,     0.47825,      0.4804,     0.48254,     0.48469,     0.48683,     0.48897,     0.49112,     0.49326,     0.49541,     0.49755,     0.49969,     0.49858,     0.49693,     0.49527,\n",
              "            0.49362,     0.49196,     0.49031,     0.48865,       0.487,     0.48535,     0.48369,     0.48204,     0.48038,     0.47873,     0.47707,     0.47542,     0.47376,     0.47211,     0.47045,      0.4688,     0.46714,     0.46549,     0.46384,     0.46218,     0.46053,     0.45887,     0.45722,\n",
              "            0.45556,     0.45391,     0.45225,      0.4506,     0.44894,     0.44729,     0.44563,     0.44398,     0.44233,     0.44067,     0.43902,     0.43736,     0.43571,     0.43405,      0.4324,     0.43074,     0.42909,     0.42743,     0.42578,     0.42413,     0.42247,     0.42082,     0.41916,\n",
              "            0.41751,     0.41585,      0.4142,     0.41254,     0.41089,     0.40923,     0.40758,     0.40592,     0.40427,     0.40262,     0.40096,     0.39931,     0.39765,       0.396,     0.39434,     0.39269,     0.39103,     0.38938,     0.38772,     0.38607,     0.38441,     0.38276,     0.38111,\n",
              "            0.37945,      0.3778,     0.37614,     0.37449,     0.37283,     0.37118,     0.36952,     0.36787,     0.36621,     0.36456,      0.3629,     0.36125,      0.3596,     0.35794,     0.35629,     0.35463,     0.35298,     0.35132,     0.34967,     0.34801,     0.34636,      0.3447,     0.34305,\n",
              "             0.3414,     0.33974,     0.33809,     0.33643,     0.33478,     0.33312,     0.33147,     0.32981,     0.32816,      0.3265,     0.32485,     0.32319,     0.32154,     0.31989,     0.31823,     0.31658,     0.31492,     0.31327,     0.31161,     0.30996,      0.3083,     0.30665,     0.30499,\n",
              "            0.30334,     0.30168,     0.30003,     0.29838,     0.29672,     0.29507,     0.29341,     0.29176,      0.2901,     0.28845,     0.28679,     0.28514,     0.28348,     0.28183,     0.28017,     0.27852,     0.27687,     0.27521,     0.27356,      0.2719,     0.27025,     0.26859,     0.26694,\n",
              "            0.26528,     0.26363,     0.26197,     0.26032,     0.25867,     0.25701,     0.25536,      0.2537,     0.25205,     0.25039,     0.24874,     0.24708,     0.24543,     0.24377,     0.24212,     0.24046,     0.23881,     0.23716,      0.2355,     0.23385,     0.23219,     0.23054,     0.22888,\n",
              "            0.22723,     0.22557,     0.22392,     0.22226,     0.22061,     0.21895,      0.2173,     0.21565,     0.21399,     0.21234,     0.21068,     0.20903,     0.20737,     0.20572,     0.20406,     0.20241,     0.20075,      0.1991,     0.19744,     0.19579,     0.19414,     0.19248,     0.19083,\n",
              "            0.18917,     0.18752,     0.18586,     0.18421,     0.18255,      0.1809,     0.17924,     0.17759,     0.17594,     0.17428,     0.17263,     0.17097,     0.16932,     0.16766,     0.16601,     0.16435,      0.1627,     0.16104,     0.15939,     0.15773,     0.15608,     0.15443,     0.15277,\n",
              "            0.15112,     0.14946,     0.14781,     0.14615,      0.1445,     0.14284,     0.14119,     0.13953,     0.13788,     0.13622,     0.13457,     0.13292,     0.13126,     0.12961,     0.12795,      0.1263,     0.12464,     0.12299,     0.12133,     0.11968,     0.11802,     0.11637,     0.11471,\n",
              "            0.11306,     0.11141,     0.10975,      0.1081,     0.10644,     0.10479,     0.10313,     0.10148,    0.099823,    0.098169,    0.096514,     0.09486,    0.093205,     0.09155,    0.089896,    0.088241,    0.086587,    0.084932,    0.083277,    0.081623,    0.079968,    0.078314,    0.076659,\n",
              "           0.075004,     0.07335,    0.071695,    0.070041,    0.068386,    0.066731,    0.065077,    0.063422,    0.061768,    0.060113,    0.058458,    0.056804,    0.055149,    0.053495,     0.05184,    0.050185,    0.048531,    0.046876,    0.045222,    0.043567,    0.041912,    0.040258,    0.038603,\n",
              "           0.036949,    0.035294,    0.033639,    0.031985,     0.03033,    0.028676,    0.027021,    0.025366,    0.023712,    0.022057,    0.020403,    0.018748,    0.017093,    0.015439,    0.013784,     0.01213,    0.010475,   0.0088204,   0.0071658,   0.0055112,   0.0038566,    0.002202,  0.00054736,\n",
              "                  1,           1,           1,           1,           1,           1,           1,           1,           1,           1,           1,           1,           1,           1,           1,           1,           1,           1,           1,           1,           1,           1,           1,\n",
              "                  1,           1,           1,           1,           1,           1,           1,           1,           1,           1,           1,           1,           1,           1,           1,           1,           1,           1,           1,           1,           1,           1,           1,\n",
              "                  1,           1,           1,           1,           1,           1,           1,           1,           1,           1,           1,           1,           1,           1,           1,           1,           1,           1,           1,           1,           1,           1,           1,\n",
              "                  1,           1,           1,           1,           1,           1,           1,           1,           1,           1,           1,           1,           1,           1,           1,           1,           1,           1,           1,           1,           1,           1,           1,\n",
              "                  1,           1,           1,           1,           1,           1,           1,           1,           1,           1,           1,           1,           1,           1,           1,           1,           1,           1,           1,           1,           1,           1,           1,\n",
              "                  1,           1,           1,           1,           1,           1,           1,           1,           1,           1,           1,           1,           1,           1,           1,           1,           1,           1,           1,           1,           1,           1,           1,\n",
              "                  1,           1,           1,           1,           1,           1,           1,           1,           1,           1,           1,           1,           1,           1,           1,           1,           1,           1,           1,           1,           1,           1,           1,\n",
              "                  1,           1,           1,           1,           1,           1,           1,           1,           1,           1,           1,           1,           1,           1,           1,           1,           1,           1,           1,           1,           1,           1,           1,\n",
              "                  1,           1,           1,           1,           1,           1,           1,           1,           1,           1,           1,           1,           1,           1,           1,           1,           1,           1,           1,           1,           1,           1,           1,\n",
              "                  1,           1,           1,           1,           1,           1,           1,           1,           1,           1,           1,           1,           1,           1,           1,           1,           1,           1,           1,           1,           1,           1,           1,\n",
              "                  1,           1,           1,           1,           1,           1,           1,           1,           1,           1,           1,           1,           1,           1,           1,           1,           1,           1,           1,           1,           1,           1,           1,\n",
              "                  1,           1,           1,           1,           1,           1,           1,           1,           1,           1,           1,           1,           1,           1,           1,           1,           1,           1,           1,           1,           1,           1,           1,\n",
              "                  1,           1,           1,           1,           1,           1,           1,           1,           1,           1,           1,           1,           1,           1,           1,           1,           1,           1,           1,           1,           1,           1,           1,\n",
              "                  1,           1,           1,           1,           1,           1,           1,           1,           1,           1,           1,           1,           1,           1,           1,           1,           1,           1,           1,           1,           1,           1,           1,\n",
              "                  1,           1,           1,           1,           1,           1,           1,           1,           1,           1,           1,           1,           1,           1,           1,           1,           1,           1,           1,           1,           1,           1,           1,\n",
              "                  1,           1,           1,           1,           1,           1,           1,           1,           1,           1,           1,           1,           1,           1,           1,           1,           1,           1,           1,           1,           1,           1,           1,\n",
              "                  1,           1,           1,           1,           1,           1,           1,           1,           1,           1,           1,           1,           1,           1,           1,           1,           1,           1,           1,           1,           1,           1,           1,\n",
              "                  1,           1,           1,           1,           1,           1,           1,           1,           1,           1,           1,           1,           1,           1,           1,           1,           1,           1,           1,           1,           1,           1,           1,\n",
              "                  1,           1,           1,           1,           1,           1,           1,           1,           1,           1,           1,           1,           1,           1,           1,           1,           1,           1,           1,           1,           1,           1,           1,\n",
              "                  1,           1,           1,           1,           1,           1,           1,           1,           1,           1,           1,           1,           1,           1,           1,           1,           1,           1,           1,           1,           1,           1,           1,\n",
              "                  1,           1,           1,           1,           1,           1,           1,           1,           1,           1,           1,           1,           1,           1,           1,           1,           1,           1,           1,           1,           1,           1,           1,\n",
              "                  1,           1,           1,           1,           1,           1,           1,           1,           1,           1,           1,           1,           1,           1,           1,           1,           1,           1,           1,           1,           1,           1,           1,\n",
              "                  1,           1,           1,           1,           1,           1,           1,           1,           1,           1,           1,           1,           1,           1,           1,           1,           1,           1,           1,           1,           1,           1,           1,\n",
              "                  1,           1,           1,           1,           1,           1,           1,           1,           1,           1,           1,           1,           1,           1,           1,           1,           1,           1,           1,           1,           1,           1,           1,\n",
              "                  1,           1,           1,           1,           1,           1,           1,           1,           1,           1,           1]]), 'Confidence', 'Precision'], [array([          0,    0.001001,    0.002002,    0.003003,    0.004004,    0.005005,    0.006006,    0.007007,    0.008008,    0.009009,     0.01001,    0.011011,    0.012012,    0.013013,    0.014014,    0.015015,    0.016016,    0.017017,    0.018018,    0.019019,     0.02002,    0.021021,    0.022022,    0.023023,\n",
              "          0.024024,    0.025025,    0.026026,    0.027027,    0.028028,    0.029029,     0.03003,    0.031031,    0.032032,    0.033033,    0.034034,    0.035035,    0.036036,    0.037037,    0.038038,    0.039039,     0.04004,    0.041041,    0.042042,    0.043043,    0.044044,    0.045045,    0.046046,    0.047047,\n",
              "          0.048048,    0.049049,     0.05005,    0.051051,    0.052052,    0.053053,    0.054054,    0.055055,    0.056056,    0.057057,    0.058058,    0.059059,     0.06006,    0.061061,    0.062062,    0.063063,    0.064064,    0.065065,    0.066066,    0.067067,    0.068068,    0.069069,     0.07007,    0.071071,\n",
              "          0.072072,    0.073073,    0.074074,    0.075075,    0.076076,    0.077077,    0.078078,    0.079079,     0.08008,    0.081081,    0.082082,    0.083083,    0.084084,    0.085085,    0.086086,    0.087087,    0.088088,    0.089089,     0.09009,    0.091091,    0.092092,    0.093093,    0.094094,    0.095095,\n",
              "          0.096096,    0.097097,    0.098098,    0.099099,      0.1001,      0.1011,      0.1021,      0.1031,      0.1041,     0.10511,     0.10611,     0.10711,     0.10811,     0.10911,     0.11011,     0.11111,     0.11211,     0.11311,     0.11411,     0.11512,     0.11612,     0.11712,     0.11812,     0.11912,\n",
              "           0.12012,     0.12112,     0.12212,     0.12312,     0.12412,     0.12513,     0.12613,     0.12713,     0.12813,     0.12913,     0.13013,     0.13113,     0.13213,     0.13313,     0.13413,     0.13514,     0.13614,     0.13714,     0.13814,     0.13914,     0.14014,     0.14114,     0.14214,     0.14314,\n",
              "           0.14414,     0.14515,     0.14615,     0.14715,     0.14815,     0.14915,     0.15015,     0.15115,     0.15215,     0.15315,     0.15415,     0.15516,     0.15616,     0.15716,     0.15816,     0.15916,     0.16016,     0.16116,     0.16216,     0.16316,     0.16416,     0.16517,     0.16617,     0.16717,\n",
              "           0.16817,     0.16917,     0.17017,     0.17117,     0.17217,     0.17317,     0.17417,     0.17518,     0.17618,     0.17718,     0.17818,     0.17918,     0.18018,     0.18118,     0.18218,     0.18318,     0.18418,     0.18519,     0.18619,     0.18719,     0.18819,     0.18919,     0.19019,     0.19119,\n",
              "           0.19219,     0.19319,     0.19419,      0.1952,      0.1962,      0.1972,      0.1982,      0.1992,      0.2002,      0.2012,      0.2022,      0.2032,      0.2042,     0.20521,     0.20621,     0.20721,     0.20821,     0.20921,     0.21021,     0.21121,     0.21221,     0.21321,     0.21421,     0.21522,\n",
              "           0.21622,     0.21722,     0.21822,     0.21922,     0.22022,     0.22122,     0.22222,     0.22322,     0.22422,     0.22523,     0.22623,     0.22723,     0.22823,     0.22923,     0.23023,     0.23123,     0.23223,     0.23323,     0.23423,     0.23524,     0.23624,     0.23724,     0.23824,     0.23924,\n",
              "           0.24024,     0.24124,     0.24224,     0.24324,     0.24424,     0.24525,     0.24625,     0.24725,     0.24825,     0.24925,     0.25025,     0.25125,     0.25225,     0.25325,     0.25425,     0.25526,     0.25626,     0.25726,     0.25826,     0.25926,     0.26026,     0.26126,     0.26226,     0.26326,\n",
              "           0.26426,     0.26527,     0.26627,     0.26727,     0.26827,     0.26927,     0.27027,     0.27127,     0.27227,     0.27327,     0.27427,     0.27528,     0.27628,     0.27728,     0.27828,     0.27928,     0.28028,     0.28128,     0.28228,     0.28328,     0.28428,     0.28529,     0.28629,     0.28729,\n",
              "           0.28829,     0.28929,     0.29029,     0.29129,     0.29229,     0.29329,     0.29429,      0.2953,      0.2963,      0.2973,      0.2983,      0.2993,      0.3003,      0.3013,      0.3023,      0.3033,      0.3043,     0.30531,     0.30631,     0.30731,     0.30831,     0.30931,     0.31031,     0.31131,\n",
              "           0.31231,     0.31331,     0.31431,     0.31532,     0.31632,     0.31732,     0.31832,     0.31932,     0.32032,     0.32132,     0.32232,     0.32332,     0.32432,     0.32533,     0.32633,     0.32733,     0.32833,     0.32933,     0.33033,     0.33133,     0.33233,     0.33333,     0.33433,     0.33534,\n",
              "           0.33634,     0.33734,     0.33834,     0.33934,     0.34034,     0.34134,     0.34234,     0.34334,     0.34434,     0.34535,     0.34635,     0.34735,     0.34835,     0.34935,     0.35035,     0.35135,     0.35235,     0.35335,     0.35435,     0.35536,     0.35636,     0.35736,     0.35836,     0.35936,\n",
              "           0.36036,     0.36136,     0.36236,     0.36336,     0.36436,     0.36537,     0.36637,     0.36737,     0.36837,     0.36937,     0.37037,     0.37137,     0.37237,     0.37337,     0.37437,     0.37538,     0.37638,     0.37738,     0.37838,     0.37938,     0.38038,     0.38138,     0.38238,     0.38338,\n",
              "           0.38438,     0.38539,     0.38639,     0.38739,     0.38839,     0.38939,     0.39039,     0.39139,     0.39239,     0.39339,     0.39439,      0.3954,      0.3964,      0.3974,      0.3984,      0.3994,      0.4004,      0.4014,      0.4024,      0.4034,      0.4044,     0.40541,     0.40641,     0.40741,\n",
              "           0.40841,     0.40941,     0.41041,     0.41141,     0.41241,     0.41341,     0.41441,     0.41542,     0.41642,     0.41742,     0.41842,     0.41942,     0.42042,     0.42142,     0.42242,     0.42342,     0.42442,     0.42543,     0.42643,     0.42743,     0.42843,     0.42943,     0.43043,     0.43143,\n",
              "           0.43243,     0.43343,     0.43443,     0.43544,     0.43644,     0.43744,     0.43844,     0.43944,     0.44044,     0.44144,     0.44244,     0.44344,     0.44444,     0.44545,     0.44645,     0.44745,     0.44845,     0.44945,     0.45045,     0.45145,     0.45245,     0.45345,     0.45445,     0.45546,\n",
              "           0.45646,     0.45746,     0.45846,     0.45946,     0.46046,     0.46146,     0.46246,     0.46346,     0.46446,     0.46547,     0.46647,     0.46747,     0.46847,     0.46947,     0.47047,     0.47147,     0.47247,     0.47347,     0.47447,     0.47548,     0.47648,     0.47748,     0.47848,     0.47948,\n",
              "           0.48048,     0.48148,     0.48248,     0.48348,     0.48448,     0.48549,     0.48649,     0.48749,     0.48849,     0.48949,     0.49049,     0.49149,     0.49249,     0.49349,     0.49449,      0.4955,      0.4965,      0.4975,      0.4985,      0.4995,      0.5005,      0.5015,      0.5025,      0.5035,\n",
              "            0.5045,     0.50551,     0.50651,     0.50751,     0.50851,     0.50951,     0.51051,     0.51151,     0.51251,     0.51351,     0.51451,     0.51552,     0.51652,     0.51752,     0.51852,     0.51952,     0.52052,     0.52152,     0.52252,     0.52352,     0.52452,     0.52553,     0.52653,     0.52753,\n",
              "           0.52853,     0.52953,     0.53053,     0.53153,     0.53253,     0.53353,     0.53453,     0.53554,     0.53654,     0.53754,     0.53854,     0.53954,     0.54054,     0.54154,     0.54254,     0.54354,     0.54454,     0.54555,     0.54655,     0.54755,     0.54855,     0.54955,     0.55055,     0.55155,\n",
              "           0.55255,     0.55355,     0.55455,     0.55556,     0.55656,     0.55756,     0.55856,     0.55956,     0.56056,     0.56156,     0.56256,     0.56356,     0.56456,     0.56557,     0.56657,     0.56757,     0.56857,     0.56957,     0.57057,     0.57157,     0.57257,     0.57357,     0.57457,     0.57558,\n",
              "           0.57658,     0.57758,     0.57858,     0.57958,     0.58058,     0.58158,     0.58258,     0.58358,     0.58458,     0.58559,     0.58659,     0.58759,     0.58859,     0.58959,     0.59059,     0.59159,     0.59259,     0.59359,     0.59459,      0.5956,      0.5966,      0.5976,      0.5986,      0.5996,\n",
              "            0.6006,      0.6016,      0.6026,      0.6036,      0.6046,     0.60561,     0.60661,     0.60761,     0.60861,     0.60961,     0.61061,     0.61161,     0.61261,     0.61361,     0.61461,     0.61562,     0.61662,     0.61762,     0.61862,     0.61962,     0.62062,     0.62162,     0.62262,     0.62362,\n",
              "           0.62462,     0.62563,     0.62663,     0.62763,     0.62863,     0.62963,     0.63063,     0.63163,     0.63263,     0.63363,     0.63463,     0.63564,     0.63664,     0.63764,     0.63864,     0.63964,     0.64064,     0.64164,     0.64264,     0.64364,     0.64464,     0.64565,     0.64665,     0.64765,\n",
              "           0.64865,     0.64965,     0.65065,     0.65165,     0.65265,     0.65365,     0.65465,     0.65566,     0.65666,     0.65766,     0.65866,     0.65966,     0.66066,     0.66166,     0.66266,     0.66366,     0.66466,     0.66567,     0.66667,     0.66767,     0.66867,     0.66967,     0.67067,     0.67167,\n",
              "           0.67267,     0.67367,     0.67467,     0.67568,     0.67668,     0.67768,     0.67868,     0.67968,     0.68068,     0.68168,     0.68268,     0.68368,     0.68468,     0.68569,     0.68669,     0.68769,     0.68869,     0.68969,     0.69069,     0.69169,     0.69269,     0.69369,     0.69469,      0.6957,\n",
              "            0.6967,      0.6977,      0.6987,      0.6997,      0.7007,      0.7017,      0.7027,      0.7037,      0.7047,     0.70571,     0.70671,     0.70771,     0.70871,     0.70971,     0.71071,     0.71171,     0.71271,     0.71371,     0.71471,     0.71572,     0.71672,     0.71772,     0.71872,     0.71972,\n",
              "           0.72072,     0.72172,     0.72272,     0.72372,     0.72472,     0.72573,     0.72673,     0.72773,     0.72873,     0.72973,     0.73073,     0.73173,     0.73273,     0.73373,     0.73473,     0.73574,     0.73674,     0.73774,     0.73874,     0.73974,     0.74074,     0.74174,     0.74274,     0.74374,\n",
              "           0.74474,     0.74575,     0.74675,     0.74775,     0.74875,     0.74975,     0.75075,     0.75175,     0.75275,     0.75375,     0.75475,     0.75576,     0.75676,     0.75776,     0.75876,     0.75976,     0.76076,     0.76176,     0.76276,     0.76376,     0.76476,     0.76577,     0.76677,     0.76777,\n",
              "           0.76877,     0.76977,     0.77077,     0.77177,     0.77277,     0.77377,     0.77477,     0.77578,     0.77678,     0.77778,     0.77878,     0.77978,     0.78078,     0.78178,     0.78278,     0.78378,     0.78478,     0.78579,     0.78679,     0.78779,     0.78879,     0.78979,     0.79079,     0.79179,\n",
              "           0.79279,     0.79379,     0.79479,      0.7958,      0.7968,      0.7978,      0.7988,      0.7998,      0.8008,      0.8018,      0.8028,      0.8038,      0.8048,     0.80581,     0.80681,     0.80781,     0.80881,     0.80981,     0.81081,     0.81181,     0.81281,     0.81381,     0.81481,     0.81582,\n",
              "           0.81682,     0.81782,     0.81882,     0.81982,     0.82082,     0.82182,     0.82282,     0.82382,     0.82482,     0.82583,     0.82683,     0.82783,     0.82883,     0.82983,     0.83083,     0.83183,     0.83283,     0.83383,     0.83483,     0.83584,     0.83684,     0.83784,     0.83884,     0.83984,\n",
              "           0.84084,     0.84184,     0.84284,     0.84384,     0.84484,     0.84585,     0.84685,     0.84785,     0.84885,     0.84985,     0.85085,     0.85185,     0.85285,     0.85385,     0.85485,     0.85586,     0.85686,     0.85786,     0.85886,     0.85986,     0.86086,     0.86186,     0.86286,     0.86386,\n",
              "           0.86486,     0.86587,     0.86687,     0.86787,     0.86887,     0.86987,     0.87087,     0.87187,     0.87287,     0.87387,     0.87487,     0.87588,     0.87688,     0.87788,     0.87888,     0.87988,     0.88088,     0.88188,     0.88288,     0.88388,     0.88488,     0.88589,     0.88689,     0.88789,\n",
              "           0.88889,     0.88989,     0.89089,     0.89189,     0.89289,     0.89389,     0.89489,      0.8959,      0.8969,      0.8979,      0.8989,      0.8999,      0.9009,      0.9019,      0.9029,      0.9039,      0.9049,     0.90591,     0.90691,     0.90791,     0.90891,     0.90991,     0.91091,     0.91191,\n",
              "           0.91291,     0.91391,     0.91491,     0.91592,     0.91692,     0.91792,     0.91892,     0.91992,     0.92092,     0.92192,     0.92292,     0.92392,     0.92492,     0.92593,     0.92693,     0.92793,     0.92893,     0.92993,     0.93093,     0.93193,     0.93293,     0.93393,     0.93493,     0.93594,\n",
              "           0.93694,     0.93794,     0.93894,     0.93994,     0.94094,     0.94194,     0.94294,     0.94394,     0.94494,     0.94595,     0.94695,     0.94795,     0.94895,     0.94995,     0.95095,     0.95195,     0.95295,     0.95395,     0.95495,     0.95596,     0.95696,     0.95796,     0.95896,     0.95996,\n",
              "           0.96096,     0.96196,     0.96296,     0.96396,     0.96496,     0.96597,     0.96697,     0.96797,     0.96897,     0.96997,     0.97097,     0.97197,     0.97297,     0.97397,     0.97497,     0.97598,     0.97698,     0.97798,     0.97898,     0.97998,     0.98098,     0.98198,     0.98298,     0.98398,\n",
              "           0.98498,     0.98599,     0.98699,     0.98799,     0.98899,     0.98999,     0.99099,     0.99199,     0.99299,     0.99399,     0.99499,       0.996,       0.997,       0.998,       0.999,           1]), array([[        0.5,         0.5,         0.5,         0.5,         0.5,         0.5,         0.5,         0.5,         0.5,         0.5,         0.5,         0.5,         0.5,         0.5,         0.5,         0.5,         0.5,         0.5,         0.5,         0.5,         0.5,         0.5,         0.5,\n",
              "                0.5,         0.5,         0.5,         0.5,         0.5,         0.5,         0.5,         0.5,         0.5,         0.5,         0.5,         0.5,         0.5,         0.5,         0.5,         0.5,         0.5,         0.5,         0.5,         0.5,         0.5,         0.5,         0.5,\n",
              "                0.5,         0.5,         0.5,         0.5,         0.5,         0.5,         0.5,         0.5,         0.5,         0.5,         0.5,         0.5,         0.5,         0.5,         0.5,         0.5,         0.5,         0.5,         0.5,         0.5,         0.5,         0.5,         0.5,\n",
              "                0.5,         0.5,         0.5,         0.5,         0.5,         0.5,         0.5,         0.5,         0.5,         0.5,         0.5,         0.5,         0.5,         0.5,         0.5,         0.5,         0.5,         0.5,         0.5,         0.5,         0.5,         0.5,         0.5,\n",
              "                0.5,         0.5,         0.5,         0.5,         0.5,         0.5,         0.5,         0.5,         0.5,         0.5,         0.5,         0.5,         0.5,         0.5,         0.5,         0.5,         0.5,         0.5,         0.5,         0.5,         0.5,         0.5,         0.5,\n",
              "                0.5,         0.5,         0.5,         0.5,         0.5,         0.5,         0.5,         0.5,         0.5,         0.5,         0.5,         0.5,         0.5,         0.5,         0.5,         0.5,         0.5,         0.5,         0.5,         0.5,     0.49858,     0.49693,     0.49527,\n",
              "            0.49362,     0.49196,     0.49031,     0.48865,       0.487,     0.48535,     0.48369,     0.48204,     0.48038,     0.47873,     0.47707,     0.47542,     0.47376,     0.47211,     0.47045,      0.4688,     0.46714,     0.46549,     0.46384,     0.46218,     0.46053,     0.45887,     0.45722,\n",
              "            0.45556,     0.45391,     0.45225,      0.4506,     0.44894,     0.44729,     0.44563,     0.44398,     0.44233,     0.44067,     0.43902,     0.43736,     0.43571,     0.43405,      0.4324,     0.43074,     0.42909,     0.42743,     0.42578,     0.42413,     0.42247,     0.42082,     0.41916,\n",
              "            0.41751,     0.41585,      0.4142,     0.41254,     0.41089,     0.40923,     0.40758,     0.40592,     0.40427,     0.40262,     0.40096,     0.39931,     0.39765,       0.396,     0.39434,     0.39269,     0.39103,     0.38938,     0.38772,     0.38607,     0.38441,     0.38276,     0.38111,\n",
              "            0.37945,      0.3778,     0.37614,     0.37449,     0.37283,     0.37118,     0.36952,     0.36787,     0.36621,     0.36456,      0.3629,     0.36125,      0.3596,     0.35794,     0.35629,     0.35463,     0.35298,     0.35132,     0.34967,     0.34801,     0.34636,      0.3447,     0.34305,\n",
              "             0.3414,     0.33974,     0.33809,     0.33643,     0.33478,     0.33312,     0.33147,     0.32981,     0.32816,      0.3265,     0.32485,     0.32319,     0.32154,     0.31989,     0.31823,     0.31658,     0.31492,     0.31327,     0.31161,     0.30996,      0.3083,     0.30665,     0.30499,\n",
              "            0.30334,     0.30168,     0.30003,     0.29838,     0.29672,     0.29507,     0.29341,     0.29176,      0.2901,     0.28845,     0.28679,     0.28514,     0.28348,     0.28183,     0.28017,     0.27852,     0.27687,     0.27521,     0.27356,      0.2719,     0.27025,     0.26859,     0.26694,\n",
              "            0.26528,     0.26363,     0.26197,     0.26032,     0.25867,     0.25701,     0.25536,      0.2537,     0.25205,     0.25039,     0.24874,     0.24708,     0.24543,     0.24377,     0.24212,     0.24046,     0.23881,     0.23716,      0.2355,     0.23385,     0.23219,     0.23054,     0.22888,\n",
              "            0.22723,     0.22557,     0.22392,     0.22226,     0.22061,     0.21895,      0.2173,     0.21565,     0.21399,     0.21234,     0.21068,     0.20903,     0.20737,     0.20572,     0.20406,     0.20241,     0.20075,      0.1991,     0.19744,     0.19579,     0.19414,     0.19248,     0.19083,\n",
              "            0.18917,     0.18752,     0.18586,     0.18421,     0.18255,      0.1809,     0.17924,     0.17759,     0.17594,     0.17428,     0.17263,     0.17097,     0.16932,     0.16766,     0.16601,     0.16435,      0.1627,     0.16104,     0.15939,     0.15773,     0.15608,     0.15443,     0.15277,\n",
              "            0.15112,     0.14946,     0.14781,     0.14615,      0.1445,     0.14284,     0.14119,     0.13953,     0.13788,     0.13622,     0.13457,     0.13292,     0.13126,     0.12961,     0.12795,      0.1263,     0.12464,     0.12299,     0.12133,     0.11968,     0.11802,     0.11637,     0.11471,\n",
              "            0.11306,     0.11141,     0.10975,      0.1081,     0.10644,     0.10479,     0.10313,     0.10148,    0.099823,    0.098169,    0.096514,     0.09486,    0.093205,     0.09155,    0.089896,    0.088241,    0.086587,    0.084932,    0.083277,    0.081623,    0.079968,    0.078314,    0.076659,\n",
              "           0.075004,     0.07335,    0.071695,    0.070041,    0.068386,    0.066731,    0.065077,    0.063422,    0.061768,    0.060113,    0.058458,    0.056804,    0.055149,    0.053495,     0.05184,    0.050185,    0.048531,    0.046876,    0.045222,    0.043567,    0.041912,    0.040258,    0.038603,\n",
              "           0.036949,    0.035294,    0.033639,    0.031985,     0.03033,    0.028676,    0.027021,    0.025366,    0.023712,    0.022057,    0.020403,    0.018748,    0.017093,    0.015439,    0.013784,     0.01213,    0.010475,   0.0088204,   0.0071658,   0.0055112,   0.0038566,    0.002202,  0.00054736,\n",
              "                  0,           0,           0,           0,           0,           0,           0,           0,           0,           0,           0,           0,           0,           0,           0,           0,           0,           0,           0,           0,           0,           0,           0,\n",
              "                  0,           0,           0,           0,           0,           0,           0,           0,           0,           0,           0,           0,           0,           0,           0,           0,           0,           0,           0,           0,           0,           0,           0,\n",
              "                  0,           0,           0,           0,           0,           0,           0,           0,           0,           0,           0,           0,           0,           0,           0,           0,           0,           0,           0,           0,           0,           0,           0,\n",
              "                  0,           0,           0,           0,           0,           0,           0,           0,           0,           0,           0,           0,           0,           0,           0,           0,           0,           0,           0,           0,           0,           0,           0,\n",
              "                  0,           0,           0,           0,           0,           0,           0,           0,           0,           0,           0,           0,           0,           0,           0,           0,           0,           0,           0,           0,           0,           0,           0,\n",
              "                  0,           0,           0,           0,           0,           0,           0,           0,           0,           0,           0,           0,           0,           0,           0,           0,           0,           0,           0,           0,           0,           0,           0,\n",
              "                  0,           0,           0,           0,           0,           0,           0,           0,           0,           0,           0,           0,           0,           0,           0,           0,           0,           0,           0,           0,           0,           0,           0,\n",
              "                  0,           0,           0,           0,           0,           0,           0,           0,           0,           0,           0,           0,           0,           0,           0,           0,           0,           0,           0,           0,           0,           0,           0,\n",
              "                  0,           0,           0,           0,           0,           0,           0,           0,           0,           0,           0,           0,           0,           0,           0,           0,           0,           0,           0,           0,           0,           0,           0,\n",
              "                  0,           0,           0,           0,           0,           0,           0,           0,           0,           0,           0,           0,           0,           0,           0,           0,           0,           0,           0,           0,           0,           0,           0,\n",
              "                  0,           0,           0,           0,           0,           0,           0,           0,           0,           0,           0,           0,           0,           0,           0,           0,           0,           0,           0,           0,           0,           0,           0,\n",
              "                  0,           0,           0,           0,           0,           0,           0,           0,           0,           0,           0,           0,           0,           0,           0,           0,           0,           0,           0,           0,           0,           0,           0,\n",
              "                  0,           0,           0,           0,           0,           0,           0,           0,           0,           0,           0,           0,           0,           0,           0,           0,           0,           0,           0,           0,           0,           0,           0,\n",
              "                  0,           0,           0,           0,           0,           0,           0,           0,           0,           0,           0,           0,           0,           0,           0,           0,           0,           0,           0,           0,           0,           0,           0,\n",
              "                  0,           0,           0,           0,           0,           0,           0,           0,           0,           0,           0,           0,           0,           0,           0,           0,           0,           0,           0,           0,           0,           0,           0,\n",
              "                  0,           0,           0,           0,           0,           0,           0,           0,           0,           0,           0,           0,           0,           0,           0,           0,           0,           0,           0,           0,           0,           0,           0,\n",
              "                  0,           0,           0,           0,           0,           0,           0,           0,           0,           0,           0,           0,           0,           0,           0,           0,           0,           0,           0,           0,           0,           0,           0,\n",
              "                  0,           0,           0,           0,           0,           0,           0,           0,           0,           0,           0,           0,           0,           0,           0,           0,           0,           0,           0,           0,           0,           0,           0,\n",
              "                  0,           0,           0,           0,           0,           0,           0,           0,           0,           0,           0,           0,           0,           0,           0,           0,           0,           0,           0,           0,           0,           0,           0,\n",
              "                  0,           0,           0,           0,           0,           0,           0,           0,           0,           0,           0,           0,           0,           0,           0,           0,           0,           0,           0,           0,           0,           0,           0,\n",
              "                  0,           0,           0,           0,           0,           0,           0,           0,           0,           0,           0,           0,           0,           0,           0,           0,           0,           0,           0,           0,           0,           0,           0,\n",
              "                  0,           0,           0,           0,           0,           0,           0,           0,           0,           0,           0,           0,           0,           0,           0,           0,           0,           0,           0,           0,           0,           0,           0,\n",
              "                  0,           0,           0,           0,           0,           0,           0,           0,           0,           0,           0,           0,           0,           0,           0,           0,           0,           0,           0,           0,           0,           0,           0,\n",
              "                  0,           0,           0,           0,           0,           0,           0,           0,           0,           0,           0,           0,           0,           0,           0,           0,           0,           0,           0,           0,           0,           0,           0,\n",
              "                  0,           0,           0,           0,           0,           0,           0,           0,           0,           0,           0]]), 'Confidence', 'Recall']]\n",
              "fitness: 0.49311611909650926\n",
              "keys: ['metrics/precision(B)', 'metrics/recall(B)', 'metrics/mAP50(B)', 'metrics/mAP50-95(B)', 'metrics/precision(P)', 'metrics/recall(P)', 'metrics/mAP50(P)', 'metrics/mAP50-95(P)']\n",
              "maps: array([     0.4495,      0.4495,      0.4495,      0.4495,      0.4495])\n",
              "names: {0: 'Anjaneyasana', 1: 'katichakrasana', 2: 'padmasana', 3: 'trikonasana', 4: 'vrkasana'}\n",
              "plot: True\n",
              "pose: ultralytics.utils.metrics.Metric object\n",
              "results_dict: {'metrics/precision(B)': 0.9167226144627275, 'metrics/recall(B)': 0.5, 'metrics/mAP50(B)': 0.637857142857143, 'metrics/mAP50-95(B)': 0.4247285127603403, 'metrics/precision(P)': 0.48468638573213735, 'metrics/recall(P)': 0.5, 'metrics/mAP50(P)': 0.24776180698151945, 'metrics/mAP50-95(P)': 0.024776180698151944, 'fitness': 0.49311611909650926}\n",
              "save_dir: PosixPath('runs/pose/train4')\n",
              "seg: ultralytics.utils.metrics.Metric object\n",
              "speed: {'preprocess': 0.2902535831227022, 'inference': 3.4483040080350986, 'loss': 0.0008134280934053308, 'postprocess': 1.1725004981545841}\n",
              "task: 'pose'"
            ]
          },
          "metadata": {},
          "execution_count": 8
        }
      ]
    },
    {
      "cell_type": "code",
      "source": [
        "!scp -r /content/runs '/content/gdrive/MyDrive/project_final_year'"
      ],
      "metadata": {
        "id": "dZt7FiKD9NVR"
      },
      "execution_count": 9,
      "outputs": []
    },
    {
      "cell_type": "code",
      "source": [
        "!zip -r /content/yoga3.zip /content/runs/pose/train3"
      ],
      "metadata": {
        "colab": {
          "base_uri": "https://localhost:8080/"
        },
        "id": "qnwvy7_auvUl",
        "outputId": "cf73c431-07b5-4e5d-87e7-8ed21229ac60"
      },
      "execution_count": 14,
      "outputs": [
        {
          "output_type": "stream",
          "name": "stdout",
          "text": [
            "  adding: content/runs/pose/train3/ (stored 0%)\n",
            "  adding: content/runs/pose/train3/BoxF1_curve.png (deflated 15%)\n",
            "  adding: content/runs/pose/train3/train_batch2.jpg (deflated 7%)\n",
            "  adding: content/runs/pose/train3/labels_correlogram.jpg (deflated 49%)\n",
            "  adding: content/runs/pose/train3/PosePR_curve.png (deflated 30%)\n",
            "  adding: content/runs/pose/train3/confusion_matrix.png (deflated 28%)\n",
            "  adding: content/runs/pose/train3/train_batch180.jpg (deflated 17%)\n",
            "  adding: content/runs/pose/train3/train_batch181.jpg (deflated 20%)\n",
            "  adding: content/runs/pose/train3/train_batch0.jpg (deflated 9%)\n",
            "  adding: content/runs/pose/train3/results.png (deflated 6%)\n",
            "  adding: content/runs/pose/train3/weights/ (stored 0%)\n",
            "  adding: content/runs/pose/train3/weights/last.pt (deflated 9%)\n",
            "  adding: content/runs/pose/train3/weights/best.pt (deflated 9%)\n",
            "  adding: content/runs/pose/train3/PoseR_curve.png (deflated 31%)\n",
            "  adding: content/runs/pose/train3/val_batch0_pred.jpg (deflated 14%)\n",
            "  adding: content/runs/pose/train3/BoxR_curve.png (deflated 21%)\n",
            "  adding: content/runs/pose/train3/BoxP_curve.png (deflated 18%)\n",
            "  adding: content/runs/pose/train3/confusion_matrix_normalized.png (deflated 27%)\n",
            "  adding: content/runs/pose/train3/labels.jpg (deflated 37%)\n",
            "  adding: content/runs/pose/train3/events.out.tfevents.1711449604.35d605a20614.8205.0 (deflated 90%)\n",
            "  adding: content/runs/pose/train3/args.yaml (deflated 52%)\n",
            "  adding: content/runs/pose/train3/PoseF1_curve.png (deflated 32%)\n",
            "  adding: content/runs/pose/train3/train_batch1.jpg (deflated 13%)\n",
            "  adding: content/runs/pose/train3/train_batch182.jpg (deflated 15%)\n",
            "  adding: content/runs/pose/train3/val_batch0_labels.jpg (deflated 19%)\n",
            "  adding: content/runs/pose/train3/results.csv (deflated 85%)\n",
            "  adding: content/runs/pose/train3/BoxPR_curve.png (deflated 29%)\n",
            "  adding: content/runs/pose/train3/PoseP_curve.png (deflated 23%)\n"
          ]
        }
      ]
    },
    {
      "cell_type": "code",
      "source": [
        "from google.colab import files\n",
        "files.download(\"/content/yoga3.zip\")"
      ],
      "metadata": {
        "colab": {
          "base_uri": "https://localhost:8080/",
          "height": 17
        },
        "id": "P3XiI06Eu0tG",
        "outputId": "fc25348d-b8da-4d4e-b592-85faa58a9e5a"
      },
      "execution_count": 15,
      "outputs": [
        {
          "output_type": "display_data",
          "data": {
            "text/plain": [
              "<IPython.core.display.Javascript object>"
            ],
            "application/javascript": [
              "\n",
              "    async function download(id, filename, size) {\n",
              "      if (!google.colab.kernel.accessAllowed) {\n",
              "        return;\n",
              "      }\n",
              "      const div = document.createElement('div');\n",
              "      const label = document.createElement('label');\n",
              "      label.textContent = `Downloading \"${filename}\": `;\n",
              "      div.appendChild(label);\n",
              "      const progress = document.createElement('progress');\n",
              "      progress.max = size;\n",
              "      div.appendChild(progress);\n",
              "      document.body.appendChild(div);\n",
              "\n",
              "      const buffers = [];\n",
              "      let downloaded = 0;\n",
              "\n",
              "      const channel = await google.colab.kernel.comms.open(id);\n",
              "      // Send a message to notify the kernel that we're ready.\n",
              "      channel.send({})\n",
              "\n",
              "      for await (const message of channel.messages) {\n",
              "        // Send a message to notify the kernel that we're ready.\n",
              "        channel.send({})\n",
              "        if (message.buffers) {\n",
              "          for (const buffer of message.buffers) {\n",
              "            buffers.push(buffer);\n",
              "            downloaded += buffer.byteLength;\n",
              "            progress.value = downloaded;\n",
              "          }\n",
              "        }\n",
              "      }\n",
              "      const blob = new Blob(buffers, {type: 'application/binary'});\n",
              "      const a = document.createElement('a');\n",
              "      a.href = window.URL.createObjectURL(blob);\n",
              "      a.download = filename;\n",
              "      div.appendChild(a);\n",
              "      a.click();\n",
              "      div.remove();\n",
              "    }\n",
              "  "
            ]
          },
          "metadata": {}
        },
        {
          "output_type": "display_data",
          "data": {
            "text/plain": [
              "<IPython.core.display.Javascript object>"
            ],
            "application/javascript": [
              "download(\"download_b736a261-798d-40f2-a7c9-e034f065ab24\", \"yoga3.zip\", 16737108)"
            ]
          },
          "metadata": {}
        }
      ]
    }
  ]
}